{
 "cells": [
  {
   "cell_type": "markdown",
   "id": "ebdefbac-8616-4e5f-bb48-3da2a2f99039",
   "metadata": {},
   "source": [
    "#### (12.1 2/3~)"
   ]
  },
  {
   "cell_type": "code",
   "execution_count": 45,
   "id": "219c520d-582b-48f2-b4b6-2f379c58f4b2",
   "metadata": {},
   "outputs": [],
   "source": [
    "import numpy as np\n",
    "import pandas as pd\n",
    "import warnings\n",
    "import matplotlib.pyplot as plt"
   ]
  },
  {
   "cell_type": "markdown",
   "id": "572a60bf-3e1f-4dd8-86bc-d8fd8718c521",
   "metadata": {},
   "source": [
    "### area plot"
   ]
  },
  {
   "cell_type": "markdown",
   "id": "b6467a4d-11fa-494c-b882-679dfce8b8b3",
   "metadata": {},
   "source": [
    "`-` 주류플랏은 아님"
   ]
  },
  {
   "cell_type": "markdown",
   "id": "0db23dcd-db13-4be4-9a26-978fa5e9abcb",
   "metadata": {},
   "source": [
    "#### 예제1 (matplotlib)"
   ]
  },
  {
   "cell_type": "code",
   "execution_count": 46,
   "id": "0d621cfd-6134-41e7-a7c1-e39844bd5227",
   "metadata": {},
   "outputs": [
    {
     "data": {
      "text/html": [
       "<div>\n",
       "<style scoped>\n",
       "    .dataframe tbody tr th:only-of-type {\n",
       "        vertical-align: middle;\n",
       "    }\n",
       "\n",
       "    .dataframe tbody tr th {\n",
       "        vertical-align: top;\n",
       "    }\n",
       "\n",
       "    .dataframe thead th {\n",
       "        text-align: right;\n",
       "    }\n",
       "</style>\n",
       "<table border=\"1\" class=\"dataframe\">\n",
       "  <thead>\n",
       "    <tr style=\"text-align: right;\">\n",
       "      <th></th>\n",
       "      <th>Date</th>\n",
       "      <th>Samsung</th>\n",
       "      <th>Apple</th>\n",
       "      <th>Huawei</th>\n",
       "      <th>Xiaomi</th>\n",
       "      <th>Oppo</th>\n",
       "      <th>Mobicel</th>\n",
       "      <th>Motorola</th>\n",
       "      <th>LG</th>\n",
       "      <th>Others</th>\n",
       "      <th>Realme</th>\n",
       "      <th>Google</th>\n",
       "      <th>Nokia</th>\n",
       "      <th>Lenovo</th>\n",
       "      <th>OnePlus</th>\n",
       "      <th>Sony</th>\n",
       "      <th>Asus</th>\n",
       "    </tr>\n",
       "  </thead>\n",
       "  <tbody>\n",
       "    <tr>\n",
       "      <th>0</th>\n",
       "      <td>2019-10</td>\n",
       "      <td>31.49</td>\n",
       "      <td>22.09</td>\n",
       "      <td>10.02</td>\n",
       "      <td>7.79</td>\n",
       "      <td>4.10</td>\n",
       "      <td>3.15</td>\n",
       "      <td>2.41</td>\n",
       "      <td>2.40</td>\n",
       "      <td>9.51</td>\n",
       "      <td>0.54</td>\n",
       "      <td>2.35</td>\n",
       "      <td>0.95</td>\n",
       "      <td>0.96</td>\n",
       "      <td>0.70</td>\n",
       "      <td>0.84</td>\n",
       "      <td>0.74</td>\n",
       "    </tr>\n",
       "    <tr>\n",
       "      <th>1</th>\n",
       "      <td>2019-11</td>\n",
       "      <td>31.36</td>\n",
       "      <td>22.90</td>\n",
       "      <td>10.18</td>\n",
       "      <td>8.16</td>\n",
       "      <td>4.42</td>\n",
       "      <td>3.41</td>\n",
       "      <td>2.40</td>\n",
       "      <td>2.40</td>\n",
       "      <td>9.10</td>\n",
       "      <td>0.78</td>\n",
       "      <td>0.66</td>\n",
       "      <td>0.97</td>\n",
       "      <td>0.97</td>\n",
       "      <td>0.73</td>\n",
       "      <td>0.83</td>\n",
       "      <td>0.75</td>\n",
       "    </tr>\n",
       "    <tr>\n",
       "      <th>2</th>\n",
       "      <td>2019-12</td>\n",
       "      <td>31.37</td>\n",
       "      <td>24.79</td>\n",
       "      <td>9.95</td>\n",
       "      <td>7.73</td>\n",
       "      <td>4.23</td>\n",
       "      <td>3.19</td>\n",
       "      <td>2.50</td>\n",
       "      <td>2.54</td>\n",
       "      <td>8.13</td>\n",
       "      <td>0.84</td>\n",
       "      <td>0.75</td>\n",
       "      <td>0.90</td>\n",
       "      <td>0.87</td>\n",
       "      <td>0.74</td>\n",
       "      <td>0.77</td>\n",
       "      <td>0.70</td>\n",
       "    </tr>\n",
       "    <tr>\n",
       "      <th>3</th>\n",
       "      <td>2020-01</td>\n",
       "      <td>31.29</td>\n",
       "      <td>24.76</td>\n",
       "      <td>10.61</td>\n",
       "      <td>8.10</td>\n",
       "      <td>4.25</td>\n",
       "      <td>3.02</td>\n",
       "      <td>2.42</td>\n",
       "      <td>2.40</td>\n",
       "      <td>7.55</td>\n",
       "      <td>0.88</td>\n",
       "      <td>0.69</td>\n",
       "      <td>0.88</td>\n",
       "      <td>0.86</td>\n",
       "      <td>0.79</td>\n",
       "      <td>0.80</td>\n",
       "      <td>0.69</td>\n",
       "    </tr>\n",
       "    <tr>\n",
       "      <th>4</th>\n",
       "      <td>2020-02</td>\n",
       "      <td>30.91</td>\n",
       "      <td>25.89</td>\n",
       "      <td>10.98</td>\n",
       "      <td>7.80</td>\n",
       "      <td>4.31</td>\n",
       "      <td>2.89</td>\n",
       "      <td>2.36</td>\n",
       "      <td>2.34</td>\n",
       "      <td>7.06</td>\n",
       "      <td>0.89</td>\n",
       "      <td>0.70</td>\n",
       "      <td>0.81</td>\n",
       "      <td>0.77</td>\n",
       "      <td>0.78</td>\n",
       "      <td>0.80</td>\n",
       "      <td>0.69</td>\n",
       "    </tr>\n",
       "    <tr>\n",
       "      <th>5</th>\n",
       "      <td>2020-03</td>\n",
       "      <td>30.80</td>\n",
       "      <td>27.03</td>\n",
       "      <td>10.70</td>\n",
       "      <td>7.70</td>\n",
       "      <td>4.30</td>\n",
       "      <td>2.87</td>\n",
       "      <td>2.35</td>\n",
       "      <td>2.28</td>\n",
       "      <td>6.63</td>\n",
       "      <td>0.93</td>\n",
       "      <td>0.73</td>\n",
       "      <td>0.72</td>\n",
       "      <td>0.74</td>\n",
       "      <td>0.78</td>\n",
       "      <td>0.76</td>\n",
       "      <td>0.66</td>\n",
       "    </tr>\n",
       "    <tr>\n",
       "      <th>6</th>\n",
       "      <td>2020-04</td>\n",
       "      <td>30.41</td>\n",
       "      <td>28.79</td>\n",
       "      <td>10.28</td>\n",
       "      <td>7.60</td>\n",
       "      <td>4.20</td>\n",
       "      <td>2.75</td>\n",
       "      <td>2.51</td>\n",
       "      <td>2.28</td>\n",
       "      <td>5.84</td>\n",
       "      <td>0.90</td>\n",
       "      <td>0.75</td>\n",
       "      <td>0.69</td>\n",
       "      <td>0.71</td>\n",
       "      <td>0.80</td>\n",
       "      <td>0.76</td>\n",
       "      <td>0.70</td>\n",
       "    </tr>\n",
       "    <tr>\n",
       "      <th>7</th>\n",
       "      <td>2020-05</td>\n",
       "      <td>30.18</td>\n",
       "      <td>26.72</td>\n",
       "      <td>10.39</td>\n",
       "      <td>8.36</td>\n",
       "      <td>4.70</td>\n",
       "      <td>3.12</td>\n",
       "      <td>2.46</td>\n",
       "      <td>2.19</td>\n",
       "      <td>6.31</td>\n",
       "      <td>1.04</td>\n",
       "      <td>0.70</td>\n",
       "      <td>0.73</td>\n",
       "      <td>0.77</td>\n",
       "      <td>0.81</td>\n",
       "      <td>0.78</td>\n",
       "      <td>0.76</td>\n",
       "    </tr>\n",
       "    <tr>\n",
       "      <th>8</th>\n",
       "      <td>2020-06</td>\n",
       "      <td>31.06</td>\n",
       "      <td>25.26</td>\n",
       "      <td>10.69</td>\n",
       "      <td>8.55</td>\n",
       "      <td>4.65</td>\n",
       "      <td>3.18</td>\n",
       "      <td>2.57</td>\n",
       "      <td>2.11</td>\n",
       "      <td>6.39</td>\n",
       "      <td>1.04</td>\n",
       "      <td>0.68</td>\n",
       "      <td>0.74</td>\n",
       "      <td>0.75</td>\n",
       "      <td>0.77</td>\n",
       "      <td>0.78</td>\n",
       "      <td>0.75</td>\n",
       "    </tr>\n",
       "    <tr>\n",
       "      <th>9</th>\n",
       "      <td>2020-07</td>\n",
       "      <td>30.95</td>\n",
       "      <td>24.82</td>\n",
       "      <td>10.75</td>\n",
       "      <td>8.94</td>\n",
       "      <td>4.69</td>\n",
       "      <td>3.46</td>\n",
       "      <td>2.45</td>\n",
       "      <td>2.03</td>\n",
       "      <td>6.41</td>\n",
       "      <td>1.13</td>\n",
       "      <td>0.65</td>\n",
       "      <td>0.76</td>\n",
       "      <td>0.74</td>\n",
       "      <td>0.76</td>\n",
       "      <td>0.75</td>\n",
       "      <td>0.72</td>\n",
       "    </tr>\n",
       "    <tr>\n",
       "      <th>10</th>\n",
       "      <td>2020-08</td>\n",
       "      <td>31.04</td>\n",
       "      <td>25.15</td>\n",
       "      <td>10.73</td>\n",
       "      <td>8.90</td>\n",
       "      <td>4.69</td>\n",
       "      <td>3.38</td>\n",
       "      <td>2.39</td>\n",
       "      <td>1.96</td>\n",
       "      <td>6.31</td>\n",
       "      <td>1.18</td>\n",
       "      <td>0.63</td>\n",
       "      <td>0.74</td>\n",
       "      <td>0.72</td>\n",
       "      <td>0.75</td>\n",
       "      <td>0.73</td>\n",
       "      <td>0.70</td>\n",
       "    </tr>\n",
       "    <tr>\n",
       "      <th>11</th>\n",
       "      <td>2020-09</td>\n",
       "      <td>30.57</td>\n",
       "      <td>24.98</td>\n",
       "      <td>10.58</td>\n",
       "      <td>9.49</td>\n",
       "      <td>4.94</td>\n",
       "      <td>3.50</td>\n",
       "      <td>2.27</td>\n",
       "      <td>1.88</td>\n",
       "      <td>6.12</td>\n",
       "      <td>1.45</td>\n",
       "      <td>0.63</td>\n",
       "      <td>0.74</td>\n",
       "      <td>0.67</td>\n",
       "      <td>0.81</td>\n",
       "      <td>0.69</td>\n",
       "      <td>0.67</td>\n",
       "    </tr>\n",
       "    <tr>\n",
       "      <th>12</th>\n",
       "      <td>2020-10</td>\n",
       "      <td>30.25</td>\n",
       "      <td>26.53</td>\n",
       "      <td>10.44</td>\n",
       "      <td>9.67</td>\n",
       "      <td>4.83</td>\n",
       "      <td>2.54</td>\n",
       "      <td>2.21</td>\n",
       "      <td>1.79</td>\n",
       "      <td>6.04</td>\n",
       "      <td>1.55</td>\n",
       "      <td>0.63</td>\n",
       "      <td>0.69</td>\n",
       "      <td>0.65</td>\n",
       "      <td>0.85</td>\n",
       "      <td>0.67</td>\n",
       "      <td>0.64</td>\n",
       "    </tr>\n",
       "  </tbody>\n",
       "</table>\n",
       "</div>"
      ],
      "text/plain": [
       "       Date  Samsung  Apple  Huawei  Xiaomi  Oppo  Mobicel  Motorola    LG  \\\n",
       "0   2019-10    31.49  22.09   10.02    7.79  4.10     3.15      2.41  2.40   \n",
       "1   2019-11    31.36  22.90   10.18    8.16  4.42     3.41      2.40  2.40   \n",
       "2   2019-12    31.37  24.79    9.95    7.73  4.23     3.19      2.50  2.54   \n",
       "3   2020-01    31.29  24.76   10.61    8.10  4.25     3.02      2.42  2.40   \n",
       "4   2020-02    30.91  25.89   10.98    7.80  4.31     2.89      2.36  2.34   \n",
       "5   2020-03    30.80  27.03   10.70    7.70  4.30     2.87      2.35  2.28   \n",
       "6   2020-04    30.41  28.79   10.28    7.60  4.20     2.75      2.51  2.28   \n",
       "7   2020-05    30.18  26.72   10.39    8.36  4.70     3.12      2.46  2.19   \n",
       "8   2020-06    31.06  25.26   10.69    8.55  4.65     3.18      2.57  2.11   \n",
       "9   2020-07    30.95  24.82   10.75    8.94  4.69     3.46      2.45  2.03   \n",
       "10  2020-08    31.04  25.15   10.73    8.90  4.69     3.38      2.39  1.96   \n",
       "11  2020-09    30.57  24.98   10.58    9.49  4.94     3.50      2.27  1.88   \n",
       "12  2020-10    30.25  26.53   10.44    9.67  4.83     2.54      2.21  1.79   \n",
       "\n",
       "    Others  Realme  Google  Nokia  Lenovo  OnePlus  Sony  Asus  \n",
       "0     9.51    0.54    2.35   0.95    0.96     0.70  0.84  0.74  \n",
       "1     9.10    0.78    0.66   0.97    0.97     0.73  0.83  0.75  \n",
       "2     8.13    0.84    0.75   0.90    0.87     0.74  0.77  0.70  \n",
       "3     7.55    0.88    0.69   0.88    0.86     0.79  0.80  0.69  \n",
       "4     7.06    0.89    0.70   0.81    0.77     0.78  0.80  0.69  \n",
       "5     6.63    0.93    0.73   0.72    0.74     0.78  0.76  0.66  \n",
       "6     5.84    0.90    0.75   0.69    0.71     0.80  0.76  0.70  \n",
       "7     6.31    1.04    0.70   0.73    0.77     0.81  0.78  0.76  \n",
       "8     6.39    1.04    0.68   0.74    0.75     0.77  0.78  0.75  \n",
       "9     6.41    1.13    0.65   0.76    0.74     0.76  0.75  0.72  \n",
       "10    6.31    1.18    0.63   0.74    0.72     0.75  0.73  0.70  \n",
       "11    6.12    1.45    0.63   0.74    0.67     0.81  0.69  0.67  \n",
       "12    6.04    1.55    0.63   0.69    0.65     0.85  0.67  0.64  "
      ]
     },
     "execution_count": 46,
     "metadata": {},
     "output_type": "execute_result"
    }
   ],
   "source": [
    "df = pd.read_csv('https://raw.githubusercontent.com/kalilurrahman/datasets/main/mobilephonemktshare2020.csv')\n",
    "df"
   ]
  },
  {
   "cell_type": "markdown",
   "id": "d7628d27-a4ca-4336-9171-b196a9c4f7e3",
   "metadata": {},
   "source": [
    "`-` 점유율을 area plot으로 나타내고 싶을 경우"
   ]
  },
  {
   "cell_type": "code",
   "execution_count": 47,
   "id": "bddb4fc6-ffbf-49c4-9205-d85d6fde7f42",
   "metadata": {},
   "outputs": [
    {
     "data": {
      "text/plain": [
       "<AxesSubplot:xlabel='Date'>"
      ]
     },
     "execution_count": 47,
     "metadata": {},
     "output_type": "execute_result"
    },
    {
     "data": {
      "image/png": "[encoded data removed]",
      "text/plain": [
       "<Figure size 1440x720 with 1 Axes>"
      ]
     },
     "metadata": {
      "needs_background": "light"
     },
     "output_type": "display_data"
    }
   ],
   "source": [
    "df.set_index('Date').plot.area(figsize=(20,10),alpha=0.6)"
   ]
  },
  {
   "cell_type": "markdown",
   "id": "f70bcf59-a441-4eec-9f62-0500aa396a4a",
   "metadata": {},
   "source": [
    "- 시간에 따른 점유율의 변화를 보기에 적절한 것 같다."
   ]
  },
  {
   "cell_type": "markdown",
   "id": "2cb54123-a0d6-4fbb-88a4-0cf03fc741e6",
   "metadata": {},
   "source": [
    "#### 예제2 (plotly)"
   ]
  },
  {
   "cell_type": "markdown",
   "id": "cf7025d3-8c42-403a-9783-75f3f91786d9",
   "metadata": {},
   "source": [
    "`-` plotly를 쓰기 위해서 tidydata로 바꾸자."
   ]
  },
  {
   "cell_type": "code",
   "execution_count": 48,
   "id": "23027fb9-7d8f-4f56-8f9f-b1d9df883ba7",
   "metadata": {},
   "outputs": [
    {
     "data": {
      "text/html": [
       "<div>\n",
       "<style scoped>\n",
       "    .dataframe tbody tr th:only-of-type {\n",
       "        vertical-align: middle;\n",
       "    }\n",
       "\n",
       "    .dataframe tbody tr th {\n",
       "        vertical-align: top;\n",
       "    }\n",
       "\n",
       "    .dataframe thead th {\n",
       "        text-align: right;\n",
       "    }\n",
       "</style>\n",
       "<table border=\"1\" class=\"dataframe\">\n",
       "  <thead>\n",
       "    <tr style=\"text-align: right;\">\n",
       "      <th></th>\n",
       "      <th>Date</th>\n",
       "      <th>variable</th>\n",
       "      <th>value</th>\n",
       "    </tr>\n",
       "  </thead>\n",
       "  <tbody>\n",
       "    <tr>\n",
       "      <th>0</th>\n",
       "      <td>2019-10</td>\n",
       "      <td>Samsung</td>\n",
       "      <td>31.49</td>\n",
       "    </tr>\n",
       "    <tr>\n",
       "      <th>1</th>\n",
       "      <td>2019-11</td>\n",
       "      <td>Samsung</td>\n",
       "      <td>31.36</td>\n",
       "    </tr>\n",
       "    <tr>\n",
       "      <th>2</th>\n",
       "      <td>2019-12</td>\n",
       "      <td>Samsung</td>\n",
       "      <td>31.37</td>\n",
       "    </tr>\n",
       "    <tr>\n",
       "      <th>3</th>\n",
       "      <td>2020-01</td>\n",
       "      <td>Samsung</td>\n",
       "      <td>31.29</td>\n",
       "    </tr>\n",
       "    <tr>\n",
       "      <th>4</th>\n",
       "      <td>2020-02</td>\n",
       "      <td>Samsung</td>\n",
       "      <td>30.91</td>\n",
       "    </tr>\n",
       "    <tr>\n",
       "      <th>...</th>\n",
       "      <td>...</td>\n",
       "      <td>...</td>\n",
       "      <td>...</td>\n",
       "    </tr>\n",
       "    <tr>\n",
       "      <th>203</th>\n",
       "      <td>2020-06</td>\n",
       "      <td>Asus</td>\n",
       "      <td>0.75</td>\n",
       "    </tr>\n",
       "    <tr>\n",
       "      <th>204</th>\n",
       "      <td>2020-07</td>\n",
       "      <td>Asus</td>\n",
       "      <td>0.72</td>\n",
       "    </tr>\n",
       "    <tr>\n",
       "      <th>205</th>\n",
       "      <td>2020-08</td>\n",
       "      <td>Asus</td>\n",
       "      <td>0.70</td>\n",
       "    </tr>\n",
       "    <tr>\n",
       "      <th>206</th>\n",
       "      <td>2020-09</td>\n",
       "      <td>Asus</td>\n",
       "      <td>0.67</td>\n",
       "    </tr>\n",
       "    <tr>\n",
       "      <th>207</th>\n",
       "      <td>2020-10</td>\n",
       "      <td>Asus</td>\n",
       "      <td>0.64</td>\n",
       "    </tr>\n",
       "  </tbody>\n",
       "</table>\n",
       "<p>208 rows × 3 columns</p>\n",
       "</div>"
      ],
      "text/plain": [
       "        Date variable  value\n",
       "0    2019-10  Samsung  31.49\n",
       "1    2019-11  Samsung  31.36\n",
       "2    2019-12  Samsung  31.37\n",
       "3    2020-01  Samsung  31.29\n",
       "4    2020-02  Samsung  30.91\n",
       "..       ...      ...    ...\n",
       "203  2020-06     Asus   0.75\n",
       "204  2020-07     Asus   0.72\n",
       "205  2020-08     Asus   0.70\n",
       "206  2020-09     Asus   0.67\n",
       "207  2020-10     Asus   0.64\n",
       "\n",
       "[208 rows x 3 columns]"
      ]
     },
     "execution_count": 48,
     "metadata": {},
     "output_type": "execute_result"
    }
   ],
   "source": [
    "df.melt(id_vars='Date')"
   ]
  },
  {
   "cell_type": "code",
   "execution_count": 49,
   "id": "fa368d3c-c785-4b37-900b-ab1edf912761",
   "metadata": {},
   "outputs": [
    {
     "data": {
      "application/vnd.plotly.v1+json": {
       "config": {
        "plotlyServerURL": "https://plot.ly"
       },
       "data": [
        {
         "hovertemplate": "variable=Samsung<br>Date=%{x}<br>value=%{y}<extra></extra>",
         "legendgroup": "Samsung",
         "line": {
          "color": "#636efa"
         },
         "marker": {
          "symbol": "circle"
         },
         "mode": "lines",
         "name": "Samsung",
         "orientation": "v",
         "showlegend": true,
         "stackgroup": "1",
         "type": "scatter",
         "x": [
          "2019-10",
          "2019-11",
          "2019-12",
          "2020-01",
          "2020-02",
          "2020-03",
          "2020-04",
          "2020-05",
          "2020-06",
          "2020-07",
          "2020-08",
          "2020-09",
          "2020-10"
         ],
         "xaxis": "x",
         "y": [
          31.49,
          31.36,
          31.37,
          31.29,
          30.91,
          30.8,
          30.41,
          30.18,
          31.06,
          30.95,
          31.04,
          30.57,
          30.25
         ],
         "yaxis": "y"
        },
        {
         "hovertemplate": "variable=Apple<br>Date=%{x}<br>value=%{y}<extra></extra>",
         "legendgroup": "Apple",
         "line": {
          "color": "#EF553B"
         },
         "marker": {
          "symbol": "circle"
         },
         "mode": "lines",
         "name": "Apple",
         "orientation": "v",
         "showlegend": true,
         "stackgroup": "1",
         "type": "scatter",
         "x": [
          "2019-10",
          "2019-11",
          "2019-12",
          "2020-01",
          "2020-02",
          "2020-03",
          "2020-04",
          "2020-05",
          "2020-06",
          "2020-07",
          "2020-08",
          "2020-09",
          "2020-10"
         ],
         "xaxis": "x",
         "y": [
          22.09,
          22.9,
          24.79,
          24.76,
          25.89,
          27.03,
          28.79,
          26.72,
          25.26,
          24.82,
          25.15,
          24.98,
          26.53
         ],
         "yaxis": "y"
        },
        {
         "hovertemplate": "variable=Huawei<br>Date=%{x}<br>value=%{y}<extra></extra>",
         "legendgroup": "Huawei",
         "line": {
          "color": "#00cc96"
         },
         "marker": {
          "symbol": "circle"
         },
         "mode": "lines",
         "name": "Huawei",
         "orientation": "v",
         "showlegend": true,
         "stackgroup": "1",
         "type": "scatter",
         "x": [
          "2019-10",
          "2019-11",
          "2019-12",
          "2020-01",
          "2020-02",
          "2020-03",
          "2020-04",
          "2020-05",
          "2020-06",
          "2020-07",
          "2020-08",
          "2020-09",
          "2020-10"
         ],
         "xaxis": "x",
         "y": [
          10.02,
          10.18,
          9.95,
          10.61,
          10.98,
          10.7,
          10.28,
          10.39,
          10.69,
          10.75,
          10.73,
          10.58,
          10.44
         ],
         "yaxis": "y"
        },
        {
         "hovertemplate": "variable=Xiaomi<br>Date=%{x}<br>value=%{y}<extra></extra>",
         "legendgroup": "Xiaomi",
         "line": {
          "color": "#ab63fa"
         },
         "marker": {
          "symbol": "circle"
         },
         "mode": "lines",
         "name": "Xiaomi",
         "orientation": "v",
         "showlegend": true,
         "stackgroup": "1",
         "type": "scatter",
         "x": [
          "2019-10",
          "2019-11",
          "2019-12",
          "2020-01",
          "2020-02",
          "2020-03",
          "2020-04",
          "2020-05",
          "2020-06",
          "2020-07",
          "2020-08",
          "2020-09",
          "2020-10"
         ],
         "xaxis": "x",
         "y": [
          7.79,
          8.16,
          7.73,
          8.1,
          7.8,
          7.7,
          7.6,
          8.36,
          8.55,
          8.94,
          8.9,
          9.49,
          9.67
         ],
         "yaxis": "y"
        },
        {
         "hovertemplate": "variable=Oppo<br>Date=%{x}<br>value=%{y}<extra></extra>",
         "legendgroup": "Oppo",
         "line": {
          "color": "#FFA15A"
         },
         "marker": {
          "symbol": "circle"
         },
         "mode": "lines",
         "name": "Oppo",
         "orientation": "v",
         "showlegend": true,
         "stackgroup": "1",
         "type": "scatter",
         "x": [
          "2019-10",
          "2019-11",
          "2019-12",
          "2020-01",
          "2020-02",
          "2020-03",
          "2020-04",
          "2020-05",
          "2020-06",
          "2020-07",
          "2020-08",
          "2020-09",
          "2020-10"
         ],
         "xaxis": "x",
         "y": [
          4.1,
          4.42,
          4.23,
          4.25,
          4.31,
          4.3,
          4.2,
          4.7,
          4.65,
          4.69,
          4.69,
          4.94,
          4.83
         ],
         "yaxis": "y"
        },
        {
         "hovertemplate": "variable=Mobicel<br>Date=%{x}<br>value=%{y}<extra></extra>",
         "legendgroup": "Mobicel",
         "line": {
          "color": "#19d3f3"
         },
         "marker": {
          "symbol": "circle"
         },
         "mode": "lines",
         "name": "Mobicel",
         "orientation": "v",
         "showlegend": true,
         "stackgroup": "1",
         "type": "scatter",
         "x": [
          "2019-10",
          "2019-11",
          "2019-12",
          "2020-01",
          "2020-02",
          "2020-03",
          "2020-04",
          "2020-05",
          "2020-06",
          "2020-07",
          "2020-08",
          "2020-09",
          "2020-10"
         ],
         "xaxis": "x",
         "y": [
          3.15,
          3.41,
          3.19,
          3.02,
          2.89,
          2.87,
          2.75,
          3.12,
          3.18,
          3.46,
          3.38,
          3.5,
          2.54
         ],
         "yaxis": "y"
        },
        {
         "hovertemplate": "variable=Motorola<br>Date=%{x}<br>value=%{y}<extra></extra>",
         "legendgroup": "Motorola",
         "line": {
          "color": "#FF6692"
         },
         "marker": {
          "symbol": "circle"
         },
         "mode": "lines",
         "name": "Motorola",
         "orientation": "v",
         "showlegend": true,
         "stackgroup": "1",
         "type": "scatter",
         "x": [
          "2019-10",
          "2019-11",
          "2019-12",
          "2020-01",
          "2020-02",
          "2020-03",
          "2020-04",
          "2020-05",
          "2020-06",
          "2020-07",
          "2020-08",
          "2020-09",
          "2020-10"
         ],
         "xaxis": "x",
         "y": [
          2.41,
          2.4,
          2.5,
          2.42,
          2.36,
          2.35,
          2.51,
          2.46,
          2.57,
          2.45,
          2.39,
          2.27,
          2.21
         ],
         "yaxis": "y"
        },
        {
         "hovertemplate": "variable=LG<br>Date=%{x}<br>value=%{y}<extra></extra>",
         "legendgroup": "LG",
         "line": {
          "color": "#B6E880"
         },
         "marker": {
          "symbol": "circle"
         },
         "mode": "lines",
         "name": "LG",
         "orientation": "v",
         "showlegend": true,
         "stackgroup": "1",
         "type": "scatter",
         "x": [
          "2019-10",
          "2019-11",
          "2019-12",
          "2020-01",
          "2020-02",
          "2020-03",
          "2020-04",
          "2020-05",
          "2020-06",
          "2020-07",
          "2020-08",
          "2020-09",
          "2020-10"
         ],
         "xaxis": "x",
         "y": [
          2.4,
          2.4,
          2.54,
          2.4,
          2.34,
          2.28,
          2.28,
          2.19,
          2.11,
          2.03,
          1.96,
          1.88,
          1.79
         ],
         "yaxis": "y"
        },
        {
         "hovertemplate": "variable=Others<br>Date=%{x}<br>value=%{y}<extra></extra>",
         "legendgroup": "Others",
         "line": {
          "color": "#FF97FF"
         },
         "marker": {
          "symbol": "circle"
         },
         "mode": "lines",
         "name": "Others",
         "orientation": "v",
         "showlegend": true,
         "stackgroup": "1",
         "type": "scatter",
         "x": [
          "2019-10",
          "2019-11",
          "2019-12",
          "2020-01",
          "2020-02",
          "2020-03",
          "2020-04",
          "2020-05",
          "2020-06",
          "2020-07",
          "2020-08",
          "2020-09",
          "2020-10"
         ],
         "xaxis": "x",
         "y": [
          9.51,
          9.1,
          8.13,
          7.55,
          7.06,
          6.63,
          5.84,
          6.31,
          6.39,
          6.41,
          6.31,
          6.12,
          6.04
         ],
         "yaxis": "y"
        },
        {
         "hovertemplate": "variable=Realme<br>Date=%{x}<br>value=%{y}<extra></extra>",
         "legendgroup": "Realme",
         "line": {
          "color": "#FECB52"
         },
         "marker": {
          "symbol": "circle"
         },
         "mode": "lines",
         "name": "Realme",
         "orientation": "v",
         "showlegend": true,
         "stackgroup": "1",
         "type": "scatter",
         "x": [
          "2019-10",
          "2019-11",
          "2019-12",
          "2020-01",
          "2020-02",
          "2020-03",
          "2020-04",
          "2020-05",
          "2020-06",
          "2020-07",
          "2020-08",
          "2020-09",
          "2020-10"
         ],
         "xaxis": "x",
         "y": [
          0.54,
          0.78,
          0.84,
          0.88,
          0.89,
          0.93,
          0.9,
          1.04,
          1.04,
          1.13,
          1.18,
          1.45,
          1.55
         ],
         "yaxis": "y"
        },
        {
         "hovertemplate": "variable=Google<br>Date=%{x}<br>value=%{y}<extra></extra>",
         "legendgroup": "Google",
         "line": {
          "color": "#636efa"
         },
         "marker": {
          "symbol": "circle"
         },
         "mode": "lines",
         "name": "Google",
         "orientation": "v",
         "showlegend": true,
         "stackgroup": "1",
         "type": "scatter",
         "x": [
          "2019-10",
          "2019-11",
          "2019-12",
          "2020-01",
          "2020-02",
          "2020-03",
          "2020-04",
          "2020-05",
          "2020-06",
          "2020-07",
          "2020-08",
          "2020-09",
          "2020-10"
         ],
         "xaxis": "x",
         "y": [
          2.35,
          0.66,
          0.75,
          0.69,
          0.7,
          0.73,
          0.75,
          0.7,
          0.68,
          0.65,
          0.63,
          0.63,
          0.63
         ],
         "yaxis": "y"
        },
        {
         "hovertemplate": "variable=Nokia<br>Date=%{x}<br>value=%{y}<extra></extra>",
         "legendgroup": "Nokia",
         "line": {
          "color": "#EF553B"
         },
         "marker": {
          "symbol": "circle"
         },
         "mode": "lines",
         "name": "Nokia",
         "orientation": "v",
         "showlegend": true,
         "stackgroup": "1",
         "type": "scatter",
         "x": [
          "2019-10",
          "2019-11",
          "2019-12",
          "2020-01",
          "2020-02",
          "2020-03",
          "2020-04",
          "2020-05",
          "2020-06",
          "2020-07",
          "2020-08",
          "2020-09",
          "2020-10"
         ],
         "xaxis": "x",
         "y": [
          0.95,
          0.97,
          0.9,
          0.88,
          0.81,
          0.72,
          0.69,
          0.73,
          0.74,
          0.76,
          0.74,
          0.74,
          0.69
         ],
         "yaxis": "y"
        },
        {
         "hovertemplate": "variable=Lenovo<br>Date=%{x}<br>value=%{y}<extra></extra>",
         "legendgroup": "Lenovo",
         "line": {
          "color": "#00cc96"
         },
         "marker": {
          "symbol": "circle"
         },
         "mode": "lines",
         "name": "Lenovo",
         "orientation": "v",
         "showlegend": true,
         "stackgroup": "1",
         "type": "scatter",
         "x": [
          "2019-10",
          "2019-11",
          "2019-12",
          "2020-01",
          "2020-02",
          "2020-03",
          "2020-04",
          "2020-05",
          "2020-06",
          "2020-07",
          "2020-08",
          "2020-09",
          "2020-10"
         ],
         "xaxis": "x",
         "y": [
          0.96,
          0.97,
          0.87,
          0.86,
          0.77,
          0.74,
          0.71,
          0.77,
          0.75,
          0.74,
          0.72,
          0.67,
          0.65
         ],
         "yaxis": "y"
        },
        {
         "hovertemplate": "variable=OnePlus<br>Date=%{x}<br>value=%{y}<extra></extra>",
         "legendgroup": "OnePlus",
         "line": {
          "color": "#ab63fa"
         },
         "marker": {
          "symbol": "circle"
         },
         "mode": "lines",
         "name": "OnePlus",
         "orientation": "v",
         "showlegend": true,
         "stackgroup": "1",
         "type": "scatter",
         "x": [
          "2019-10",
          "2019-11",
          "2019-12",
          "2020-01",
          "2020-02",
          "2020-03",
          "2020-04",
          "2020-05",
          "2020-06",
          "2020-07",
          "2020-08",
          "2020-09",
          "2020-10"
         ],
         "xaxis": "x",
         "y": [
          0.7,
          0.73,
          0.74,
          0.79,
          0.78,
          0.78,
          0.8,
          0.81,
          0.77,
          0.76,
          0.75,
          0.81,
          0.85
         ],
         "yaxis": "y"
        },
        {
         "hovertemplate": "variable=Sony<br>Date=%{x}<br>value=%{y}<extra></extra>",
         "legendgroup": "Sony",
         "line": {
          "color": "#FFA15A"
         },
         "marker": {
          "symbol": "circle"
         },
         "mode": "lines",
         "name": "Sony",
         "orientation": "v",
         "showlegend": true,
         "stackgroup": "1",
         "type": "scatter",
         "x": [
          "2019-10",
          "2019-11",
          "2019-12",
          "2020-01",
          "2020-02",
          "2020-03",
          "2020-04",
          "2020-05",
          "2020-06",
          "2020-07",
          "2020-08",
          "2020-09",
          "2020-10"
         ],
         "xaxis": "x",
         "y": [
          0.84,
          0.83,
          0.77,
          0.8,
          0.8,
          0.76,
          0.76,
          0.78,
          0.78,
          0.75,
          0.73,
          0.69,
          0.67
         ],
         "yaxis": "y"
        },
        {
         "hovertemplate": "variable=Asus<br>Date=%{x}<br>value=%{y}<extra></extra>",
         "legendgroup": "Asus",
         "line": {
          "color": "#19d3f3"
         },
         "marker": {
          "symbol": "circle"
         },
         "mode": "lines",
         "name": "Asus",
         "orientation": "v",
         "showlegend": true,
         "stackgroup": "1",
         "type": "scatter",
         "x": [
          "2019-10",
          "2019-11",
          "2019-12",
          "2020-01",
          "2020-02",
          "2020-03",
          "2020-04",
          "2020-05",
          "2020-06",
          "2020-07",
          "2020-08",
          "2020-09",
          "2020-10"
         ],
         "xaxis": "x",
         "y": [
          0.74,
          0.75,
          0.7,
          0.69,
          0.69,
          0.66,
          0.7,
          0.76,
          0.75,
          0.72,
          0.7,
          0.67,
          0.64
         ],
         "yaxis": "y"
        }
       ],
       "layout": {
        "autosize": true,
        "legend": {
         "title": {
          "text": "variable"
         },
         "tracegroupgap": 0
        },
        "margin": {
         "t": 60
        },
        "template": {
         "data": {
          "bar": [
           {
            "error_x": {
             "color": "#2a3f5f"
            },
            "error_y": {
             "color": "#2a3f5f"
            },
            "marker": {
             "line": {
              "color": "#E5ECF6",
              "width": 0.5
             },
             "pattern": {
              "fillmode": "overlay",
              "size": 10,
              "solidity": 0.2
             }
            },
            "type": "bar"
           }
          ],
          "barpolar": [
           {
            "marker": {
             "line": {
              "color": "#E5ECF6",
              "width": 0.5
             },
             "pattern": {
              "fillmode": "overlay",
              "size": 10,
              "solidity": 0.2
             }
            },
            "type": "barpolar"
           }
          ],
          "carpet": [
           {
            "aaxis": {
             "endlinecolor": "#2a3f5f",
             "gridcolor": "white",
             "linecolor": "white",
             "minorgridcolor": "white",
             "startlinecolor": "#2a3f5f"
            },
            "baxis": {
             "endlinecolor": "#2a3f5f",
             "gridcolor": "white",
             "linecolor": "white",
             "minorgridcolor": "white",
             "startlinecolor": "#2a3f5f"
            },
            "type": "carpet"
           }
          ],
          "choropleth": [
           {
            "colorbar": {
             "outlinewidth": 0,
             "ticks": ""
            },
            "type": "choropleth"
           }
          ],
          "contour": [
           {
            "colorbar": {
             "outlinewidth": 0,
             "ticks": ""
            },
            "colorscale": [
             [
              0,
              "#0d0887"
             ],
             [
              0.1111111111111111,
              "#46039f"
             ],
             [
              0.2222222222222222,
              "#7201a8"
             ],
             [
              0.3333333333333333,
              "#9c179e"
             ],
             [
              0.4444444444444444,
              "#bd3786"
             ],
             [
              0.5555555555555556,
              "#d8576b"
             ],
             [
              0.6666666666666666,
              "#ed7953"
             ],
             [
              0.7777777777777778,
              "#fb9f3a"
             ],
             [
              0.8888888888888888,
              "#fdca26"
             ],
             [
              1,
              "#f0f921"
             ]
            ],
            "type": "contour"
           }
          ],
          "contourcarpet": [
           {
            "colorbar": {
             "outlinewidth": 0,
             "ticks": ""
            },
            "type": "contourcarpet"
           }
          ],
          "heatmap": [
           {
            "colorbar": {
             "outlinewidth": 0,
             "ticks": ""
            },
            "colorscale": [
             [
              0,
              "#0d0887"
             ],
             [
              0.1111111111111111,
              "#46039f"
             ],
             [
              0.2222222222222222,
              "#7201a8"
             ],
             [
              0.3333333333333333,
              "#9c179e"
             ],
             [
              0.4444444444444444,
              "#bd3786"
             ],
             [
              0.5555555555555556,
              "#d8576b"
             ],
             [
              0.6666666666666666,
              "#ed7953"
             ],
             [
              0.7777777777777778,
              "#fb9f3a"
             ],
             [
              0.8888888888888888,
              "#fdca26"
             ],
             [
              1,
              "#f0f921"
             ]
            ],
            "type": "heatmap"
           }
          ],
          "heatmapgl": [
           {
            "colorbar": {
             "outlinewidth": 0,
             "ticks": ""
            },
            "colorscale": [
             [
              0,
              "#0d0887"
             ],
             [
              0.1111111111111111,
              "#46039f"
             ],
             [
              0.2222222222222222,
              "#7201a8"
             ],
             [
              0.3333333333333333,
              "#9c179e"
             ],
             [
              0.4444444444444444,
              "#bd3786"
             ],
             [
              0.5555555555555556,
              "#d8576b"
             ],
             [
              0.6666666666666666,
              "#ed7953"
             ],
             [
              0.7777777777777778,
              "#fb9f3a"
             ],
             [
              0.8888888888888888,
              "#fdca26"
             ],
             [
              1,
              "#f0f921"
             ]
            ],
            "type": "heatmapgl"
           }
          ],
          "histogram": [
           {
            "marker": {
             "pattern": {
              "fillmode": "overlay",
              "size": 10,
              "solidity": 0.2
             }
            },
            "type": "histogram"
           }
          ],
          "histogram2d": [
           {
            "colorbar": {
             "outlinewidth": 0,
             "ticks": ""
            },
            "colorscale": [
             [
              0,
              "#0d0887"
             ],
             [
              0.1111111111111111,
              "#46039f"
             ],
             [
              0.2222222222222222,
              "#7201a8"
             ],
             [
              0.3333333333333333,
              "#9c179e"
             ],
             [
              0.4444444444444444,
              "#bd3786"
             ],
             [
              0.5555555555555556,
              "#d8576b"
             ],
             [
              0.6666666666666666,
              "#ed7953"
             ],
             [
              0.7777777777777778,
              "#fb9f3a"
             ],
             [
              0.8888888888888888,
              "#fdca26"
             ],
             [
              1,
              "#f0f921"
             ]
            ],
            "type": "histogram2d"
           }
          ],
          "histogram2dcontour": [
           {
            "colorbar": {
             "outlinewidth": 0,
             "ticks": ""
            },
            "colorscale": [
             [
              0,
              "#0d0887"
             ],
             [
              0.1111111111111111,
              "#46039f"
             ],
             [
              0.2222222222222222,
              "#7201a8"
             ],
             [
              0.3333333333333333,
              "#9c179e"
             ],
             [
              0.4444444444444444,
              "#bd3786"
             ],
             [
              0.5555555555555556,
              "#d8576b"
             ],
             [
              0.6666666666666666,
              "#ed7953"
             ],
             [
              0.7777777777777778,
              "#fb9f3a"
             ],
             [
              0.8888888888888888,
              "#fdca26"
             ],
             [
              1,
              "#f0f921"
             ]
            ],
            "type": "histogram2dcontour"
           }
          ],
          "mesh3d": [
           {
            "colorbar": {
             "outlinewidth": 0,
             "ticks": ""
            },
            "type": "mesh3d"
           }
          ],
          "parcoords": [
           {
            "line": {
             "colorbar": {
              "outlinewidth": 0,
              "ticks": ""
             }
            },
            "type": "parcoords"
           }
          ],
          "pie": [
           {
            "automargin": true,
            "type": "pie"
           }
          ],
          "scatter": [
           {
            "marker": {
             "colorbar": {
              "outlinewidth": 0,
              "ticks": ""
             }
            },
            "type": "scatter"
           }
          ],
          "scatter3d": [
           {
            "line": {
             "colorbar": {
              "outlinewidth": 0,
              "ticks": ""
             }
            },
            "marker": {
             "colorbar": {
              "outlinewidth": 0,
              "ticks": ""
             }
            },
            "type": "scatter3d"
           }
          ],
          "scattercarpet": [
           {
            "marker": {
             "colorbar": {
              "outlinewidth": 0,
              "ticks": ""
             }
            },
            "type": "scattercarpet"
           }
          ],
          "scattergeo": [
           {
            "marker": {
             "colorbar": {
              "outlinewidth": 0,
              "ticks": ""
             }
            },
            "type": "scattergeo"
           }
          ],
          "scattergl": [
           {
            "marker": {
             "colorbar": {
              "outlinewidth": 0,
              "ticks": ""
             }
            },
            "type": "scattergl"
           }
          ],
          "scattermapbox": [
           {
            "marker": {
             "colorbar": {
              "outlinewidth": 0,
              "ticks": ""
             }
            },
            "type": "scattermapbox"
           }
          ],
          "scatterpolar": [
           {
            "marker": {
             "colorbar": {
              "outlinewidth": 0,
              "ticks": ""
             }
            },
            "type": "scatterpolar"
           }
          ],
          "scatterpolargl": [
           {
            "marker": {
             "colorbar": {
              "outlinewidth": 0,
              "ticks": ""
             }
            },
            "type": "scatterpolargl"
           }
          ],
          "scatterternary": [
           {
            "marker": {
             "colorbar": {
              "outlinewidth": 0,
              "ticks": ""
             }
            },
            "type": "scatterternary"
           }
          ],
          "surface": [
           {
            "colorbar": {
             "outlinewidth": 0,
             "ticks": ""
            },
            "colorscale": [
             [
              0,
              "#0d0887"
             ],
             [
              0.1111111111111111,
              "#46039f"
             ],
             [
              0.2222222222222222,
              "#7201a8"
             ],
             [
              0.3333333333333333,
              "#9c179e"
             ],
             [
              0.4444444444444444,
              "#bd3786"
             ],
             [
              0.5555555555555556,
              "#d8576b"
             ],
             [
              0.6666666666666666,
              "#ed7953"
             ],
             [
              0.7777777777777778,
              "#fb9f3a"
             ],
             [
              0.8888888888888888,
              "#fdca26"
             ],
             [
              1,
              "#f0f921"
             ]
            ],
            "type": "surface"
           }
          ],
          "table": [
           {
            "cells": {
             "fill": {
              "color": "#EBF0F8"
             },
             "line": {
              "color": "white"
             }
            },
            "header": {
             "fill": {
              "color": "#C8D4E3"
             },
             "line": {
              "color": "white"
             }
            },
            "type": "table"
           }
          ]
         },
         "layout": {
          "annotationdefaults": {
           "arrowcolor": "#2a3f5f",
           "arrowhead": 0,
           "arrowwidth": 1
          },
          "autotypenumbers": "strict",
          "coloraxis": {
           "colorbar": {
            "outlinewidth": 0,
            "ticks": ""
           }
          },
          "colorscale": {
           "diverging": [
            [
             0,
             "#8e0152"
            ],
            [
             0.1,
             "#c51b7d"
            ],
            [
             0.2,
             "#de77ae"
            ],
            [
             0.3,
             "#f1b6da"
            ],
            [
             0.4,
             "#fde0ef"
            ],
            [
             0.5,
             "#f7f7f7"
            ],
            [
             0.6,
             "#e6f5d0"
            ],
            [
             0.7,
             "#b8e186"
            ],
            [
             0.8,
             "#7fbc41"
            ],
            [
             0.9,
             "#4d9221"
            ],
            [
             1,
             "#276419"
            ]
           ],
           "sequential": [
            [
             0,
             "#0d0887"
            ],
            [
             0.1111111111111111,
             "#46039f"
            ],
            [
             0.2222222222222222,
             "#7201a8"
            ],
            [
             0.3333333333333333,
             "#9c179e"
            ],
            [
             0.4444444444444444,
             "#bd3786"
            ],
            [
             0.5555555555555556,
             "#d8576b"
            ],
            [
             0.6666666666666666,
             "#ed7953"
            ],
            [
             0.7777777777777778,
             "#fb9f3a"
            ],
            [
             0.8888888888888888,
             "#fdca26"
            ],
            [
             1,
             "#f0f921"
            ]
           ],
           "sequentialminus": [
            [
             0,
             "#0d0887"
            ],
            [
             0.1111111111111111,
             "#46039f"
            ],
            [
             0.2222222222222222,
             "#7201a8"
            ],
            [
             0.3333333333333333,
             "#9c179e"
            ],
            [
             0.4444444444444444,
             "#bd3786"
            ],
            [
             0.5555555555555556,
             "#d8576b"
            ],
            [
             0.6666666666666666,
             "#ed7953"
            ],
            [
             0.7777777777777778,
             "#fb9f3a"
            ],
            [
             0.8888888888888888,
             "#fdca26"
            ],
            [
             1,
             "#f0f921"
            ]
           ]
          },
          "colorway": [
           "#636efa",
           "#EF553B",
           "#00cc96",
           "#ab63fa",
           "#FFA15A",
           "#19d3f3",
           "#FF6692",
           "#B6E880",
           "#FF97FF",
           "#FECB52"
          ],
          "font": {
           "color": "#2a3f5f"
          },
          "geo": {
           "bgcolor": "white",
           "lakecolor": "white",
           "landcolor": "#E5ECF6",
           "showlakes": true,
           "showland": true,
           "subunitcolor": "white"
          },
          "hoverlabel": {
           "align": "left"
          },
          "hovermode": "closest",
          "mapbox": {
           "style": "light"
          },
          "paper_bgcolor": "white",
          "plot_bgcolor": "#E5ECF6",
          "polar": {
           "angularaxis": {
            "gridcolor": "white",
            "linecolor": "white",
            "ticks": ""
           },
           "bgcolor": "#E5ECF6",
           "radialaxis": {
            "gridcolor": "white",
            "linecolor": "white",
            "ticks": ""
           }
          },
          "scene": {
           "xaxis": {
            "backgroundcolor": "#E5ECF6",
            "gridcolor": "white",
            "gridwidth": 2,
            "linecolor": "white",
            "showbackground": true,
            "ticks": "",
            "zerolinecolor": "white"
           },
           "yaxis": {
            "backgroundcolor": "#E5ECF6",
            "gridcolor": "white",
            "gridwidth": 2,
            "linecolor": "white",
            "showbackground": true,
            "ticks": "",
            "zerolinecolor": "white"
           },
           "zaxis": {
            "backgroundcolor": "#E5ECF6",
            "gridcolor": "white",
            "gridwidth": 2,
            "linecolor": "white",
            "showbackground": true,
            "ticks": "",
            "zerolinecolor": "white"
           }
          },
          "shapedefaults": {
           "line": {
            "color": "#2a3f5f"
           }
          },
          "ternary": {
           "aaxis": {
            "gridcolor": "white",
            "linecolor": "white",
            "ticks": ""
           },
           "baxis": {
            "gridcolor": "white",
            "linecolor": "white",
            "ticks": ""
           },
           "bgcolor": "#E5ECF6",
           "caxis": {
            "gridcolor": "white",
            "linecolor": "white",
            "ticks": ""
           }
          },
          "title": {
           "x": 0.05
          },
          "xaxis": {
           "automargin": true,
           "gridcolor": "white",
           "linecolor": "white",
           "ticks": "",
           "title": {
            "standoff": 15
           },
           "zerolinecolor": "white",
           "zerolinewidth": 2
          },
          "yaxis": {
           "automargin": true,
           "gridcolor": "white",
           "linecolor": "white",
           "ticks": "",
           "title": {
            "standoff": 15
           },
           "zerolinecolor": "white",
           "zerolinewidth": 2
          }
         }
        },
        "xaxis": {
         "anchor": "y",
         "autorange": true,
         "domain": [
          0,
          1
         ],
         "range": [
          "2019-10-01",
          "2020-10-01"
         ],
         "title": {
          "text": "Date"
         },
         "type": "date"
        },
        "yaxis": {
         "anchor": "x",
         "autorange": true,
         "domain": [
          0,
          1
         ],
         "range": [
          0,
          105.30526315789474
         ],
         "title": {
          "text": "value"
         },
         "type": "linear"
        }
       }
      },
      "image/png": "[encoded data removed]",
      "text/html": [
       "<div>                            <div id=\"86232e78-5783-4d35-9aee-f935611dac66\" class=\"plotly-graph-div\" style=\"height:525px; width:100%;\"></div>            <script type=\"text/javascript\">                require([\"plotly\"], function(Plotly) {                    window.PLOTLYENV=window.PLOTLYENV || {};                                    if (document.getElementById(\"86232e78-5783-4d35-9aee-f935611dac66\")) {                    Plotly.newPlot(                        \"86232e78-5783-4d35-9aee-f935611dac66\",                        [{\"hovertemplate\":\"variable=Samsung<br>Date=%{x}<br>value=%{y}<extra></extra>\",\"legendgroup\":\"Samsung\",\"line\":{\"color\":\"#636efa\"},\"marker\":{\"symbol\":\"circle\"},\"mode\":\"lines\",\"name\":\"Samsung\",\"orientation\":\"v\",\"showlegend\":true,\"stackgroup\":\"1\",\"type\":\"scatter\",\"x\":[\"2019-10\",\"2019-11\",\"2019-12\",\"2020-01\",\"2020-02\",\"2020-03\",\"2020-04\",\"2020-05\",\"2020-06\",\"2020-07\",\"2020-08\",\"2020-09\",\"2020-10\"],\"xaxis\":\"x\",\"y\":[31.49,31.36,31.37,31.29,30.91,30.8,30.41,30.18,31.06,30.95,31.04,30.57,30.25],\"yaxis\":\"y\"},{\"hovertemplate\":\"variable=Apple<br>Date=%{x}<br>value=%{y}<extra></extra>\",\"legendgroup\":\"Apple\",\"line\":{\"color\":\"#EF553B\"},\"marker\":{\"symbol\":\"circle\"},\"mode\":\"lines\",\"name\":\"Apple\",\"orientation\":\"v\",\"showlegend\":true,\"stackgroup\":\"1\",\"type\":\"scatter\",\"x\":[\"2019-10\",\"2019-11\",\"2019-12\",\"2020-01\",\"2020-02\",\"2020-03\",\"2020-04\",\"2020-05\",\"2020-06\",\"2020-07\",\"2020-08\",\"2020-09\",\"2020-10\"],\"xaxis\":\"x\",\"y\":[22.09,22.9,24.79,24.76,25.89,27.03,28.79,26.72,25.26,24.82,25.15,24.98,26.53],\"yaxis\":\"y\"},{\"hovertemplate\":\"variable=Huawei<br>Date=%{x}<br>value=%{y}<extra></extra>\",\"legendgroup\":\"Huawei\",\"line\":{\"color\":\"#00cc96\"},\"marker\":{\"symbol\":\"circle\"},\"mode\":\"lines\",\"name\":\"Huawei\",\"orientation\":\"v\",\"showlegend\":true,\"stackgroup\":\"1\",\"type\":\"scatter\",\"x\":[\"2019-10\",\"2019-11\",\"2019-12\",\"2020-01\",\"2020-02\",\"2020-03\",\"2020-04\",\"2020-05\",\"2020-06\",\"2020-07\",\"2020-08\",\"2020-09\",\"2020-10\"],\"xaxis\":\"x\",\"y\":[10.02,10.18,9.95,10.61,10.98,10.7,10.28,10.39,10.69,10.75,10.73,10.58,10.44],\"yaxis\":\"y\"},{\"hovertemplate\":\"variable=Xiaomi<br>Date=%{x}<br>value=%{y}<extra></extra>\",\"legendgroup\":\"Xiaomi\",\"line\":{\"color\":\"#ab63fa\"},\"marker\":{\"symbol\":\"circle\"},\"mode\":\"lines\",\"name\":\"Xiaomi\",\"orientation\":\"v\",\"showlegend\":true,\"stackgroup\":\"1\",\"type\":\"scatter\",\"x\":[\"2019-10\",\"2019-11\",\"2019-12\",\"2020-01\",\"2020-02\",\"2020-03\",\"2020-04\",\"2020-05\",\"2020-06\",\"2020-07\",\"2020-08\",\"2020-09\",\"2020-10\"],\"xaxis\":\"x\",\"y\":[7.79,8.16,7.73,8.1,7.8,7.7,7.6,8.36,8.55,8.94,8.9,9.49,9.67],\"yaxis\":\"y\"},{\"hovertemplate\":\"variable=Oppo<br>Date=%{x}<br>value=%{y}<extra></extra>\",\"legendgroup\":\"Oppo\",\"line\":{\"color\":\"#FFA15A\"},\"marker\":{\"symbol\":\"circle\"},\"mode\":\"lines\",\"name\":\"Oppo\",\"orientation\":\"v\",\"showlegend\":true,\"stackgroup\":\"1\",\"type\":\"scatter\",\"x\":[\"2019-10\",\"2019-11\",\"2019-12\",\"2020-01\",\"2020-02\",\"2020-03\",\"2020-04\",\"2020-05\",\"2020-06\",\"2020-07\",\"2020-08\",\"2020-09\",\"2020-10\"],\"xaxis\":\"x\",\"y\":[4.1,4.42,4.23,4.25,4.31,4.3,4.2,4.7,4.65,4.69,4.69,4.94,4.83],\"yaxis\":\"y\"},{\"hovertemplate\":\"variable=Mobicel<br>Date=%{x}<br>value=%{y}<extra></extra>\",\"legendgroup\":\"Mobicel\",\"line\":{\"color\":\"#19d3f3\"},\"marker\":{\"symbol\":\"circle\"},\"mode\":\"lines\",\"name\":\"Mobicel\",\"orientation\":\"v\",\"showlegend\":true,\"stackgroup\":\"1\",\"type\":\"scatter\",\"x\":[\"2019-10\",\"2019-11\",\"2019-12\",\"2020-01\",\"2020-02\",\"2020-03\",\"2020-04\",\"2020-05\",\"2020-06\",\"2020-07\",\"2020-08\",\"2020-09\",\"2020-10\"],\"xaxis\":\"x\",\"y\":[3.15,3.41,3.19,3.02,2.89,2.87,2.75,3.12,3.18,3.46,3.38,3.5,2.54],\"yaxis\":\"y\"},{\"hovertemplate\":\"variable=Motorola<br>Date=%{x}<br>value=%{y}<extra></extra>\",\"legendgroup\":\"Motorola\",\"line\":{\"color\":\"#FF6692\"},\"marker\":{\"symbol\":\"circle\"},\"mode\":\"lines\",\"name\":\"Motorola\",\"orientation\":\"v\",\"showlegend\":true,\"stackgroup\":\"1\",\"type\":\"scatter\",\"x\":[\"2019-10\",\"2019-11\",\"2019-12\",\"2020-01\",\"2020-02\",\"2020-03\",\"2020-04\",\"2020-05\",\"2020-06\",\"2020-07\",\"2020-08\",\"2020-09\",\"2020-10\"],\"xaxis\":\"x\",\"y\":[2.41,2.4,2.5,2.42,2.36,2.35,2.51,2.46,2.57,2.45,2.39,2.27,2.21],\"yaxis\":\"y\"},{\"hovertemplate\":\"variable=LG<br>Date=%{x}<br>value=%{y}<extra></extra>\",\"legendgroup\":\"LG\",\"line\":{\"color\":\"#B6E880\"},\"marker\":{\"symbol\":\"circle\"},\"mode\":\"lines\",\"name\":\"LG\",\"orientation\":\"v\",\"showlegend\":true,\"stackgroup\":\"1\",\"type\":\"scatter\",\"x\":[\"2019-10\",\"2019-11\",\"2019-12\",\"2020-01\",\"2020-02\",\"2020-03\",\"2020-04\",\"2020-05\",\"2020-06\",\"2020-07\",\"2020-08\",\"2020-09\",\"2020-10\"],\"xaxis\":\"x\",\"y\":[2.4,2.4,2.54,2.4,2.34,2.28,2.28,2.19,2.11,2.03,1.96,1.88,1.79],\"yaxis\":\"y\"},{\"hovertemplate\":\"variable=Others<br>Date=%{x}<br>value=%{y}<extra></extra>\",\"legendgroup\":\"Others\",\"line\":{\"color\":\"#FF97FF\"},\"marker\":{\"symbol\":\"circle\"},\"mode\":\"lines\",\"name\":\"Others\",\"orientation\":\"v\",\"showlegend\":true,\"stackgroup\":\"1\",\"type\":\"scatter\",\"x\":[\"2019-10\",\"2019-11\",\"2019-12\",\"2020-01\",\"2020-02\",\"2020-03\",\"2020-04\",\"2020-05\",\"2020-06\",\"2020-07\",\"2020-08\",\"2020-09\",\"2020-10\"],\"xaxis\":\"x\",\"y\":[9.51,9.1,8.13,7.55,7.06,6.63,5.84,6.31,6.39,6.41,6.31,6.12,6.04],\"yaxis\":\"y\"},{\"hovertemplate\":\"variable=Realme<br>Date=%{x}<br>value=%{y}<extra></extra>\",\"legendgroup\":\"Realme\",\"line\":{\"color\":\"#FECB52\"},\"marker\":{\"symbol\":\"circle\"},\"mode\":\"lines\",\"name\":\"Realme\",\"orientation\":\"v\",\"showlegend\":true,\"stackgroup\":\"1\",\"type\":\"scatter\",\"x\":[\"2019-10\",\"2019-11\",\"2019-12\",\"2020-01\",\"2020-02\",\"2020-03\",\"2020-04\",\"2020-05\",\"2020-06\",\"2020-07\",\"2020-08\",\"2020-09\",\"2020-10\"],\"xaxis\":\"x\",\"y\":[0.54,0.78,0.84,0.88,0.89,0.93,0.9,1.04,1.04,1.13,1.18,1.45,1.55],\"yaxis\":\"y\"},{\"hovertemplate\":\"variable=Google<br>Date=%{x}<br>value=%{y}<extra></extra>\",\"legendgroup\":\"Google\",\"line\":{\"color\":\"#636efa\"},\"marker\":{\"symbol\":\"circle\"},\"mode\":\"lines\",\"name\":\"Google\",\"orientation\":\"v\",\"showlegend\":true,\"stackgroup\":\"1\",\"type\":\"scatter\",\"x\":[\"2019-10\",\"2019-11\",\"2019-12\",\"2020-01\",\"2020-02\",\"2020-03\",\"2020-04\",\"2020-05\",\"2020-06\",\"2020-07\",\"2020-08\",\"2020-09\",\"2020-10\"],\"xaxis\":\"x\",\"y\":[2.35,0.66,0.75,0.69,0.7,0.73,0.75,0.7,0.68,0.65,0.63,0.63,0.63],\"yaxis\":\"y\"},{\"hovertemplate\":\"variable=Nokia<br>Date=%{x}<br>value=%{y}<extra></extra>\",\"legendgroup\":\"Nokia\",\"line\":{\"color\":\"#EF553B\"},\"marker\":{\"symbol\":\"circle\"},\"mode\":\"lines\",\"name\":\"Nokia\",\"orientation\":\"v\",\"showlegend\":true,\"stackgroup\":\"1\",\"type\":\"scatter\",\"x\":[\"2019-10\",\"2019-11\",\"2019-12\",\"2020-01\",\"2020-02\",\"2020-03\",\"2020-04\",\"2020-05\",\"2020-06\",\"2020-07\",\"2020-08\",\"2020-09\",\"2020-10\"],\"xaxis\":\"x\",\"y\":[0.95,0.97,0.9,0.88,0.81,0.72,0.69,0.73,0.74,0.76,0.74,0.74,0.69],\"yaxis\":\"y\"},{\"hovertemplate\":\"variable=Lenovo<br>Date=%{x}<br>value=%{y}<extra></extra>\",\"legendgroup\":\"Lenovo\",\"line\":{\"color\":\"#00cc96\"},\"marker\":{\"symbol\":\"circle\"},\"mode\":\"lines\",\"name\":\"Lenovo\",\"orientation\":\"v\",\"showlegend\":true,\"stackgroup\":\"1\",\"type\":\"scatter\",\"x\":[\"2019-10\",\"2019-11\",\"2019-12\",\"2020-01\",\"2020-02\",\"2020-03\",\"2020-04\",\"2020-05\",\"2020-06\",\"2020-07\",\"2020-08\",\"2020-09\",\"2020-10\"],\"xaxis\":\"x\",\"y\":[0.96,0.97,0.87,0.86,0.77,0.74,0.71,0.77,0.75,0.74,0.72,0.67,0.65],\"yaxis\":\"y\"},{\"hovertemplate\":\"variable=OnePlus<br>Date=%{x}<br>value=%{y}<extra></extra>\",\"legendgroup\":\"OnePlus\",\"line\":{\"color\":\"#ab63fa\"},\"marker\":{\"symbol\":\"circle\"},\"mode\":\"lines\",\"name\":\"OnePlus\",\"orientation\":\"v\",\"showlegend\":true,\"stackgroup\":\"1\",\"type\":\"scatter\",\"x\":[\"2019-10\",\"2019-11\",\"2019-12\",\"2020-01\",\"2020-02\",\"2020-03\",\"2020-04\",\"2020-05\",\"2020-06\",\"2020-07\",\"2020-08\",\"2020-09\",\"2020-10\"],\"xaxis\":\"x\",\"y\":[0.7,0.73,0.74,0.79,0.78,0.78,0.8,0.81,0.77,0.76,0.75,0.81,0.85],\"yaxis\":\"y\"},{\"hovertemplate\":\"variable=Sony<br>Date=%{x}<br>value=%{y}<extra></extra>\",\"legendgroup\":\"Sony\",\"line\":{\"color\":\"#FFA15A\"},\"marker\":{\"symbol\":\"circle\"},\"mode\":\"lines\",\"name\":\"Sony\",\"orientation\":\"v\",\"showlegend\":true,\"stackgroup\":\"1\",\"type\":\"scatter\",\"x\":[\"2019-10\",\"2019-11\",\"2019-12\",\"2020-01\",\"2020-02\",\"2020-03\",\"2020-04\",\"2020-05\",\"2020-06\",\"2020-07\",\"2020-08\",\"2020-09\",\"2020-10\"],\"xaxis\":\"x\",\"y\":[0.84,0.83,0.77,0.8,0.8,0.76,0.76,0.78,0.78,0.75,0.73,0.69,0.67],\"yaxis\":\"y\"},{\"hovertemplate\":\"variable=Asus<br>Date=%{x}<br>value=%{y}<extra></extra>\",\"legendgroup\":\"Asus\",\"line\":{\"color\":\"#19d3f3\"},\"marker\":{\"symbol\":\"circle\"},\"mode\":\"lines\",\"name\":\"Asus\",\"orientation\":\"v\",\"showlegend\":true,\"stackgroup\":\"1\",\"type\":\"scatter\",\"x\":[\"2019-10\",\"2019-11\",\"2019-12\",\"2020-01\",\"2020-02\",\"2020-03\",\"2020-04\",\"2020-05\",\"2020-06\",\"2020-07\",\"2020-08\",\"2020-09\",\"2020-10\"],\"xaxis\":\"x\",\"y\":[0.74,0.75,0.7,0.69,0.69,0.66,0.7,0.76,0.75,0.72,0.7,0.67,0.64],\"yaxis\":\"y\"}],                        {\"legend\":{\"title\":{\"text\":\"variable\"},\"tracegroupgap\":0},\"margin\":{\"t\":60},\"template\":{\"data\":{\"bar\":[{\"error_x\":{\"color\":\"#2a3f5f\"},\"error_y\":{\"color\":\"#2a3f5f\"},\"marker\":{\"line\":{\"color\":\"#E5ECF6\",\"width\":0.5},\"pattern\":{\"fillmode\":\"overlay\",\"size\":10,\"solidity\":0.2}},\"type\":\"bar\"}],\"barpolar\":[{\"marker\":{\"line\":{\"color\":\"#E5ECF6\",\"width\":0.5},\"pattern\":{\"fillmode\":\"overlay\",\"size\":10,\"solidity\":0.2}},\"type\":\"barpolar\"}],\"carpet\":[{\"aaxis\":{\"endlinecolor\":\"#2a3f5f\",\"gridcolor\":\"white\",\"linecolor\":\"white\",\"minorgridcolor\":\"white\",\"startlinecolor\":\"#2a3f5f\"},\"baxis\":{\"endlinecolor\":\"#2a3f5f\",\"gridcolor\":\"white\",\"linecolor\":\"white\",\"minorgridcolor\":\"white\",\"startlinecolor\":\"#2a3f5f\"},\"type\":\"carpet\"}],\"choropleth\":[{\"colorbar\":{\"outlinewidth\":0,\"ticks\":\"\"},\"type\":\"choropleth\"}],\"contour\":[{\"colorbar\":{\"outlinewidth\":0,\"ticks\":\"\"},\"colorscale\":[[0.0,\"#0d0887\"],[0.1111111111111111,\"#46039f\"],[0.2222222222222222,\"#7201a8\"],[0.3333333333333333,\"#9c179e\"],[0.4444444444444444,\"#bd3786\"],[0.5555555555555556,\"#d8576b\"],[0.6666666666666666,\"#ed7953\"],[0.7777777777777778,\"#fb9f3a\"],[0.8888888888888888,\"#fdca26\"],[1.0,\"#f0f921\"]],\"type\":\"contour\"}],\"contourcarpet\":[{\"colorbar\":{\"outlinewidth\":0,\"ticks\":\"\"},\"type\":\"contourcarpet\"}],\"heatmap\":[{\"colorbar\":{\"outlinewidth\":0,\"ticks\":\"\"},\"colorscale\":[[0.0,\"#0d0887\"],[0.1111111111111111,\"#46039f\"],[0.2222222222222222,\"#7201a8\"],[0.3333333333333333,\"#9c179e\"],[0.4444444444444444,\"#bd3786\"],[0.5555555555555556,\"#d8576b\"],[0.6666666666666666,\"#ed7953\"],[0.7777777777777778,\"#fb9f3a\"],[0.8888888888888888,\"#fdca26\"],[1.0,\"#f0f921\"]],\"type\":\"heatmap\"}],\"heatmapgl\":[{\"colorbar\":{\"outlinewidth\":0,\"ticks\":\"\"},\"colorscale\":[[0.0,\"#0d0887\"],[0.1111111111111111,\"#46039f\"],[0.2222222222222222,\"#7201a8\"],[0.3333333333333333,\"#9c179e\"],[0.4444444444444444,\"#bd3786\"],[0.5555555555555556,\"#d8576b\"],[0.6666666666666666,\"#ed7953\"],[0.7777777777777778,\"#fb9f3a\"],[0.8888888888888888,\"#fdca26\"],[1.0,\"#f0f921\"]],\"type\":\"heatmapgl\"}],\"histogram\":[{\"marker\":{\"pattern\":{\"fillmode\":\"overlay\",\"size\":10,\"solidity\":0.2}},\"type\":\"histogram\"}],\"histogram2d\":[{\"colorbar\":{\"outlinewidth\":0,\"ticks\":\"\"},\"colorscale\":[[0.0,\"#0d0887\"],[0.1111111111111111,\"#46039f\"],[0.2222222222222222,\"#7201a8\"],[0.3333333333333333,\"#9c179e\"],[0.4444444444444444,\"#bd3786\"],[0.5555555555555556,\"#d8576b\"],[0.6666666666666666,\"#ed7953\"],[0.7777777777777778,\"#fb9f3a\"],[0.8888888888888888,\"#fdca26\"],[1.0,\"#f0f921\"]],\"type\":\"histogram2d\"}],\"histogram2dcontour\":[{\"colorbar\":{\"outlinewidth\":0,\"ticks\":\"\"},\"colorscale\":[[0.0,\"#0d0887\"],[0.1111111111111111,\"#46039f\"],[0.2222222222222222,\"#7201a8\"],[0.3333333333333333,\"#9c179e\"],[0.4444444444444444,\"#bd3786\"],[0.5555555555555556,\"#d8576b\"],[0.6666666666666666,\"#ed7953\"],[0.7777777777777778,\"#fb9f3a\"],[0.8888888888888888,\"#fdca26\"],[1.0,\"#f0f921\"]],\"type\":\"histogram2dcontour\"}],\"mesh3d\":[{\"colorbar\":{\"outlinewidth\":0,\"ticks\":\"\"},\"type\":\"mesh3d\"}],\"parcoords\":[{\"line\":{\"colorbar\":{\"outlinewidth\":0,\"ticks\":\"\"}},\"type\":\"parcoords\"}],\"pie\":[{\"automargin\":true,\"type\":\"pie\"}],\"scatter\":[{\"marker\":{\"colorbar\":{\"outlinewidth\":0,\"ticks\":\"\"}},\"type\":\"scatter\"}],\"scatter3d\":[{\"line\":{\"colorbar\":{\"outlinewidth\":0,\"ticks\":\"\"}},\"marker\":{\"colorbar\":{\"outlinewidth\":0,\"ticks\":\"\"}},\"type\":\"scatter3d\"}],\"scattercarpet\":[{\"marker\":{\"colorbar\":{\"outlinewidth\":0,\"ticks\":\"\"}},\"type\":\"scattercarpet\"}],\"scattergeo\":[{\"marker\":{\"colorbar\":{\"outlinewidth\":0,\"ticks\":\"\"}},\"type\":\"scattergeo\"}],\"scattergl\":[{\"marker\":{\"colorbar\":{\"outlinewidth\":0,\"ticks\":\"\"}},\"type\":\"scattergl\"}],\"scattermapbox\":[{\"marker\":{\"colorbar\":{\"outlinewidth\":0,\"ticks\":\"\"}},\"type\":\"scattermapbox\"}],\"scatterpolar\":[{\"marker\":{\"colorbar\":{\"outlinewidth\":0,\"ticks\":\"\"}},\"type\":\"scatterpolar\"}],\"scatterpolargl\":[{\"marker\":{\"colorbar\":{\"outlinewidth\":0,\"ticks\":\"\"}},\"type\":\"scatterpolargl\"}],\"scatterternary\":[{\"marker\":{\"colorbar\":{\"outlinewidth\":0,\"ticks\":\"\"}},\"type\":\"scatterternary\"}],\"surface\":[{\"colorbar\":{\"outlinewidth\":0,\"ticks\":\"\"},\"colorscale\":[[0.0,\"#0d0887\"],[0.1111111111111111,\"#46039f\"],[0.2222222222222222,\"#7201a8\"],[0.3333333333333333,\"#9c179e\"],[0.4444444444444444,\"#bd3786\"],[0.5555555555555556,\"#d8576b\"],[0.6666666666666666,\"#ed7953\"],[0.7777777777777778,\"#fb9f3a\"],[0.8888888888888888,\"#fdca26\"],[1.0,\"#f0f921\"]],\"type\":\"surface\"}],\"table\":[{\"cells\":{\"fill\":{\"color\":\"#EBF0F8\"},\"line\":{\"color\":\"white\"}},\"header\":{\"fill\":{\"color\":\"#C8D4E3\"},\"line\":{\"color\":\"white\"}},\"type\":\"table\"}]},\"layout\":{\"annotationdefaults\":{\"arrowcolor\":\"#2a3f5f\",\"arrowhead\":0,\"arrowwidth\":1},\"autotypenumbers\":\"strict\",\"coloraxis\":{\"colorbar\":{\"outlinewidth\":0,\"ticks\":\"\"}},\"colorscale\":{\"diverging\":[[0,\"#8e0152\"],[0.1,\"#c51b7d\"],[0.2,\"#de77ae\"],[0.3,\"#f1b6da\"],[0.4,\"#fde0ef\"],[0.5,\"#f7f7f7\"],[0.6,\"#e6f5d0\"],[0.7,\"#b8e186\"],[0.8,\"#7fbc41\"],[0.9,\"#4d9221\"],[1,\"#276419\"]],\"sequential\":[[0.0,\"#0d0887\"],[0.1111111111111111,\"#46039f\"],[0.2222222222222222,\"#7201a8\"],[0.3333333333333333,\"#9c179e\"],[0.4444444444444444,\"#bd3786\"],[0.5555555555555556,\"#d8576b\"],[0.6666666666666666,\"#ed7953\"],[0.7777777777777778,\"#fb9f3a\"],[0.8888888888888888,\"#fdca26\"],[1.0,\"#f0f921\"]],\"sequentialminus\":[[0.0,\"#0d0887\"],[0.1111111111111111,\"#46039f\"],[0.2222222222222222,\"#7201a8\"],[0.3333333333333333,\"#9c179e\"],[0.4444444444444444,\"#bd3786\"],[0.5555555555555556,\"#d8576b\"],[0.6666666666666666,\"#ed7953\"],[0.7777777777777778,\"#fb9f3a\"],[0.8888888888888888,\"#fdca26\"],[1.0,\"#f0f921\"]]},\"colorway\":[\"#636efa\",\"#EF553B\",\"#00cc96\",\"#ab63fa\",\"#FFA15A\",\"#19d3f3\",\"#FF6692\",\"#B6E880\",\"#FF97FF\",\"#FECB52\"],\"font\":{\"color\":\"#2a3f5f\"},\"geo\":{\"bgcolor\":\"white\",\"lakecolor\":\"white\",\"landcolor\":\"#E5ECF6\",\"showlakes\":true,\"showland\":true,\"subunitcolor\":\"white\"},\"hoverlabel\":{\"align\":\"left\"},\"hovermode\":\"closest\",\"mapbox\":{\"style\":\"light\"},\"paper_bgcolor\":\"white\",\"plot_bgcolor\":\"#E5ECF6\",\"polar\":{\"angularaxis\":{\"gridcolor\":\"white\",\"linecolor\":\"white\",\"ticks\":\"\"},\"bgcolor\":\"#E5ECF6\",\"radialaxis\":{\"gridcolor\":\"white\",\"linecolor\":\"white\",\"ticks\":\"\"}},\"scene\":{\"xaxis\":{\"backgroundcolor\":\"#E5ECF6\",\"gridcolor\":\"white\",\"gridwidth\":2,\"linecolor\":\"white\",\"showbackground\":true,\"ticks\":\"\",\"zerolinecolor\":\"white\"},\"yaxis\":{\"backgroundcolor\":\"#E5ECF6\",\"gridcolor\":\"white\",\"gridwidth\":2,\"linecolor\":\"white\",\"showbackground\":true,\"ticks\":\"\",\"zerolinecolor\":\"white\"},\"zaxis\":{\"backgroundcolor\":\"#E5ECF6\",\"gridcolor\":\"white\",\"gridwidth\":2,\"linecolor\":\"white\",\"showbackground\":true,\"ticks\":\"\",\"zerolinecolor\":\"white\"}},\"shapedefaults\":{\"line\":{\"color\":\"#2a3f5f\"}},\"ternary\":{\"aaxis\":{\"gridcolor\":\"white\",\"linecolor\":\"white\",\"ticks\":\"\"},\"baxis\":{\"gridcolor\":\"white\",\"linecolor\":\"white\",\"ticks\":\"\"},\"bgcolor\":\"#E5ECF6\",\"caxis\":{\"gridcolor\":\"white\",\"linecolor\":\"white\",\"ticks\":\"\"}},\"title\":{\"x\":0.05},\"xaxis\":{\"automargin\":true,\"gridcolor\":\"white\",\"linecolor\":\"white\",\"ticks\":\"\",\"title\":{\"standoff\":15},\"zerolinecolor\":\"white\",\"zerolinewidth\":2},\"yaxis\":{\"automargin\":true,\"gridcolor\":\"white\",\"linecolor\":\"white\",\"ticks\":\"\",\"title\":{\"standoff\":15},\"zerolinecolor\":\"white\",\"zerolinewidth\":2}}},\"xaxis\":{\"anchor\":\"y\",\"domain\":[0.0,1.0],\"title\":{\"text\":\"Date\"}},\"yaxis\":{\"anchor\":\"x\",\"domain\":[0.0,1.0],\"title\":{\"text\":\"value\"}}},                        {\"responsive\": true}                    ).then(function(){\n",
       "                            \n",
       "var gd = document.getElementById('86232e78-5783-4d35-9aee-f935611dac66');\n",
       "var x = new MutationObserver(function (mutations, observer) {{\n",
       "        var display = window.getComputedStyle(gd).display;\n",
       "        if (!display || display === 'none') {{\n",
       "            console.log([gd, 'removed!']);\n",
       "            Plotly.purge(gd);\n",
       "            observer.disconnect();\n",
       "        }}\n",
       "}});\n",
       "\n",
       "// Listen for the removal of the full notebook cells\n",
       "var notebookContainer = gd.closest('#notebook-container');\n",
       "if (notebookContainer) {{\n",
       "    x.observe(notebookContainer, {childList: true});\n",
       "}}\n",
       "\n",
       "// Listen for the clearing of the current output cell\n",
       "var outputEl = gd.closest('.output');\n",
       "if (outputEl) {{\n",
       "    x.observe(outputEl, {childList: true});\n",
       "}}\n",
       "\n",
       "                        })                };                });            </script>        </div>"
      ]
     },
     "metadata": {},
     "output_type": "display_data"
    }
   ],
   "source": [
    "df.melt(id_vars='Date').plot.area(backend='plotly',x='Date',y='value',color='variable')"
   ]
  },
  {
   "cell_type": "markdown",
   "id": "a41d5741-bdc8-4696-8581-b9572979ad21",
   "metadata": {},
   "source": [
    "#### 예제3 (matplotlib)"
   ]
  },
  {
   "cell_type": "markdown",
   "id": "abeb8d30-c313-4d7c-82b0-089ab341c619",
   "metadata": {},
   "source": [
    "`-` 위키의 테이블 크롤링."
   ]
  },
  {
   "cell_type": "code",
   "execution_count": 50,
   "id": "627f52cd-effb-4d86-a617-02179a3b5b30",
   "metadata": {},
   "outputs": [],
   "source": [
    "df=pd.read_html('https://ko.wikipedia.org/wiki/%EB%8C%80%ED%95%9C%EB%AF%BC%EA%B5%AD%EC%9D%98_%EC%9D%B8%EA%B5%AC')\n",
    "# 주소 긁을 때 크롬으로 해야 한글이 안나옴"
   ]
  },
  {
   "cell_type": "code",
   "execution_count": 51,
   "id": "8c3a3ab5-e014-46cb-a7a7-5deaa2c7b8e8",
   "metadata": {},
   "outputs": [
    {
     "data": {
      "text/html": [
       "<div>\n",
       "<style scoped>\n",
       "    .dataframe tbody tr th:only-of-type {\n",
       "        vertical-align: middle;\n",
       "    }\n",
       "\n",
       "    .dataframe tbody tr th {\n",
       "        vertical-align: top;\n",
       "    }\n",
       "\n",
       "    .dataframe thead tr th {\n",
       "        text-align: left;\n",
       "    }\n",
       "</style>\n",
       "<table border=\"1\" class=\"dataframe\">\n",
       "  <thead>\n",
       "    <tr>\n",
       "      <th></th>\n",
       "      <th>행정구역별</th>\n",
       "      <th colspan=\"2\" halign=\"left\">2021. 06</th>\n",
       "      <th colspan=\"2\" halign=\"left\">2015</th>\n",
       "      <th colspan=\"2\" halign=\"left\">2010</th>\n",
       "      <th colspan=\"2\" halign=\"left\">2005</th>\n",
       "      <th colspan=\"2\" halign=\"left\">2000</th>\n",
       "    </tr>\n",
       "    <tr>\n",
       "      <th></th>\n",
       "      <th>행정구역별</th>\n",
       "      <th>비율</th>\n",
       "      <th>인구</th>\n",
       "      <th>비율</th>\n",
       "      <th>인구</th>\n",
       "      <th>비율</th>\n",
       "      <th>인구</th>\n",
       "      <th>비율</th>\n",
       "      <th>인구</th>\n",
       "      <th>비율</th>\n",
       "      <th>인구</th>\n",
       "    </tr>\n",
       "  </thead>\n",
       "  <tbody>\n",
       "    <tr>\n",
       "      <th>0</th>\n",
       "      <td>전국</td>\n",
       "      <td>16.7</td>\n",
       "      <td>8652198</td>\n",
       "      <td>13.1</td>\n",
       "      <td>6775101</td>\n",
       "      <td>10.9</td>\n",
       "      <td>5506352</td>\n",
       "      <td>8.9</td>\n",
       "      <td>4324524</td>\n",
       "      <td>7.0</td>\n",
       "      <td>3355614</td>\n",
       "    </tr>\n",
       "    <tr>\n",
       "      <th>1</th>\n",
       "      <td>서울특별시</td>\n",
       "      <td>16.4</td>\n",
       "      <td>1568769</td>\n",
       "      <td>12.6</td>\n",
       "      <td>1262436</td>\n",
       "      <td>9.7</td>\n",
       "      <td>1002770</td>\n",
       "      <td>7.2</td>\n",
       "      <td>731349</td>\n",
       "      <td>5.4</td>\n",
       "      <td>558566</td>\n",
       "    </tr>\n",
       "    <tr>\n",
       "      <th>2</th>\n",
       "      <td>부산광역시</td>\n",
       "      <td>19.8</td>\n",
       "      <td>666644</td>\n",
       "      <td>14.6</td>\n",
       "      <td>514630</td>\n",
       "      <td>11.3</td>\n",
       "      <td>401784</td>\n",
       "      <td>8.3</td>\n",
       "      <td>302784</td>\n",
       "      <td>6.0</td>\n",
       "      <td>229075</td>\n",
       "    </tr>\n",
       "    <tr>\n",
       "      <th>3</th>\n",
       "      <td>대구광역시</td>\n",
       "      <td>17.0</td>\n",
       "      <td>408235</td>\n",
       "      <td>12.7</td>\n",
       "      <td>316122</td>\n",
       "      <td>10.0</td>\n",
       "      <td>252084</td>\n",
       "      <td>7.8</td>\n",
       "      <td>195419</td>\n",
       "      <td>5.9</td>\n",
       "      <td>149045</td>\n",
       "    </tr>\n",
       "    <tr>\n",
       "      <th>4</th>\n",
       "      <td>인천광역시</td>\n",
       "      <td>14.4</td>\n",
       "      <td>422658</td>\n",
       "      <td>10.7</td>\n",
       "      <td>312905</td>\n",
       "      <td>8.6</td>\n",
       "      <td>237805</td>\n",
       "      <td>6.9</td>\n",
       "      <td>178602</td>\n",
       "      <td>5.4</td>\n",
       "      <td>138316</td>\n",
       "    </tr>\n",
       "    <tr>\n",
       "      <th>5</th>\n",
       "      <td>광주광역시</td>\n",
       "      <td>14.5</td>\n",
       "      <td>208879</td>\n",
       "      <td>11.3</td>\n",
       "      <td>166389</td>\n",
       "      <td>9.0</td>\n",
       "      <td>130457</td>\n",
       "      <td>7.1</td>\n",
       "      <td>99389</td>\n",
       "      <td>5.6</td>\n",
       "      <td>77325</td>\n",
       "    </tr>\n",
       "    <tr>\n",
       "      <th>6</th>\n",
       "      <td>대전광역시</td>\n",
       "      <td>14.8</td>\n",
       "      <td>215997</td>\n",
       "      <td>10.9</td>\n",
       "      <td>165528</td>\n",
       "      <td>8.7</td>\n",
       "      <td>130245</td>\n",
       "      <td>6.9</td>\n",
       "      <td>99811</td>\n",
       "      <td>5.5</td>\n",
       "      <td>75769</td>\n",
       "    </tr>\n",
       "    <tr>\n",
       "      <th>7</th>\n",
       "      <td>울산광역시</td>\n",
       "      <td>13.1</td>\n",
       "      <td>147811</td>\n",
       "      <td>8.8</td>\n",
       "      <td>103205</td>\n",
       "      <td>6.8</td>\n",
       "      <td>76800</td>\n",
       "      <td>5.3</td>\n",
       "      <td>57797</td>\n",
       "      <td>4.0</td>\n",
       "      <td>42119</td>\n",
       "    </tr>\n",
       "    <tr>\n",
       "      <th>8</th>\n",
       "      <td>세종특별자치시</td>\n",
       "      <td>10.0</td>\n",
       "      <td>36194</td>\n",
       "      <td>10.6</td>\n",
       "      <td>22399</td>\n",
       "      <td>-</td>\n",
       "      <td>-</td>\n",
       "      <td>-</td>\n",
       "      <td>-</td>\n",
       "      <td>-</td>\n",
       "      <td>-</td>\n",
       "    </tr>\n",
       "    <tr>\n",
       "      <th>9</th>\n",
       "      <td>경기도</td>\n",
       "      <td>13.5</td>\n",
       "      <td>1825846</td>\n",
       "      <td>10.5</td>\n",
       "      <td>1318882</td>\n",
       "      <td>8.7</td>\n",
       "      <td>1022456</td>\n",
       "      <td>7.1</td>\n",
       "      <td>755511</td>\n",
       "      <td>5.7</td>\n",
       "      <td>524807</td>\n",
       "    </tr>\n",
       "    <tr>\n",
       "      <th>10</th>\n",
       "      <td>강원도</td>\n",
       "      <td>21.2</td>\n",
       "      <td>325579</td>\n",
       "      <td>16.9</td>\n",
       "      <td>261671</td>\n",
       "      <td>14.8</td>\n",
       "      <td>226505</td>\n",
       "      <td>12.1</td>\n",
       "      <td>183471</td>\n",
       "      <td>9.3</td>\n",
       "      <td>143945</td>\n",
       "    </tr>\n",
       "    <tr>\n",
       "      <th>11</th>\n",
       "      <td>충청북도</td>\n",
       "      <td>18.4</td>\n",
       "      <td>294530</td>\n",
       "      <td>14.8</td>\n",
       "      <td>234813</td>\n",
       "      <td>13.2</td>\n",
       "      <td>204470</td>\n",
       "      <td>11.3</td>\n",
       "      <td>168670</td>\n",
       "      <td>9.1</td>\n",
       "      <td>136160</td>\n",
       "    </tr>\n",
       "    <tr>\n",
       "      <th>12</th>\n",
       "      <td>충청남도</td>\n",
       "      <td>19.5</td>\n",
       "      <td>412504</td>\n",
       "      <td>16.4</td>\n",
       "      <td>341214</td>\n",
       "      <td>14.9</td>\n",
       "      <td>308556</td>\n",
       "      <td>13.3</td>\n",
       "      <td>261800</td>\n",
       "      <td>11.2</td>\n",
       "      <td>215059</td>\n",
       "    </tr>\n",
       "    <tr>\n",
       "      <th>13</th>\n",
       "      <td>전라북도</td>\n",
       "      <td>21.8</td>\n",
       "      <td>391178</td>\n",
       "      <td>17.8</td>\n",
       "      <td>333524</td>\n",
       "      <td>15.2</td>\n",
       "      <td>284373</td>\n",
       "      <td>12.9</td>\n",
       "      <td>243721</td>\n",
       "      <td>10.3</td>\n",
       "      <td>205807</td>\n",
       "    </tr>\n",
       "    <tr>\n",
       "      <th>14</th>\n",
       "      <td>전라남도</td>\n",
       "      <td>23.9</td>\n",
       "      <td>440014</td>\n",
       "      <td>20.5</td>\n",
       "      <td>391837</td>\n",
       "      <td>18.3</td>\n",
       "      <td>350900</td>\n",
       "      <td>15.6</td>\n",
       "      <td>306439</td>\n",
       "      <td>11.9</td>\n",
       "      <td>254370</td>\n",
       "    </tr>\n",
       "    <tr>\n",
       "      <th>15</th>\n",
       "      <td>경상북도</td>\n",
       "      <td>22.2</td>\n",
       "      <td>585088</td>\n",
       "      <td>17.7</td>\n",
       "      <td>479634</td>\n",
       "      <td>15.6</td>\n",
       "      <td>418858</td>\n",
       "      <td>13.4</td>\n",
       "      <td>360068</td>\n",
       "      <td>10.7</td>\n",
       "      <td>300614</td>\n",
       "    </tr>\n",
       "    <tr>\n",
       "      <th>16</th>\n",
       "      <td>경상남도</td>\n",
       "      <td>17.9</td>\n",
       "      <td>594154</td>\n",
       "      <td>13.8</td>\n",
       "      <td>464019</td>\n",
       "      <td>11.8</td>\n",
       "      <td>388648</td>\n",
       "      <td>10.2</td>\n",
       "      <td>323898</td>\n",
       "      <td>8.4</td>\n",
       "      <td>261303</td>\n",
       "    </tr>\n",
       "    <tr>\n",
       "      <th>17</th>\n",
       "      <td>제주특별자치도</td>\n",
       "      <td>16.0</td>\n",
       "      <td>108118</td>\n",
       "      <td>13.8</td>\n",
       "      <td>85893</td>\n",
       "      <td>12.2</td>\n",
       "      <td>69641</td>\n",
       "      <td>10.0</td>\n",
       "      <td>55795</td>\n",
       "      <td>8.0</td>\n",
       "      <td>43334</td>\n",
       "    </tr>\n",
       "  </tbody>\n",
       "</table>\n",
       "</div>"
      ],
      "text/plain": [
       "      행정구역별 2021. 06           2015           2010           2005           \\\n",
       "      행정구역별       비율       인구    비율       인구    비율       인구    비율       인구   \n",
       "0        전국     16.7  8652198  13.1  6775101  10.9  5506352   8.9  4324524   \n",
       "1     서울특별시     16.4  1568769  12.6  1262436   9.7  1002770   7.2   731349   \n",
       "2     부산광역시     19.8   666644  14.6   514630  11.3   401784   8.3   302784   \n",
       "3     대구광역시     17.0   408235  12.7   316122  10.0   252084   7.8   195419   \n",
       "4     인천광역시     14.4   422658  10.7   312905   8.6   237805   6.9   178602   \n",
       "5     광주광역시     14.5   208879  11.3   166389   9.0   130457   7.1    99389   \n",
       "6     대전광역시     14.8   215997  10.9   165528   8.7   130245   6.9    99811   \n",
       "7     울산광역시     13.1   147811   8.8   103205   6.8    76800   5.3    57797   \n",
       "8   세종특별자치시     10.0    36194  10.6    22399     -        -     -        -   \n",
       "9       경기도     13.5  1825846  10.5  1318882   8.7  1022456   7.1   755511   \n",
       "10      강원도     21.2   325579  16.9   261671  14.8   226505  12.1   183471   \n",
       "11     충청북도     18.4   294530  14.8   234813  13.2   204470  11.3   168670   \n",
       "12     충청남도     19.5   412504  16.4   341214  14.9   308556  13.3   261800   \n",
       "13     전라북도     21.8   391178  17.8   333524  15.2   284373  12.9   243721   \n",
       "14     전라남도     23.9   440014  20.5   391837  18.3   350900  15.6   306439   \n",
       "15     경상북도     22.2   585088  17.7   479634  15.6   418858  13.4   360068   \n",
       "16     경상남도     17.9   594154  13.8   464019  11.8   388648  10.2   323898   \n",
       "17  제주특별자치도     16.0   108118  13.8    85893  12.2    69641  10.0    55795   \n",
       "\n",
       "    2000           \n",
       "      비율       인구  \n",
       "0    7.0  3355614  \n",
       "1    5.4   558566  \n",
       "2    6.0   229075  \n",
       "3    5.9   149045  \n",
       "4    5.4   138316  \n",
       "5    5.6    77325  \n",
       "6    5.5    75769  \n",
       "7    4.0    42119  \n",
       "8      -        -  \n",
       "9    5.7   524807  \n",
       "10   9.3   143945  \n",
       "11   9.1   136160  \n",
       "12  11.2   215059  \n",
       "13  10.3   205807  \n",
       "14  11.9   254370  \n",
       "15  10.7   300614  \n",
       "16   8.4   261303  \n",
       "17   8.0    43334  "
      ]
     },
     "execution_count": 51,
     "metadata": {},
     "output_type": "execute_result"
    }
   ],
   "source": [
    "df[19] #원하는 테이블(지역별 고령화 현황)"
   ]
  },
  {
   "cell_type": "markdown",
   "id": "dc7e1409-819c-4daa-9ac8-a5f1933532e0",
   "metadata": {},
   "source": [
    "- 끔찍할 정도로 타이디하지 않은 자료"
   ]
  },
  {
   "cell_type": "markdown",
   "id": "645718eb-5cc9-4fc3-b167-44136cd1a2da",
   "metadata": {},
   "source": [
    "`-` 첫번째 row는 일단 제외해야함"
   ]
  },
  {
   "cell_type": "code",
   "execution_count": 52,
   "id": "a58b1d7c-aab0-46ee-8779-47013dc15f59",
   "metadata": {},
   "outputs": [
    {
     "data": {
      "text/html": [
       "<div>\n",
       "<style scoped>\n",
       "    .dataframe tbody tr th:only-of-type {\n",
       "        vertical-align: middle;\n",
       "    }\n",
       "\n",
       "    .dataframe tbody tr th {\n",
       "        vertical-align: top;\n",
       "    }\n",
       "\n",
       "    .dataframe thead tr th {\n",
       "        text-align: left;\n",
       "    }\n",
       "</style>\n",
       "<table border=\"1\" class=\"dataframe\">\n",
       "  <thead>\n",
       "    <tr>\n",
       "      <th></th>\n",
       "      <th>행정구역별</th>\n",
       "      <th colspan=\"2\" halign=\"left\">2021. 06</th>\n",
       "      <th colspan=\"2\" halign=\"left\">2015</th>\n",
       "      <th colspan=\"2\" halign=\"left\">2010</th>\n",
       "      <th colspan=\"2\" halign=\"left\">2005</th>\n",
       "      <th colspan=\"2\" halign=\"left\">2000</th>\n",
       "    </tr>\n",
       "    <tr>\n",
       "      <th></th>\n",
       "      <th>행정구역별</th>\n",
       "      <th>비율</th>\n",
       "      <th>인구</th>\n",
       "      <th>비율</th>\n",
       "      <th>인구</th>\n",
       "      <th>비율</th>\n",
       "      <th>인구</th>\n",
       "      <th>비율</th>\n",
       "      <th>인구</th>\n",
       "      <th>비율</th>\n",
       "      <th>인구</th>\n",
       "    </tr>\n",
       "  </thead>\n",
       "  <tbody>\n",
       "    <tr>\n",
       "      <th>1</th>\n",
       "      <td>서울특별시</td>\n",
       "      <td>16.4</td>\n",
       "      <td>1568769</td>\n",
       "      <td>12.6</td>\n",
       "      <td>1262436</td>\n",
       "      <td>9.7</td>\n",
       "      <td>1002770</td>\n",
       "      <td>7.2</td>\n",
       "      <td>731349</td>\n",
       "      <td>5.4</td>\n",
       "      <td>558566</td>\n",
       "    </tr>\n",
       "    <tr>\n",
       "      <th>2</th>\n",
       "      <td>부산광역시</td>\n",
       "      <td>19.8</td>\n",
       "      <td>666644</td>\n",
       "      <td>14.6</td>\n",
       "      <td>514630</td>\n",
       "      <td>11.3</td>\n",
       "      <td>401784</td>\n",
       "      <td>8.3</td>\n",
       "      <td>302784</td>\n",
       "      <td>6.0</td>\n",
       "      <td>229075</td>\n",
       "    </tr>\n",
       "    <tr>\n",
       "      <th>3</th>\n",
       "      <td>대구광역시</td>\n",
       "      <td>17.0</td>\n",
       "      <td>408235</td>\n",
       "      <td>12.7</td>\n",
       "      <td>316122</td>\n",
       "      <td>10.0</td>\n",
       "      <td>252084</td>\n",
       "      <td>7.8</td>\n",
       "      <td>195419</td>\n",
       "      <td>5.9</td>\n",
       "      <td>149045</td>\n",
       "    </tr>\n",
       "    <tr>\n",
       "      <th>4</th>\n",
       "      <td>인천광역시</td>\n",
       "      <td>14.4</td>\n",
       "      <td>422658</td>\n",
       "      <td>10.7</td>\n",
       "      <td>312905</td>\n",
       "      <td>8.6</td>\n",
       "      <td>237805</td>\n",
       "      <td>6.9</td>\n",
       "      <td>178602</td>\n",
       "      <td>5.4</td>\n",
       "      <td>138316</td>\n",
       "    </tr>\n",
       "    <tr>\n",
       "      <th>5</th>\n",
       "      <td>광주광역시</td>\n",
       "      <td>14.5</td>\n",
       "      <td>208879</td>\n",
       "      <td>11.3</td>\n",
       "      <td>166389</td>\n",
       "      <td>9.0</td>\n",
       "      <td>130457</td>\n",
       "      <td>7.1</td>\n",
       "      <td>99389</td>\n",
       "      <td>5.6</td>\n",
       "      <td>77325</td>\n",
       "    </tr>\n",
       "    <tr>\n",
       "      <th>6</th>\n",
       "      <td>대전광역시</td>\n",
       "      <td>14.8</td>\n",
       "      <td>215997</td>\n",
       "      <td>10.9</td>\n",
       "      <td>165528</td>\n",
       "      <td>8.7</td>\n",
       "      <td>130245</td>\n",
       "      <td>6.9</td>\n",
       "      <td>99811</td>\n",
       "      <td>5.5</td>\n",
       "      <td>75769</td>\n",
       "    </tr>\n",
       "    <tr>\n",
       "      <th>7</th>\n",
       "      <td>울산광역시</td>\n",
       "      <td>13.1</td>\n",
       "      <td>147811</td>\n",
       "      <td>8.8</td>\n",
       "      <td>103205</td>\n",
       "      <td>6.8</td>\n",
       "      <td>76800</td>\n",
       "      <td>5.3</td>\n",
       "      <td>57797</td>\n",
       "      <td>4.0</td>\n",
       "      <td>42119</td>\n",
       "    </tr>\n",
       "    <tr>\n",
       "      <th>8</th>\n",
       "      <td>세종특별자치시</td>\n",
       "      <td>10.0</td>\n",
       "      <td>36194</td>\n",
       "      <td>10.6</td>\n",
       "      <td>22399</td>\n",
       "      <td>-</td>\n",
       "      <td>-</td>\n",
       "      <td>-</td>\n",
       "      <td>-</td>\n",
       "      <td>-</td>\n",
       "      <td>-</td>\n",
       "    </tr>\n",
       "    <tr>\n",
       "      <th>9</th>\n",
       "      <td>경기도</td>\n",
       "      <td>13.5</td>\n",
       "      <td>1825846</td>\n",
       "      <td>10.5</td>\n",
       "      <td>1318882</td>\n",
       "      <td>8.7</td>\n",
       "      <td>1022456</td>\n",
       "      <td>7.1</td>\n",
       "      <td>755511</td>\n",
       "      <td>5.7</td>\n",
       "      <td>524807</td>\n",
       "    </tr>\n",
       "    <tr>\n",
       "      <th>10</th>\n",
       "      <td>강원도</td>\n",
       "      <td>21.2</td>\n",
       "      <td>325579</td>\n",
       "      <td>16.9</td>\n",
       "      <td>261671</td>\n",
       "      <td>14.8</td>\n",
       "      <td>226505</td>\n",
       "      <td>12.1</td>\n",
       "      <td>183471</td>\n",
       "      <td>9.3</td>\n",
       "      <td>143945</td>\n",
       "    </tr>\n",
       "    <tr>\n",
       "      <th>11</th>\n",
       "      <td>충청북도</td>\n",
       "      <td>18.4</td>\n",
       "      <td>294530</td>\n",
       "      <td>14.8</td>\n",
       "      <td>234813</td>\n",
       "      <td>13.2</td>\n",
       "      <td>204470</td>\n",
       "      <td>11.3</td>\n",
       "      <td>168670</td>\n",
       "      <td>9.1</td>\n",
       "      <td>136160</td>\n",
       "    </tr>\n",
       "    <tr>\n",
       "      <th>12</th>\n",
       "      <td>충청남도</td>\n",
       "      <td>19.5</td>\n",
       "      <td>412504</td>\n",
       "      <td>16.4</td>\n",
       "      <td>341214</td>\n",
       "      <td>14.9</td>\n",
       "      <td>308556</td>\n",
       "      <td>13.3</td>\n",
       "      <td>261800</td>\n",
       "      <td>11.2</td>\n",
       "      <td>215059</td>\n",
       "    </tr>\n",
       "    <tr>\n",
       "      <th>13</th>\n",
       "      <td>전라북도</td>\n",
       "      <td>21.8</td>\n",
       "      <td>391178</td>\n",
       "      <td>17.8</td>\n",
       "      <td>333524</td>\n",
       "      <td>15.2</td>\n",
       "      <td>284373</td>\n",
       "      <td>12.9</td>\n",
       "      <td>243721</td>\n",
       "      <td>10.3</td>\n",
       "      <td>205807</td>\n",
       "    </tr>\n",
       "    <tr>\n",
       "      <th>14</th>\n",
       "      <td>전라남도</td>\n",
       "      <td>23.9</td>\n",
       "      <td>440014</td>\n",
       "      <td>20.5</td>\n",
       "      <td>391837</td>\n",
       "      <td>18.3</td>\n",
       "      <td>350900</td>\n",
       "      <td>15.6</td>\n",
       "      <td>306439</td>\n",
       "      <td>11.9</td>\n",
       "      <td>254370</td>\n",
       "    </tr>\n",
       "    <tr>\n",
       "      <th>15</th>\n",
       "      <td>경상북도</td>\n",
       "      <td>22.2</td>\n",
       "      <td>585088</td>\n",
       "      <td>17.7</td>\n",
       "      <td>479634</td>\n",
       "      <td>15.6</td>\n",
       "      <td>418858</td>\n",
       "      <td>13.4</td>\n",
       "      <td>360068</td>\n",
       "      <td>10.7</td>\n",
       "      <td>300614</td>\n",
       "    </tr>\n",
       "    <tr>\n",
       "      <th>16</th>\n",
       "      <td>경상남도</td>\n",
       "      <td>17.9</td>\n",
       "      <td>594154</td>\n",
       "      <td>13.8</td>\n",
       "      <td>464019</td>\n",
       "      <td>11.8</td>\n",
       "      <td>388648</td>\n",
       "      <td>10.2</td>\n",
       "      <td>323898</td>\n",
       "      <td>8.4</td>\n",
       "      <td>261303</td>\n",
       "    </tr>\n",
       "    <tr>\n",
       "      <th>17</th>\n",
       "      <td>제주특별자치도</td>\n",
       "      <td>16.0</td>\n",
       "      <td>108118</td>\n",
       "      <td>13.8</td>\n",
       "      <td>85893</td>\n",
       "      <td>12.2</td>\n",
       "      <td>69641</td>\n",
       "      <td>10.0</td>\n",
       "      <td>55795</td>\n",
       "      <td>8.0</td>\n",
       "      <td>43334</td>\n",
       "    </tr>\n",
       "  </tbody>\n",
       "</table>\n",
       "</div>"
      ],
      "text/plain": [
       "      행정구역별 2021. 06           2015           2010           2005          \\\n",
       "      행정구역별       비율       인구    비율       인구    비율       인구    비율      인구   \n",
       "1     서울특별시     16.4  1568769  12.6  1262436   9.7  1002770   7.2  731349   \n",
       "2     부산광역시     19.8   666644  14.6   514630  11.3   401784   8.3  302784   \n",
       "3     대구광역시     17.0   408235  12.7   316122  10.0   252084   7.8  195419   \n",
       "4     인천광역시     14.4   422658  10.7   312905   8.6   237805   6.9  178602   \n",
       "5     광주광역시     14.5   208879  11.3   166389   9.0   130457   7.1   99389   \n",
       "6     대전광역시     14.8   215997  10.9   165528   8.7   130245   6.9   99811   \n",
       "7     울산광역시     13.1   147811   8.8   103205   6.8    76800   5.3   57797   \n",
       "8   세종특별자치시     10.0    36194  10.6    22399     -        -     -       -   \n",
       "9       경기도     13.5  1825846  10.5  1318882   8.7  1022456   7.1  755511   \n",
       "10      강원도     21.2   325579  16.9   261671  14.8   226505  12.1  183471   \n",
       "11     충청북도     18.4   294530  14.8   234813  13.2   204470  11.3  168670   \n",
       "12     충청남도     19.5   412504  16.4   341214  14.9   308556  13.3  261800   \n",
       "13     전라북도     21.8   391178  17.8   333524  15.2   284373  12.9  243721   \n",
       "14     전라남도     23.9   440014  20.5   391837  18.3   350900  15.6  306439   \n",
       "15     경상북도     22.2   585088  17.7   479634  15.6   418858  13.4  360068   \n",
       "16     경상남도     17.9   594154  13.8   464019  11.8   388648  10.2  323898   \n",
       "17  제주특별자치도     16.0   108118  13.8    85893  12.2    69641  10.0   55795   \n",
       "\n",
       "    2000          \n",
       "      비율      인구  \n",
       "1    5.4  558566  \n",
       "2    6.0  229075  \n",
       "3    5.9  149045  \n",
       "4    5.4  138316  \n",
       "5    5.6   77325  \n",
       "6    5.5   75769  \n",
       "7    4.0   42119  \n",
       "8      -       -  \n",
       "9    5.7  524807  \n",
       "10   9.3  143945  \n",
       "11   9.1  136160  \n",
       "12  11.2  215059  \n",
       "13  10.3  205807  \n",
       "14  11.9  254370  \n",
       "15  10.7  300614  \n",
       "16   8.4  261303  \n",
       "17   8.0   43334  "
      ]
     },
     "execution_count": 52,
     "metadata": {},
     "output_type": "execute_result"
    }
   ],
   "source": [
    "df[19].iloc[1:]"
   ]
  },
  {
   "cell_type": "markdown",
   "id": "09f711cd-8fce-4e11-9c38-7d838c3fd2a2",
   "metadata": {},
   "source": [
    "`-` 일단 스택을 해보자."
   ]
  },
  {
   "cell_type": "code",
   "execution_count": 53,
   "id": "cec6e6b0-d98c-4b77-971d-dd2ce2949332",
   "metadata": {},
   "outputs": [
    {
     "data": {
      "text/html": [
       "<div>\n",
       "<style scoped>\n",
       "    .dataframe tbody tr th:only-of-type {\n",
       "        vertical-align: middle;\n",
       "    }\n",
       "\n",
       "    .dataframe tbody tr th {\n",
       "        vertical-align: top;\n",
       "    }\n",
       "\n",
       "    .dataframe thead th {\n",
       "        text-align: right;\n",
       "    }\n",
       "</style>\n",
       "<table border=\"1\" class=\"dataframe\">\n",
       "  <thead>\n",
       "    <tr style=\"text-align: right;\">\n",
       "      <th></th>\n",
       "      <th></th>\n",
       "      <th>2000</th>\n",
       "      <th>2005</th>\n",
       "      <th>2010</th>\n",
       "      <th>2015</th>\n",
       "      <th>2021. 06</th>\n",
       "      <th>행정구역별</th>\n",
       "    </tr>\n",
       "  </thead>\n",
       "  <tbody>\n",
       "    <tr>\n",
       "      <th rowspan=\"3\" valign=\"top\">1</th>\n",
       "      <th>비율</th>\n",
       "      <td>5.4</td>\n",
       "      <td>7.2</td>\n",
       "      <td>9.7</td>\n",
       "      <td>12.6</td>\n",
       "      <td>16.4</td>\n",
       "      <td>NaN</td>\n",
       "    </tr>\n",
       "    <tr>\n",
       "      <th>인구</th>\n",
       "      <td>558566</td>\n",
       "      <td>731349</td>\n",
       "      <td>1002770</td>\n",
       "      <td>1262436.0</td>\n",
       "      <td>1568769.0</td>\n",
       "      <td>NaN</td>\n",
       "    </tr>\n",
       "    <tr>\n",
       "      <th>행정구역별</th>\n",
       "      <td>NaN</td>\n",
       "      <td>NaN</td>\n",
       "      <td>NaN</td>\n",
       "      <td>NaN</td>\n",
       "      <td>NaN</td>\n",
       "      <td>서울특별시</td>\n",
       "    </tr>\n",
       "    <tr>\n",
       "      <th rowspan=\"3\" valign=\"top\">2</th>\n",
       "      <th>비율</th>\n",
       "      <td>6.0</td>\n",
       "      <td>8.3</td>\n",
       "      <td>11.3</td>\n",
       "      <td>14.6</td>\n",
       "      <td>19.8</td>\n",
       "      <td>NaN</td>\n",
       "    </tr>\n",
       "    <tr>\n",
       "      <th>인구</th>\n",
       "      <td>229075</td>\n",
       "      <td>302784</td>\n",
       "      <td>401784</td>\n",
       "      <td>514630.0</td>\n",
       "      <td>666644.0</td>\n",
       "      <td>NaN</td>\n",
       "    </tr>\n",
       "    <tr>\n",
       "      <th>행정구역별</th>\n",
       "      <td>NaN</td>\n",
       "      <td>NaN</td>\n",
       "      <td>NaN</td>\n",
       "      <td>NaN</td>\n",
       "      <td>NaN</td>\n",
       "      <td>부산광역시</td>\n",
       "    </tr>\n",
       "    <tr>\n",
       "      <th rowspan=\"3\" valign=\"top\">3</th>\n",
       "      <th>비율</th>\n",
       "      <td>5.9</td>\n",
       "      <td>7.8</td>\n",
       "      <td>10.0</td>\n",
       "      <td>12.7</td>\n",
       "      <td>17.0</td>\n",
       "      <td>NaN</td>\n",
       "    </tr>\n",
       "    <tr>\n",
       "      <th>인구</th>\n",
       "      <td>149045</td>\n",
       "      <td>195419</td>\n",
       "      <td>252084</td>\n",
       "      <td>316122.0</td>\n",
       "      <td>408235.0</td>\n",
       "      <td>NaN</td>\n",
       "    </tr>\n",
       "    <tr>\n",
       "      <th>행정구역별</th>\n",
       "      <td>NaN</td>\n",
       "      <td>NaN</td>\n",
       "      <td>NaN</td>\n",
       "      <td>NaN</td>\n",
       "      <td>NaN</td>\n",
       "      <td>대구광역시</td>\n",
       "    </tr>\n",
       "    <tr>\n",
       "      <th rowspan=\"3\" valign=\"top\">4</th>\n",
       "      <th>비율</th>\n",
       "      <td>5.4</td>\n",
       "      <td>6.9</td>\n",
       "      <td>8.6</td>\n",
       "      <td>10.7</td>\n",
       "      <td>14.4</td>\n",
       "      <td>NaN</td>\n",
       "    </tr>\n",
       "    <tr>\n",
       "      <th>인구</th>\n",
       "      <td>138316</td>\n",
       "      <td>178602</td>\n",
       "      <td>237805</td>\n",
       "      <td>312905.0</td>\n",
       "      <td>422658.0</td>\n",
       "      <td>NaN</td>\n",
       "    </tr>\n",
       "    <tr>\n",
       "      <th>행정구역별</th>\n",
       "      <td>NaN</td>\n",
       "      <td>NaN</td>\n",
       "      <td>NaN</td>\n",
       "      <td>NaN</td>\n",
       "      <td>NaN</td>\n",
       "      <td>인천광역시</td>\n",
       "    </tr>\n",
       "    <tr>\n",
       "      <th rowspan=\"3\" valign=\"top\">5</th>\n",
       "      <th>비율</th>\n",
       "      <td>5.6</td>\n",
       "      <td>7.1</td>\n",
       "      <td>9.0</td>\n",
       "      <td>11.3</td>\n",
       "      <td>14.5</td>\n",
       "      <td>NaN</td>\n",
       "    </tr>\n",
       "    <tr>\n",
       "      <th>인구</th>\n",
       "      <td>77325</td>\n",
       "      <td>99389</td>\n",
       "      <td>130457</td>\n",
       "      <td>166389.0</td>\n",
       "      <td>208879.0</td>\n",
       "      <td>NaN</td>\n",
       "    </tr>\n",
       "    <tr>\n",
       "      <th>행정구역별</th>\n",
       "      <td>NaN</td>\n",
       "      <td>NaN</td>\n",
       "      <td>NaN</td>\n",
       "      <td>NaN</td>\n",
       "      <td>NaN</td>\n",
       "      <td>광주광역시</td>\n",
       "    </tr>\n",
       "    <tr>\n",
       "      <th rowspan=\"3\" valign=\"top\">6</th>\n",
       "      <th>비율</th>\n",
       "      <td>5.5</td>\n",
       "      <td>6.9</td>\n",
       "      <td>8.7</td>\n",
       "      <td>10.9</td>\n",
       "      <td>14.8</td>\n",
       "      <td>NaN</td>\n",
       "    </tr>\n",
       "    <tr>\n",
       "      <th>인구</th>\n",
       "      <td>75769</td>\n",
       "      <td>99811</td>\n",
       "      <td>130245</td>\n",
       "      <td>165528.0</td>\n",
       "      <td>215997.0</td>\n",
       "      <td>NaN</td>\n",
       "    </tr>\n",
       "    <tr>\n",
       "      <th>행정구역별</th>\n",
       "      <td>NaN</td>\n",
       "      <td>NaN</td>\n",
       "      <td>NaN</td>\n",
       "      <td>NaN</td>\n",
       "      <td>NaN</td>\n",
       "      <td>대전광역시</td>\n",
       "    </tr>\n",
       "    <tr>\n",
       "      <th rowspan=\"3\" valign=\"top\">7</th>\n",
       "      <th>비율</th>\n",
       "      <td>4.0</td>\n",
       "      <td>5.3</td>\n",
       "      <td>6.8</td>\n",
       "      <td>8.8</td>\n",
       "      <td>13.1</td>\n",
       "      <td>NaN</td>\n",
       "    </tr>\n",
       "    <tr>\n",
       "      <th>인구</th>\n",
       "      <td>42119</td>\n",
       "      <td>57797</td>\n",
       "      <td>76800</td>\n",
       "      <td>103205.0</td>\n",
       "      <td>147811.0</td>\n",
       "      <td>NaN</td>\n",
       "    </tr>\n",
       "    <tr>\n",
       "      <th>행정구역별</th>\n",
       "      <td>NaN</td>\n",
       "      <td>NaN</td>\n",
       "      <td>NaN</td>\n",
       "      <td>NaN</td>\n",
       "      <td>NaN</td>\n",
       "      <td>울산광역시</td>\n",
       "    </tr>\n",
       "    <tr>\n",
       "      <th rowspan=\"3\" valign=\"top\">8</th>\n",
       "      <th>비율</th>\n",
       "      <td>-</td>\n",
       "      <td>-</td>\n",
       "      <td>-</td>\n",
       "      <td>10.6</td>\n",
       "      <td>10.0</td>\n",
       "      <td>NaN</td>\n",
       "    </tr>\n",
       "    <tr>\n",
       "      <th>인구</th>\n",
       "      <td>-</td>\n",
       "      <td>-</td>\n",
       "      <td>-</td>\n",
       "      <td>22399.0</td>\n",
       "      <td>36194.0</td>\n",
       "      <td>NaN</td>\n",
       "    </tr>\n",
       "    <tr>\n",
       "      <th>행정구역별</th>\n",
       "      <td>NaN</td>\n",
       "      <td>NaN</td>\n",
       "      <td>NaN</td>\n",
       "      <td>NaN</td>\n",
       "      <td>NaN</td>\n",
       "      <td>세종특별자치시</td>\n",
       "    </tr>\n",
       "    <tr>\n",
       "      <th rowspan=\"3\" valign=\"top\">9</th>\n",
       "      <th>비율</th>\n",
       "      <td>5.7</td>\n",
       "      <td>7.1</td>\n",
       "      <td>8.7</td>\n",
       "      <td>10.5</td>\n",
       "      <td>13.5</td>\n",
       "      <td>NaN</td>\n",
       "    </tr>\n",
       "    <tr>\n",
       "      <th>인구</th>\n",
       "      <td>524807</td>\n",
       "      <td>755511</td>\n",
       "      <td>1022456</td>\n",
       "      <td>1318882.0</td>\n",
       "      <td>1825846.0</td>\n",
       "      <td>NaN</td>\n",
       "    </tr>\n",
       "    <tr>\n",
       "      <th>행정구역별</th>\n",
       "      <td>NaN</td>\n",
       "      <td>NaN</td>\n",
       "      <td>NaN</td>\n",
       "      <td>NaN</td>\n",
       "      <td>NaN</td>\n",
       "      <td>경기도</td>\n",
       "    </tr>\n",
       "    <tr>\n",
       "      <th rowspan=\"3\" valign=\"top\">10</th>\n",
       "      <th>비율</th>\n",
       "      <td>9.3</td>\n",
       "      <td>12.1</td>\n",
       "      <td>14.8</td>\n",
       "      <td>16.9</td>\n",
       "      <td>21.2</td>\n",
       "      <td>NaN</td>\n",
       "    </tr>\n",
       "    <tr>\n",
       "      <th>인구</th>\n",
       "      <td>143945</td>\n",
       "      <td>183471</td>\n",
       "      <td>226505</td>\n",
       "      <td>261671.0</td>\n",
       "      <td>325579.0</td>\n",
       "      <td>NaN</td>\n",
       "    </tr>\n",
       "    <tr>\n",
       "      <th>행정구역별</th>\n",
       "      <td>NaN</td>\n",
       "      <td>NaN</td>\n",
       "      <td>NaN</td>\n",
       "      <td>NaN</td>\n",
       "      <td>NaN</td>\n",
       "      <td>강원도</td>\n",
       "    </tr>\n",
       "    <tr>\n",
       "      <th rowspan=\"3\" valign=\"top\">11</th>\n",
       "      <th>비율</th>\n",
       "      <td>9.1</td>\n",
       "      <td>11.3</td>\n",
       "      <td>13.2</td>\n",
       "      <td>14.8</td>\n",
       "      <td>18.4</td>\n",
       "      <td>NaN</td>\n",
       "    </tr>\n",
       "    <tr>\n",
       "      <th>인구</th>\n",
       "      <td>136160</td>\n",
       "      <td>168670</td>\n",
       "      <td>204470</td>\n",
       "      <td>234813.0</td>\n",
       "      <td>294530.0</td>\n",
       "      <td>NaN</td>\n",
       "    </tr>\n",
       "    <tr>\n",
       "      <th>행정구역별</th>\n",
       "      <td>NaN</td>\n",
       "      <td>NaN</td>\n",
       "      <td>NaN</td>\n",
       "      <td>NaN</td>\n",
       "      <td>NaN</td>\n",
       "      <td>충청북도</td>\n",
       "    </tr>\n",
       "    <tr>\n",
       "      <th rowspan=\"3\" valign=\"top\">12</th>\n",
       "      <th>비율</th>\n",
       "      <td>11.2</td>\n",
       "      <td>13.3</td>\n",
       "      <td>14.9</td>\n",
       "      <td>16.4</td>\n",
       "      <td>19.5</td>\n",
       "      <td>NaN</td>\n",
       "    </tr>\n",
       "    <tr>\n",
       "      <th>인구</th>\n",
       "      <td>215059</td>\n",
       "      <td>261800</td>\n",
       "      <td>308556</td>\n",
       "      <td>341214.0</td>\n",
       "      <td>412504.0</td>\n",
       "      <td>NaN</td>\n",
       "    </tr>\n",
       "    <tr>\n",
       "      <th>행정구역별</th>\n",
       "      <td>NaN</td>\n",
       "      <td>NaN</td>\n",
       "      <td>NaN</td>\n",
       "      <td>NaN</td>\n",
       "      <td>NaN</td>\n",
       "      <td>충청남도</td>\n",
       "    </tr>\n",
       "    <tr>\n",
       "      <th rowspan=\"3\" valign=\"top\">13</th>\n",
       "      <th>비율</th>\n",
       "      <td>10.3</td>\n",
       "      <td>12.9</td>\n",
       "      <td>15.2</td>\n",
       "      <td>17.8</td>\n",
       "      <td>21.8</td>\n",
       "      <td>NaN</td>\n",
       "    </tr>\n",
       "    <tr>\n",
       "      <th>인구</th>\n",
       "      <td>205807</td>\n",
       "      <td>243721</td>\n",
       "      <td>284373</td>\n",
       "      <td>333524.0</td>\n",
       "      <td>391178.0</td>\n",
       "      <td>NaN</td>\n",
       "    </tr>\n",
       "    <tr>\n",
       "      <th>행정구역별</th>\n",
       "      <td>NaN</td>\n",
       "      <td>NaN</td>\n",
       "      <td>NaN</td>\n",
       "      <td>NaN</td>\n",
       "      <td>NaN</td>\n",
       "      <td>전라북도</td>\n",
       "    </tr>\n",
       "    <tr>\n",
       "      <th rowspan=\"3\" valign=\"top\">14</th>\n",
       "      <th>비율</th>\n",
       "      <td>11.9</td>\n",
       "      <td>15.6</td>\n",
       "      <td>18.3</td>\n",
       "      <td>20.5</td>\n",
       "      <td>23.9</td>\n",
       "      <td>NaN</td>\n",
       "    </tr>\n",
       "    <tr>\n",
       "      <th>인구</th>\n",
       "      <td>254370</td>\n",
       "      <td>306439</td>\n",
       "      <td>350900</td>\n",
       "      <td>391837.0</td>\n",
       "      <td>440014.0</td>\n",
       "      <td>NaN</td>\n",
       "    </tr>\n",
       "    <tr>\n",
       "      <th>행정구역별</th>\n",
       "      <td>NaN</td>\n",
       "      <td>NaN</td>\n",
       "      <td>NaN</td>\n",
       "      <td>NaN</td>\n",
       "      <td>NaN</td>\n",
       "      <td>전라남도</td>\n",
       "    </tr>\n",
       "    <tr>\n",
       "      <th rowspan=\"3\" valign=\"top\">15</th>\n",
       "      <th>비율</th>\n",
       "      <td>10.7</td>\n",
       "      <td>13.4</td>\n",
       "      <td>15.6</td>\n",
       "      <td>17.7</td>\n",
       "      <td>22.2</td>\n",
       "      <td>NaN</td>\n",
       "    </tr>\n",
       "    <tr>\n",
       "      <th>인구</th>\n",
       "      <td>300614</td>\n",
       "      <td>360068</td>\n",
       "      <td>418858</td>\n",
       "      <td>479634.0</td>\n",
       "      <td>585088.0</td>\n",
       "      <td>NaN</td>\n",
       "    </tr>\n",
       "    <tr>\n",
       "      <th>행정구역별</th>\n",
       "      <td>NaN</td>\n",
       "      <td>NaN</td>\n",
       "      <td>NaN</td>\n",
       "      <td>NaN</td>\n",
       "      <td>NaN</td>\n",
       "      <td>경상북도</td>\n",
       "    </tr>\n",
       "    <tr>\n",
       "      <th rowspan=\"3\" valign=\"top\">16</th>\n",
       "      <th>비율</th>\n",
       "      <td>8.4</td>\n",
       "      <td>10.2</td>\n",
       "      <td>11.8</td>\n",
       "      <td>13.8</td>\n",
       "      <td>17.9</td>\n",
       "      <td>NaN</td>\n",
       "    </tr>\n",
       "    <tr>\n",
       "      <th>인구</th>\n",
       "      <td>261303</td>\n",
       "      <td>323898</td>\n",
       "      <td>388648</td>\n",
       "      <td>464019.0</td>\n",
       "      <td>594154.0</td>\n",
       "      <td>NaN</td>\n",
       "    </tr>\n",
       "    <tr>\n",
       "      <th>행정구역별</th>\n",
       "      <td>NaN</td>\n",
       "      <td>NaN</td>\n",
       "      <td>NaN</td>\n",
       "      <td>NaN</td>\n",
       "      <td>NaN</td>\n",
       "      <td>경상남도</td>\n",
       "    </tr>\n",
       "    <tr>\n",
       "      <th rowspan=\"3\" valign=\"top\">17</th>\n",
       "      <th>비율</th>\n",
       "      <td>8.0</td>\n",
       "      <td>10.0</td>\n",
       "      <td>12.2</td>\n",
       "      <td>13.8</td>\n",
       "      <td>16.0</td>\n",
       "      <td>NaN</td>\n",
       "    </tr>\n",
       "    <tr>\n",
       "      <th>인구</th>\n",
       "      <td>43334</td>\n",
       "      <td>55795</td>\n",
       "      <td>69641</td>\n",
       "      <td>85893.0</td>\n",
       "      <td>108118.0</td>\n",
       "      <td>NaN</td>\n",
       "    </tr>\n",
       "    <tr>\n",
       "      <th>행정구역별</th>\n",
       "      <td>NaN</td>\n",
       "      <td>NaN</td>\n",
       "      <td>NaN</td>\n",
       "      <td>NaN</td>\n",
       "      <td>NaN</td>\n",
       "      <td>제주특별자치도</td>\n",
       "    </tr>\n",
       "  </tbody>\n",
       "</table>\n",
       "</div>"
      ],
      "text/plain": [
       "            2000    2005     2010       2015   2021. 06    행정구역별\n",
       "1  비율        5.4     7.2      9.7       12.6       16.4      NaN\n",
       "   인구     558566  731349  1002770  1262436.0  1568769.0      NaN\n",
       "   행정구역별     NaN     NaN      NaN        NaN        NaN    서울특별시\n",
       "2  비율        6.0     8.3     11.3       14.6       19.8      NaN\n",
       "   인구     229075  302784   401784   514630.0   666644.0      NaN\n",
       "   행정구역별     NaN     NaN      NaN        NaN        NaN    부산광역시\n",
       "3  비율        5.9     7.8     10.0       12.7       17.0      NaN\n",
       "   인구     149045  195419   252084   316122.0   408235.0      NaN\n",
       "   행정구역별     NaN     NaN      NaN        NaN        NaN    대구광역시\n",
       "4  비율        5.4     6.9      8.6       10.7       14.4      NaN\n",
       "   인구     138316  178602   237805   312905.0   422658.0      NaN\n",
       "   행정구역별     NaN     NaN      NaN        NaN        NaN    인천광역시\n",
       "5  비율        5.6     7.1      9.0       11.3       14.5      NaN\n",
       "   인구      77325   99389   130457   166389.0   208879.0      NaN\n",
       "   행정구역별     NaN     NaN      NaN        NaN        NaN    광주광역시\n",
       "6  비율        5.5     6.9      8.7       10.9       14.8      NaN\n",
       "   인구      75769   99811   130245   165528.0   215997.0      NaN\n",
       "   행정구역별     NaN     NaN      NaN        NaN        NaN    대전광역시\n",
       "7  비율        4.0     5.3      6.8        8.8       13.1      NaN\n",
       "   인구      42119   57797    76800   103205.0   147811.0      NaN\n",
       "   행정구역별     NaN     NaN      NaN        NaN        NaN    울산광역시\n",
       "8  비율          -       -        -       10.6       10.0      NaN\n",
       "   인구          -       -        -    22399.0    36194.0      NaN\n",
       "   행정구역별     NaN     NaN      NaN        NaN        NaN  세종특별자치시\n",
       "9  비율        5.7     7.1      8.7       10.5       13.5      NaN\n",
       "   인구     524807  755511  1022456  1318882.0  1825846.0      NaN\n",
       "   행정구역별     NaN     NaN      NaN        NaN        NaN      경기도\n",
       "10 비율        9.3    12.1     14.8       16.9       21.2      NaN\n",
       "   인구     143945  183471   226505   261671.0   325579.0      NaN\n",
       "   행정구역별     NaN     NaN      NaN        NaN        NaN      강원도\n",
       "11 비율        9.1    11.3     13.2       14.8       18.4      NaN\n",
       "   인구     136160  168670   204470   234813.0   294530.0      NaN\n",
       "   행정구역별     NaN     NaN      NaN        NaN        NaN     충청북도\n",
       "12 비율       11.2    13.3     14.9       16.4       19.5      NaN\n",
       "   인구     215059  261800   308556   341214.0   412504.0      NaN\n",
       "   행정구역별     NaN     NaN      NaN        NaN        NaN     충청남도\n",
       "13 비율       10.3    12.9     15.2       17.8       21.8      NaN\n",
       "   인구     205807  243721   284373   333524.0   391178.0      NaN\n",
       "   행정구역별     NaN     NaN      NaN        NaN        NaN     전라북도\n",
       "14 비율       11.9    15.6     18.3       20.5       23.9      NaN\n",
       "   인구     254370  306439   350900   391837.0   440014.0      NaN\n",
       "   행정구역별     NaN     NaN      NaN        NaN        NaN     전라남도\n",
       "15 비율       10.7    13.4     15.6       17.7       22.2      NaN\n",
       "   인구     300614  360068   418858   479634.0   585088.0      NaN\n",
       "   행정구역별     NaN     NaN      NaN        NaN        NaN     경상북도\n",
       "16 비율        8.4    10.2     11.8       13.8       17.9      NaN\n",
       "   인구     261303  323898   388648   464019.0   594154.0      NaN\n",
       "   행정구역별     NaN     NaN      NaN        NaN        NaN     경상남도\n",
       "17 비율        8.0    10.0     12.2       13.8       16.0      NaN\n",
       "   인구      43334   55795    69641    85893.0   108118.0      NaN\n",
       "   행정구역별     NaN     NaN      NaN        NaN        NaN  제주특별자치도"
      ]
     },
     "execution_count": 53,
     "metadata": {},
     "output_type": "execute_result"
    }
   ],
   "source": [
    "df[19].iloc[1:].stack()"
   ]
  },
  {
   "cell_type": "markdown",
   "id": "fa182380-ec94-4858-b67e-41d03eaf3ab4",
   "metadata": {},
   "source": [
    "`-` 서울~제주를 인덱스로 설정하고 다시 스택해보자."
   ]
  },
  {
   "cell_type": "code",
   "execution_count": 54,
   "id": "e99be54d-d8f9-46d2-a35d-c8d43eaf65c8",
   "metadata": {},
   "outputs": [
    {
     "data": {
      "text/plain": [
       "MultiIndex([(   '행정구역별', '행정구역별'),\n",
       "            ('2021. 06',    '비율'),\n",
       "            ('2021. 06',    '인구'),\n",
       "            (    '2015',    '비율'),\n",
       "            (    '2015',    '인구'),\n",
       "            (    '2010',    '비율'),\n",
       "            (    '2010',    '인구'),\n",
       "            (    '2005',    '비율'),\n",
       "            (    '2005',    '인구'),\n",
       "            (    '2000',    '비율'),\n",
       "            (    '2000',    '인구')],\n",
       "           )"
      ]
     },
     "execution_count": 54,
     "metadata": {},
     "output_type": "execute_result"
    }
   ],
   "source": [
    "df[19].iloc[1:].columns"
   ]
  },
  {
   "cell_type": "code",
   "execution_count": 55,
   "id": "bb31583d-45fb-4078-9e46-f52f4dd383d6",
   "metadata": {},
   "outputs": [],
   "source": [
    "#df[19].iloc[1:].loc[:,'비율'] #안된다"
   ]
  },
  {
   "cell_type": "code",
   "execution_count": 56,
   "id": "33a40913-eb05-46d5-ac7a-adc03f452dfc",
   "metadata": {},
   "outputs": [
    {
     "data": {
      "text/plain": [
       "1     16.4\n",
       "2     19.8\n",
       "3     17.0\n",
       "4     14.4\n",
       "5     14.5\n",
       "6     14.8\n",
       "7     13.1\n",
       "8     10.0\n",
       "9     13.5\n",
       "10    21.2\n",
       "11    18.4\n",
       "12    19.5\n",
       "13    21.8\n",
       "14    23.9\n",
       "15    22.2\n",
       "16    17.9\n",
       "17    16.0\n",
       "Name: (2021. 06, 비율), dtype: float64"
      ]
     },
     "execution_count": 56,
     "metadata": {},
     "output_type": "execute_result"
    }
   ],
   "source": [
    "df[19].iloc[1:].loc[:,('2021. 06',    '비율')]"
   ]
  },
  {
   "cell_type": "code",
   "execution_count": 57,
   "id": "5626985e-5aa6-4422-84f8-2dceeb3fbbe5",
   "metadata": {},
   "outputs": [
    {
     "data": {
      "text/plain": [
       "1     1568769\n",
       "2      666644\n",
       "3      408235\n",
       "4      422658\n",
       "5      208879\n",
       "6      215997\n",
       "7      147811\n",
       "8       36194\n",
       "9     1825846\n",
       "10     325579\n",
       "11     294530\n",
       "12     412504\n",
       "13     391178\n",
       "14     440014\n",
       "15     585088\n",
       "16     594154\n",
       "17     108118\n",
       "Name: (2021. 06, 인구), dtype: int64"
      ]
     },
     "execution_count": 57,
     "metadata": {},
     "output_type": "execute_result"
    }
   ],
   "source": [
    "df[19].iloc[1:].loc[:,('2021. 06','인구')]"
   ]
  },
  {
   "cell_type": "code",
   "execution_count": 58,
   "id": "f666025d-8d01-4dc2-9f4b-695a5b9a7077",
   "metadata": {},
   "outputs": [
    {
     "data": {
      "text/html": [
       "<div>\n",
       "<style scoped>\n",
       "    .dataframe tbody tr th:only-of-type {\n",
       "        vertical-align: middle;\n",
       "    }\n",
       "\n",
       "    .dataframe tbody tr th {\n",
       "        vertical-align: top;\n",
       "    }\n",
       "\n",
       "    .dataframe thead th {\n",
       "        text-align: right;\n",
       "    }\n",
       "</style>\n",
       "<table border=\"1\" class=\"dataframe\">\n",
       "  <thead>\n",
       "    <tr style=\"text-align: right;\">\n",
       "      <th></th>\n",
       "      <th></th>\n",
       "      <th>2000</th>\n",
       "      <th>2005</th>\n",
       "      <th>2010</th>\n",
       "      <th>2015</th>\n",
       "      <th>2021. 06</th>\n",
       "    </tr>\n",
       "    <tr>\n",
       "      <th>(행정구역별, 행정구역별)</th>\n",
       "      <th></th>\n",
       "      <th></th>\n",
       "      <th></th>\n",
       "      <th></th>\n",
       "      <th></th>\n",
       "      <th></th>\n",
       "    </tr>\n",
       "  </thead>\n",
       "  <tbody>\n",
       "    <tr>\n",
       "      <th rowspan=\"2\" valign=\"top\">서울특별시</th>\n",
       "      <th>비율</th>\n",
       "      <td>5.4</td>\n",
       "      <td>7.2</td>\n",
       "      <td>9.7</td>\n",
       "      <td>12.6</td>\n",
       "      <td>16.4</td>\n",
       "    </tr>\n",
       "    <tr>\n",
       "      <th>인구</th>\n",
       "      <td>558566</td>\n",
       "      <td>731349</td>\n",
       "      <td>1002770</td>\n",
       "      <td>1262436.0</td>\n",
       "      <td>1568769.0</td>\n",
       "    </tr>\n",
       "    <tr>\n",
       "      <th rowspan=\"2\" valign=\"top\">부산광역시</th>\n",
       "      <th>비율</th>\n",
       "      <td>6.0</td>\n",
       "      <td>8.3</td>\n",
       "      <td>11.3</td>\n",
       "      <td>14.6</td>\n",
       "      <td>19.8</td>\n",
       "    </tr>\n",
       "    <tr>\n",
       "      <th>인구</th>\n",
       "      <td>229075</td>\n",
       "      <td>302784</td>\n",
       "      <td>401784</td>\n",
       "      <td>514630.0</td>\n",
       "      <td>666644.0</td>\n",
       "    </tr>\n",
       "    <tr>\n",
       "      <th rowspan=\"2\" valign=\"top\">대구광역시</th>\n",
       "      <th>비율</th>\n",
       "      <td>5.9</td>\n",
       "      <td>7.8</td>\n",
       "      <td>10.0</td>\n",
       "      <td>12.7</td>\n",
       "      <td>17.0</td>\n",
       "    </tr>\n",
       "    <tr>\n",
       "      <th>인구</th>\n",
       "      <td>149045</td>\n",
       "      <td>195419</td>\n",
       "      <td>252084</td>\n",
       "      <td>316122.0</td>\n",
       "      <td>408235.0</td>\n",
       "    </tr>\n",
       "    <tr>\n",
       "      <th rowspan=\"2\" valign=\"top\">인천광역시</th>\n",
       "      <th>비율</th>\n",
       "      <td>5.4</td>\n",
       "      <td>6.9</td>\n",
       "      <td>8.6</td>\n",
       "      <td>10.7</td>\n",
       "      <td>14.4</td>\n",
       "    </tr>\n",
       "    <tr>\n",
       "      <th>인구</th>\n",
       "      <td>138316</td>\n",
       "      <td>178602</td>\n",
       "      <td>237805</td>\n",
       "      <td>312905.0</td>\n",
       "      <td>422658.0</td>\n",
       "    </tr>\n",
       "    <tr>\n",
       "      <th rowspan=\"2\" valign=\"top\">광주광역시</th>\n",
       "      <th>비율</th>\n",
       "      <td>5.6</td>\n",
       "      <td>7.1</td>\n",
       "      <td>9.0</td>\n",
       "      <td>11.3</td>\n",
       "      <td>14.5</td>\n",
       "    </tr>\n",
       "    <tr>\n",
       "      <th>인구</th>\n",
       "      <td>77325</td>\n",
       "      <td>99389</td>\n",
       "      <td>130457</td>\n",
       "      <td>166389.0</td>\n",
       "      <td>208879.0</td>\n",
       "    </tr>\n",
       "    <tr>\n",
       "      <th rowspan=\"2\" valign=\"top\">대전광역시</th>\n",
       "      <th>비율</th>\n",
       "      <td>5.5</td>\n",
       "      <td>6.9</td>\n",
       "      <td>8.7</td>\n",
       "      <td>10.9</td>\n",
       "      <td>14.8</td>\n",
       "    </tr>\n",
       "    <tr>\n",
       "      <th>인구</th>\n",
       "      <td>75769</td>\n",
       "      <td>99811</td>\n",
       "      <td>130245</td>\n",
       "      <td>165528.0</td>\n",
       "      <td>215997.0</td>\n",
       "    </tr>\n",
       "    <tr>\n",
       "      <th rowspan=\"2\" valign=\"top\">울산광역시</th>\n",
       "      <th>비율</th>\n",
       "      <td>4.0</td>\n",
       "      <td>5.3</td>\n",
       "      <td>6.8</td>\n",
       "      <td>8.8</td>\n",
       "      <td>13.1</td>\n",
       "    </tr>\n",
       "    <tr>\n",
       "      <th>인구</th>\n",
       "      <td>42119</td>\n",
       "      <td>57797</td>\n",
       "      <td>76800</td>\n",
       "      <td>103205.0</td>\n",
       "      <td>147811.0</td>\n",
       "    </tr>\n",
       "    <tr>\n",
       "      <th rowspan=\"2\" valign=\"top\">세종특별자치시</th>\n",
       "      <th>비율</th>\n",
       "      <td>-</td>\n",
       "      <td>-</td>\n",
       "      <td>-</td>\n",
       "      <td>10.6</td>\n",
       "      <td>10.0</td>\n",
       "    </tr>\n",
       "    <tr>\n",
       "      <th>인구</th>\n",
       "      <td>-</td>\n",
       "      <td>-</td>\n",
       "      <td>-</td>\n",
       "      <td>22399.0</td>\n",
       "      <td>36194.0</td>\n",
       "    </tr>\n",
       "    <tr>\n",
       "      <th rowspan=\"2\" valign=\"top\">경기도</th>\n",
       "      <th>비율</th>\n",
       "      <td>5.7</td>\n",
       "      <td>7.1</td>\n",
       "      <td>8.7</td>\n",
       "      <td>10.5</td>\n",
       "      <td>13.5</td>\n",
       "    </tr>\n",
       "    <tr>\n",
       "      <th>인구</th>\n",
       "      <td>524807</td>\n",
       "      <td>755511</td>\n",
       "      <td>1022456</td>\n",
       "      <td>1318882.0</td>\n",
       "      <td>1825846.0</td>\n",
       "    </tr>\n",
       "    <tr>\n",
       "      <th rowspan=\"2\" valign=\"top\">강원도</th>\n",
       "      <th>비율</th>\n",
       "      <td>9.3</td>\n",
       "      <td>12.1</td>\n",
       "      <td>14.8</td>\n",
       "      <td>16.9</td>\n",
       "      <td>21.2</td>\n",
       "    </tr>\n",
       "    <tr>\n",
       "      <th>인구</th>\n",
       "      <td>143945</td>\n",
       "      <td>183471</td>\n",
       "      <td>226505</td>\n",
       "      <td>261671.0</td>\n",
       "      <td>325579.0</td>\n",
       "    </tr>\n",
       "    <tr>\n",
       "      <th rowspan=\"2\" valign=\"top\">충청북도</th>\n",
       "      <th>비율</th>\n",
       "      <td>9.1</td>\n",
       "      <td>11.3</td>\n",
       "      <td>13.2</td>\n",
       "      <td>14.8</td>\n",
       "      <td>18.4</td>\n",
       "    </tr>\n",
       "    <tr>\n",
       "      <th>인구</th>\n",
       "      <td>136160</td>\n",
       "      <td>168670</td>\n",
       "      <td>204470</td>\n",
       "      <td>234813.0</td>\n",
       "      <td>294530.0</td>\n",
       "    </tr>\n",
       "    <tr>\n",
       "      <th rowspan=\"2\" valign=\"top\">충청남도</th>\n",
       "      <th>비율</th>\n",
       "      <td>11.2</td>\n",
       "      <td>13.3</td>\n",
       "      <td>14.9</td>\n",
       "      <td>16.4</td>\n",
       "      <td>19.5</td>\n",
       "    </tr>\n",
       "    <tr>\n",
       "      <th>인구</th>\n",
       "      <td>215059</td>\n",
       "      <td>261800</td>\n",
       "      <td>308556</td>\n",
       "      <td>341214.0</td>\n",
       "      <td>412504.0</td>\n",
       "    </tr>\n",
       "    <tr>\n",
       "      <th rowspan=\"2\" valign=\"top\">전라북도</th>\n",
       "      <th>비율</th>\n",
       "      <td>10.3</td>\n",
       "      <td>12.9</td>\n",
       "      <td>15.2</td>\n",
       "      <td>17.8</td>\n",
       "      <td>21.8</td>\n",
       "    </tr>\n",
       "    <tr>\n",
       "      <th>인구</th>\n",
       "      <td>205807</td>\n",
       "      <td>243721</td>\n",
       "      <td>284373</td>\n",
       "      <td>333524.0</td>\n",
       "      <td>391178.0</td>\n",
       "    </tr>\n",
       "    <tr>\n",
       "      <th rowspan=\"2\" valign=\"top\">전라남도</th>\n",
       "      <th>비율</th>\n",
       "      <td>11.9</td>\n",
       "      <td>15.6</td>\n",
       "      <td>18.3</td>\n",
       "      <td>20.5</td>\n",
       "      <td>23.9</td>\n",
       "    </tr>\n",
       "    <tr>\n",
       "      <th>인구</th>\n",
       "      <td>254370</td>\n",
       "      <td>306439</td>\n",
       "      <td>350900</td>\n",
       "      <td>391837.0</td>\n",
       "      <td>440014.0</td>\n",
       "    </tr>\n",
       "    <tr>\n",
       "      <th rowspan=\"2\" valign=\"top\">경상북도</th>\n",
       "      <th>비율</th>\n",
       "      <td>10.7</td>\n",
       "      <td>13.4</td>\n",
       "      <td>15.6</td>\n",
       "      <td>17.7</td>\n",
       "      <td>22.2</td>\n",
       "    </tr>\n",
       "    <tr>\n",
       "      <th>인구</th>\n",
       "      <td>300614</td>\n",
       "      <td>360068</td>\n",
       "      <td>418858</td>\n",
       "      <td>479634.0</td>\n",
       "      <td>585088.0</td>\n",
       "    </tr>\n",
       "    <tr>\n",
       "      <th rowspan=\"2\" valign=\"top\">경상남도</th>\n",
       "      <th>비율</th>\n",
       "      <td>8.4</td>\n",
       "      <td>10.2</td>\n",
       "      <td>11.8</td>\n",
       "      <td>13.8</td>\n",
       "      <td>17.9</td>\n",
       "    </tr>\n",
       "    <tr>\n",
       "      <th>인구</th>\n",
       "      <td>261303</td>\n",
       "      <td>323898</td>\n",
       "      <td>388648</td>\n",
       "      <td>464019.0</td>\n",
       "      <td>594154.0</td>\n",
       "    </tr>\n",
       "    <tr>\n",
       "      <th rowspan=\"2\" valign=\"top\">제주특별자치도</th>\n",
       "      <th>비율</th>\n",
       "      <td>8.0</td>\n",
       "      <td>10.0</td>\n",
       "      <td>12.2</td>\n",
       "      <td>13.8</td>\n",
       "      <td>16.0</td>\n",
       "    </tr>\n",
       "    <tr>\n",
       "      <th>인구</th>\n",
       "      <td>43334</td>\n",
       "      <td>55795</td>\n",
       "      <td>69641</td>\n",
       "      <td>85893.0</td>\n",
       "      <td>108118.0</td>\n",
       "    </tr>\n",
       "  </tbody>\n",
       "</table>\n",
       "</div>"
      ],
      "text/plain": [
       "                     2000    2005     2010       2015   2021. 06\n",
       "(행정구역별, 행정구역별)                                                  \n",
       "서울특별시          비율     5.4     7.2      9.7       12.6       16.4\n",
       "               인구  558566  731349  1002770  1262436.0  1568769.0\n",
       "부산광역시          비율     6.0     8.3     11.3       14.6       19.8\n",
       "               인구  229075  302784   401784   514630.0   666644.0\n",
       "대구광역시          비율     5.9     7.8     10.0       12.7       17.0\n",
       "               인구  149045  195419   252084   316122.0   408235.0\n",
       "인천광역시          비율     5.4     6.9      8.6       10.7       14.4\n",
       "               인구  138316  178602   237805   312905.0   422658.0\n",
       "광주광역시          비율     5.6     7.1      9.0       11.3       14.5\n",
       "               인구   77325   99389   130457   166389.0   208879.0\n",
       "대전광역시          비율     5.5     6.9      8.7       10.9       14.8\n",
       "               인구   75769   99811   130245   165528.0   215997.0\n",
       "울산광역시          비율     4.0     5.3      6.8        8.8       13.1\n",
       "               인구   42119   57797    76800   103205.0   147811.0\n",
       "세종특별자치시        비율       -       -        -       10.6       10.0\n",
       "               인구       -       -        -    22399.0    36194.0\n",
       "경기도            비율     5.7     7.1      8.7       10.5       13.5\n",
       "               인구  524807  755511  1022456  1318882.0  1825846.0\n",
       "강원도            비율     9.3    12.1     14.8       16.9       21.2\n",
       "               인구  143945  183471   226505   261671.0   325579.0\n",
       "충청북도           비율     9.1    11.3     13.2       14.8       18.4\n",
       "               인구  136160  168670   204470   234813.0   294530.0\n",
       "충청남도           비율    11.2    13.3     14.9       16.4       19.5\n",
       "               인구  215059  261800   308556   341214.0   412504.0\n",
       "전라북도           비율    10.3    12.9     15.2       17.8       21.8\n",
       "               인구  205807  243721   284373   333524.0   391178.0\n",
       "전라남도           비율    11.9    15.6     18.3       20.5       23.9\n",
       "               인구  254370  306439   350900   391837.0   440014.0\n",
       "경상북도           비율    10.7    13.4     15.6       17.7       22.2\n",
       "               인구  300614  360068   418858   479634.0   585088.0\n",
       "경상남도           비율     8.4    10.2     11.8       13.8       17.9\n",
       "               인구  261303  323898   388648   464019.0   594154.0\n",
       "제주특별자치도        비율     8.0    10.0     12.2       13.8       16.0\n",
       "               인구   43334   55795    69641    85893.0   108118.0"
      ]
     },
     "execution_count": 58,
     "metadata": {},
     "output_type": "execute_result"
    }
   ],
   "source": [
    "df[19].iloc[1:].set_index(('행정구역별','행정구역별')).stack()"
   ]
  },
  {
   "cell_type": "markdown",
   "id": "085c1b37-fd17-46db-89c3-59d539ffb91a",
   "metadata": {},
   "source": [
    "- 나쁘지 않은 중간과정"
   ]
  },
  {
   "cell_type": "code",
   "execution_count": 59,
   "id": "3a739cdd-0f0b-4eca-af25-d0cb884782da",
   "metadata": {},
   "outputs": [
    {
     "data": {
      "text/html": [
       "<div>\n",
       "<style scoped>\n",
       "    .dataframe tbody tr th:only-of-type {\n",
       "        vertical-align: middle;\n",
       "    }\n",
       "\n",
       "    .dataframe tbody tr th {\n",
       "        vertical-align: top;\n",
       "    }\n",
       "\n",
       "    .dataframe thead th {\n",
       "        text-align: right;\n",
       "    }\n",
       "</style>\n",
       "<table border=\"1\" class=\"dataframe\">\n",
       "  <thead>\n",
       "    <tr style=\"text-align: right;\">\n",
       "      <th></th>\n",
       "      <th>(행정구역별, 행정구역별)</th>\n",
       "      <th>level_1</th>\n",
       "      <th>2000</th>\n",
       "      <th>2005</th>\n",
       "      <th>2010</th>\n",
       "      <th>2015</th>\n",
       "      <th>2021. 06</th>\n",
       "    </tr>\n",
       "  </thead>\n",
       "  <tbody>\n",
       "    <tr>\n",
       "      <th>0</th>\n",
       "      <td>서울특별시</td>\n",
       "      <td>비율</td>\n",
       "      <td>5.4</td>\n",
       "      <td>7.2</td>\n",
       "      <td>9.7</td>\n",
       "      <td>12.6</td>\n",
       "      <td>16.4</td>\n",
       "    </tr>\n",
       "    <tr>\n",
       "      <th>1</th>\n",
       "      <td>서울특별시</td>\n",
       "      <td>인구</td>\n",
       "      <td>558566</td>\n",
       "      <td>731349</td>\n",
       "      <td>1002770</td>\n",
       "      <td>1262436.0</td>\n",
       "      <td>1568769.0</td>\n",
       "    </tr>\n",
       "    <tr>\n",
       "      <th>2</th>\n",
       "      <td>부산광역시</td>\n",
       "      <td>비율</td>\n",
       "      <td>6.0</td>\n",
       "      <td>8.3</td>\n",
       "      <td>11.3</td>\n",
       "      <td>14.6</td>\n",
       "      <td>19.8</td>\n",
       "    </tr>\n",
       "    <tr>\n",
       "      <th>3</th>\n",
       "      <td>부산광역시</td>\n",
       "      <td>인구</td>\n",
       "      <td>229075</td>\n",
       "      <td>302784</td>\n",
       "      <td>401784</td>\n",
       "      <td>514630.0</td>\n",
       "      <td>666644.0</td>\n",
       "    </tr>\n",
       "    <tr>\n",
       "      <th>4</th>\n",
       "      <td>대구광역시</td>\n",
       "      <td>비율</td>\n",
       "      <td>5.9</td>\n",
       "      <td>7.8</td>\n",
       "      <td>10.0</td>\n",
       "      <td>12.7</td>\n",
       "      <td>17.0</td>\n",
       "    </tr>\n",
       "    <tr>\n",
       "      <th>5</th>\n",
       "      <td>대구광역시</td>\n",
       "      <td>인구</td>\n",
       "      <td>149045</td>\n",
       "      <td>195419</td>\n",
       "      <td>252084</td>\n",
       "      <td>316122.0</td>\n",
       "      <td>408235.0</td>\n",
       "    </tr>\n",
       "    <tr>\n",
       "      <th>6</th>\n",
       "      <td>인천광역시</td>\n",
       "      <td>비율</td>\n",
       "      <td>5.4</td>\n",
       "      <td>6.9</td>\n",
       "      <td>8.6</td>\n",
       "      <td>10.7</td>\n",
       "      <td>14.4</td>\n",
       "    </tr>\n",
       "    <tr>\n",
       "      <th>7</th>\n",
       "      <td>인천광역시</td>\n",
       "      <td>인구</td>\n",
       "      <td>138316</td>\n",
       "      <td>178602</td>\n",
       "      <td>237805</td>\n",
       "      <td>312905.0</td>\n",
       "      <td>422658.0</td>\n",
       "    </tr>\n",
       "    <tr>\n",
       "      <th>8</th>\n",
       "      <td>광주광역시</td>\n",
       "      <td>비율</td>\n",
       "      <td>5.6</td>\n",
       "      <td>7.1</td>\n",
       "      <td>9.0</td>\n",
       "      <td>11.3</td>\n",
       "      <td>14.5</td>\n",
       "    </tr>\n",
       "    <tr>\n",
       "      <th>9</th>\n",
       "      <td>광주광역시</td>\n",
       "      <td>인구</td>\n",
       "      <td>77325</td>\n",
       "      <td>99389</td>\n",
       "      <td>130457</td>\n",
       "      <td>166389.0</td>\n",
       "      <td>208879.0</td>\n",
       "    </tr>\n",
       "    <tr>\n",
       "      <th>10</th>\n",
       "      <td>대전광역시</td>\n",
       "      <td>비율</td>\n",
       "      <td>5.5</td>\n",
       "      <td>6.9</td>\n",
       "      <td>8.7</td>\n",
       "      <td>10.9</td>\n",
       "      <td>14.8</td>\n",
       "    </tr>\n",
       "    <tr>\n",
       "      <th>11</th>\n",
       "      <td>대전광역시</td>\n",
       "      <td>인구</td>\n",
       "      <td>75769</td>\n",
       "      <td>99811</td>\n",
       "      <td>130245</td>\n",
       "      <td>165528.0</td>\n",
       "      <td>215997.0</td>\n",
       "    </tr>\n",
       "    <tr>\n",
       "      <th>12</th>\n",
       "      <td>울산광역시</td>\n",
       "      <td>비율</td>\n",
       "      <td>4.0</td>\n",
       "      <td>5.3</td>\n",
       "      <td>6.8</td>\n",
       "      <td>8.8</td>\n",
       "      <td>13.1</td>\n",
       "    </tr>\n",
       "    <tr>\n",
       "      <th>13</th>\n",
       "      <td>울산광역시</td>\n",
       "      <td>인구</td>\n",
       "      <td>42119</td>\n",
       "      <td>57797</td>\n",
       "      <td>76800</td>\n",
       "      <td>103205.0</td>\n",
       "      <td>147811.0</td>\n",
       "    </tr>\n",
       "    <tr>\n",
       "      <th>14</th>\n",
       "      <td>세종특별자치시</td>\n",
       "      <td>비율</td>\n",
       "      <td>-</td>\n",
       "      <td>-</td>\n",
       "      <td>-</td>\n",
       "      <td>10.6</td>\n",
       "      <td>10.0</td>\n",
       "    </tr>\n",
       "    <tr>\n",
       "      <th>15</th>\n",
       "      <td>세종특별자치시</td>\n",
       "      <td>인구</td>\n",
       "      <td>-</td>\n",
       "      <td>-</td>\n",
       "      <td>-</td>\n",
       "      <td>22399.0</td>\n",
       "      <td>36194.0</td>\n",
       "    </tr>\n",
       "    <tr>\n",
       "      <th>16</th>\n",
       "      <td>경기도</td>\n",
       "      <td>비율</td>\n",
       "      <td>5.7</td>\n",
       "      <td>7.1</td>\n",
       "      <td>8.7</td>\n",
       "      <td>10.5</td>\n",
       "      <td>13.5</td>\n",
       "    </tr>\n",
       "    <tr>\n",
       "      <th>17</th>\n",
       "      <td>경기도</td>\n",
       "      <td>인구</td>\n",
       "      <td>524807</td>\n",
       "      <td>755511</td>\n",
       "      <td>1022456</td>\n",
       "      <td>1318882.0</td>\n",
       "      <td>1825846.0</td>\n",
       "    </tr>\n",
       "    <tr>\n",
       "      <th>18</th>\n",
       "      <td>강원도</td>\n",
       "      <td>비율</td>\n",
       "      <td>9.3</td>\n",
       "      <td>12.1</td>\n",
       "      <td>14.8</td>\n",
       "      <td>16.9</td>\n",
       "      <td>21.2</td>\n",
       "    </tr>\n",
       "    <tr>\n",
       "      <th>19</th>\n",
       "      <td>강원도</td>\n",
       "      <td>인구</td>\n",
       "      <td>143945</td>\n",
       "      <td>183471</td>\n",
       "      <td>226505</td>\n",
       "      <td>261671.0</td>\n",
       "      <td>325579.0</td>\n",
       "    </tr>\n",
       "    <tr>\n",
       "      <th>20</th>\n",
       "      <td>충청북도</td>\n",
       "      <td>비율</td>\n",
       "      <td>9.1</td>\n",
       "      <td>11.3</td>\n",
       "      <td>13.2</td>\n",
       "      <td>14.8</td>\n",
       "      <td>18.4</td>\n",
       "    </tr>\n",
       "    <tr>\n",
       "      <th>21</th>\n",
       "      <td>충청북도</td>\n",
       "      <td>인구</td>\n",
       "      <td>136160</td>\n",
       "      <td>168670</td>\n",
       "      <td>204470</td>\n",
       "      <td>234813.0</td>\n",
       "      <td>294530.0</td>\n",
       "    </tr>\n",
       "    <tr>\n",
       "      <th>22</th>\n",
       "      <td>충청남도</td>\n",
       "      <td>비율</td>\n",
       "      <td>11.2</td>\n",
       "      <td>13.3</td>\n",
       "      <td>14.9</td>\n",
       "      <td>16.4</td>\n",
       "      <td>19.5</td>\n",
       "    </tr>\n",
       "    <tr>\n",
       "      <th>23</th>\n",
       "      <td>충청남도</td>\n",
       "      <td>인구</td>\n",
       "      <td>215059</td>\n",
       "      <td>261800</td>\n",
       "      <td>308556</td>\n",
       "      <td>341214.0</td>\n",
       "      <td>412504.0</td>\n",
       "    </tr>\n",
       "    <tr>\n",
       "      <th>24</th>\n",
       "      <td>전라북도</td>\n",
       "      <td>비율</td>\n",
       "      <td>10.3</td>\n",
       "      <td>12.9</td>\n",
       "      <td>15.2</td>\n",
       "      <td>17.8</td>\n",
       "      <td>21.8</td>\n",
       "    </tr>\n",
       "    <tr>\n",
       "      <th>25</th>\n",
       "      <td>전라북도</td>\n",
       "      <td>인구</td>\n",
       "      <td>205807</td>\n",
       "      <td>243721</td>\n",
       "      <td>284373</td>\n",
       "      <td>333524.0</td>\n",
       "      <td>391178.0</td>\n",
       "    </tr>\n",
       "    <tr>\n",
       "      <th>26</th>\n",
       "      <td>전라남도</td>\n",
       "      <td>비율</td>\n",
       "      <td>11.9</td>\n",
       "      <td>15.6</td>\n",
       "      <td>18.3</td>\n",
       "      <td>20.5</td>\n",
       "      <td>23.9</td>\n",
       "    </tr>\n",
       "    <tr>\n",
       "      <th>27</th>\n",
       "      <td>전라남도</td>\n",
       "      <td>인구</td>\n",
       "      <td>254370</td>\n",
       "      <td>306439</td>\n",
       "      <td>350900</td>\n",
       "      <td>391837.0</td>\n",
       "      <td>440014.0</td>\n",
       "    </tr>\n",
       "    <tr>\n",
       "      <th>28</th>\n",
       "      <td>경상북도</td>\n",
       "      <td>비율</td>\n",
       "      <td>10.7</td>\n",
       "      <td>13.4</td>\n",
       "      <td>15.6</td>\n",
       "      <td>17.7</td>\n",
       "      <td>22.2</td>\n",
       "    </tr>\n",
       "    <tr>\n",
       "      <th>29</th>\n",
       "      <td>경상북도</td>\n",
       "      <td>인구</td>\n",
       "      <td>300614</td>\n",
       "      <td>360068</td>\n",
       "      <td>418858</td>\n",
       "      <td>479634.0</td>\n",
       "      <td>585088.0</td>\n",
       "    </tr>\n",
       "    <tr>\n",
       "      <th>30</th>\n",
       "      <td>경상남도</td>\n",
       "      <td>비율</td>\n",
       "      <td>8.4</td>\n",
       "      <td>10.2</td>\n",
       "      <td>11.8</td>\n",
       "      <td>13.8</td>\n",
       "      <td>17.9</td>\n",
       "    </tr>\n",
       "    <tr>\n",
       "      <th>31</th>\n",
       "      <td>경상남도</td>\n",
       "      <td>인구</td>\n",
       "      <td>261303</td>\n",
       "      <td>323898</td>\n",
       "      <td>388648</td>\n",
       "      <td>464019.0</td>\n",
       "      <td>594154.0</td>\n",
       "    </tr>\n",
       "    <tr>\n",
       "      <th>32</th>\n",
       "      <td>제주특별자치도</td>\n",
       "      <td>비율</td>\n",
       "      <td>8.0</td>\n",
       "      <td>10.0</td>\n",
       "      <td>12.2</td>\n",
       "      <td>13.8</td>\n",
       "      <td>16.0</td>\n",
       "    </tr>\n",
       "    <tr>\n",
       "      <th>33</th>\n",
       "      <td>제주특별자치도</td>\n",
       "      <td>인구</td>\n",
       "      <td>43334</td>\n",
       "      <td>55795</td>\n",
       "      <td>69641</td>\n",
       "      <td>85893.0</td>\n",
       "      <td>108118.0</td>\n",
       "    </tr>\n",
       "  </tbody>\n",
       "</table>\n",
       "</div>"
      ],
      "text/plain": [
       "   (행정구역별, 행정구역별) level_1    2000    2005     2010       2015   2021. 06\n",
       "0           서울특별시      비율     5.4     7.2      9.7       12.6       16.4\n",
       "1           서울특별시      인구  558566  731349  1002770  1262436.0  1568769.0\n",
       "2           부산광역시      비율     6.0     8.3     11.3       14.6       19.8\n",
       "3           부산광역시      인구  229075  302784   401784   514630.0   666644.0\n",
       "4           대구광역시      비율     5.9     7.8     10.0       12.7       17.0\n",
       "5           대구광역시      인구  149045  195419   252084   316122.0   408235.0\n",
       "6           인천광역시      비율     5.4     6.9      8.6       10.7       14.4\n",
       "7           인천광역시      인구  138316  178602   237805   312905.0   422658.0\n",
       "8           광주광역시      비율     5.6     7.1      9.0       11.3       14.5\n",
       "9           광주광역시      인구   77325   99389   130457   166389.0   208879.0\n",
       "10          대전광역시      비율     5.5     6.9      8.7       10.9       14.8\n",
       "11          대전광역시      인구   75769   99811   130245   165528.0   215997.0\n",
       "12          울산광역시      비율     4.0     5.3      6.8        8.8       13.1\n",
       "13          울산광역시      인구   42119   57797    76800   103205.0   147811.0\n",
       "14        세종특별자치시      비율       -       -        -       10.6       10.0\n",
       "15        세종특별자치시      인구       -       -        -    22399.0    36194.0\n",
       "16            경기도      비율     5.7     7.1      8.7       10.5       13.5\n",
       "17            경기도      인구  524807  755511  1022456  1318882.0  1825846.0\n",
       "18            강원도      비율     9.3    12.1     14.8       16.9       21.2\n",
       "19            강원도      인구  143945  183471   226505   261671.0   325579.0\n",
       "20           충청북도      비율     9.1    11.3     13.2       14.8       18.4\n",
       "21           충청북도      인구  136160  168670   204470   234813.0   294530.0\n",
       "22           충청남도      비율    11.2    13.3     14.9       16.4       19.5\n",
       "23           충청남도      인구  215059  261800   308556   341214.0   412504.0\n",
       "24           전라북도      비율    10.3    12.9     15.2       17.8       21.8\n",
       "25           전라북도      인구  205807  243721   284373   333524.0   391178.0\n",
       "26           전라남도      비율    11.9    15.6     18.3       20.5       23.9\n",
       "27           전라남도      인구  254370  306439   350900   391837.0   440014.0\n",
       "28           경상북도      비율    10.7    13.4     15.6       17.7       22.2\n",
       "29           경상북도      인구  300614  360068   418858   479634.0   585088.0\n",
       "30           경상남도      비율     8.4    10.2     11.8       13.8       17.9\n",
       "31           경상남도      인구  261303  323898   388648   464019.0   594154.0\n",
       "32        제주특별자치도      비율     8.0    10.0     12.2       13.8       16.0\n",
       "33        제주특별자치도      인구   43334   55795    69641    85893.0   108118.0"
      ]
     },
     "execution_count": 59,
     "metadata": {},
     "output_type": "execute_result"
    }
   ],
   "source": [
    "df[19].iloc[1:].set_index(('행정구역별','행정구역별')).stack().reset_index()"
   ]
  },
  {
   "cell_type": "markdown",
   "id": "007fbf4e-e368-4490-add1-a891bdf5c880",
   "metadata": {},
   "source": [
    "`-` 시각화를 위해서 비율만 선택하도록 하자."
   ]
  },
  {
   "cell_type": "code",
   "execution_count": 60,
   "id": "716f6c23-f16e-4eaf-9835-cb48f4f0963f",
   "metadata": {},
   "outputs": [
    {
     "data": {
      "text/html": [
       "<div>\n",
       "<style scoped>\n",
       "    .dataframe tbody tr th:only-of-type {\n",
       "        vertical-align: middle;\n",
       "    }\n",
       "\n",
       "    .dataframe tbody tr th {\n",
       "        vertical-align: top;\n",
       "    }\n",
       "\n",
       "    .dataframe thead th {\n",
       "        text-align: right;\n",
       "    }\n",
       "</style>\n",
       "<table border=\"1\" class=\"dataframe\">\n",
       "  <thead>\n",
       "    <tr style=\"text-align: right;\">\n",
       "      <th>(행정구역별, 행정구역별)</th>\n",
       "      <th>서울특별시</th>\n",
       "      <th>부산광역시</th>\n",
       "      <th>대구광역시</th>\n",
       "      <th>인천광역시</th>\n",
       "      <th>광주광역시</th>\n",
       "      <th>대전광역시</th>\n",
       "      <th>울산광역시</th>\n",
       "      <th>세종특별자치시</th>\n",
       "      <th>경기도</th>\n",
       "      <th>강원도</th>\n",
       "      <th>충청북도</th>\n",
       "      <th>충청남도</th>\n",
       "      <th>전라북도</th>\n",
       "      <th>전라남도</th>\n",
       "      <th>경상북도</th>\n",
       "      <th>경상남도</th>\n",
       "      <th>제주특별자치도</th>\n",
       "    </tr>\n",
       "  </thead>\n",
       "  <tbody>\n",
       "    <tr>\n",
       "      <th>2000</th>\n",
       "      <td>5.4</td>\n",
       "      <td>6.0</td>\n",
       "      <td>5.9</td>\n",
       "      <td>5.4</td>\n",
       "      <td>5.6</td>\n",
       "      <td>5.5</td>\n",
       "      <td>4.0</td>\n",
       "      <td>-</td>\n",
       "      <td>5.7</td>\n",
       "      <td>9.3</td>\n",
       "      <td>9.1</td>\n",
       "      <td>11.2</td>\n",
       "      <td>10.3</td>\n",
       "      <td>11.9</td>\n",
       "      <td>10.7</td>\n",
       "      <td>8.4</td>\n",
       "      <td>8.0</td>\n",
       "    </tr>\n",
       "    <tr>\n",
       "      <th>2005</th>\n",
       "      <td>7.2</td>\n",
       "      <td>8.3</td>\n",
       "      <td>7.8</td>\n",
       "      <td>6.9</td>\n",
       "      <td>7.1</td>\n",
       "      <td>6.9</td>\n",
       "      <td>5.3</td>\n",
       "      <td>-</td>\n",
       "      <td>7.1</td>\n",
       "      <td>12.1</td>\n",
       "      <td>11.3</td>\n",
       "      <td>13.3</td>\n",
       "      <td>12.9</td>\n",
       "      <td>15.6</td>\n",
       "      <td>13.4</td>\n",
       "      <td>10.2</td>\n",
       "      <td>10.0</td>\n",
       "    </tr>\n",
       "    <tr>\n",
       "      <th>2010</th>\n",
       "      <td>9.7</td>\n",
       "      <td>11.3</td>\n",
       "      <td>10.0</td>\n",
       "      <td>8.6</td>\n",
       "      <td>9.0</td>\n",
       "      <td>8.7</td>\n",
       "      <td>6.8</td>\n",
       "      <td>-</td>\n",
       "      <td>8.7</td>\n",
       "      <td>14.8</td>\n",
       "      <td>13.2</td>\n",
       "      <td>14.9</td>\n",
       "      <td>15.2</td>\n",
       "      <td>18.3</td>\n",
       "      <td>15.6</td>\n",
       "      <td>11.8</td>\n",
       "      <td>12.2</td>\n",
       "    </tr>\n",
       "    <tr>\n",
       "      <th>2015</th>\n",
       "      <td>12.6</td>\n",
       "      <td>14.6</td>\n",
       "      <td>12.7</td>\n",
       "      <td>10.7</td>\n",
       "      <td>11.3</td>\n",
       "      <td>10.9</td>\n",
       "      <td>8.8</td>\n",
       "      <td>10.6</td>\n",
       "      <td>10.5</td>\n",
       "      <td>16.9</td>\n",
       "      <td>14.8</td>\n",
       "      <td>16.4</td>\n",
       "      <td>17.8</td>\n",
       "      <td>20.5</td>\n",
       "      <td>17.7</td>\n",
       "      <td>13.8</td>\n",
       "      <td>13.8</td>\n",
       "    </tr>\n",
       "    <tr>\n",
       "      <th>2021. 06</th>\n",
       "      <td>16.4</td>\n",
       "      <td>19.8</td>\n",
       "      <td>17.0</td>\n",
       "      <td>14.4</td>\n",
       "      <td>14.5</td>\n",
       "      <td>14.8</td>\n",
       "      <td>13.1</td>\n",
       "      <td>10.0</td>\n",
       "      <td>13.5</td>\n",
       "      <td>21.2</td>\n",
       "      <td>18.4</td>\n",
       "      <td>19.5</td>\n",
       "      <td>21.8</td>\n",
       "      <td>23.9</td>\n",
       "      <td>22.2</td>\n",
       "      <td>17.9</td>\n",
       "      <td>16.0</td>\n",
       "    </tr>\n",
       "  </tbody>\n",
       "</table>\n",
       "</div>"
      ],
      "text/plain": [
       "('행정구역별', '행정구역별') 서울특별시 부산광역시 대구광역시 인천광역시 광주광역시 대전광역시 울산광역시 세종특별자치시   경기도  \\\n",
       "2000                 5.4   6.0   5.9   5.4   5.6   5.5   4.0       -   5.7   \n",
       "2005                 7.2   8.3   7.8   6.9   7.1   6.9   5.3       -   7.1   \n",
       "2010                 9.7  11.3  10.0   8.6   9.0   8.7   6.8       -   8.7   \n",
       "2015                12.6  14.6  12.7  10.7  11.3  10.9   8.8    10.6  10.5   \n",
       "2021. 06            16.4  19.8  17.0  14.4  14.5  14.8  13.1    10.0  13.5   \n",
       "\n",
       "('행정구역별', '행정구역별')   강원도  충청북도  충청남도  전라북도  전라남도  경상북도  경상남도 제주특별자치도  \n",
       "2000                 9.3   9.1  11.2  10.3  11.9  10.7   8.4     8.0  \n",
       "2005                12.1  11.3  13.3  12.9  15.6  13.4  10.2    10.0  \n",
       "2010                14.8  13.2  14.9  15.2  18.3  15.6  11.8    12.2  \n",
       "2015                16.9  14.8  16.4  17.8  20.5  17.7  13.8    13.8  \n",
       "2021. 06            21.2  18.4  19.5  21.8  23.9  22.2  17.9    16.0  "
      ]
     },
     "execution_count": 60,
     "metadata": {},
     "output_type": "execute_result"
    }
   ],
   "source": [
    "df[19].iloc[1:].set_index(('행정구역별','행정구역별')).stack().reset_index().\\\n",
    "query('level_1==\"비율\"').set_index(('행정구역별','행정구역별')).iloc[:,1:].T #matplotlib은 wide form 필요"
   ]
  },
  {
   "cell_type": "markdown",
   "id": "d42a527b-ad49-4862-98a9-c9a77a7e1db8",
   "metadata": {},
   "source": [
    "`-` 세종시의 -가 문제가 될듯 $\\to$ 자료형도 이상함"
   ]
  },
  {
   "cell_type": "code",
   "execution_count": 61,
   "id": "b3ee5dc9-b413-4935-9b05-5e843280ffef",
   "metadata": {},
   "outputs": [
    {
     "data": {
      "text/plain": [
       "'5.4'"
      ]
     },
     "execution_count": 61,
     "metadata": {},
     "output_type": "execute_result"
    }
   ],
   "source": [
    "df[19].iloc[1:].set_index(('행정구역별','행정구역별')).stack().reset_index().\\\n",
    "query('level_1==\"비율\"').set_index(('행정구역별','행정구역별')).iloc[:,1:].T.iloc[0,0] #문자형"
   ]
  },
  {
   "cell_type": "code",
   "execution_count": 76,
   "id": "ea93e77e-8a0b-4b23-a0ce-122039c538cc",
   "metadata": {},
   "outputs": [
    {
     "data": {
      "text/plain": [
       "\u001b[0;31mType:\u001b[0m        list\n",
       "\u001b[0;31mString form:\u001b[0m\n",
       "[   Unnamed: 0_level_0   2016          2017          2018          2019         \\\n",
       "           Unnamed: 0_l <...> 다 라 마 바 사 ...          NaN\n",
       "           4                                                 분류           분류  ]\n",
       "\u001b[0;31mLength:\u001b[0m      33\n",
       "\u001b[0;31mDocstring:\u001b[0m  \n",
       "Built-in mutable sequence.\n",
       "\n",
       "If no argument is given, the constructor creates a new empty list.\n",
       "The argument must be an iterable if specified.\n"
      ]
     },
     "metadata": {},
     "output_type": "display_data"
    }
   ],
   "source": []
  },
  {
   "cell_type": "markdown",
   "id": "f48094ae-e1f6-4365-925a-37b0857f4822",
   "metadata": {},
   "source": [
    "`-` 데이터프레임의 모든 원소에 변환을 수행해야 한다. (applymap)\n",
    "- 문자형을 숫자형으로 바꿔라\n",
    "- 그런데 문자가 -라면 'None'으로 바꿔라"
   ]
  },
  {
   "cell_type": "markdown",
   "id": "c5e5e98b-0e97-406c-9d7a-e0e843334160",
   "metadata": {},
   "source": [
    "(예비학습) : None이 있으면 그래프가 그려지긴 한다."
   ]
  },
  {
   "cell_type": "code",
   "execution_count": 62,
   "id": "f950ac2f-78bf-4aa0-81a8-4dd7900154de",
   "metadata": {},
   "outputs": [
    {
     "data": {
      "text/plain": [
       "[<matplotlib.lines.Line2D at 0x7f8b79f499a0>]"
      ]
     },
     "execution_count": 62,
     "metadata": {},
     "output_type": "execute_result"
    },
    {
     "data": {
      "image/png": "[encoded data removed]",
      "text/plain": [
       "<Figure size 432x288 with 1 Axes>"
      ]
     },
     "metadata": {
      "needs_background": "light"
     },
     "output_type": "display_data"
    }
   ],
   "source": [
    "_x = [1,2,None,3,4]\n",
    "plt.plot(_x,'o--')"
   ]
  },
  {
   "cell_type": "markdown",
   "id": "1816040f-4e47-44ce-b03d-48c45ae51a02",
   "metadata": {},
   "source": [
    "(예비학습끝)"
   ]
  },
  {
   "cell_type": "code",
   "execution_count": 63,
   "id": "a5e96975-89fb-4ecf-8009-93ef170bcbbe",
   "metadata": {},
   "outputs": [
    {
     "data": {
      "text/html": [
       "<div>\n",
       "<style scoped>\n",
       "    .dataframe tbody tr th:only-of-type {\n",
       "        vertical-align: middle;\n",
       "    }\n",
       "\n",
       "    .dataframe tbody tr th {\n",
       "        vertical-align: top;\n",
       "    }\n",
       "\n",
       "    .dataframe thead th {\n",
       "        text-align: right;\n",
       "    }\n",
       "</style>\n",
       "<table border=\"1\" class=\"dataframe\">\n",
       "  <thead>\n",
       "    <tr style=\"text-align: right;\">\n",
       "      <th>(행정구역별, 행정구역별)</th>\n",
       "      <th>서울특별시</th>\n",
       "      <th>부산광역시</th>\n",
       "      <th>대구광역시</th>\n",
       "      <th>인천광역시</th>\n",
       "      <th>광주광역시</th>\n",
       "      <th>대전광역시</th>\n",
       "      <th>울산광역시</th>\n",
       "      <th>세종특별자치시</th>\n",
       "      <th>경기도</th>\n",
       "      <th>강원도</th>\n",
       "      <th>충청북도</th>\n",
       "      <th>충청남도</th>\n",
       "      <th>전라북도</th>\n",
       "      <th>전라남도</th>\n",
       "      <th>경상북도</th>\n",
       "      <th>경상남도</th>\n",
       "      <th>제주특별자치도</th>\n",
       "    </tr>\n",
       "  </thead>\n",
       "  <tbody>\n",
       "    <tr>\n",
       "      <th>2000</th>\n",
       "      <td>5.4</td>\n",
       "      <td>6.0</td>\n",
       "      <td>5.9</td>\n",
       "      <td>5.4</td>\n",
       "      <td>5.6</td>\n",
       "      <td>5.5</td>\n",
       "      <td>4.0</td>\n",
       "      <td>NaN</td>\n",
       "      <td>5.7</td>\n",
       "      <td>9.3</td>\n",
       "      <td>9.1</td>\n",
       "      <td>11.2</td>\n",
       "      <td>10.3</td>\n",
       "      <td>11.9</td>\n",
       "      <td>10.7</td>\n",
       "      <td>8.4</td>\n",
       "      <td>8.0</td>\n",
       "    </tr>\n",
       "    <tr>\n",
       "      <th>2005</th>\n",
       "      <td>7.2</td>\n",
       "      <td>8.3</td>\n",
       "      <td>7.8</td>\n",
       "      <td>6.9</td>\n",
       "      <td>7.1</td>\n",
       "      <td>6.9</td>\n",
       "      <td>5.3</td>\n",
       "      <td>NaN</td>\n",
       "      <td>7.1</td>\n",
       "      <td>12.1</td>\n",
       "      <td>11.3</td>\n",
       "      <td>13.3</td>\n",
       "      <td>12.9</td>\n",
       "      <td>15.6</td>\n",
       "      <td>13.4</td>\n",
       "      <td>10.2</td>\n",
       "      <td>10.0</td>\n",
       "    </tr>\n",
       "    <tr>\n",
       "      <th>2010</th>\n",
       "      <td>9.7</td>\n",
       "      <td>11.3</td>\n",
       "      <td>10.0</td>\n",
       "      <td>8.6</td>\n",
       "      <td>9.0</td>\n",
       "      <td>8.7</td>\n",
       "      <td>6.8</td>\n",
       "      <td>NaN</td>\n",
       "      <td>8.7</td>\n",
       "      <td>14.8</td>\n",
       "      <td>13.2</td>\n",
       "      <td>14.9</td>\n",
       "      <td>15.2</td>\n",
       "      <td>18.3</td>\n",
       "      <td>15.6</td>\n",
       "      <td>11.8</td>\n",
       "      <td>12.2</td>\n",
       "    </tr>\n",
       "    <tr>\n",
       "      <th>2015</th>\n",
       "      <td>12.6</td>\n",
       "      <td>14.6</td>\n",
       "      <td>12.7</td>\n",
       "      <td>10.7</td>\n",
       "      <td>11.3</td>\n",
       "      <td>10.9</td>\n",
       "      <td>8.8</td>\n",
       "      <td>10.6</td>\n",
       "      <td>10.5</td>\n",
       "      <td>16.9</td>\n",
       "      <td>14.8</td>\n",
       "      <td>16.4</td>\n",
       "      <td>17.8</td>\n",
       "      <td>20.5</td>\n",
       "      <td>17.7</td>\n",
       "      <td>13.8</td>\n",
       "      <td>13.8</td>\n",
       "    </tr>\n",
       "    <tr>\n",
       "      <th>2021. 06</th>\n",
       "      <td>16.4</td>\n",
       "      <td>19.8</td>\n",
       "      <td>17.0</td>\n",
       "      <td>14.4</td>\n",
       "      <td>14.5</td>\n",
       "      <td>14.8</td>\n",
       "      <td>13.1</td>\n",
       "      <td>10.0</td>\n",
       "      <td>13.5</td>\n",
       "      <td>21.2</td>\n",
       "      <td>18.4</td>\n",
       "      <td>19.5</td>\n",
       "      <td>21.8</td>\n",
       "      <td>23.9</td>\n",
       "      <td>22.2</td>\n",
       "      <td>17.9</td>\n",
       "      <td>16.0</td>\n",
       "    </tr>\n",
       "  </tbody>\n",
       "</table>\n",
       "</div>"
      ],
      "text/plain": [
       "('행정구역별', '행정구역별')  서울특별시  부산광역시  대구광역시  인천광역시  광주광역시  대전광역시  울산광역시  세종특별자치시  \\\n",
       "2000                  5.4    6.0    5.9    5.4    5.6    5.5    4.0      NaN   \n",
       "2005                  7.2    8.3    7.8    6.9    7.1    6.9    5.3      NaN   \n",
       "2010                  9.7   11.3   10.0    8.6    9.0    8.7    6.8      NaN   \n",
       "2015                 12.6   14.6   12.7   10.7   11.3   10.9    8.8     10.6   \n",
       "2021. 06             16.4   19.8   17.0   14.4   14.5   14.8   13.1     10.0   \n",
       "\n",
       "('행정구역별', '행정구역별')   경기도   강원도  충청북도  충청남도  전라북도  전라남도  경상북도  경상남도  제주특별자치도  \n",
       "2000                 5.7   9.3   9.1  11.2  10.3  11.9  10.7   8.4      8.0  \n",
       "2005                 7.1  12.1  11.3  13.3  12.9  15.6  13.4  10.2     10.0  \n",
       "2010                 8.7  14.8  13.2  14.9  15.2  18.3  15.6  11.8     12.2  \n",
       "2015                10.5  16.9  14.8  16.4  17.8  20.5  17.7  13.8     13.8  \n",
       "2021. 06            13.5  21.2  18.4  19.5  21.8  23.9  22.2  17.9     16.0  "
      ]
     },
     "execution_count": 63,
     "metadata": {},
     "output_type": "execute_result"
    }
   ],
   "source": [
    "df[19].iloc[1:].set_index(('행정구역별','행정구역별')).stack().reset_index().\\\n",
    "query('level_1==\"비율\"').set_index(('행정구역별','행정구역별')).iloc[:,1:].T.\\\n",
    "applymap(lambda x : float (x) if x!='-' else None)"
   ]
  },
  {
   "cell_type": "code",
   "execution_count": 64,
   "id": "21f81b58-8620-4a9f-a646-10b93f54196a",
   "metadata": {},
   "outputs": [
    {
     "data": {
      "text/plain": [
       "5.4"
      ]
     },
     "execution_count": 64,
     "metadata": {},
     "output_type": "execute_result"
    }
   ],
   "source": [
    "df[19].iloc[1:].set_index(('행정구역별','행정구역별')).stack().reset_index().\\\n",
    "query('level_1==\"비율\"').set_index(('행정구역별','행정구역별')).iloc[:,1:].T.\\\n",
    "applymap(lambda x : float (x) if x!='-' else None).iloc[0,0] #숫자형"
   ]
  },
  {
   "cell_type": "markdown",
   "id": "14290fac-62c8-4bfc-a82a-cfc164cda9d9",
   "metadata": {},
   "source": [
    "`-` 이제 그리자"
   ]
  },
  {
   "cell_type": "code",
   "execution_count": 65,
   "id": "361228a4-161c-4ec1-a831-88ce284ce1d6",
   "metadata": {},
   "outputs": [
    {
     "data": {
      "text/plain": [
       "<AxesSubplot:>"
      ]
     },
     "execution_count": 65,
     "metadata": {},
     "output_type": "execute_result"
    },
    {
     "data": {
      "image/png": "[encoded data removed]",
      "text/plain": [
       "<Figure size 720x720 with 1 Axes>"
      ]
     },
     "metadata": {
      "needs_background": "light"
     },
     "output_type": "display_data"
    }
   ],
   "source": [
    "import warnings\n",
    "warnings.filterwarnings('ignore') #에러가 많이 뜬다(한글 파일이 많이 깨지므로), 방법이 있지만 그림은 그려지니 일단 무시\n",
    "df[19].iloc[1:].set_index(('행정구역별','행정구역별')).stack().reset_index().\\\n",
    "query('level_1==\"비율\"').set_index(('행정구역별','행정구역별')).iloc[:,1:].T.\\\n",
    "applymap(lambda x : float (x) if x!='-' else None).\\\n",
    "plot.area(figsize=(10,10))"
   ]
  },
  {
   "cell_type": "markdown",
   "id": "9ae4d390-2a4f-45f4-83c9-a193268d66b8",
   "metadata": {},
   "source": [
    "- plotly(tidydata)에서는 한글파일 안깨진다"
   ]
  },
  {
   "cell_type": "markdown",
   "id": "feeffdee-cba7-40b7-985d-9ea2f6240d90",
   "metadata": {},
   "source": [
    "#### 예제2 (plotly)"
   ]
  },
  {
   "cell_type": "markdown",
   "id": "b106befb-1e92-476f-9241-ab74f5766b1d",
   "metadata": {},
   "source": [
    "`-` 우선 타이디한 자료를 만들자."
   ]
  },
  {
   "cell_type": "code",
   "execution_count": 66,
   "id": "d82c1842-3a31-4aa5-8ba0-fc427d62b3cf",
   "metadata": {},
   "outputs": [
    {
     "data": {
      "text/html": [
       "<div>\n",
       "<style scoped>\n",
       "    .dataframe tbody tr th:only-of-type {\n",
       "        vertical-align: middle;\n",
       "    }\n",
       "\n",
       "    .dataframe tbody tr th {\n",
       "        vertical-align: top;\n",
       "    }\n",
       "\n",
       "    .dataframe thead th {\n",
       "        text-align: right;\n",
       "    }\n",
       "</style>\n",
       "<table border=\"1\" class=\"dataframe\">\n",
       "  <thead>\n",
       "    <tr style=\"text-align: right;\">\n",
       "      <th></th>\n",
       "      <th>(행정구역별, 행정구역별)</th>\n",
       "      <th>level_1</th>\n",
       "      <th>level_2</th>\n",
       "      <th>0</th>\n",
       "    </tr>\n",
       "  </thead>\n",
       "  <tbody>\n",
       "    <tr>\n",
       "      <th>0</th>\n",
       "      <td>서울특별시</td>\n",
       "      <td>비율</td>\n",
       "      <td>2000</td>\n",
       "      <td>5.4</td>\n",
       "    </tr>\n",
       "    <tr>\n",
       "      <th>1</th>\n",
       "      <td>서울특별시</td>\n",
       "      <td>비율</td>\n",
       "      <td>2005</td>\n",
       "      <td>7.2</td>\n",
       "    </tr>\n",
       "    <tr>\n",
       "      <th>2</th>\n",
       "      <td>서울특별시</td>\n",
       "      <td>비율</td>\n",
       "      <td>2010</td>\n",
       "      <td>9.7</td>\n",
       "    </tr>\n",
       "    <tr>\n",
       "      <th>3</th>\n",
       "      <td>서울특별시</td>\n",
       "      <td>비율</td>\n",
       "      <td>2015</td>\n",
       "      <td>12.6</td>\n",
       "    </tr>\n",
       "    <tr>\n",
       "      <th>4</th>\n",
       "      <td>서울특별시</td>\n",
       "      <td>비율</td>\n",
       "      <td>2021. 06</td>\n",
       "      <td>16.4</td>\n",
       "    </tr>\n",
       "    <tr>\n",
       "      <th>...</th>\n",
       "      <td>...</td>\n",
       "      <td>...</td>\n",
       "      <td>...</td>\n",
       "      <td>...</td>\n",
       "    </tr>\n",
       "    <tr>\n",
       "      <th>159</th>\n",
       "      <td>제주특별자치도</td>\n",
       "      <td>인구</td>\n",
       "      <td>2000</td>\n",
       "      <td>43334.0</td>\n",
       "    </tr>\n",
       "    <tr>\n",
       "      <th>160</th>\n",
       "      <td>제주특별자치도</td>\n",
       "      <td>인구</td>\n",
       "      <td>2005</td>\n",
       "      <td>55795.0</td>\n",
       "    </tr>\n",
       "    <tr>\n",
       "      <th>161</th>\n",
       "      <td>제주특별자치도</td>\n",
       "      <td>인구</td>\n",
       "      <td>2010</td>\n",
       "      <td>69641.0</td>\n",
       "    </tr>\n",
       "    <tr>\n",
       "      <th>162</th>\n",
       "      <td>제주특별자치도</td>\n",
       "      <td>인구</td>\n",
       "      <td>2015</td>\n",
       "      <td>85893.0</td>\n",
       "    </tr>\n",
       "    <tr>\n",
       "      <th>163</th>\n",
       "      <td>제주특별자치도</td>\n",
       "      <td>인구</td>\n",
       "      <td>2021. 06</td>\n",
       "      <td>108118.0</td>\n",
       "    </tr>\n",
       "  </tbody>\n",
       "</table>\n",
       "<p>164 rows × 4 columns</p>\n",
       "</div>"
      ],
      "text/plain": [
       "    (행정구역별, 행정구역별) level_1   level_2         0\n",
       "0            서울특별시      비율      2000       5.4\n",
       "1            서울특별시      비율      2005       7.2\n",
       "2            서울특별시      비율      2010       9.7\n",
       "3            서울특별시      비율      2015      12.6\n",
       "4            서울특별시      비율  2021. 06      16.4\n",
       "..             ...     ...       ...       ...\n",
       "159        제주특별자치도      인구      2000   43334.0\n",
       "160        제주특별자치도      인구      2005   55795.0\n",
       "161        제주특별자치도      인구      2010   69641.0\n",
       "162        제주특별자치도      인구      2015   85893.0\n",
       "163        제주특별자치도      인구  2021. 06  108118.0\n",
       "\n",
       "[164 rows x 4 columns]"
      ]
     },
     "execution_count": 66,
     "metadata": {},
     "output_type": "execute_result"
    }
   ],
   "source": [
    "df[19].iloc[1:].set_index(('행정구역별','행정구역별')).stack().applymap(lambda x : float (x) if x!='-' else None).\\\n",
    "stack().reset_index()"
   ]
  },
  {
   "cell_type": "code",
   "execution_count": 67,
   "id": "490492ad-0149-4018-a3db-2e2b8470d2f1",
   "metadata": {},
   "outputs": [],
   "source": [
    "_df = _"
   ]
  },
  {
   "cell_type": "code",
   "execution_count": 68,
   "id": "72cde008-a74b-4e61-99b5-9f9046fba058",
   "metadata": {},
   "outputs": [
    {
     "data": {
      "text/html": [
       "<div>\n",
       "<style scoped>\n",
       "    .dataframe tbody tr th:only-of-type {\n",
       "        vertical-align: middle;\n",
       "    }\n",
       "\n",
       "    .dataframe tbody tr th {\n",
       "        vertical-align: top;\n",
       "    }\n",
       "\n",
       "    .dataframe thead th {\n",
       "        text-align: right;\n",
       "    }\n",
       "</style>\n",
       "<table border=\"1\" class=\"dataframe\">\n",
       "  <thead>\n",
       "    <tr style=\"text-align: right;\">\n",
       "      <th></th>\n",
       "      <th>(행정구역별, 행정구역별)</th>\n",
       "      <th>level_1</th>\n",
       "      <th>level_2</th>\n",
       "      <th>0</th>\n",
       "    </tr>\n",
       "  </thead>\n",
       "  <tbody>\n",
       "    <tr>\n",
       "      <th>0</th>\n",
       "      <td>서울특별시</td>\n",
       "      <td>비율</td>\n",
       "      <td>2000</td>\n",
       "      <td>5.4</td>\n",
       "    </tr>\n",
       "    <tr>\n",
       "      <th>1</th>\n",
       "      <td>서울특별시</td>\n",
       "      <td>비율</td>\n",
       "      <td>2005</td>\n",
       "      <td>7.2</td>\n",
       "    </tr>\n",
       "    <tr>\n",
       "      <th>2</th>\n",
       "      <td>서울특별시</td>\n",
       "      <td>비율</td>\n",
       "      <td>2010</td>\n",
       "      <td>9.7</td>\n",
       "    </tr>\n",
       "    <tr>\n",
       "      <th>3</th>\n",
       "      <td>서울특별시</td>\n",
       "      <td>비율</td>\n",
       "      <td>2015</td>\n",
       "      <td>12.6</td>\n",
       "    </tr>\n",
       "    <tr>\n",
       "      <th>4</th>\n",
       "      <td>서울특별시</td>\n",
       "      <td>비율</td>\n",
       "      <td>2021. 06</td>\n",
       "      <td>16.4</td>\n",
       "    </tr>\n",
       "    <tr>\n",
       "      <th>...</th>\n",
       "      <td>...</td>\n",
       "      <td>...</td>\n",
       "      <td>...</td>\n",
       "      <td>...</td>\n",
       "    </tr>\n",
       "    <tr>\n",
       "      <th>159</th>\n",
       "      <td>제주특별자치도</td>\n",
       "      <td>인구</td>\n",
       "      <td>2000</td>\n",
       "      <td>43334.0</td>\n",
       "    </tr>\n",
       "    <tr>\n",
       "      <th>160</th>\n",
       "      <td>제주특별자치도</td>\n",
       "      <td>인구</td>\n",
       "      <td>2005</td>\n",
       "      <td>55795.0</td>\n",
       "    </tr>\n",
       "    <tr>\n",
       "      <th>161</th>\n",
       "      <td>제주특별자치도</td>\n",
       "      <td>인구</td>\n",
       "      <td>2010</td>\n",
       "      <td>69641.0</td>\n",
       "    </tr>\n",
       "    <tr>\n",
       "      <th>162</th>\n",
       "      <td>제주특별자치도</td>\n",
       "      <td>인구</td>\n",
       "      <td>2015</td>\n",
       "      <td>85893.0</td>\n",
       "    </tr>\n",
       "    <tr>\n",
       "      <th>163</th>\n",
       "      <td>제주특별자치도</td>\n",
       "      <td>인구</td>\n",
       "      <td>2021. 06</td>\n",
       "      <td>108118.0</td>\n",
       "    </tr>\n",
       "  </tbody>\n",
       "</table>\n",
       "<p>164 rows × 4 columns</p>\n",
       "</div>"
      ],
      "text/plain": [
       "    (행정구역별, 행정구역별) level_1   level_2         0\n",
       "0            서울특별시      비율      2000       5.4\n",
       "1            서울특별시      비율      2005       7.2\n",
       "2            서울특별시      비율      2010       9.7\n",
       "3            서울특별시      비율      2015      12.6\n",
       "4            서울특별시      비율  2021. 06      16.4\n",
       "..             ...     ...       ...       ...\n",
       "159        제주특별자치도      인구      2000   43334.0\n",
       "160        제주특별자치도      인구      2005   55795.0\n",
       "161        제주특별자치도      인구      2010   69641.0\n",
       "162        제주특별자치도      인구      2015   85893.0\n",
       "163        제주특별자치도      인구  2021. 06  108118.0\n",
       "\n",
       "[164 rows x 4 columns]"
      ]
     },
     "execution_count": 68,
     "metadata": {},
     "output_type": "execute_result"
    }
   ],
   "source": [
    "_df"
   ]
  },
  {
   "cell_type": "markdown",
   "id": "6b9d3232-0618-44f0-adc5-f78e9175ba53",
   "metadata": {},
   "source": [
    "`-` col 이름을 바꾸자."
   ]
  },
  {
   "cell_type": "code",
   "execution_count": 69,
   "id": "6391faea-6046-4b96-bc22-833eeab38062",
   "metadata": {},
   "outputs": [],
   "source": [
    "_df.columns = pd.Index(['city','type','year','value'])"
   ]
  },
  {
   "cell_type": "code",
   "execution_count": 70,
   "id": "3f0cae4d-1eab-4255-9d0e-c738dc47cde1",
   "metadata": {},
   "outputs": [
    {
     "data": {
      "text/html": [
       "<div>\n",
       "<style scoped>\n",
       "    .dataframe tbody tr th:only-of-type {\n",
       "        vertical-align: middle;\n",
       "    }\n",
       "\n",
       "    .dataframe tbody tr th {\n",
       "        vertical-align: top;\n",
       "    }\n",
       "\n",
       "    .dataframe thead th {\n",
       "        text-align: right;\n",
       "    }\n",
       "</style>\n",
       "<table border=\"1\" class=\"dataframe\">\n",
       "  <thead>\n",
       "    <tr style=\"text-align: right;\">\n",
       "      <th></th>\n",
       "      <th>city</th>\n",
       "      <th>type</th>\n",
       "      <th>year</th>\n",
       "      <th>value</th>\n",
       "    </tr>\n",
       "  </thead>\n",
       "  <tbody>\n",
       "    <tr>\n",
       "      <th>0</th>\n",
       "      <td>서울특별시</td>\n",
       "      <td>비율</td>\n",
       "      <td>2000</td>\n",
       "      <td>5.4</td>\n",
       "    </tr>\n",
       "    <tr>\n",
       "      <th>1</th>\n",
       "      <td>서울특별시</td>\n",
       "      <td>비율</td>\n",
       "      <td>2005</td>\n",
       "      <td>7.2</td>\n",
       "    </tr>\n",
       "    <tr>\n",
       "      <th>2</th>\n",
       "      <td>서울특별시</td>\n",
       "      <td>비율</td>\n",
       "      <td>2010</td>\n",
       "      <td>9.7</td>\n",
       "    </tr>\n",
       "    <tr>\n",
       "      <th>3</th>\n",
       "      <td>서울특별시</td>\n",
       "      <td>비율</td>\n",
       "      <td>2015</td>\n",
       "      <td>12.6</td>\n",
       "    </tr>\n",
       "    <tr>\n",
       "      <th>4</th>\n",
       "      <td>서울특별시</td>\n",
       "      <td>비율</td>\n",
       "      <td>2021. 06</td>\n",
       "      <td>16.4</td>\n",
       "    </tr>\n",
       "    <tr>\n",
       "      <th>...</th>\n",
       "      <td>...</td>\n",
       "      <td>...</td>\n",
       "      <td>...</td>\n",
       "      <td>...</td>\n",
       "    </tr>\n",
       "    <tr>\n",
       "      <th>159</th>\n",
       "      <td>제주특별자치도</td>\n",
       "      <td>인구</td>\n",
       "      <td>2000</td>\n",
       "      <td>43334.0</td>\n",
       "    </tr>\n",
       "    <tr>\n",
       "      <th>160</th>\n",
       "      <td>제주특별자치도</td>\n",
       "      <td>인구</td>\n",
       "      <td>2005</td>\n",
       "      <td>55795.0</td>\n",
       "    </tr>\n",
       "    <tr>\n",
       "      <th>161</th>\n",
       "      <td>제주특별자치도</td>\n",
       "      <td>인구</td>\n",
       "      <td>2010</td>\n",
       "      <td>69641.0</td>\n",
       "    </tr>\n",
       "    <tr>\n",
       "      <th>162</th>\n",
       "      <td>제주특별자치도</td>\n",
       "      <td>인구</td>\n",
       "      <td>2015</td>\n",
       "      <td>85893.0</td>\n",
       "    </tr>\n",
       "    <tr>\n",
       "      <th>163</th>\n",
       "      <td>제주특별자치도</td>\n",
       "      <td>인구</td>\n",
       "      <td>2021. 06</td>\n",
       "      <td>108118.0</td>\n",
       "    </tr>\n",
       "  </tbody>\n",
       "</table>\n",
       "<p>164 rows × 4 columns</p>\n",
       "</div>"
      ],
      "text/plain": [
       "        city type      year     value\n",
       "0      서울특별시   비율      2000       5.4\n",
       "1      서울특별시   비율      2005       7.2\n",
       "2      서울특별시   비율      2010       9.7\n",
       "3      서울특별시   비율      2015      12.6\n",
       "4      서울특별시   비율  2021. 06      16.4\n",
       "..       ...  ...       ...       ...\n",
       "159  제주특별자치도   인구      2000   43334.0\n",
       "160  제주특별자치도   인구      2005   55795.0\n",
       "161  제주특별자치도   인구      2010   69641.0\n",
       "162  제주특별자치도   인구      2015   85893.0\n",
       "163  제주특별자치도   인구  2021. 06  108118.0\n",
       "\n",
       "[164 rows x 4 columns]"
      ]
     },
     "execution_count": 70,
     "metadata": {},
     "output_type": "execute_result"
    }
   ],
   "source": [
    "_df"
   ]
  },
  {
   "cell_type": "markdown",
   "id": "1ba19762-d675-4dcb-977b-931182fe465a",
   "metadata": {},
   "source": [
    "`-` 이제 그려보자."
   ]
  },
  {
   "cell_type": "code",
   "execution_count": 71,
   "id": "72f556b3-55be-406d-8a2d-770aefddaa78",
   "metadata": {},
   "outputs": [
    {
     "data": {
      "application/vnd.plotly.v1+json": {
       "config": {
        "plotlyServerURL": "https://plot.ly"
       },
       "data": [
        {
         "hovertemplate": "city=서울특별시<br>year=%{x}<br>value=%{y}<extra></extra>",
         "legendgroup": "서울특별시",
         "line": {
          "color": "#636efa"
         },
         "marker": {
          "symbol": "circle"
         },
         "mode": "lines",
         "name": "서울특별시",
         "orientation": "v",
         "showlegend": true,
         "stackgroup": "1",
         "type": "scatter",
         "x": [
          "2000",
          "2005",
          "2010",
          "2015",
          "2021. 06"
         ],
         "xaxis": "x",
         "y": [
          5.4,
          7.2,
          9.7,
          12.6,
          16.4
         ],
         "yaxis": "y"
        },
        {
         "hovertemplate": "city=부산광역시<br>year=%{x}<br>value=%{y}<extra></extra>",
         "legendgroup": "부산광역시",
         "line": {
          "color": "#EF553B"
         },
         "marker": {
          "symbol": "circle"
         },
         "mode": "lines",
         "name": "부산광역시",
         "orientation": "v",
         "showlegend": true,
         "stackgroup": "1",
         "type": "scatter",
         "x": [
          "2000",
          "2005",
          "2010",
          "2015",
          "2021. 06"
         ],
         "xaxis": "x",
         "y": [
          6,
          8.3,
          11.3,
          14.6,
          19.8
         ],
         "yaxis": "y"
        },
        {
         "hovertemplate": "city=대구광역시<br>year=%{x}<br>value=%{y}<extra></extra>",
         "legendgroup": "대구광역시",
         "line": {
          "color": "#00cc96"
         },
         "marker": {
          "symbol": "circle"
         },
         "mode": "lines",
         "name": "대구광역시",
         "orientation": "v",
         "showlegend": true,
         "stackgroup": "1",
         "type": "scatter",
         "x": [
          "2000",
          "2005",
          "2010",
          "2015",
          "2021. 06"
         ],
         "xaxis": "x",
         "y": [
          5.9,
          7.8,
          10,
          12.7,
          17
         ],
         "yaxis": "y"
        },
        {
         "hovertemplate": "city=인천광역시<br>year=%{x}<br>value=%{y}<extra></extra>",
         "legendgroup": "인천광역시",
         "line": {
          "color": "#ab63fa"
         },
         "marker": {
          "symbol": "circle"
         },
         "mode": "lines",
         "name": "인천광역시",
         "orientation": "v",
         "showlegend": true,
         "stackgroup": "1",
         "type": "scatter",
         "x": [
          "2000",
          "2005",
          "2010",
          "2015",
          "2021. 06"
         ],
         "xaxis": "x",
         "y": [
          5.4,
          6.9,
          8.6,
          10.7,
          14.4
         ],
         "yaxis": "y"
        },
        {
         "hovertemplate": "city=광주광역시<br>year=%{x}<br>value=%{y}<extra></extra>",
         "legendgroup": "광주광역시",
         "line": {
          "color": "#FFA15A"
         },
         "marker": {
          "symbol": "circle"
         },
         "mode": "lines",
         "name": "광주광역시",
         "orientation": "v",
         "showlegend": true,
         "stackgroup": "1",
         "type": "scatter",
         "x": [
          "2000",
          "2005",
          "2010",
          "2015",
          "2021. 06"
         ],
         "xaxis": "x",
         "y": [
          5.6,
          7.1,
          9,
          11.3,
          14.5
         ],
         "yaxis": "y"
        },
        {
         "hovertemplate": "city=대전광역시<br>year=%{x}<br>value=%{y}<extra></extra>",
         "legendgroup": "대전광역시",
         "line": {
          "color": "#19d3f3"
         },
         "marker": {
          "symbol": "circle"
         },
         "mode": "lines",
         "name": "대전광역시",
         "orientation": "v",
         "showlegend": true,
         "stackgroup": "1",
         "type": "scatter",
         "x": [
          "2000",
          "2005",
          "2010",
          "2015",
          "2021. 06"
         ],
         "xaxis": "x",
         "y": [
          5.5,
          6.9,
          8.7,
          10.9,
          14.8
         ],
         "yaxis": "y"
        },
        {
         "hovertemplate": "city=울산광역시<br>year=%{x}<br>value=%{y}<extra></extra>",
         "legendgroup": "울산광역시",
         "line": {
          "color": "#FF6692"
         },
         "marker": {
          "symbol": "circle"
         },
         "mode": "lines",
         "name": "울산광역시",
         "orientation": "v",
         "showlegend": true,
         "stackgroup": "1",
         "type": "scatter",
         "x": [
          "2000",
          "2005",
          "2010",
          "2015",
          "2021. 06"
         ],
         "xaxis": "x",
         "y": [
          4,
          5.3,
          6.8,
          8.8,
          13.1
         ],
         "yaxis": "y"
        },
        {
         "hovertemplate": "city=세종특별자치시<br>year=%{x}<br>value=%{y}<extra></extra>",
         "legendgroup": "세종특별자치시",
         "line": {
          "color": "#B6E880"
         },
         "marker": {
          "symbol": "circle"
         },
         "mode": "lines",
         "name": "세종특별자치시",
         "orientation": "v",
         "showlegend": true,
         "stackgroup": "1",
         "type": "scatter",
         "x": [
          "2015",
          "2021. 06"
         ],
         "xaxis": "x",
         "y": [
          10.6,
          10
         ],
         "yaxis": "y"
        },
        {
         "hovertemplate": "city=경기도<br>year=%{x}<br>value=%{y}<extra></extra>",
         "legendgroup": "경기도",
         "line": {
          "color": "#FF97FF"
         },
         "marker": {
          "symbol": "circle"
         },
         "mode": "lines",
         "name": "경기도",
         "orientation": "v",
         "showlegend": true,
         "stackgroup": "1",
         "type": "scatter",
         "x": [
          "2000",
          "2005",
          "2010",
          "2015",
          "2021. 06"
         ],
         "xaxis": "x",
         "y": [
          5.7,
          7.1,
          8.7,
          10.5,
          13.5
         ],
         "yaxis": "y"
        },
        {
         "hovertemplate": "city=강원도<br>year=%{x}<br>value=%{y}<extra></extra>",
         "legendgroup": "강원도",
         "line": {
          "color": "#FECB52"
         },
         "marker": {
          "symbol": "circle"
         },
         "mode": "lines",
         "name": "강원도",
         "orientation": "v",
         "showlegend": true,
         "stackgroup": "1",
         "type": "scatter",
         "x": [
          "2000",
          "2005",
          "2010",
          "2015",
          "2021. 06"
         ],
         "xaxis": "x",
         "y": [
          9.3,
          12.1,
          14.8,
          16.9,
          21.2
         ],
         "yaxis": "y"
        },
        {
         "hovertemplate": "city=충청북도<br>year=%{x}<br>value=%{y}<extra></extra>",
         "legendgroup": "충청북도",
         "line": {
          "color": "#636efa"
         },
         "marker": {
          "symbol": "circle"
         },
         "mode": "lines",
         "name": "충청북도",
         "orientation": "v",
         "showlegend": true,
         "stackgroup": "1",
         "type": "scatter",
         "x": [
          "2000",
          "2005",
          "2010",
          "2015",
          "2021. 06"
         ],
         "xaxis": "x",
         "y": [
          9.1,
          11.3,
          13.2,
          14.8,
          18.4
         ],
         "yaxis": "y"
        },
        {
         "hovertemplate": "city=충청남도<br>year=%{x}<br>value=%{y}<extra></extra>",
         "legendgroup": "충청남도",
         "line": {
          "color": "#EF553B"
         },
         "marker": {
          "symbol": "circle"
         },
         "mode": "lines",
         "name": "충청남도",
         "orientation": "v",
         "showlegend": true,
         "stackgroup": "1",
         "type": "scatter",
         "x": [
          "2000",
          "2005",
          "2010",
          "2015",
          "2021. 06"
         ],
         "xaxis": "x",
         "y": [
          11.2,
          13.3,
          14.9,
          16.4,
          19.5
         ],
         "yaxis": "y"
        },
        {
         "hovertemplate": "city=전라북도<br>year=%{x}<br>value=%{y}<extra></extra>",
         "legendgroup": "전라북도",
         "line": {
          "color": "#00cc96"
         },
         "marker": {
          "symbol": "circle"
         },
         "mode": "lines",
         "name": "전라북도",
         "orientation": "v",
         "showlegend": true,
         "stackgroup": "1",
         "type": "scatter",
         "x": [
          "2000",
          "2005",
          "2010",
          "2015",
          "2021. 06"
         ],
         "xaxis": "x",
         "y": [
          10.3,
          12.9,
          15.2,
          17.8,
          21.8
         ],
         "yaxis": "y"
        },
        {
         "hovertemplate": "city=전라남도<br>year=%{x}<br>value=%{y}<extra></extra>",
         "legendgroup": "전라남도",
         "line": {
          "color": "#ab63fa"
         },
         "marker": {
          "symbol": "circle"
         },
         "mode": "lines",
         "name": "전라남도",
         "orientation": "v",
         "showlegend": true,
         "stackgroup": "1",
         "type": "scatter",
         "x": [
          "2000",
          "2005",
          "2010",
          "2015",
          "2021. 06"
         ],
         "xaxis": "x",
         "y": [
          11.9,
          15.6,
          18.3,
          20.5,
          23.9
         ],
         "yaxis": "y"
        },
        {
         "hovertemplate": "city=경상북도<br>year=%{x}<br>value=%{y}<extra></extra>",
         "legendgroup": "경상북도",
         "line": {
          "color": "#FFA15A"
         },
         "marker": {
          "symbol": "circle"
         },
         "mode": "lines",
         "name": "경상북도",
         "orientation": "v",
         "showlegend": true,
         "stackgroup": "1",
         "type": "scatter",
         "x": [
          "2000",
          "2005",
          "2010",
          "2015",
          "2021. 06"
         ],
         "xaxis": "x",
         "y": [
          10.7,
          13.4,
          15.6,
          17.7,
          22.2
         ],
         "yaxis": "y"
        },
        {
         "hovertemplate": "city=경상남도<br>year=%{x}<br>value=%{y}<extra></extra>",
         "legendgroup": "경상남도",
         "line": {
          "color": "#19d3f3"
         },
         "marker": {
          "symbol": "circle"
         },
         "mode": "lines",
         "name": "경상남도",
         "orientation": "v",
         "showlegend": true,
         "stackgroup": "1",
         "type": "scatter",
         "x": [
          "2000",
          "2005",
          "2010",
          "2015",
          "2021. 06"
         ],
         "xaxis": "x",
         "y": [
          8.4,
          10.2,
          11.8,
          13.8,
          17.9
         ],
         "yaxis": "y"
        },
        {
         "hovertemplate": "city=제주특별자치도<br>year=%{x}<br>value=%{y}<extra></extra>",
         "legendgroup": "제주특별자치도",
         "line": {
          "color": "#FF6692"
         },
         "marker": {
          "symbol": "circle"
         },
         "mode": "lines",
         "name": "제주특별자치도",
         "orientation": "v",
         "showlegend": true,
         "stackgroup": "1",
         "type": "scatter",
         "x": [
          "2000",
          "2005",
          "2010",
          "2015",
          "2021. 06"
         ],
         "xaxis": "x",
         "y": [
          8,
          10,
          12.2,
          13.8,
          16
         ],
         "yaxis": "y"
        }
       ],
       "layout": {
        "autosize": true,
        "legend": {
         "title": {
          "text": "city"
         },
         "tracegroupgap": 0
        },
        "margin": {
         "t": 60
        },
        "template": {
         "data": {
          "bar": [
           {
            "error_x": {
             "color": "#2a3f5f"
            },
            "error_y": {
             "color": "#2a3f5f"
            },
            "marker": {
             "line": {
              "color": "#E5ECF6",
              "width": 0.5
             },
             "pattern": {
              "fillmode": "overlay",
              "size": 10,
              "solidity": 0.2
             }
            },
            "type": "bar"
           }
          ],
          "barpolar": [
           {
            "marker": {
             "line": {
              "color": "#E5ECF6",
              "width": 0.5
             },
             "pattern": {
              "fillmode": "overlay",
              "size": 10,
              "solidity": 0.2
             }
            },
            "type": "barpolar"
           }
          ],
          "carpet": [
           {
            "aaxis": {
             "endlinecolor": "#2a3f5f",
             "gridcolor": "white",
             "linecolor": "white",
             "minorgridcolor": "white",
             "startlinecolor": "#2a3f5f"
            },
            "baxis": {
             "endlinecolor": "#2a3f5f",
             "gridcolor": "white",
             "linecolor": "white",
             "minorgridcolor": "white",
             "startlinecolor": "#2a3f5f"
            },
            "type": "carpet"
           }
          ],
          "choropleth": [
           {
            "colorbar": {
             "outlinewidth": 0,
             "ticks": ""
            },
            "type": "choropleth"
           }
          ],
          "contour": [
           {
            "colorbar": {
             "outlinewidth": 0,
             "ticks": ""
            },
            "colorscale": [
             [
              0,
              "#0d0887"
             ],
             [
              0.1111111111111111,
              "#46039f"
             ],
             [
              0.2222222222222222,
              "#7201a8"
             ],
             [
              0.3333333333333333,
              "#9c179e"
             ],
             [
              0.4444444444444444,
              "#bd3786"
             ],
             [
              0.5555555555555556,
              "#d8576b"
             ],
             [
              0.6666666666666666,
              "#ed7953"
             ],
             [
              0.7777777777777778,
              "#fb9f3a"
             ],
             [
              0.8888888888888888,
              "#fdca26"
             ],
             [
              1,
              "#f0f921"
             ]
            ],
            "type": "contour"
           }
          ],
          "contourcarpet": [
           {
            "colorbar": {
             "outlinewidth": 0,
             "ticks": ""
            },
            "type": "contourcarpet"
           }
          ],
          "heatmap": [
           {
            "colorbar": {
             "outlinewidth": 0,
             "ticks": ""
            },
            "colorscale": [
             [
              0,
              "#0d0887"
             ],
             [
              0.1111111111111111,
              "#46039f"
             ],
             [
              0.2222222222222222,
              "#7201a8"
             ],
             [
              0.3333333333333333,
              "#9c179e"
             ],
             [
              0.4444444444444444,
              "#bd3786"
             ],
             [
              0.5555555555555556,
              "#d8576b"
             ],
             [
              0.6666666666666666,
              "#ed7953"
             ],
             [
              0.7777777777777778,
              "#fb9f3a"
             ],
             [
              0.8888888888888888,
              "#fdca26"
             ],
             [
              1,
              "#f0f921"
             ]
            ],
            "type": "heatmap"
           }
          ],
          "heatmapgl": [
           {
            "colorbar": {
             "outlinewidth": 0,
             "ticks": ""
            },
            "colorscale": [
             [
              0,
              "#0d0887"
             ],
             [
              0.1111111111111111,
              "#46039f"
             ],
             [
              0.2222222222222222,
              "#7201a8"
             ],
             [
              0.3333333333333333,
              "#9c179e"
             ],
             [
              0.4444444444444444,
              "#bd3786"
             ],
             [
              0.5555555555555556,
              "#d8576b"
             ],
             [
              0.6666666666666666,
              "#ed7953"
             ],
             [
              0.7777777777777778,
              "#fb9f3a"
             ],
             [
              0.8888888888888888,
              "#fdca26"
             ],
             [
              1,
              "#f0f921"
             ]
            ],
            "type": "heatmapgl"
           }
          ],
          "histogram": [
           {
            "marker": {
             "pattern": {
              "fillmode": "overlay",
              "size": 10,
              "solidity": 0.2
             }
            },
            "type": "histogram"
           }
          ],
          "histogram2d": [
           {
            "colorbar": {
             "outlinewidth": 0,
             "ticks": ""
            },
            "colorscale": [
             [
              0,
              "#0d0887"
             ],
             [
              0.1111111111111111,
              "#46039f"
             ],
             [
              0.2222222222222222,
              "#7201a8"
             ],
             [
              0.3333333333333333,
              "#9c179e"
             ],
             [
              0.4444444444444444,
              "#bd3786"
             ],
             [
              0.5555555555555556,
              "#d8576b"
             ],
             [
              0.6666666666666666,
              "#ed7953"
             ],
             [
              0.7777777777777778,
              "#fb9f3a"
             ],
             [
              0.8888888888888888,
              "#fdca26"
             ],
             [
              1,
              "#f0f921"
             ]
            ],
            "type": "histogram2d"
           }
          ],
          "histogram2dcontour": [
           {
            "colorbar": {
             "outlinewidth": 0,
             "ticks": ""
            },
            "colorscale": [
             [
              0,
              "#0d0887"
             ],
             [
              0.1111111111111111,
              "#46039f"
             ],
             [
              0.2222222222222222,
              "#7201a8"
             ],
             [
              0.3333333333333333,
              "#9c179e"
             ],
             [
              0.4444444444444444,
              "#bd3786"
             ],
             [
              0.5555555555555556,
              "#d8576b"
             ],
             [
              0.6666666666666666,
              "#ed7953"
             ],
             [
              0.7777777777777778,
              "#fb9f3a"
             ],
             [
              0.8888888888888888,
              "#fdca26"
             ],
             [
              1,
              "#f0f921"
             ]
            ],
            "type": "histogram2dcontour"
           }
          ],
          "mesh3d": [
           {
            "colorbar": {
             "outlinewidth": 0,
             "ticks": ""
            },
            "type": "mesh3d"
           }
          ],
          "parcoords": [
           {
            "line": {
             "colorbar": {
              "outlinewidth": 0,
              "ticks": ""
             }
            },
            "type": "parcoords"
           }
          ],
          "pie": [
           {
            "automargin": true,
            "type": "pie"
           }
          ],
          "scatter": [
           {
            "marker": {
             "colorbar": {
              "outlinewidth": 0,
              "ticks": ""
             }
            },
            "type": "scatter"
           }
          ],
          "scatter3d": [
           {
            "line": {
             "colorbar": {
              "outlinewidth": 0,
              "ticks": ""
             }
            },
            "marker": {
             "colorbar": {
              "outlinewidth": 0,
              "ticks": ""
             }
            },
            "type": "scatter3d"
           }
          ],
          "scattercarpet": [
           {
            "marker": {
             "colorbar": {
              "outlinewidth": 0,
              "ticks": ""
             }
            },
            "type": "scattercarpet"
           }
          ],
          "scattergeo": [
           {
            "marker": {
             "colorbar": {
              "outlinewidth": 0,
              "ticks": ""
             }
            },
            "type": "scattergeo"
           }
          ],
          "scattergl": [
           {
            "marker": {
             "colorbar": {
              "outlinewidth": 0,
              "ticks": ""
             }
            },
            "type": "scattergl"
           }
          ],
          "scattermapbox": [
           {
            "marker": {
             "colorbar": {
              "outlinewidth": 0,
              "ticks": ""
             }
            },
            "type": "scattermapbox"
           }
          ],
          "scatterpolar": [
           {
            "marker": {
             "colorbar": {
              "outlinewidth": 0,
              "ticks": ""
             }
            },
            "type": "scatterpolar"
           }
          ],
          "scatterpolargl": [
           {
            "marker": {
             "colorbar": {
              "outlinewidth": 0,
              "ticks": ""
             }
            },
            "type": "scatterpolargl"
           }
          ],
          "scatterternary": [
           {
            "marker": {
             "colorbar": {
              "outlinewidth": 0,
              "ticks": ""
             }
            },
            "type": "scatterternary"
           }
          ],
          "surface": [
           {
            "colorbar": {
             "outlinewidth": 0,
             "ticks": ""
            },
            "colorscale": [
             [
              0,
              "#0d0887"
             ],
             [
              0.1111111111111111,
              "#46039f"
             ],
             [
              0.2222222222222222,
              "#7201a8"
             ],
             [
              0.3333333333333333,
              "#9c179e"
             ],
             [
              0.4444444444444444,
              "#bd3786"
             ],
             [
              0.5555555555555556,
              "#d8576b"
             ],
             [
              0.6666666666666666,
              "#ed7953"
             ],
             [
              0.7777777777777778,
              "#fb9f3a"
             ],
             [
              0.8888888888888888,
              "#fdca26"
             ],
             [
              1,
              "#f0f921"
             ]
            ],
            "type": "surface"
           }
          ],
          "table": [
           {
            "cells": {
             "fill": {
              "color": "#EBF0F8"
             },
             "line": {
              "color": "white"
             }
            },
            "header": {
             "fill": {
              "color": "#C8D4E3"
             },
             "line": {
              "color": "white"
             }
            },
            "type": "table"
           }
          ]
         },
         "layout": {
          "annotationdefaults": {
           "arrowcolor": "#2a3f5f",
           "arrowhead": 0,
           "arrowwidth": 1
          },
          "autotypenumbers": "strict",
          "coloraxis": {
           "colorbar": {
            "outlinewidth": 0,
            "ticks": ""
           }
          },
          "colorscale": {
           "diverging": [
            [
             0,
             "#8e0152"
            ],
            [
             0.1,
             "#c51b7d"
            ],
            [
             0.2,
             "#de77ae"
            ],
            [
             0.3,
             "#f1b6da"
            ],
            [
             0.4,
             "#fde0ef"
            ],
            [
             0.5,
             "#f7f7f7"
            ],
            [
             0.6,
             "#e6f5d0"
            ],
            [
             0.7,
             "#b8e186"
            ],
            [
             0.8,
             "#7fbc41"
            ],
            [
             0.9,
             "#4d9221"
            ],
            [
             1,
             "#276419"
            ]
           ],
           "sequential": [
            [
             0,
             "#0d0887"
            ],
            [
             0.1111111111111111,
             "#46039f"
            ],
            [
             0.2222222222222222,
             "#7201a8"
            ],
            [
             0.3333333333333333,
             "#9c179e"
            ],
            [
             0.4444444444444444,
             "#bd3786"
            ],
            [
             0.5555555555555556,
             "#d8576b"
            ],
            [
             0.6666666666666666,
             "#ed7953"
            ],
            [
             0.7777777777777778,
             "#fb9f3a"
            ],
            [
             0.8888888888888888,
             "#fdca26"
            ],
            [
             1,
             "#f0f921"
            ]
           ],
           "sequentialminus": [
            [
             0,
             "#0d0887"
            ],
            [
             0.1111111111111111,
             "#46039f"
            ],
            [
             0.2222222222222222,
             "#7201a8"
            ],
            [
             0.3333333333333333,
             "#9c179e"
            ],
            [
             0.4444444444444444,
             "#bd3786"
            ],
            [
             0.5555555555555556,
             "#d8576b"
            ],
            [
             0.6666666666666666,
             "#ed7953"
            ],
            [
             0.7777777777777778,
             "#fb9f3a"
            ],
            [
             0.8888888888888888,
             "#fdca26"
            ],
            [
             1,
             "#f0f921"
            ]
           ]
          },
          "colorway": [
           "#636efa",
           "#EF553B",
           "#00cc96",
           "#ab63fa",
           "#FFA15A",
           "#19d3f3",
           "#FF6692",
           "#B6E880",
           "#FF97FF",
           "#FECB52"
          ],
          "font": {
           "color": "#2a3f5f"
          },
          "geo": {
           "bgcolor": "white",
           "lakecolor": "white",
           "landcolor": "#E5ECF6",
           "showlakes": true,
           "showland": true,
           "subunitcolor": "white"
          },
          "hoverlabel": {
           "align": "left"
          },
          "hovermode": "closest",
          "mapbox": {
           "style": "light"
          },
          "paper_bgcolor": "white",
          "plot_bgcolor": "#E5ECF6",
          "polar": {
           "angularaxis": {
            "gridcolor": "white",
            "linecolor": "white",
            "ticks": ""
           },
           "bgcolor": "#E5ECF6",
           "radialaxis": {
            "gridcolor": "white",
            "linecolor": "white",
            "ticks": ""
           }
          },
          "scene": {
           "xaxis": {
            "backgroundcolor": "#E5ECF6",
            "gridcolor": "white",
            "gridwidth": 2,
            "linecolor": "white",
            "showbackground": true,
            "ticks": "",
            "zerolinecolor": "white"
           },
           "yaxis": {
            "backgroundcolor": "#E5ECF6",
            "gridcolor": "white",
            "gridwidth": 2,
            "linecolor": "white",
            "showbackground": true,
            "ticks": "",
            "zerolinecolor": "white"
           },
           "zaxis": {
            "backgroundcolor": "#E5ECF6",
            "gridcolor": "white",
            "gridwidth": 2,
            "linecolor": "white",
            "showbackground": true,
            "ticks": "",
            "zerolinecolor": "white"
           }
          },
          "shapedefaults": {
           "line": {
            "color": "#2a3f5f"
           }
          },
          "ternary": {
           "aaxis": {
            "gridcolor": "white",
            "linecolor": "white",
            "ticks": ""
           },
           "baxis": {
            "gridcolor": "white",
            "linecolor": "white",
            "ticks": ""
           },
           "bgcolor": "#E5ECF6",
           "caxis": {
            "gridcolor": "white",
            "linecolor": "white",
            "ticks": ""
           }
          },
          "title": {
           "x": 0.05
          },
          "xaxis": {
           "automargin": true,
           "gridcolor": "white",
           "linecolor": "white",
           "ticks": "",
           "title": {
            "standoff": 15
           },
           "zerolinecolor": "white",
           "zerolinewidth": 2
          },
          "yaxis": {
           "automargin": true,
           "gridcolor": "white",
           "linecolor": "white",
           "ticks": "",
           "title": {
            "standoff": 15
           },
           "zerolinecolor": "white",
           "zerolinewidth": 2
          }
         }
        },
        "xaxis": {
         "anchor": "y",
         "autorange": true,
         "domain": [
          0,
          1
         ],
         "range": [
          0,
          4
         ],
         "title": {
          "text": "year"
         },
         "type": "category"
        },
        "yaxis": {
         "anchor": "x",
         "autorange": true,
         "domain": [
          0,
          1
         ],
         "range": [
          0,
          309.89473684210526
         ],
         "title": {
          "text": "value"
         },
         "type": "linear"
        }
       }
      },
      "image/png": "[encoded data removed]",
      "text/html": [
       "<div>                            <div id=\"13b13402-205c-45b4-9c32-1b7fcb3d6f9e\" class=\"plotly-graph-div\" style=\"height:525px; width:100%;\"></div>            <script type=\"text/javascript\">                require([\"plotly\"], function(Plotly) {                    window.PLOTLYENV=window.PLOTLYENV || {};                                    if (document.getElementById(\"13b13402-205c-45b4-9c32-1b7fcb3d6f9e\")) {                    Plotly.newPlot(                        \"13b13402-205c-45b4-9c32-1b7fcb3d6f9e\",                        [{\"hovertemplate\":\"city=\\uc11c\\uc6b8\\ud2b9\\ubcc4\\uc2dc<br>year=%{x}<br>value=%{y}<extra></extra>\",\"legendgroup\":\"\\uc11c\\uc6b8\\ud2b9\\ubcc4\\uc2dc\",\"line\":{\"color\":\"#636efa\"},\"marker\":{\"symbol\":\"circle\"},\"mode\":\"lines\",\"name\":\"\\uc11c\\uc6b8\\ud2b9\\ubcc4\\uc2dc\",\"orientation\":\"v\",\"showlegend\":true,\"stackgroup\":\"1\",\"type\":\"scatter\",\"x\":[\"2000\",\"2005\",\"2010\",\"2015\",\"2021. 06\"],\"xaxis\":\"x\",\"y\":[5.4,7.2,9.7,12.6,16.4],\"yaxis\":\"y\"},{\"hovertemplate\":\"city=\\ubd80\\uc0b0\\uad11\\uc5ed\\uc2dc<br>year=%{x}<br>value=%{y}<extra></extra>\",\"legendgroup\":\"\\ubd80\\uc0b0\\uad11\\uc5ed\\uc2dc\",\"line\":{\"color\":\"#EF553B\"},\"marker\":{\"symbol\":\"circle\"},\"mode\":\"lines\",\"name\":\"\\ubd80\\uc0b0\\uad11\\uc5ed\\uc2dc\",\"orientation\":\"v\",\"showlegend\":true,\"stackgroup\":\"1\",\"type\":\"scatter\",\"x\":[\"2000\",\"2005\",\"2010\",\"2015\",\"2021. 06\"],\"xaxis\":\"x\",\"y\":[6.0,8.3,11.3,14.6,19.8],\"yaxis\":\"y\"},{\"hovertemplate\":\"city=\\ub300\\uad6c\\uad11\\uc5ed\\uc2dc<br>year=%{x}<br>value=%{y}<extra></extra>\",\"legendgroup\":\"\\ub300\\uad6c\\uad11\\uc5ed\\uc2dc\",\"line\":{\"color\":\"#00cc96\"},\"marker\":{\"symbol\":\"circle\"},\"mode\":\"lines\",\"name\":\"\\ub300\\uad6c\\uad11\\uc5ed\\uc2dc\",\"orientation\":\"v\",\"showlegend\":true,\"stackgroup\":\"1\",\"type\":\"scatter\",\"x\":[\"2000\",\"2005\",\"2010\",\"2015\",\"2021. 06\"],\"xaxis\":\"x\",\"y\":[5.9,7.8,10.0,12.7,17.0],\"yaxis\":\"y\"},{\"hovertemplate\":\"city=\\uc778\\ucc9c\\uad11\\uc5ed\\uc2dc<br>year=%{x}<br>value=%{y}<extra></extra>\",\"legendgroup\":\"\\uc778\\ucc9c\\uad11\\uc5ed\\uc2dc\",\"line\":{\"color\":\"#ab63fa\"},\"marker\":{\"symbol\":\"circle\"},\"mode\":\"lines\",\"name\":\"\\uc778\\ucc9c\\uad11\\uc5ed\\uc2dc\",\"orientation\":\"v\",\"showlegend\":true,\"stackgroup\":\"1\",\"type\":\"scatter\",\"x\":[\"2000\",\"2005\",\"2010\",\"2015\",\"2021. 06\"],\"xaxis\":\"x\",\"y\":[5.4,6.9,8.6,10.7,14.4],\"yaxis\":\"y\"},{\"hovertemplate\":\"city=\\uad11\\uc8fc\\uad11\\uc5ed\\uc2dc<br>year=%{x}<br>value=%{y}<extra></extra>\",\"legendgroup\":\"\\uad11\\uc8fc\\uad11\\uc5ed\\uc2dc\",\"line\":{\"color\":\"#FFA15A\"},\"marker\":{\"symbol\":\"circle\"},\"mode\":\"lines\",\"name\":\"\\uad11\\uc8fc\\uad11\\uc5ed\\uc2dc\",\"orientation\":\"v\",\"showlegend\":true,\"stackgroup\":\"1\",\"type\":\"scatter\",\"x\":[\"2000\",\"2005\",\"2010\",\"2015\",\"2021. 06\"],\"xaxis\":\"x\",\"y\":[5.6,7.1,9.0,11.3,14.5],\"yaxis\":\"y\"},{\"hovertemplate\":\"city=\\ub300\\uc804\\uad11\\uc5ed\\uc2dc<br>year=%{x}<br>value=%{y}<extra></extra>\",\"legendgroup\":\"\\ub300\\uc804\\uad11\\uc5ed\\uc2dc\",\"line\":{\"color\":\"#19d3f3\"},\"marker\":{\"symbol\":\"circle\"},\"mode\":\"lines\",\"name\":\"\\ub300\\uc804\\uad11\\uc5ed\\uc2dc\",\"orientation\":\"v\",\"showlegend\":true,\"stackgroup\":\"1\",\"type\":\"scatter\",\"x\":[\"2000\",\"2005\",\"2010\",\"2015\",\"2021. 06\"],\"xaxis\":\"x\",\"y\":[5.5,6.9,8.7,10.9,14.8],\"yaxis\":\"y\"},{\"hovertemplate\":\"city=\\uc6b8\\uc0b0\\uad11\\uc5ed\\uc2dc<br>year=%{x}<br>value=%{y}<extra></extra>\",\"legendgroup\":\"\\uc6b8\\uc0b0\\uad11\\uc5ed\\uc2dc\",\"line\":{\"color\":\"#FF6692\"},\"marker\":{\"symbol\":\"circle\"},\"mode\":\"lines\",\"name\":\"\\uc6b8\\uc0b0\\uad11\\uc5ed\\uc2dc\",\"orientation\":\"v\",\"showlegend\":true,\"stackgroup\":\"1\",\"type\":\"scatter\",\"x\":[\"2000\",\"2005\",\"2010\",\"2015\",\"2021. 06\"],\"xaxis\":\"x\",\"y\":[4.0,5.3,6.8,8.8,13.1],\"yaxis\":\"y\"},{\"hovertemplate\":\"city=\\uc138\\uc885\\ud2b9\\ubcc4\\uc790\\uce58\\uc2dc<br>year=%{x}<br>value=%{y}<extra></extra>\",\"legendgroup\":\"\\uc138\\uc885\\ud2b9\\ubcc4\\uc790\\uce58\\uc2dc\",\"line\":{\"color\":\"#B6E880\"},\"marker\":{\"symbol\":\"circle\"},\"mode\":\"lines\",\"name\":\"\\uc138\\uc885\\ud2b9\\ubcc4\\uc790\\uce58\\uc2dc\",\"orientation\":\"v\",\"showlegend\":true,\"stackgroup\":\"1\",\"type\":\"scatter\",\"x\":[\"2015\",\"2021. 06\"],\"xaxis\":\"x\",\"y\":[10.6,10.0],\"yaxis\":\"y\"},{\"hovertemplate\":\"city=\\uacbd\\uae30\\ub3c4<br>year=%{x}<br>value=%{y}<extra></extra>\",\"legendgroup\":\"\\uacbd\\uae30\\ub3c4\",\"line\":{\"color\":\"#FF97FF\"},\"marker\":{\"symbol\":\"circle\"},\"mode\":\"lines\",\"name\":\"\\uacbd\\uae30\\ub3c4\",\"orientation\":\"v\",\"showlegend\":true,\"stackgroup\":\"1\",\"type\":\"scatter\",\"x\":[\"2000\",\"2005\",\"2010\",\"2015\",\"2021. 06\"],\"xaxis\":\"x\",\"y\":[5.7,7.1,8.7,10.5,13.5],\"yaxis\":\"y\"},{\"hovertemplate\":\"city=\\uac15\\uc6d0\\ub3c4<br>year=%{x}<br>value=%{y}<extra></extra>\",\"legendgroup\":\"\\uac15\\uc6d0\\ub3c4\",\"line\":{\"color\":\"#FECB52\"},\"marker\":{\"symbol\":\"circle\"},\"mode\":\"lines\",\"name\":\"\\uac15\\uc6d0\\ub3c4\",\"orientation\":\"v\",\"showlegend\":true,\"stackgroup\":\"1\",\"type\":\"scatter\",\"x\":[\"2000\",\"2005\",\"2010\",\"2015\",\"2021. 06\"],\"xaxis\":\"x\",\"y\":[9.3,12.1,14.8,16.9,21.2],\"yaxis\":\"y\"},{\"hovertemplate\":\"city=\\ucda9\\uccad\\ubd81\\ub3c4<br>year=%{x}<br>value=%{y}<extra></extra>\",\"legendgroup\":\"\\ucda9\\uccad\\ubd81\\ub3c4\",\"line\":{\"color\":\"#636efa\"},\"marker\":{\"symbol\":\"circle\"},\"mode\":\"lines\",\"name\":\"\\ucda9\\uccad\\ubd81\\ub3c4\",\"orientation\":\"v\",\"showlegend\":true,\"stackgroup\":\"1\",\"type\":\"scatter\",\"x\":[\"2000\",\"2005\",\"2010\",\"2015\",\"2021. 06\"],\"xaxis\":\"x\",\"y\":[9.1,11.3,13.2,14.8,18.4],\"yaxis\":\"y\"},{\"hovertemplate\":\"city=\\ucda9\\uccad\\ub0a8\\ub3c4<br>year=%{x}<br>value=%{y}<extra></extra>\",\"legendgroup\":\"\\ucda9\\uccad\\ub0a8\\ub3c4\",\"line\":{\"color\":\"#EF553B\"},\"marker\":{\"symbol\":\"circle\"},\"mode\":\"lines\",\"name\":\"\\ucda9\\uccad\\ub0a8\\ub3c4\",\"orientation\":\"v\",\"showlegend\":true,\"stackgroup\":\"1\",\"type\":\"scatter\",\"x\":[\"2000\",\"2005\",\"2010\",\"2015\",\"2021. 06\"],\"xaxis\":\"x\",\"y\":[11.2,13.3,14.9,16.4,19.5],\"yaxis\":\"y\"},{\"hovertemplate\":\"city=\\uc804\\ub77c\\ubd81\\ub3c4<br>year=%{x}<br>value=%{y}<extra></extra>\",\"legendgroup\":\"\\uc804\\ub77c\\ubd81\\ub3c4\",\"line\":{\"color\":\"#00cc96\"},\"marker\":{\"symbol\":\"circle\"},\"mode\":\"lines\",\"name\":\"\\uc804\\ub77c\\ubd81\\ub3c4\",\"orientation\":\"v\",\"showlegend\":true,\"stackgroup\":\"1\",\"type\":\"scatter\",\"x\":[\"2000\",\"2005\",\"2010\",\"2015\",\"2021. 06\"],\"xaxis\":\"x\",\"y\":[10.3,12.9,15.2,17.8,21.8],\"yaxis\":\"y\"},{\"hovertemplate\":\"city=\\uc804\\ub77c\\ub0a8\\ub3c4<br>year=%{x}<br>value=%{y}<extra></extra>\",\"legendgroup\":\"\\uc804\\ub77c\\ub0a8\\ub3c4\",\"line\":{\"color\":\"#ab63fa\"},\"marker\":{\"symbol\":\"circle\"},\"mode\":\"lines\",\"name\":\"\\uc804\\ub77c\\ub0a8\\ub3c4\",\"orientation\":\"v\",\"showlegend\":true,\"stackgroup\":\"1\",\"type\":\"scatter\",\"x\":[\"2000\",\"2005\",\"2010\",\"2015\",\"2021. 06\"],\"xaxis\":\"x\",\"y\":[11.9,15.6,18.3,20.5,23.9],\"yaxis\":\"y\"},{\"hovertemplate\":\"city=\\uacbd\\uc0c1\\ubd81\\ub3c4<br>year=%{x}<br>value=%{y}<extra></extra>\",\"legendgroup\":\"\\uacbd\\uc0c1\\ubd81\\ub3c4\",\"line\":{\"color\":\"#FFA15A\"},\"marker\":{\"symbol\":\"circle\"},\"mode\":\"lines\",\"name\":\"\\uacbd\\uc0c1\\ubd81\\ub3c4\",\"orientation\":\"v\",\"showlegend\":true,\"stackgroup\":\"1\",\"type\":\"scatter\",\"x\":[\"2000\",\"2005\",\"2010\",\"2015\",\"2021. 06\"],\"xaxis\":\"x\",\"y\":[10.7,13.4,15.6,17.7,22.2],\"yaxis\":\"y\"},{\"hovertemplate\":\"city=\\uacbd\\uc0c1\\ub0a8\\ub3c4<br>year=%{x}<br>value=%{y}<extra></extra>\",\"legendgroup\":\"\\uacbd\\uc0c1\\ub0a8\\ub3c4\",\"line\":{\"color\":\"#19d3f3\"},\"marker\":{\"symbol\":\"circle\"},\"mode\":\"lines\",\"name\":\"\\uacbd\\uc0c1\\ub0a8\\ub3c4\",\"orientation\":\"v\",\"showlegend\":true,\"stackgroup\":\"1\",\"type\":\"scatter\",\"x\":[\"2000\",\"2005\",\"2010\",\"2015\",\"2021. 06\"],\"xaxis\":\"x\",\"y\":[8.4,10.2,11.8,13.8,17.9],\"yaxis\":\"y\"},{\"hovertemplate\":\"city=\\uc81c\\uc8fc\\ud2b9\\ubcc4\\uc790\\uce58\\ub3c4<br>year=%{x}<br>value=%{y}<extra></extra>\",\"legendgroup\":\"\\uc81c\\uc8fc\\ud2b9\\ubcc4\\uc790\\uce58\\ub3c4\",\"line\":{\"color\":\"#FF6692\"},\"marker\":{\"symbol\":\"circle\"},\"mode\":\"lines\",\"name\":\"\\uc81c\\uc8fc\\ud2b9\\ubcc4\\uc790\\uce58\\ub3c4\",\"orientation\":\"v\",\"showlegend\":true,\"stackgroup\":\"1\",\"type\":\"scatter\",\"x\":[\"2000\",\"2005\",\"2010\",\"2015\",\"2021. 06\"],\"xaxis\":\"x\",\"y\":[8.0,10.0,12.2,13.8,16.0],\"yaxis\":\"y\"}],                        {\"legend\":{\"title\":{\"text\":\"city\"},\"tracegroupgap\":0},\"margin\":{\"t\":60},\"template\":{\"data\":{\"bar\":[{\"error_x\":{\"color\":\"#2a3f5f\"},\"error_y\":{\"color\":\"#2a3f5f\"},\"marker\":{\"line\":{\"color\":\"#E5ECF6\",\"width\":0.5},\"pattern\":{\"fillmode\":\"overlay\",\"size\":10,\"solidity\":0.2}},\"type\":\"bar\"}],\"barpolar\":[{\"marker\":{\"line\":{\"color\":\"#E5ECF6\",\"width\":0.5},\"pattern\":{\"fillmode\":\"overlay\",\"size\":10,\"solidity\":0.2}},\"type\":\"barpolar\"}],\"carpet\":[{\"aaxis\":{\"endlinecolor\":\"#2a3f5f\",\"gridcolor\":\"white\",\"linecolor\":\"white\",\"minorgridcolor\":\"white\",\"startlinecolor\":\"#2a3f5f\"},\"baxis\":{\"endlinecolor\":\"#2a3f5f\",\"gridcolor\":\"white\",\"linecolor\":\"white\",\"minorgridcolor\":\"white\",\"startlinecolor\":\"#2a3f5f\"},\"type\":\"carpet\"}],\"choropleth\":[{\"colorbar\":{\"outlinewidth\":0,\"ticks\":\"\"},\"type\":\"choropleth\"}],\"contour\":[{\"colorbar\":{\"outlinewidth\":0,\"ticks\":\"\"},\"colorscale\":[[0.0,\"#0d0887\"],[0.1111111111111111,\"#46039f\"],[0.2222222222222222,\"#7201a8\"],[0.3333333333333333,\"#9c179e\"],[0.4444444444444444,\"#bd3786\"],[0.5555555555555556,\"#d8576b\"],[0.6666666666666666,\"#ed7953\"],[0.7777777777777778,\"#fb9f3a\"],[0.8888888888888888,\"#fdca26\"],[1.0,\"#f0f921\"]],\"type\":\"contour\"}],\"contourcarpet\":[{\"colorbar\":{\"outlinewidth\":0,\"ticks\":\"\"},\"type\":\"contourcarpet\"}],\"heatmap\":[{\"colorbar\":{\"outlinewidth\":0,\"ticks\":\"\"},\"colorscale\":[[0.0,\"#0d0887\"],[0.1111111111111111,\"#46039f\"],[0.2222222222222222,\"#7201a8\"],[0.3333333333333333,\"#9c179e\"],[0.4444444444444444,\"#bd3786\"],[0.5555555555555556,\"#d8576b\"],[0.6666666666666666,\"#ed7953\"],[0.7777777777777778,\"#fb9f3a\"],[0.8888888888888888,\"#fdca26\"],[1.0,\"#f0f921\"]],\"type\":\"heatmap\"}],\"heatmapgl\":[{\"colorbar\":{\"outlinewidth\":0,\"ticks\":\"\"},\"colorscale\":[[0.0,\"#0d0887\"],[0.1111111111111111,\"#46039f\"],[0.2222222222222222,\"#7201a8\"],[0.3333333333333333,\"#9c179e\"],[0.4444444444444444,\"#bd3786\"],[0.5555555555555556,\"#d8576b\"],[0.6666666666666666,\"#ed7953\"],[0.7777777777777778,\"#fb9f3a\"],[0.8888888888888888,\"#fdca26\"],[1.0,\"#f0f921\"]],\"type\":\"heatmapgl\"}],\"histogram\":[{\"marker\":{\"pattern\":{\"fillmode\":\"overlay\",\"size\":10,\"solidity\":0.2}},\"type\":\"histogram\"}],\"histogram2d\":[{\"colorbar\":{\"outlinewidth\":0,\"ticks\":\"\"},\"colorscale\":[[0.0,\"#0d0887\"],[0.1111111111111111,\"#46039f\"],[0.2222222222222222,\"#7201a8\"],[0.3333333333333333,\"#9c179e\"],[0.4444444444444444,\"#bd3786\"],[0.5555555555555556,\"#d8576b\"],[0.6666666666666666,\"#ed7953\"],[0.7777777777777778,\"#fb9f3a\"],[0.8888888888888888,\"#fdca26\"],[1.0,\"#f0f921\"]],\"type\":\"histogram2d\"}],\"histogram2dcontour\":[{\"colorbar\":{\"outlinewidth\":0,\"ticks\":\"\"},\"colorscale\":[[0.0,\"#0d0887\"],[0.1111111111111111,\"#46039f\"],[0.2222222222222222,\"#7201a8\"],[0.3333333333333333,\"#9c179e\"],[0.4444444444444444,\"#bd3786\"],[0.5555555555555556,\"#d8576b\"],[0.6666666666666666,\"#ed7953\"],[0.7777777777777778,\"#fb9f3a\"],[0.8888888888888888,\"#fdca26\"],[1.0,\"#f0f921\"]],\"type\":\"histogram2dcontour\"}],\"mesh3d\":[{\"colorbar\":{\"outlinewidth\":0,\"ticks\":\"\"},\"type\":\"mesh3d\"}],\"parcoords\":[{\"line\":{\"colorbar\":{\"outlinewidth\":0,\"ticks\":\"\"}},\"type\":\"parcoords\"}],\"pie\":[{\"automargin\":true,\"type\":\"pie\"}],\"scatter\":[{\"marker\":{\"colorbar\":{\"outlinewidth\":0,\"ticks\":\"\"}},\"type\":\"scatter\"}],\"scatter3d\":[{\"line\":{\"colorbar\":{\"outlinewidth\":0,\"ticks\":\"\"}},\"marker\":{\"colorbar\":{\"outlinewidth\":0,\"ticks\":\"\"}},\"type\":\"scatter3d\"}],\"scattercarpet\":[{\"marker\":{\"colorbar\":{\"outlinewidth\":0,\"ticks\":\"\"}},\"type\":\"scattercarpet\"}],\"scattergeo\":[{\"marker\":{\"colorbar\":{\"outlinewidth\":0,\"ticks\":\"\"}},\"type\":\"scattergeo\"}],\"scattergl\":[{\"marker\":{\"colorbar\":{\"outlinewidth\":0,\"ticks\":\"\"}},\"type\":\"scattergl\"}],\"scattermapbox\":[{\"marker\":{\"colorbar\":{\"outlinewidth\":0,\"ticks\":\"\"}},\"type\":\"scattermapbox\"}],\"scatterpolar\":[{\"marker\":{\"colorbar\":{\"outlinewidth\":0,\"ticks\":\"\"}},\"type\":\"scatterpolar\"}],\"scatterpolargl\":[{\"marker\":{\"colorbar\":{\"outlinewidth\":0,\"ticks\":\"\"}},\"type\":\"scatterpolargl\"}],\"scatterternary\":[{\"marker\":{\"colorbar\":{\"outlinewidth\":0,\"ticks\":\"\"}},\"type\":\"scatterternary\"}],\"surface\":[{\"colorbar\":{\"outlinewidth\":0,\"ticks\":\"\"},\"colorscale\":[[0.0,\"#0d0887\"],[0.1111111111111111,\"#46039f\"],[0.2222222222222222,\"#7201a8\"],[0.3333333333333333,\"#9c179e\"],[0.4444444444444444,\"#bd3786\"],[0.5555555555555556,\"#d8576b\"],[0.6666666666666666,\"#ed7953\"],[0.7777777777777778,\"#fb9f3a\"],[0.8888888888888888,\"#fdca26\"],[1.0,\"#f0f921\"]],\"type\":\"surface\"}],\"table\":[{\"cells\":{\"fill\":{\"color\":\"#EBF0F8\"},\"line\":{\"color\":\"white\"}},\"header\":{\"fill\":{\"color\":\"#C8D4E3\"},\"line\":{\"color\":\"white\"}},\"type\":\"table\"}]},\"layout\":{\"annotationdefaults\":{\"arrowcolor\":\"#2a3f5f\",\"arrowhead\":0,\"arrowwidth\":1},\"autotypenumbers\":\"strict\",\"coloraxis\":{\"colorbar\":{\"outlinewidth\":0,\"ticks\":\"\"}},\"colorscale\":{\"diverging\":[[0,\"#8e0152\"],[0.1,\"#c51b7d\"],[0.2,\"#de77ae\"],[0.3,\"#f1b6da\"],[0.4,\"#fde0ef\"],[0.5,\"#f7f7f7\"],[0.6,\"#e6f5d0\"],[0.7,\"#b8e186\"],[0.8,\"#7fbc41\"],[0.9,\"#4d9221\"],[1,\"#276419\"]],\"sequential\":[[0.0,\"#0d0887\"],[0.1111111111111111,\"#46039f\"],[0.2222222222222222,\"#7201a8\"],[0.3333333333333333,\"#9c179e\"],[0.4444444444444444,\"#bd3786\"],[0.5555555555555556,\"#d8576b\"],[0.6666666666666666,\"#ed7953\"],[0.7777777777777778,\"#fb9f3a\"],[0.8888888888888888,\"#fdca26\"],[1.0,\"#f0f921\"]],\"sequentialminus\":[[0.0,\"#0d0887\"],[0.1111111111111111,\"#46039f\"],[0.2222222222222222,\"#7201a8\"],[0.3333333333333333,\"#9c179e\"],[0.4444444444444444,\"#bd3786\"],[0.5555555555555556,\"#d8576b\"],[0.6666666666666666,\"#ed7953\"],[0.7777777777777778,\"#fb9f3a\"],[0.8888888888888888,\"#fdca26\"],[1.0,\"#f0f921\"]]},\"colorway\":[\"#636efa\",\"#EF553B\",\"#00cc96\",\"#ab63fa\",\"#FFA15A\",\"#19d3f3\",\"#FF6692\",\"#B6E880\",\"#FF97FF\",\"#FECB52\"],\"font\":{\"color\":\"#2a3f5f\"},\"geo\":{\"bgcolor\":\"white\",\"lakecolor\":\"white\",\"landcolor\":\"#E5ECF6\",\"showlakes\":true,\"showland\":true,\"subunitcolor\":\"white\"},\"hoverlabel\":{\"align\":\"left\"},\"hovermode\":\"closest\",\"mapbox\":{\"style\":\"light\"},\"paper_bgcolor\":\"white\",\"plot_bgcolor\":\"#E5ECF6\",\"polar\":{\"angularaxis\":{\"gridcolor\":\"white\",\"linecolor\":\"white\",\"ticks\":\"\"},\"bgcolor\":\"#E5ECF6\",\"radialaxis\":{\"gridcolor\":\"white\",\"linecolor\":\"white\",\"ticks\":\"\"}},\"scene\":{\"xaxis\":{\"backgroundcolor\":\"#E5ECF6\",\"gridcolor\":\"white\",\"gridwidth\":2,\"linecolor\":\"white\",\"showbackground\":true,\"ticks\":\"\",\"zerolinecolor\":\"white\"},\"yaxis\":{\"backgroundcolor\":\"#E5ECF6\",\"gridcolor\":\"white\",\"gridwidth\":2,\"linecolor\":\"white\",\"showbackground\":true,\"ticks\":\"\",\"zerolinecolor\":\"white\"},\"zaxis\":{\"backgroundcolor\":\"#E5ECF6\",\"gridcolor\":\"white\",\"gridwidth\":2,\"linecolor\":\"white\",\"showbackground\":true,\"ticks\":\"\",\"zerolinecolor\":\"white\"}},\"shapedefaults\":{\"line\":{\"color\":\"#2a3f5f\"}},\"ternary\":{\"aaxis\":{\"gridcolor\":\"white\",\"linecolor\":\"white\",\"ticks\":\"\"},\"baxis\":{\"gridcolor\":\"white\",\"linecolor\":\"white\",\"ticks\":\"\"},\"bgcolor\":\"#E5ECF6\",\"caxis\":{\"gridcolor\":\"white\",\"linecolor\":\"white\",\"ticks\":\"\"}},\"title\":{\"x\":0.05},\"xaxis\":{\"automargin\":true,\"gridcolor\":\"white\",\"linecolor\":\"white\",\"ticks\":\"\",\"title\":{\"standoff\":15},\"zerolinecolor\":\"white\",\"zerolinewidth\":2},\"yaxis\":{\"automargin\":true,\"gridcolor\":\"white\",\"linecolor\":\"white\",\"ticks\":\"\",\"title\":{\"standoff\":15},\"zerolinecolor\":\"white\",\"zerolinewidth\":2}}},\"xaxis\":{\"anchor\":\"y\",\"domain\":[0.0,1.0],\"title\":{\"text\":\"year\"}},\"yaxis\":{\"anchor\":\"x\",\"domain\":[0.0,1.0],\"title\":{\"text\":\"value\"}}},                        {\"responsive\": true}                    ).then(function(){\n",
       "                            \n",
       "var gd = document.getElementById('13b13402-205c-45b4-9c32-1b7fcb3d6f9e');\n",
       "var x = new MutationObserver(function (mutations, observer) {{\n",
       "        var display = window.getComputedStyle(gd).display;\n",
       "        if (!display || display === 'none') {{\n",
       "            console.log([gd, 'removed!']);\n",
       "            Plotly.purge(gd);\n",
       "            observer.disconnect();\n",
       "        }}\n",
       "}});\n",
       "\n",
       "// Listen for the removal of the full notebook cells\n",
       "var notebookContainer = gd.closest('#notebook-container');\n",
       "if (notebookContainer) {{\n",
       "    x.observe(notebookContainer, {childList: true});\n",
       "}}\n",
       "\n",
       "// Listen for the clearing of the current output cell\n",
       "var outputEl = gd.closest('.output');\n",
       "if (outputEl) {{\n",
       "    x.observe(outputEl, {childList: true});\n",
       "}}\n",
       "\n",
       "                        })                };                });            </script>        </div>"
      ]
     },
     "metadata": {},
     "output_type": "display_data"
    }
   ],
   "source": [
    "_df.query('type==\"비율\"').plot.area(backend='plotly',x='year',y='value',color='city')"
   ]
  },
  {
   "cell_type": "markdown",
   "id": "73ea9f71-e1fe-430d-96c7-d08f2781283a",
   "metadata": {},
   "source": [
    "교수님이 시각화를 한 이유\n",
    "- 먹고 살기위해서\n",
    "- 발표를 하려고 슬라이드를 만들면, 자료에 없는 시각화자료를 요구할때가 많았음\n",
    "- ex.2020년에 삼성에서 신제품이 나옴 --> 월별 판매량을 시각화 함 --> 하지만 기업에서는 신제품 이전과 이후를 비교하여 시각화해달라..는 부탁 -->그자리에서 3~5분 소요해 그림\n",
    "- 빨리 그려줘야함.. tidydata/untidydata 구분 상관없이 빨리\n",
    "- 예쁨을 많이 받음\n",
    "- 순간적으로 빠르게 그리는게 생각보다 어려움\n",
    "- 분석에 대한 부담이 적고.. 시각화만으로 본인의 통계 능력입증에 매우 효과적\n",
    "- 신입사원으로서 시각화 능력이 있다면 회사를 서포트하는 역할을 맡음 => 좋아하는 이유"
   ]
  },
  {
   "cell_type": "markdown",
   "id": "d92a7128-2da6-42a3-a9da-4a06aebab0bb",
   "metadata": {},
   "source": [
    "pandas backend, plotly, ggplot 이 세 개 매우 효과적이라 자주 사용하심"
   ]
  },
  {
   "cell_type": "markdown",
   "id": "dd767f1f-ac97-4579-9090-0ab8663407b9",
   "metadata": {},
   "source": [
    "대부분 실력은 다들 한끗차이=> 여기서 많이 해보고,자주 쓰는건 머리속에 넣고, 오류메시지에 당황하고 익숙해진다면 분명히 한 단계씩 성장 가능하다!!\n"
   ]
  },
  {
   "cell_type": "code",
   "execution_count": null,
   "id": "02f4e57b-a238-41ad-92d7-98e3f522afb7",
   "metadata": {},
   "outputs": [],
   "source": []
  }
 ],
 "metadata": {
  "kernelspec": {
   "display_name": "Python 3",
   "language": "python",
   "name": "python3"
  },
  "language_info": {
   "codemirror_mode": {
    "name": "ipython",
    "version": 3
   },
   "file_extension": ".py",
   "mimetype": "text/x-python",
   "name": "python",
   "nbconvert_exporter": "python",
   "pygments_lexer": "ipython3",
   "version": "3.8.8"
  }
 },
 "nbformat": 4,
 "nbformat_minor": 5
}
