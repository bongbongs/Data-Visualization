{
 "cells": [
  {
   "cell_type": "markdown",
   "id": "f90fbef1-71e1-4c5d-aec9-32064a319d2e",
   "metadata": {},
   "source": [
    "### 2021.10.20"
   ]
  },
  {
   "cell_type": "markdown",
   "id": "d0e11034-6940-4ffb-a267-be3c3d5ea190",
   "metadata": {},
   "source": [
    "### import"
   ]
  },
  {
   "cell_type": "code",
   "execution_count": 3,
   "id": "f0cd349f-a30c-4ee8-97e9-e6cba6fff6f1",
   "metadata": {},
   "outputs": [],
   "source": [
    "import numpy as np\n",
    "import pandas as pd"
   ]
  },
  {
   "cell_type": "markdown",
   "id": "6107f9fb-4acc-49f2-9e8d-4b9ec877f815",
   "metadata": {},
   "source": [
    "### 첫번째 행을 선택하는 법"
   ]
  },
  {
   "cell_type": "code",
   "execution_count": 48,
   "id": "d067af70-f846-4b50-8bc6-7a8fec0278b9",
   "metadata": {},
   "outputs": [
    {
     "data": {
      "text/html": [
       "<div>\n",
       "<style scoped>\n",
       "    .dataframe tbody tr th:only-of-type {\n",
       "        vertical-align: middle;\n",
       "    }\n",
       "\n",
       "    .dataframe tbody tr th {\n",
       "        vertical-align: top;\n",
       "    }\n",
       "\n",
       "    .dataframe thead th {\n",
       "        text-align: right;\n",
       "    }\n",
       "</style>\n",
       "<table border=\"1\" class=\"dataframe\">\n",
       "  <thead>\n",
       "    <tr style=\"text-align: right;\">\n",
       "      <th></th>\n",
       "      <th>X1</th>\n",
       "      <th>X2</th>\n",
       "      <th>X3</th>\n",
       "      <th>X4</th>\n",
       "      <th>X5</th>\n",
       "      <th>X6</th>\n",
       "    </tr>\n",
       "  </thead>\n",
       "  <tbody>\n",
       "    <tr>\n",
       "      <th>0</th>\n",
       "      <td>1.624345</td>\n",
       "      <td>-2.301539</td>\n",
       "      <td>1.462108</td>\n",
       "      <td>-1.099891</td>\n",
       "      <td>-1.100619</td>\n",
       "      <td>-0.683728</td>\n",
       "    </tr>\n",
       "    <tr>\n",
       "      <th>1</th>\n",
       "      <td>-0.611756</td>\n",
       "      <td>1.744812</td>\n",
       "      <td>-2.060141</td>\n",
       "      <td>-0.172428</td>\n",
       "      <td>1.144724</td>\n",
       "      <td>-0.122890</td>\n",
       "    </tr>\n",
       "    <tr>\n",
       "      <th>2</th>\n",
       "      <td>-0.528172</td>\n",
       "      <td>-0.761207</td>\n",
       "      <td>-0.322417</td>\n",
       "      <td>-0.877858</td>\n",
       "      <td>0.901591</td>\n",
       "      <td>-0.935769</td>\n",
       "    </tr>\n",
       "    <tr>\n",
       "      <th>3</th>\n",
       "      <td>-1.072969</td>\n",
       "      <td>0.319039</td>\n",
       "      <td>-0.384054</td>\n",
       "      <td>0.042214</td>\n",
       "      <td>0.502494</td>\n",
       "      <td>-0.267888</td>\n",
       "    </tr>\n",
       "    <tr>\n",
       "      <th>4</th>\n",
       "      <td>0.865408</td>\n",
       "      <td>-0.249370</td>\n",
       "      <td>1.133769</td>\n",
       "      <td>0.582815</td>\n",
       "      <td>0.900856</td>\n",
       "      <td>0.530355</td>\n",
       "    </tr>\n",
       "  </tbody>\n",
       "</table>\n",
       "</div>"
      ],
      "text/plain": [
       "         X1        X2        X3        X4        X5        X6\n",
       "0  1.624345 -2.301539  1.462108 -1.099891 -1.100619 -0.683728\n",
       "1 -0.611756  1.744812 -2.060141 -0.172428  1.144724 -0.122890\n",
       "2 -0.528172 -0.761207 -0.322417 -0.877858  0.901591 -0.935769\n",
       "3 -1.072969  0.319039 -0.384054  0.042214  0.502494 -0.267888\n",
       "4  0.865408 -0.249370  1.133769  0.582815  0.900856  0.530355"
      ]
     },
     "execution_count": 48,
     "metadata": {},
     "output_type": "execute_result"
    }
   ],
   "source": [
    "np.random.seed(1)\n",
    "dic = {'X1':np.random.normal(0,1,5),\n",
    "      'X2':np.random.normal(0,1,5),\n",
    "      'X3':np.random.normal(0,1,5),\n",
    "      'X4':np.random.normal(0,1,5),\n",
    "      'X5':np.random.normal(0,1,5),\n",
    "      'X6':np.random.normal(0,1,5)}\n",
    "df1=pd.DataFrame(dic)\n",
    "df1"
   ]
  },
  {
   "cell_type": "markdown",
   "id": "3c7001fc-643d-40f3-9167-11295c2fed43",
   "metadata": {},
   "source": [
    "`-` 방법1"
   ]
  },
  {
   "cell_type": "code",
   "execution_count": 49,
   "id": "485074b8-6813-4a5c-b060-b1c9bb37444a",
   "metadata": {},
   "outputs": [
    {
     "data": {
      "text/plain": [
       "X1    1.624345\n",
       "X2   -2.301539\n",
       "X3    1.462108\n",
       "X4   -1.099891\n",
       "X5   -1.100619\n",
       "X6   -0.683728\n",
       "Name: 0, dtype: float64"
      ]
     },
     "execution_count": 49,
     "metadata": {},
     "output_type": "execute_result"
    }
   ],
   "source": [
    "df1.iloc[0] #이상하다"
   ]
  },
  {
   "cell_type": "markdown",
   "id": "ccd99c2d-05e6-4f8d-b420-91807bb87ad3",
   "metadata": {},
   "source": [
    "`-` 방법2"
   ]
  },
  {
   "cell_type": "code",
   "execution_count": 50,
   "id": "80b092b6-492d-4b23-9b1d-b38bd1c9da15",
   "metadata": {},
   "outputs": [
    {
     "data": {
      "text/html": [
       "<div>\n",
       "<style scoped>\n",
       "    .dataframe tbody tr th:only-of-type {\n",
       "        vertical-align: middle;\n",
       "    }\n",
       "\n",
       "    .dataframe tbody tr th {\n",
       "        vertical-align: top;\n",
       "    }\n",
       "\n",
       "    .dataframe thead th {\n",
       "        text-align: right;\n",
       "    }\n",
       "</style>\n",
       "<table border=\"1\" class=\"dataframe\">\n",
       "  <thead>\n",
       "    <tr style=\"text-align: right;\">\n",
       "      <th></th>\n",
       "      <th>X1</th>\n",
       "      <th>X2</th>\n",
       "      <th>X3</th>\n",
       "      <th>X4</th>\n",
       "      <th>X5</th>\n",
       "      <th>X6</th>\n",
       "    </tr>\n",
       "  </thead>\n",
       "  <tbody>\n",
       "    <tr>\n",
       "      <th>0</th>\n",
       "      <td>1.624345</td>\n",
       "      <td>-2.301539</td>\n",
       "      <td>1.462108</td>\n",
       "      <td>-1.099891</td>\n",
       "      <td>-1.100619</td>\n",
       "      <td>-0.683728</td>\n",
       "    </tr>\n",
       "  </tbody>\n",
       "</table>\n",
       "</div>"
      ],
      "text/plain": [
       "         X1        X2        X3        X4        X5        X6\n",
       "0  1.624345 -2.301539  1.462108 -1.099891 -1.100619 -0.683728"
      ]
     },
     "execution_count": 50,
     "metadata": {},
     "output_type": "execute_result"
    }
   ],
   "source": [
    "df1.iloc[[0]]"
   ]
  },
  {
   "cell_type": "markdown",
   "id": "4c13bac7-6ff8-48b4-8304-838e57a0113d",
   "metadata": {},
   "source": [
    "`-`방법3"
   ]
  },
  {
   "cell_type": "code",
   "execution_count": 51,
   "id": "b2c99015-72d6-435f-9eac-524ce58f902a",
   "metadata": {},
   "outputs": [
    {
     "data": {
      "text/plain": [
       "X1    1.624345\n",
       "X2   -2.301539\n",
       "X3    1.462108\n",
       "X4   -1.099891\n",
       "X5   -1.100619\n",
       "X6   -0.683728\n",
       "Name: 0, dtype: float64"
      ]
     },
     "execution_count": 51,
     "metadata": {},
     "output_type": "execute_result"
    }
   ],
   "source": [
    "df1.iloc[0,:]"
   ]
  },
  {
   "cell_type": "markdown",
   "id": "168cd48f-5f7a-4e59-b868-28445d7b523e",
   "metadata": {},
   "source": [
    "`-` 방법4"
   ]
  },
  {
   "cell_type": "code",
   "execution_count": 52,
   "id": "c690ee8b-b811-4782-b5d9-4cc85c1d8d87",
   "metadata": {},
   "outputs": [
    {
     "data": {
      "text/html": [
       "<div>\n",
       "<style scoped>\n",
       "    .dataframe tbody tr th:only-of-type {\n",
       "        vertical-align: middle;\n",
       "    }\n",
       "\n",
       "    .dataframe tbody tr th {\n",
       "        vertical-align: top;\n",
       "    }\n",
       "\n",
       "    .dataframe thead th {\n",
       "        text-align: right;\n",
       "    }\n",
       "</style>\n",
       "<table border=\"1\" class=\"dataframe\">\n",
       "  <thead>\n",
       "    <tr style=\"text-align: right;\">\n",
       "      <th></th>\n",
       "      <th>X1</th>\n",
       "      <th>X2</th>\n",
       "      <th>X3</th>\n",
       "      <th>X4</th>\n",
       "      <th>X5</th>\n",
       "      <th>X6</th>\n",
       "    </tr>\n",
       "  </thead>\n",
       "  <tbody>\n",
       "    <tr>\n",
       "      <th>0</th>\n",
       "      <td>1.624345</td>\n",
       "      <td>-2.301539</td>\n",
       "      <td>1.462108</td>\n",
       "      <td>-1.099891</td>\n",
       "      <td>-1.100619</td>\n",
       "      <td>-0.683728</td>\n",
       "    </tr>\n",
       "  </tbody>\n",
       "</table>\n",
       "</div>"
      ],
      "text/plain": [
       "         X1        X2        X3        X4        X5        X6\n",
       "0  1.624345 -2.301539  1.462108 -1.099891 -1.100619 -0.683728"
      ]
     },
     "execution_count": 52,
     "metadata": {},
     "output_type": "execute_result"
    }
   ],
   "source": [
    "df1.iloc[[0],:]"
   ]
  },
  {
   "cell_type": "markdown",
   "id": "94a3e799-9cbe-4870-b190-837ec8e197a7",
   "metadata": {},
   "source": [
    "`-` 방법5"
   ]
  },
  {
   "cell_type": "code",
   "execution_count": 53,
   "id": "3930ab7a-439a-4f07-98d9-81e8d0a59b3f",
   "metadata": {},
   "outputs": [
    {
     "data": {
      "text/plain": [
       "X1    1.624345\n",
       "X2   -2.301539\n",
       "X3    1.462108\n",
       "X4   -1.099891\n",
       "X5   -1.100619\n",
       "X6   -0.683728\n",
       "Name: 0, dtype: float64"
      ]
     },
     "execution_count": 53,
     "metadata": {},
     "output_type": "execute_result"
    }
   ],
   "source": [
    "df1.loc[0] #이상하다"
   ]
  },
  {
   "cell_type": "markdown",
   "id": "b4455aaa-89a2-4831-943b-7c957bb5d8d8",
   "metadata": {},
   "source": [
    "`-` 방법6"
   ]
  },
  {
   "cell_type": "code",
   "execution_count": 54,
   "id": "0ea12d3b-5a44-4503-ad2c-2530e7147a4f",
   "metadata": {},
   "outputs": [
    {
     "data": {
      "text/html": [
       "<div>\n",
       "<style scoped>\n",
       "    .dataframe tbody tr th:only-of-type {\n",
       "        vertical-align: middle;\n",
       "    }\n",
       "\n",
       "    .dataframe tbody tr th {\n",
       "        vertical-align: top;\n",
       "    }\n",
       "\n",
       "    .dataframe thead th {\n",
       "        text-align: right;\n",
       "    }\n",
       "</style>\n",
       "<table border=\"1\" class=\"dataframe\">\n",
       "  <thead>\n",
       "    <tr style=\"text-align: right;\">\n",
       "      <th></th>\n",
       "      <th>X1</th>\n",
       "      <th>X2</th>\n",
       "      <th>X3</th>\n",
       "      <th>X4</th>\n",
       "      <th>X5</th>\n",
       "      <th>X6</th>\n",
       "    </tr>\n",
       "  </thead>\n",
       "  <tbody>\n",
       "    <tr>\n",
       "      <th>0</th>\n",
       "      <td>1.624345</td>\n",
       "      <td>-2.301539</td>\n",
       "      <td>1.462108</td>\n",
       "      <td>-1.099891</td>\n",
       "      <td>-1.100619</td>\n",
       "      <td>-0.683728</td>\n",
       "    </tr>\n",
       "  </tbody>\n",
       "</table>\n",
       "</div>"
      ],
      "text/plain": [
       "         X1        X2        X3        X4        X5        X6\n",
       "0  1.624345 -2.301539  1.462108 -1.099891 -1.100619 -0.683728"
      ]
     },
     "execution_count": 54,
     "metadata": {},
     "output_type": "execute_result"
    }
   ],
   "source": [
    "df1.loc[[0]]"
   ]
  },
  {
   "cell_type": "markdown",
   "id": "7607fa54-a3d6-4689-aec3-1f15d5ef1406",
   "metadata": {},
   "source": [
    "`-`방법7"
   ]
  },
  {
   "cell_type": "code",
   "execution_count": 55,
   "id": "db91b124-4e9d-4305-8913-43d28d252f38",
   "metadata": {},
   "outputs": [
    {
     "data": {
      "text/plain": [
       "X1    1.624345\n",
       "X2   -2.301539\n",
       "X3    1.462108\n",
       "X4   -1.099891\n",
       "X5   -1.100619\n",
       "X6   -0.683728\n",
       "Name: 0, dtype: float64"
      ]
     },
     "execution_count": 55,
     "metadata": {},
     "output_type": "execute_result"
    }
   ],
   "source": [
    "df1.loc[0,:]"
   ]
  },
  {
   "cell_type": "markdown",
   "id": "d57b75a4-3a30-41a2-8cd3-9ddf12f0bfad",
   "metadata": {},
   "source": [
    "`-` 방법8"
   ]
  },
  {
   "cell_type": "code",
   "execution_count": 56,
   "id": "87388ce7-e4b5-454e-b7ea-faa36a302110",
   "metadata": {},
   "outputs": [
    {
     "data": {
      "text/html": [
       "<div>\n",
       "<style scoped>\n",
       "    .dataframe tbody tr th:only-of-type {\n",
       "        vertical-align: middle;\n",
       "    }\n",
       "\n",
       "    .dataframe tbody tr th {\n",
       "        vertical-align: top;\n",
       "    }\n",
       "\n",
       "    .dataframe thead th {\n",
       "        text-align: right;\n",
       "    }\n",
       "</style>\n",
       "<table border=\"1\" class=\"dataframe\">\n",
       "  <thead>\n",
       "    <tr style=\"text-align: right;\">\n",
       "      <th></th>\n",
       "      <th>X1</th>\n",
       "      <th>X2</th>\n",
       "      <th>X3</th>\n",
       "      <th>X4</th>\n",
       "      <th>X5</th>\n",
       "      <th>X6</th>\n",
       "    </tr>\n",
       "  </thead>\n",
       "  <tbody>\n",
       "    <tr>\n",
       "      <th>0</th>\n",
       "      <td>1.624345</td>\n",
       "      <td>-2.301539</td>\n",
       "      <td>1.462108</td>\n",
       "      <td>-1.099891</td>\n",
       "      <td>-1.100619</td>\n",
       "      <td>-0.683728</td>\n",
       "    </tr>\n",
       "  </tbody>\n",
       "</table>\n",
       "</div>"
      ],
      "text/plain": [
       "         X1        X2        X3        X4        X5        X6\n",
       "0  1.624345 -2.301539  1.462108 -1.099891 -1.100619 -0.683728"
      ]
     },
     "execution_count": 56,
     "metadata": {},
     "output_type": "execute_result"
    }
   ],
   "source": [
    "df1.loc[[0],:]"
   ]
  },
  {
   "cell_type": "markdown",
   "id": "c2edc746-4cdb-450b-907b-eb68632cc1c3",
   "metadata": {},
   "source": [
    "index가 integer인 경우 iloc과 loc의 출력 결과가 같다."
   ]
  },
  {
   "cell_type": "markdown",
   "id": "a26bea9b-da89-4e51-88fe-625013c54930",
   "metadata": {},
   "source": [
    "`-` 방법9"
   ]
  },
  {
   "cell_type": "code",
   "execution_count": 57,
   "id": "df3bd321-118c-4f6b-a737-c8cb14e4cc83",
   "metadata": {},
   "outputs": [
    {
     "data": {
      "text/html": [
       "<div>\n",
       "<style scoped>\n",
       "    .dataframe tbody tr th:only-of-type {\n",
       "        vertical-align: middle;\n",
       "    }\n",
       "\n",
       "    .dataframe tbody tr th {\n",
       "        vertical-align: top;\n",
       "    }\n",
       "\n",
       "    .dataframe thead th {\n",
       "        text-align: right;\n",
       "    }\n",
       "</style>\n",
       "<table border=\"1\" class=\"dataframe\">\n",
       "  <thead>\n",
       "    <tr style=\"text-align: right;\">\n",
       "      <th></th>\n",
       "      <th>X1</th>\n",
       "      <th>X2</th>\n",
       "      <th>X3</th>\n",
       "      <th>X4</th>\n",
       "      <th>X5</th>\n",
       "      <th>X6</th>\n",
       "    </tr>\n",
       "  </thead>\n",
       "  <tbody>\n",
       "    <tr>\n",
       "      <th>0</th>\n",
       "      <td>1.624345</td>\n",
       "      <td>-2.301539</td>\n",
       "      <td>1.462108</td>\n",
       "      <td>-1.099891</td>\n",
       "      <td>-1.100619</td>\n",
       "      <td>-0.683728</td>\n",
       "    </tr>\n",
       "  </tbody>\n",
       "</table>\n",
       "</div>"
      ],
      "text/plain": [
       "         X1        X2        X3        X4        X5        X6\n",
       "0  1.624345 -2.301539  1.462108 -1.099891 -1.100619 -0.683728"
      ]
     },
     "execution_count": 57,
     "metadata": {},
     "output_type": "execute_result"
    }
   ],
   "source": [
    "df1.iloc[[True,False,False,False,False]]"
   ]
  },
  {
   "cell_type": "markdown",
   "id": "bd73a5cf-21b9-4bf9-af07-7ec4511dcaea",
   "metadata": {},
   "source": [
    "`-` 방법10"
   ]
  },
  {
   "cell_type": "code",
   "execution_count": 58,
   "id": "a8c35b68-8414-4138-adc3-47a26ff10465",
   "metadata": {},
   "outputs": [
    {
     "data": {
      "text/html": [
       "<div>\n",
       "<style scoped>\n",
       "    .dataframe tbody tr th:only-of-type {\n",
       "        vertical-align: middle;\n",
       "    }\n",
       "\n",
       "    .dataframe tbody tr th {\n",
       "        vertical-align: top;\n",
       "    }\n",
       "\n",
       "    .dataframe thead th {\n",
       "        text-align: right;\n",
       "    }\n",
       "</style>\n",
       "<table border=\"1\" class=\"dataframe\">\n",
       "  <thead>\n",
       "    <tr style=\"text-align: right;\">\n",
       "      <th></th>\n",
       "      <th>X1</th>\n",
       "      <th>X2</th>\n",
       "      <th>X3</th>\n",
       "      <th>X4</th>\n",
       "      <th>X5</th>\n",
       "      <th>X6</th>\n",
       "    </tr>\n",
       "  </thead>\n",
       "  <tbody>\n",
       "    <tr>\n",
       "      <th>0</th>\n",
       "      <td>1.624345</td>\n",
       "      <td>-2.301539</td>\n",
       "      <td>1.462108</td>\n",
       "      <td>-1.099891</td>\n",
       "      <td>-1.100619</td>\n",
       "      <td>-0.683728</td>\n",
       "    </tr>\n",
       "  </tbody>\n",
       "</table>\n",
       "</div>"
      ],
      "text/plain": [
       "         X1        X2        X3        X4        X5        X6\n",
       "0  1.624345 -2.301539  1.462108 -1.099891 -1.100619 -0.683728"
      ]
     },
     "execution_count": 58,
     "metadata": {},
     "output_type": "execute_result"
    }
   ],
   "source": [
    "df1.iloc[[True,False,False,False,False],:]"
   ]
  },
  {
   "cell_type": "markdown",
   "id": "c7ad7e01-c423-44c7-904f-aa3091dc92ab",
   "metadata": {},
   "source": [
    "`-` 방법11"
   ]
  },
  {
   "cell_type": "code",
   "execution_count": 59,
   "id": "b29b9f3b-2a00-47f7-88e0-2bfd0edb6543",
   "metadata": {},
   "outputs": [
    {
     "data": {
      "text/html": [
       "<div>\n",
       "<style scoped>\n",
       "    .dataframe tbody tr th:only-of-type {\n",
       "        vertical-align: middle;\n",
       "    }\n",
       "\n",
       "    .dataframe tbody tr th {\n",
       "        vertical-align: top;\n",
       "    }\n",
       "\n",
       "    .dataframe thead th {\n",
       "        text-align: right;\n",
       "    }\n",
       "</style>\n",
       "<table border=\"1\" class=\"dataframe\">\n",
       "  <thead>\n",
       "    <tr style=\"text-align: right;\">\n",
       "      <th></th>\n",
       "      <th>X1</th>\n",
       "      <th>X2</th>\n",
       "      <th>X3</th>\n",
       "      <th>X4</th>\n",
       "      <th>X5</th>\n",
       "      <th>X6</th>\n",
       "    </tr>\n",
       "  </thead>\n",
       "  <tbody>\n",
       "    <tr>\n",
       "      <th>0</th>\n",
       "      <td>1.624345</td>\n",
       "      <td>-2.301539</td>\n",
       "      <td>1.462108</td>\n",
       "      <td>-1.099891</td>\n",
       "      <td>-1.100619</td>\n",
       "      <td>-0.683728</td>\n",
       "    </tr>\n",
       "  </tbody>\n",
       "</table>\n",
       "</div>"
      ],
      "text/plain": [
       "         X1        X2        X3        X4        X5        X6\n",
       "0  1.624345 -2.301539  1.462108 -1.099891 -1.100619 -0.683728"
      ]
     },
     "execution_count": 59,
     "metadata": {},
     "output_type": "execute_result"
    }
   ],
   "source": [
    "df1.loc[[True,False,False,False,False]]"
   ]
  },
  {
   "cell_type": "markdown",
   "id": "d885f81a-49f4-4e31-9e11-5c1b4f57272b",
   "metadata": {},
   "source": [
    "`-` 방법12"
   ]
  },
  {
   "cell_type": "code",
   "execution_count": 60,
   "id": "e71ef3fd-dd46-42fc-8d83-dde5ff9a528c",
   "metadata": {},
   "outputs": [
    {
     "data": {
      "text/html": [
       "<div>\n",
       "<style scoped>\n",
       "    .dataframe tbody tr th:only-of-type {\n",
       "        vertical-align: middle;\n",
       "    }\n",
       "\n",
       "    .dataframe tbody tr th {\n",
       "        vertical-align: top;\n",
       "    }\n",
       "\n",
       "    .dataframe thead th {\n",
       "        text-align: right;\n",
       "    }\n",
       "</style>\n",
       "<table border=\"1\" class=\"dataframe\">\n",
       "  <thead>\n",
       "    <tr style=\"text-align: right;\">\n",
       "      <th></th>\n",
       "      <th>X1</th>\n",
       "      <th>X2</th>\n",
       "      <th>X3</th>\n",
       "      <th>X4</th>\n",
       "      <th>X5</th>\n",
       "      <th>X6</th>\n",
       "    </tr>\n",
       "  </thead>\n",
       "  <tbody>\n",
       "    <tr>\n",
       "      <th>0</th>\n",
       "      <td>1.624345</td>\n",
       "      <td>-2.301539</td>\n",
       "      <td>1.462108</td>\n",
       "      <td>-1.099891</td>\n",
       "      <td>-1.100619</td>\n",
       "      <td>-0.683728</td>\n",
       "    </tr>\n",
       "  </tbody>\n",
       "</table>\n",
       "</div>"
      ],
      "text/plain": [
       "         X1        X2        X3        X4        X5        X6\n",
       "0  1.624345 -2.301539  1.462108 -1.099891 -1.100619 -0.683728"
      ]
     },
     "execution_count": 60,
     "metadata": {},
     "output_type": "execute_result"
    }
   ],
   "source": [
    "df1.loc[[True,False,False,False,False],:]"
   ]
  },
  {
   "cell_type": "markdown",
   "id": "84a8c496-cb96-42cc-b1cd-40a02ee03d4c",
   "metadata": {},
   "source": [
    "### 1,3행을 선택하는 방법"
   ]
  },
  {
   "cell_type": "code",
   "execution_count": 61,
   "id": "a8d8f158-2d73-4ff4-bb98-9445df618983",
   "metadata": {},
   "outputs": [
    {
     "data": {
      "text/html": [
       "<div>\n",
       "<style scoped>\n",
       "    .dataframe tbody tr th:only-of-type {\n",
       "        vertical-align: middle;\n",
       "    }\n",
       "\n",
       "    .dataframe tbody tr th {\n",
       "        vertical-align: top;\n",
       "    }\n",
       "\n",
       "    .dataframe thead th {\n",
       "        text-align: right;\n",
       "    }\n",
       "</style>\n",
       "<table border=\"1\" class=\"dataframe\">\n",
       "  <thead>\n",
       "    <tr style=\"text-align: right;\">\n",
       "      <th></th>\n",
       "      <th>X1</th>\n",
       "      <th>X2</th>\n",
       "      <th>X3</th>\n",
       "      <th>X4</th>\n",
       "      <th>X5</th>\n",
       "      <th>X6</th>\n",
       "    </tr>\n",
       "  </thead>\n",
       "  <tbody>\n",
       "    <tr>\n",
       "      <th>0</th>\n",
       "      <td>1.624345</td>\n",
       "      <td>-2.301539</td>\n",
       "      <td>1.462108</td>\n",
       "      <td>-1.099891</td>\n",
       "      <td>-1.100619</td>\n",
       "      <td>-0.683728</td>\n",
       "    </tr>\n",
       "    <tr>\n",
       "      <th>1</th>\n",
       "      <td>-0.611756</td>\n",
       "      <td>1.744812</td>\n",
       "      <td>-2.060141</td>\n",
       "      <td>-0.172428</td>\n",
       "      <td>1.144724</td>\n",
       "      <td>-0.122890</td>\n",
       "    </tr>\n",
       "    <tr>\n",
       "      <th>2</th>\n",
       "      <td>-0.528172</td>\n",
       "      <td>-0.761207</td>\n",
       "      <td>-0.322417</td>\n",
       "      <td>-0.877858</td>\n",
       "      <td>0.901591</td>\n",
       "      <td>-0.935769</td>\n",
       "    </tr>\n",
       "    <tr>\n",
       "      <th>3</th>\n",
       "      <td>-1.072969</td>\n",
       "      <td>0.319039</td>\n",
       "      <td>-0.384054</td>\n",
       "      <td>0.042214</td>\n",
       "      <td>0.502494</td>\n",
       "      <td>-0.267888</td>\n",
       "    </tr>\n",
       "    <tr>\n",
       "      <th>4</th>\n",
       "      <td>0.865408</td>\n",
       "      <td>-0.249370</td>\n",
       "      <td>1.133769</td>\n",
       "      <td>0.582815</td>\n",
       "      <td>0.900856</td>\n",
       "      <td>0.530355</td>\n",
       "    </tr>\n",
       "  </tbody>\n",
       "</table>\n",
       "</div>"
      ],
      "text/plain": [
       "         X1        X2        X3        X4        X5        X6\n",
       "0  1.624345 -2.301539  1.462108 -1.099891 -1.100619 -0.683728\n",
       "1 -0.611756  1.744812 -2.060141 -0.172428  1.144724 -0.122890\n",
       "2 -0.528172 -0.761207 -0.322417 -0.877858  0.901591 -0.935769\n",
       "3 -1.072969  0.319039 -0.384054  0.042214  0.502494 -0.267888\n",
       "4  0.865408 -0.249370  1.133769  0.582815  0.900856  0.530355"
      ]
     },
     "execution_count": 61,
     "metadata": {},
     "output_type": "execute_result"
    }
   ],
   "source": [
    "df1"
   ]
  },
  {
   "cell_type": "markdown",
   "id": "0c82d6c6-16d6-412d-a921-f4cc47169966",
   "metadata": {},
   "source": [
    "`-` 방법1"
   ]
  },
  {
   "cell_type": "code",
   "execution_count": 62,
   "id": "b4976113-3001-4b76-8f3e-91ea548654cb",
   "metadata": {},
   "outputs": [
    {
     "data": {
      "text/html": [
       "<div>\n",
       "<style scoped>\n",
       "    .dataframe tbody tr th:only-of-type {\n",
       "        vertical-align: middle;\n",
       "    }\n",
       "\n",
       "    .dataframe tbody tr th {\n",
       "        vertical-align: top;\n",
       "    }\n",
       "\n",
       "    .dataframe thead th {\n",
       "        text-align: right;\n",
       "    }\n",
       "</style>\n",
       "<table border=\"1\" class=\"dataframe\">\n",
       "  <thead>\n",
       "    <tr style=\"text-align: right;\">\n",
       "      <th></th>\n",
       "      <th>X1</th>\n",
       "      <th>X2</th>\n",
       "      <th>X3</th>\n",
       "      <th>X4</th>\n",
       "      <th>X5</th>\n",
       "      <th>X6</th>\n",
       "    </tr>\n",
       "  </thead>\n",
       "  <tbody>\n",
       "    <tr>\n",
       "      <th>0</th>\n",
       "      <td>1.624345</td>\n",
       "      <td>-2.301539</td>\n",
       "      <td>1.462108</td>\n",
       "      <td>-1.099891</td>\n",
       "      <td>-1.100619</td>\n",
       "      <td>-0.683728</td>\n",
       "    </tr>\n",
       "    <tr>\n",
       "      <th>2</th>\n",
       "      <td>-0.528172</td>\n",
       "      <td>-0.761207</td>\n",
       "      <td>-0.322417</td>\n",
       "      <td>-0.877858</td>\n",
       "      <td>0.901591</td>\n",
       "      <td>-0.935769</td>\n",
       "    </tr>\n",
       "  </tbody>\n",
       "</table>\n",
       "</div>"
      ],
      "text/plain": [
       "         X1        X2        X3        X4        X5        X6\n",
       "0  1.624345 -2.301539  1.462108 -1.099891 -1.100619 -0.683728\n",
       "2 -0.528172 -0.761207 -0.322417 -0.877858  0.901591 -0.935769"
      ]
     },
     "execution_count": 62,
     "metadata": {},
     "output_type": "execute_result"
    }
   ],
   "source": [
    "df1.loc[[0,2],:]"
   ]
  },
  {
   "cell_type": "markdown",
   "id": "79150937-42de-4ba4-a0e3-a6c56d694f0c",
   "metadata": {},
   "source": [
    "`-` 방법2"
   ]
  },
  {
   "cell_type": "code",
   "execution_count": 63,
   "id": "f674028b-dedf-442e-ab20-6d1246c83e99",
   "metadata": {},
   "outputs": [
    {
     "data": {
      "text/html": [
       "<div>\n",
       "<style scoped>\n",
       "    .dataframe tbody tr th:only-of-type {\n",
       "        vertical-align: middle;\n",
       "    }\n",
       "\n",
       "    .dataframe tbody tr th {\n",
       "        vertical-align: top;\n",
       "    }\n",
       "\n",
       "    .dataframe thead th {\n",
       "        text-align: right;\n",
       "    }\n",
       "</style>\n",
       "<table border=\"1\" class=\"dataframe\">\n",
       "  <thead>\n",
       "    <tr style=\"text-align: right;\">\n",
       "      <th></th>\n",
       "      <th>X1</th>\n",
       "      <th>X2</th>\n",
       "      <th>X3</th>\n",
       "      <th>X4</th>\n",
       "      <th>X5</th>\n",
       "      <th>X6</th>\n",
       "    </tr>\n",
       "  </thead>\n",
       "  <tbody>\n",
       "    <tr>\n",
       "      <th>0</th>\n",
       "      <td>1.624345</td>\n",
       "      <td>-2.301539</td>\n",
       "      <td>1.462108</td>\n",
       "      <td>-1.099891</td>\n",
       "      <td>-1.100619</td>\n",
       "      <td>-0.683728</td>\n",
       "    </tr>\n",
       "    <tr>\n",
       "      <th>2</th>\n",
       "      <td>-0.528172</td>\n",
       "      <td>-0.761207</td>\n",
       "      <td>-0.322417</td>\n",
       "      <td>-0.877858</td>\n",
       "      <td>0.901591</td>\n",
       "      <td>-0.935769</td>\n",
       "    </tr>\n",
       "  </tbody>\n",
       "</table>\n",
       "</div>"
      ],
      "text/plain": [
       "         X1        X2        X3        X4        X5        X6\n",
       "0  1.624345 -2.301539  1.462108 -1.099891 -1.100619 -0.683728\n",
       "2 -0.528172 -0.761207 -0.322417 -0.877858  0.901591 -0.935769"
      ]
     },
     "execution_count": 63,
     "metadata": {},
     "output_type": "execute_result"
    }
   ],
   "source": [
    "df1.iloc[[0,2],:]"
   ]
  },
  {
   "cell_type": "markdown",
   "id": "2c313124-7e54-4e4a-a881-73d3b5e494f0",
   "metadata": {},
   "source": [
    "`-` 그외에 여러행을 뽑는 방법이 있음 ; 슬라이싱, 불인덱싱 등(자세한건 생략)"
   ]
  },
  {
   "cell_type": "markdown",
   "id": "b9423c8e-98bb-4234-973b-3daaafa585e9",
   "metadata": {},
   "source": [
    "#### loc vs iloc ??"
   ]
  },
  {
   "cell_type": "markdown",
   "id": "8c5e4c5f-53fe-4a4a-8f9b-74708c1fa03d",
   "metadata": {},
   "source": [
    "`-`인덱스가 정수가 아닌 경우"
   ]
  },
  {
   "cell_type": "code",
   "execution_count": 68,
   "id": "e84f9332-578c-4c63-9e46-689260d4eb1b",
   "metadata": {},
   "outputs": [
    {
     "data": {
      "text/plain": [
       "['a', 'b', 'c']"
      ]
     },
     "execution_count": 68,
     "metadata": {},
     "output_type": "execute_result"
    }
   ],
   "source": [
    "list('abc')"
   ]
  },
  {
   "cell_type": "code",
   "execution_count": 70,
   "id": "4ca4571a-2dfd-4f99-b3ad-2bd1b9428e76",
   "metadata": {},
   "outputs": [
    {
     "data": {
      "text/html": [
       "<div>\n",
       "<style scoped>\n",
       "    .dataframe tbody tr th:only-of-type {\n",
       "        vertical-align: middle;\n",
       "    }\n",
       "\n",
       "    .dataframe tbody tr th {\n",
       "        vertical-align: top;\n",
       "    }\n",
       "\n",
       "    .dataframe thead th {\n",
       "        text-align: right;\n",
       "    }\n",
       "</style>\n",
       "<table border=\"1\" class=\"dataframe\">\n",
       "  <thead>\n",
       "    <tr style=\"text-align: right;\">\n",
       "      <th></th>\n",
       "      <th>A</th>\n",
       "      <th>B</th>\n",
       "    </tr>\n",
       "  </thead>\n",
       "  <tbody>\n",
       "    <tr>\n",
       "      <th>a</th>\n",
       "      <td>1</td>\n",
       "      <td>4</td>\n",
       "    </tr>\n",
       "    <tr>\n",
       "      <th>b</th>\n",
       "      <td>2</td>\n",
       "      <td>5</td>\n",
       "    </tr>\n",
       "    <tr>\n",
       "      <th>c</th>\n",
       "      <td>3</td>\n",
       "      <td>6</td>\n",
       "    </tr>\n",
       "    <tr>\n",
       "      <th>d</th>\n",
       "      <td>4</td>\n",
       "      <td>7</td>\n",
       "    </tr>\n",
       "  </tbody>\n",
       "</table>\n",
       "</div>"
      ],
      "text/plain": [
       "   A  B\n",
       "a  1  4\n",
       "b  2  5\n",
       "c  3  6\n",
       "d  4  7"
      ]
     },
     "execution_count": 70,
     "metadata": {},
     "output_type": "execute_result"
    }
   ],
   "source": [
    "_df=pd.DataFrame({'A':[1,2,3,4],'B':[4,5,6,7]},index=list('abcd'))\n",
    "_df"
   ]
  },
  {
   "cell_type": "code",
   "execution_count": 78,
   "id": "4a62a052-b163-46d6-ad7e-078c6f65d0a9",
   "metadata": {},
   "outputs": [
    {
     "data": {
      "text/html": [
       "<div>\n",
       "<style scoped>\n",
       "    .dataframe tbody tr th:only-of-type {\n",
       "        vertical-align: middle;\n",
       "    }\n",
       "\n",
       "    .dataframe tbody tr th {\n",
       "        vertical-align: top;\n",
       "    }\n",
       "\n",
       "    .dataframe thead th {\n",
       "        text-align: right;\n",
       "    }\n",
       "</style>\n",
       "<table border=\"1\" class=\"dataframe\">\n",
       "  <thead>\n",
       "    <tr style=\"text-align: right;\">\n",
       "      <th></th>\n",
       "      <th>A</th>\n",
       "      <th>B</th>\n",
       "    </tr>\n",
       "  </thead>\n",
       "  <tbody>\n",
       "    <tr>\n",
       "      <th>a</th>\n",
       "      <td>1</td>\n",
       "      <td>4</td>\n",
       "    </tr>\n",
       "    <tr>\n",
       "      <th>b</th>\n",
       "      <td>2</td>\n",
       "      <td>5</td>\n",
       "    </tr>\n",
       "    <tr>\n",
       "      <th>c</th>\n",
       "      <td>3</td>\n",
       "      <td>6</td>\n",
       "    </tr>\n",
       "  </tbody>\n",
       "</table>\n",
       "</div>"
      ],
      "text/plain": [
       "   A  B\n",
       "a  1  4\n",
       "b  2  5\n",
       "c  3  6"
      ]
     },
     "execution_count": 78,
     "metadata": {},
     "output_type": "execute_result"
    }
   ],
   "source": [
    "_df.loc['a':'c',:]"
   ]
  },
  {
   "cell_type": "code",
   "execution_count": 73,
   "id": "85a1459e-9091-4e5e-b970-ad570bb1644f",
   "metadata": {},
   "outputs": [
    {
     "data": {
      "text/html": [
       "<div>\n",
       "<style scoped>\n",
       "    .dataframe tbody tr th:only-of-type {\n",
       "        vertical-align: middle;\n",
       "    }\n",
       "\n",
       "    .dataframe tbody tr th {\n",
       "        vertical-align: top;\n",
       "    }\n",
       "\n",
       "    .dataframe thead th {\n",
       "        text-align: right;\n",
       "    }\n",
       "</style>\n",
       "<table border=\"1\" class=\"dataframe\">\n",
       "  <thead>\n",
       "    <tr style=\"text-align: right;\">\n",
       "      <th></th>\n",
       "      <th>A</th>\n",
       "      <th>B</th>\n",
       "    </tr>\n",
       "  </thead>\n",
       "  <tbody>\n",
       "    <tr>\n",
       "      <th>a</th>\n",
       "      <td>1</td>\n",
       "      <td>4</td>\n",
       "    </tr>\n",
       "    <tr>\n",
       "      <th>b</th>\n",
       "      <td>2</td>\n",
       "      <td>5</td>\n",
       "    </tr>\n",
       "    <tr>\n",
       "      <th>c</th>\n",
       "      <td>3</td>\n",
       "      <td>6</td>\n",
       "    </tr>\n",
       "  </tbody>\n",
       "</table>\n",
       "</div>"
      ],
      "text/plain": [
       "   A  B\n",
       "a  1  4\n",
       "b  2  5\n",
       "c  3  6"
      ]
     },
     "execution_count": 73,
     "metadata": {},
     "output_type": "execute_result"
    }
   ],
   "source": [
    "_df.iloc[0:3,:]"
   ]
  },
  {
   "cell_type": "code",
   "execution_count": 77,
   "id": "72df3ffe-1aee-4086-b572-7dceea8a43df",
   "metadata": {},
   "outputs": [
    {
     "data": {
      "text/html": [
       "<div>\n",
       "<style scoped>\n",
       "    .dataframe tbody tr th:only-of-type {\n",
       "        vertical-align: middle;\n",
       "    }\n",
       "\n",
       "    .dataframe tbody tr th {\n",
       "        vertical-align: top;\n",
       "    }\n",
       "\n",
       "    .dataframe thead th {\n",
       "        text-align: right;\n",
       "    }\n",
       "</style>\n",
       "<table border=\"1\" class=\"dataframe\">\n",
       "  <thead>\n",
       "    <tr style=\"text-align: right;\">\n",
       "      <th></th>\n",
       "      <th>A</th>\n",
       "      <th>B</th>\n",
       "    </tr>\n",
       "  </thead>\n",
       "  <tbody>\n",
       "    <tr>\n",
       "      <th>a</th>\n",
       "      <td>1</td>\n",
       "      <td>4</td>\n",
       "    </tr>\n",
       "    <tr>\n",
       "      <th>b</th>\n",
       "      <td>2</td>\n",
       "      <td>5</td>\n",
       "    </tr>\n",
       "    <tr>\n",
       "      <th>c</th>\n",
       "      <td>3</td>\n",
       "      <td>6</td>\n",
       "    </tr>\n",
       "  </tbody>\n",
       "</table>\n",
       "</div>"
      ],
      "text/plain": [
       "   A  B\n",
       "a  1  4\n",
       "b  2  5\n",
       "c  3  6"
      ]
     },
     "execution_count": 77,
     "metadata": {},
     "output_type": "execute_result"
    }
   ],
   "source": [
    "_df.loc[['a','b','c'],:]"
   ]
  },
  {
   "cell_type": "code",
   "execution_count": 76,
   "id": "6b04a270-8167-469d-84bf-dd1b7ee2367b",
   "metadata": {},
   "outputs": [
    {
     "data": {
      "text/html": [
       "<div>\n",
       "<style scoped>\n",
       "    .dataframe tbody tr th:only-of-type {\n",
       "        vertical-align: middle;\n",
       "    }\n",
       "\n",
       "    .dataframe tbody tr th {\n",
       "        vertical-align: top;\n",
       "    }\n",
       "\n",
       "    .dataframe thead th {\n",
       "        text-align: right;\n",
       "    }\n",
       "</style>\n",
       "<table border=\"1\" class=\"dataframe\">\n",
       "  <thead>\n",
       "    <tr style=\"text-align: right;\">\n",
       "      <th></th>\n",
       "      <th>A</th>\n",
       "      <th>B</th>\n",
       "    </tr>\n",
       "  </thead>\n",
       "  <tbody>\n",
       "    <tr>\n",
       "      <th>a</th>\n",
       "      <td>1</td>\n",
       "      <td>4</td>\n",
       "    </tr>\n",
       "    <tr>\n",
       "      <th>b</th>\n",
       "      <td>2</td>\n",
       "      <td>5</td>\n",
       "    </tr>\n",
       "    <tr>\n",
       "      <th>c</th>\n",
       "      <td>3</td>\n",
       "      <td>6</td>\n",
       "    </tr>\n",
       "  </tbody>\n",
       "</table>\n",
       "</div>"
      ],
      "text/plain": [
       "   A  B\n",
       "a  1  4\n",
       "b  2  5\n",
       "c  3  6"
      ]
     },
     "execution_count": 76,
     "metadata": {},
     "output_type": "execute_result"
    }
   ],
   "source": [
    "_df.iloc[[0,1,2],:]"
   ]
  },
  {
   "cell_type": "markdown",
   "id": "b3299d04-982c-4548-ac8a-430f8aeac075",
   "metadata": {},
   "source": [
    "`-` 대부분의 경우 observation에 특정한 이름이 있는 경우는 없으므로 loc이 그다지 쓸모 없음"
   ]
  },
  {
   "cell_type": "markdown",
   "id": "3902686d-dae6-4d38-b54a-a5b4d101e459",
   "metadata": {},
   "source": [
    "`-` 그렇지만 특정 경우에는 쓸모가 있음"
   ]
  },
  {
   "cell_type": "code",
   "execution_count": 88,
   "id": "1bf0c7b3-2d6f-4c09-94a7-a96489bd2827",
   "metadata": {},
   "outputs": [
    {
     "data": {
      "text/plain": [
       "array([[-0.22232814, -0.20075807,  0.18656139,  0.41005165],\n",
       "       [ 0.19829972,  0.11900865, -0.67066229,  0.37756379],\n",
       "       [ 0.12182127,  1.12948391,  1.19891788,  0.18515642],\n",
       "       [-0.37528495, -0.63873041,  0.42349435,  0.07734007],\n",
       "       [-0.34385368,  0.04359686, -0.62000084,  0.69803203],\n",
       "       [-0.44712856,  1.2245077 ,  0.40349164,  0.59357852],\n",
       "       [-1.09491185,  0.16938243,  0.74055645, -0.9537006 ],\n",
       "       [-0.26621851,  0.03261455, -1.37311732,  0.31515939],\n",
       "       [ 0.84616065, -0.85951594,  0.35054598, -1.31228341],\n",
       "       [-0.03869551, -1.61577235,  1.12141771,  0.40890054],\n",
       "       [-0.02461696, -0.77516162,  1.27375593,  1.96710175],\n",
       "       [-1.85798186,  1.23616403,  1.62765075,  0.3380117 ],\n",
       "       [-1.19926803,  0.86334532, -0.1809203 , -0.60392063],\n",
       "       [-1.23005814,  0.5505375 ,  0.79280687, -0.62353073],\n",
       "       [ 0.52057634, -1.14434139,  0.80186103,  0.0465673 ],\n",
       "       [-0.18656977, -0.10174587,  0.86888616,  0.75041164],\n",
       "       [ 0.52946532,  0.13770121,  0.07782113,  0.61838026],\n",
       "       [ 0.23249456,  0.68255141, -0.31011677, -2.43483776],\n",
       "       [ 1.0388246 ,  2.18697965,  0.44136444, -0.10015523],\n",
       "       [-0.13644474, -0.11905419,  0.01740941, -1.12201873]])"
      ]
     },
     "execution_count": 88,
     "metadata": {},
     "output_type": "execute_result"
    }
   ],
   "source": [
    "np.random.normal(size=(20,4))"
   ]
  },
  {
   "cell_type": "code",
   "execution_count": 89,
   "id": "98931282-d6e5-4133-aee0-5f679b2a8005",
   "metadata": {},
   "outputs": [
    {
     "data": {
      "text/plain": [
       "DatetimeIndex(['2020-12-25', '2020-12-26', '2020-12-27', '2020-12-28',\n",
       "               '2020-12-29', '2020-12-30', '2020-12-31', '2021-01-01',\n",
       "               '2021-01-02', '2021-01-03', '2021-01-04', '2021-01-05',\n",
       "               '2021-01-06', '2021-01-07', '2021-01-08', '2021-01-09',\n",
       "               '2021-01-10', '2021-01-11', '2021-01-12', '2021-01-13'],\n",
       "              dtype='datetime64[ns]', freq='D')"
      ]
     },
     "execution_count": 89,
     "metadata": {},
     "output_type": "execute_result"
    }
   ],
   "source": [
    "pd.date_range('20201225',periods=20)"
   ]
  },
  {
   "cell_type": "code",
   "execution_count": 90,
   "id": "81d64db2-f95a-4cf5-9df0-43aeafe44594",
   "metadata": {},
   "outputs": [
    {
     "data": {
      "text/plain": [
       "20"
      ]
     },
     "execution_count": 90,
     "metadata": {},
     "output_type": "execute_result"
    }
   ],
   "source": [
    "len(pd.date_range('20201225',periods=20))"
   ]
  },
  {
   "cell_type": "code",
   "execution_count": 87,
   "id": "a2aead13-8c8e-4605-8d1e-7c4cfd64e1d2",
   "metadata": {},
   "outputs": [
    {
     "data": {
      "text/html": [
       "<div>\n",
       "<style scoped>\n",
       "    .dataframe tbody tr th:only-of-type {\n",
       "        vertical-align: middle;\n",
       "    }\n",
       "\n",
       "    .dataframe tbody tr th {\n",
       "        vertical-align: top;\n",
       "    }\n",
       "\n",
       "    .dataframe thead th {\n",
       "        text-align: right;\n",
       "    }\n",
       "</style>\n",
       "<table border=\"1\" class=\"dataframe\">\n",
       "  <thead>\n",
       "    <tr style=\"text-align: right;\">\n",
       "      <th></th>\n",
       "      <th>A</th>\n",
       "      <th>B</th>\n",
       "      <th>C</th>\n",
       "      <th>D</th>\n",
       "    </tr>\n",
       "  </thead>\n",
       "  <tbody>\n",
       "    <tr>\n",
       "      <th>2020-12-25</th>\n",
       "      <td>1.624345</td>\n",
       "      <td>-0.611756</td>\n",
       "      <td>-0.528172</td>\n",
       "      <td>-1.072969</td>\n",
       "    </tr>\n",
       "    <tr>\n",
       "      <th>2020-12-26</th>\n",
       "      <td>0.865408</td>\n",
       "      <td>-2.301539</td>\n",
       "      <td>1.744812</td>\n",
       "      <td>-0.761207</td>\n",
       "    </tr>\n",
       "    <tr>\n",
       "      <th>2020-12-27</th>\n",
       "      <td>0.319039</td>\n",
       "      <td>-0.249370</td>\n",
       "      <td>1.462108</td>\n",
       "      <td>-2.060141</td>\n",
       "    </tr>\n",
       "    <tr>\n",
       "      <th>2020-12-28</th>\n",
       "      <td>-0.322417</td>\n",
       "      <td>-0.384054</td>\n",
       "      <td>1.133769</td>\n",
       "      <td>-1.099891</td>\n",
       "    </tr>\n",
       "    <tr>\n",
       "      <th>2020-12-29</th>\n",
       "      <td>-0.172428</td>\n",
       "      <td>-0.877858</td>\n",
       "      <td>0.042214</td>\n",
       "      <td>0.582815</td>\n",
       "    </tr>\n",
       "    <tr>\n",
       "      <th>2020-12-30</th>\n",
       "      <td>-1.100619</td>\n",
       "      <td>1.144724</td>\n",
       "      <td>0.901591</td>\n",
       "      <td>0.502494</td>\n",
       "    </tr>\n",
       "    <tr>\n",
       "      <th>2020-12-31</th>\n",
       "      <td>0.900856</td>\n",
       "      <td>-0.683728</td>\n",
       "      <td>-0.122890</td>\n",
       "      <td>-0.935769</td>\n",
       "    </tr>\n",
       "    <tr>\n",
       "      <th>2021-01-01</th>\n",
       "      <td>-0.267888</td>\n",
       "      <td>0.530355</td>\n",
       "      <td>-0.691661</td>\n",
       "      <td>-0.396754</td>\n",
       "    </tr>\n",
       "    <tr>\n",
       "      <th>2021-01-02</th>\n",
       "      <td>-0.687173</td>\n",
       "      <td>-0.845206</td>\n",
       "      <td>-0.671246</td>\n",
       "      <td>-0.012665</td>\n",
       "    </tr>\n",
       "    <tr>\n",
       "      <th>2021-01-03</th>\n",
       "      <td>-1.117310</td>\n",
       "      <td>0.234416</td>\n",
       "      <td>1.659802</td>\n",
       "      <td>0.742044</td>\n",
       "    </tr>\n",
       "    <tr>\n",
       "      <th>2021-01-04</th>\n",
       "      <td>-0.191836</td>\n",
       "      <td>-0.887629</td>\n",
       "      <td>-0.747158</td>\n",
       "      <td>1.692455</td>\n",
       "    </tr>\n",
       "    <tr>\n",
       "      <th>2021-01-05</th>\n",
       "      <td>0.050808</td>\n",
       "      <td>-0.636996</td>\n",
       "      <td>0.190915</td>\n",
       "      <td>2.100255</td>\n",
       "    </tr>\n",
       "    <tr>\n",
       "      <th>2021-01-06</th>\n",
       "      <td>0.120159</td>\n",
       "      <td>0.617203</td>\n",
       "      <td>0.300170</td>\n",
       "      <td>-0.352250</td>\n",
       "    </tr>\n",
       "    <tr>\n",
       "      <th>2021-01-07</th>\n",
       "      <td>-1.142518</td>\n",
       "      <td>-0.349343</td>\n",
       "      <td>-0.208894</td>\n",
       "      <td>0.586623</td>\n",
       "    </tr>\n",
       "    <tr>\n",
       "      <th>2021-01-08</th>\n",
       "      <td>0.838983</td>\n",
       "      <td>0.931102</td>\n",
       "      <td>0.285587</td>\n",
       "      <td>0.885141</td>\n",
       "    </tr>\n",
       "    <tr>\n",
       "      <th>2021-01-09</th>\n",
       "      <td>-0.754398</td>\n",
       "      <td>1.252868</td>\n",
       "      <td>0.512930</td>\n",
       "      <td>-0.298093</td>\n",
       "    </tr>\n",
       "    <tr>\n",
       "      <th>2021-01-10</th>\n",
       "      <td>0.488518</td>\n",
       "      <td>-0.075572</td>\n",
       "      <td>1.131629</td>\n",
       "      <td>1.519817</td>\n",
       "    </tr>\n",
       "    <tr>\n",
       "      <th>2021-01-11</th>\n",
       "      <td>2.185575</td>\n",
       "      <td>-1.396496</td>\n",
       "      <td>-1.444114</td>\n",
       "      <td>-0.504466</td>\n",
       "    </tr>\n",
       "    <tr>\n",
       "      <th>2021-01-12</th>\n",
       "      <td>0.160037</td>\n",
       "      <td>0.876169</td>\n",
       "      <td>0.315635</td>\n",
       "      <td>-2.022201</td>\n",
       "    </tr>\n",
       "    <tr>\n",
       "      <th>2021-01-13</th>\n",
       "      <td>-0.306204</td>\n",
       "      <td>0.827975</td>\n",
       "      <td>0.230095</td>\n",
       "      <td>0.762011</td>\n",
       "    </tr>\n",
       "  </tbody>\n",
       "</table>\n",
       "</div>"
      ],
      "text/plain": [
       "                   A         B         C         D\n",
       "2020-12-25  1.624345 -0.611756 -0.528172 -1.072969\n",
       "2020-12-26  0.865408 -2.301539  1.744812 -0.761207\n",
       "2020-12-27  0.319039 -0.249370  1.462108 -2.060141\n",
       "2020-12-28 -0.322417 -0.384054  1.133769 -1.099891\n",
       "2020-12-29 -0.172428 -0.877858  0.042214  0.582815\n",
       "2020-12-30 -1.100619  1.144724  0.901591  0.502494\n",
       "2020-12-31  0.900856 -0.683728 -0.122890 -0.935769\n",
       "2021-01-01 -0.267888  0.530355 -0.691661 -0.396754\n",
       "2021-01-02 -0.687173 -0.845206 -0.671246 -0.012665\n",
       "2021-01-03 -1.117310  0.234416  1.659802  0.742044\n",
       "2021-01-04 -0.191836 -0.887629 -0.747158  1.692455\n",
       "2021-01-05  0.050808 -0.636996  0.190915  2.100255\n",
       "2021-01-06  0.120159  0.617203  0.300170 -0.352250\n",
       "2021-01-07 -1.142518 -0.349343 -0.208894  0.586623\n",
       "2021-01-08  0.838983  0.931102  0.285587  0.885141\n",
       "2021-01-09 -0.754398  1.252868  0.512930 -0.298093\n",
       "2021-01-10  0.488518 -0.075572  1.131629  1.519817\n",
       "2021-01-11  2.185575 -1.396496 -1.444114 -0.504466\n",
       "2021-01-12  0.160037  0.876169  0.315635 -2.022201\n",
       "2021-01-13 -0.306204  0.827975  0.230095  0.762011"
      ]
     },
     "execution_count": 87,
     "metadata": {},
     "output_type": "execute_result"
    }
   ],
   "source": [
    "np.random.seed(1)\n",
    "_df=pd.DataFrame(np.random.normal(size=(20,4)), columns=list('ABCD'),index=pd.date_range('20201225',periods=20))\n",
    "_df"
   ]
  },
  {
   "cell_type": "markdown",
   "id": "c3fddacb-8723-4b2b-8ec1-787deb501b1b",
   "metadata": {},
   "source": [
    "`-` 1월 5일부터 1월 8일까지의 자료만 보고싶다."
   ]
  },
  {
   "cell_type": "code",
   "execution_count": 92,
   "id": "80b07220-ae40-4e6c-960e-c955bf704c54",
   "metadata": {},
   "outputs": [
    {
     "data": {
      "text/html": [
       "<div>\n",
       "<style scoped>\n",
       "    .dataframe tbody tr th:only-of-type {\n",
       "        vertical-align: middle;\n",
       "    }\n",
       "\n",
       "    .dataframe tbody tr th {\n",
       "        vertical-align: top;\n",
       "    }\n",
       "\n",
       "    .dataframe thead th {\n",
       "        text-align: right;\n",
       "    }\n",
       "</style>\n",
       "<table border=\"1\" class=\"dataframe\">\n",
       "  <thead>\n",
       "    <tr style=\"text-align: right;\">\n",
       "      <th></th>\n",
       "      <th>A</th>\n",
       "      <th>B</th>\n",
       "      <th>C</th>\n",
       "      <th>D</th>\n",
       "    </tr>\n",
       "  </thead>\n",
       "  <tbody>\n",
       "    <tr>\n",
       "      <th>2021-01-05</th>\n",
       "      <td>0.050808</td>\n",
       "      <td>-0.636996</td>\n",
       "      <td>0.190915</td>\n",
       "      <td>2.100255</td>\n",
       "    </tr>\n",
       "    <tr>\n",
       "      <th>2021-01-06</th>\n",
       "      <td>0.120159</td>\n",
       "      <td>0.617203</td>\n",
       "      <td>0.300170</td>\n",
       "      <td>-0.352250</td>\n",
       "    </tr>\n",
       "    <tr>\n",
       "      <th>2021-01-07</th>\n",
       "      <td>-1.142518</td>\n",
       "      <td>-0.349343</td>\n",
       "      <td>-0.208894</td>\n",
       "      <td>0.586623</td>\n",
       "    </tr>\n",
       "    <tr>\n",
       "      <th>2021-01-08</th>\n",
       "      <td>0.838983</td>\n",
       "      <td>0.931102</td>\n",
       "      <td>0.285587</td>\n",
       "      <td>0.885141</td>\n",
       "    </tr>\n",
       "  </tbody>\n",
       "</table>\n",
       "</div>"
      ],
      "text/plain": [
       "                   A         B         C         D\n",
       "2021-01-05  0.050808 -0.636996  0.190915  2.100255\n",
       "2021-01-06  0.120159  0.617203  0.300170 -0.352250\n",
       "2021-01-07 -1.142518 -0.349343 -0.208894  0.586623\n",
       "2021-01-08  0.838983  0.931102  0.285587  0.885141"
      ]
     },
     "execution_count": 92,
     "metadata": {},
     "output_type": "execute_result"
    }
   ],
   "source": [
    "_df.loc['20210105':'20210108']"
   ]
  },
  {
   "cell_type": "markdown",
   "id": "d2fac1f9-01b2-4a1a-8ec7-e50054f5d6d4",
   "metadata": {},
   "source": [
    "`-` iloc으로 하려면 힘들다"
   ]
  },
  {
   "cell_type": "code",
   "execution_count": 93,
   "id": "0291f4ca-f5a7-4b58-96a0-7ee857f97c52",
   "metadata": {},
   "outputs": [
    {
     "data": {
      "text/plain": [
       "DatetimeIndex(['2020-12-25', '2020-12-26', '2020-12-27', '2020-12-28',\n",
       "               '2020-12-29', '2020-12-30', '2020-12-31', '2021-01-01',\n",
       "               '2021-01-02', '2021-01-03', '2021-01-04', '2021-01-05',\n",
       "               '2021-01-06', '2021-01-07', '2021-01-08', '2021-01-09',\n",
       "               '2021-01-10', '2021-01-11', '2021-01-12', '2021-01-13'],\n",
       "              dtype='datetime64[ns]', freq='D')"
      ]
     },
     "execution_count": 93,
     "metadata": {},
     "output_type": "execute_result"
    }
   ],
   "source": [
    "_df.index"
   ]
  },
  {
   "cell_type": "code",
   "execution_count": 94,
   "id": "60d57754-ada5-468b-ba78-eef1d60dd66a",
   "metadata": {},
   "outputs": [
    {
     "data": {
      "text/plain": [
       "0    2020-12-25\n",
       "1    2020-12-26\n",
       "2    2020-12-27\n",
       "3    2020-12-28\n",
       "4    2020-12-29\n",
       "5    2020-12-30\n",
       "6    2020-12-31\n",
       "7    2021-01-01\n",
       "8    2021-01-02\n",
       "9    2021-01-03\n",
       "10   2021-01-04\n",
       "11   2021-01-05\n",
       "12   2021-01-06\n",
       "13   2021-01-07\n",
       "14   2021-01-08\n",
       "15   2021-01-09\n",
       "16   2021-01-10\n",
       "17   2021-01-11\n",
       "18   2021-01-12\n",
       "19   2021-01-13\n",
       "dtype: datetime64[ns]"
      ]
     },
     "execution_count": 94,
     "metadata": {},
     "output_type": "execute_result"
    }
   ],
   "source": [
    "pd.Series(_df.index)"
   ]
  },
  {
   "cell_type": "code",
   "execution_count": 96,
   "id": "4459ad18-efd1-4fe6-b3b0-bd7619b3e763",
   "metadata": {},
   "outputs": [
    {
     "data": {
      "text/html": [
       "<div>\n",
       "<style scoped>\n",
       "    .dataframe tbody tr th:only-of-type {\n",
       "        vertical-align: middle;\n",
       "    }\n",
       "\n",
       "    .dataframe tbody tr th {\n",
       "        vertical-align: top;\n",
       "    }\n",
       "\n",
       "    .dataframe thead th {\n",
       "        text-align: right;\n",
       "    }\n",
       "</style>\n",
       "<table border=\"1\" class=\"dataframe\">\n",
       "  <thead>\n",
       "    <tr style=\"text-align: right;\">\n",
       "      <th></th>\n",
       "      <th>A</th>\n",
       "      <th>B</th>\n",
       "      <th>C</th>\n",
       "      <th>D</th>\n",
       "    </tr>\n",
       "  </thead>\n",
       "  <tbody>\n",
       "    <tr>\n",
       "      <th>2021-01-05</th>\n",
       "      <td>0.050808</td>\n",
       "      <td>-0.636996</td>\n",
       "      <td>0.190915</td>\n",
       "      <td>2.100255</td>\n",
       "    </tr>\n",
       "    <tr>\n",
       "      <th>2021-01-06</th>\n",
       "      <td>0.120159</td>\n",
       "      <td>0.617203</td>\n",
       "      <td>0.300170</td>\n",
       "      <td>-0.352250</td>\n",
       "    </tr>\n",
       "    <tr>\n",
       "      <th>2021-01-07</th>\n",
       "      <td>-1.142518</td>\n",
       "      <td>-0.349343</td>\n",
       "      <td>-0.208894</td>\n",
       "      <td>0.586623</td>\n",
       "    </tr>\n",
       "    <tr>\n",
       "      <th>2021-01-08</th>\n",
       "      <td>0.838983</td>\n",
       "      <td>0.931102</td>\n",
       "      <td>0.285587</td>\n",
       "      <td>0.885141</td>\n",
       "    </tr>\n",
       "  </tbody>\n",
       "</table>\n",
       "</div>"
      ],
      "text/plain": [
       "                   A         B         C         D\n",
       "2021-01-05  0.050808 -0.636996  0.190915  2.100255\n",
       "2021-01-06  0.120159  0.617203  0.300170 -0.352250\n",
       "2021-01-07 -1.142518 -0.349343 -0.208894  0.586623\n",
       "2021-01-08  0.838983  0.931102  0.285587  0.885141"
      ]
     },
     "execution_count": 96,
     "metadata": {},
     "output_type": "execute_result"
    }
   ],
   "source": [
    "_df.iloc[11:15]"
   ]
  },
  {
   "cell_type": "markdown",
   "id": "396086ee-4c5c-4bfd-a6c5-8e3f79965af8",
   "metadata": {},
   "source": [
    "#### 자주하는 실수"
   ]
  },
  {
   "cell_type": "markdown",
   "id": "1b1bc5af-0570-4b81-b637-baf192f6ca1f",
   "metadata": {},
   "source": [
    "`-` 교수님은 아래와 같은 실수를 자주합니다."
   ]
  },
  {
   "cell_type": "code",
   "execution_count": 100,
   "id": "88fb3a1a-6f5b-4a40-ae25-580aa204c3ea",
   "metadata": {},
   "outputs": [],
   "source": [
    "#_df.loc['A'], 에러"
   ]
  },
  {
   "cell_type": "markdown",
   "id": "6b0cae58-eec6-40b3-b2de-4c5e4f05ad3a",
   "metadata": {},
   "source": [
    "`-`올바른 방법"
   ]
  },
  {
   "cell_type": "code",
   "execution_count": 102,
   "id": "d758c356-04f2-4a52-b8b5-ca7847a3bedf",
   "metadata": {},
   "outputs": [
    {
     "data": {
      "text/plain": [
       "2020-12-25    1.624345\n",
       "2020-12-26    0.865408\n",
       "2020-12-27    0.319039\n",
       "2020-12-28   -0.322417\n",
       "2020-12-29   -0.172428\n",
       "2020-12-30   -1.100619\n",
       "2020-12-31    0.900856\n",
       "2021-01-01   -0.267888\n",
       "2021-01-02   -0.687173\n",
       "2021-01-03   -1.117310\n",
       "2021-01-04   -0.191836\n",
       "2021-01-05    0.050808\n",
       "2021-01-06    0.120159\n",
       "2021-01-07   -1.142518\n",
       "2021-01-08    0.838983\n",
       "2021-01-09   -0.754398\n",
       "2021-01-10    0.488518\n",
       "2021-01-11    2.185575\n",
       "2021-01-12    0.160037\n",
       "2021-01-13   -0.306204\n",
       "Freq: D, Name: A, dtype: float64"
      ]
     },
     "execution_count": 102,
     "metadata": {},
     "output_type": "execute_result"
    }
   ],
   "source": [
    "_df['A']"
   ]
  },
  {
   "cell_type": "markdown",
   "id": "404ee059-8a86-4391-a973-3beae4e3f73c",
   "metadata": {},
   "source": [
    "`-` 아래의 사실을 기억하자."
   ]
  },
  {
   "cell_type": "markdown",
   "id": "de5af3e1-b863-49e0-8de2-a84a67cd0ca5",
   "metadata": {},
   "source": [
    "- 기본적으로는 iloc,loc은 `[2],[2:]`처럼 1차원으로 원소를 인덱싱 할 수도 있고, `[2,3],[:,2]` 와 같이 2차원으로 인덱싱 할 수도 있다."
   ]
  },
  {
   "cell_type": "markdown",
   "id": "d339afb0-d418-4c74-affb-e82618bc8409",
   "metadata": {},
   "source": [
    "- 1차원으로 인덱싱하는 경우는 기본적으로 행을 인덱싱한다 $\\to$ iloc, loc은 행과 더 친하고 열과 친하지 않다."
   ]
  },
  {
   "cell_type": "markdown",
   "id": "8bf9e058-3f0a-422b-9ee8-c34947552f3a",
   "metadata": {},
   "source": [
    "- 따라서 열을 선택하는 방법에 있어서 loc, iloc이 그렇게 좋은 방법은 아니다."
   ]
  },
  {
   "cell_type": "markdown",
   "id": "dc7e8cdc-7d0a-4833-96cd-ea735dfe7a1d",
   "metadata": {},
   "source": [
    "- 그렇지만 열을 선택하는 방법은 iloc이나 loc이 제일 편리하다.(이외에 다른 방법이 마땅하게 없음) 그래서 열을 선택할때도 iloc이나 loc을 선호한다."
   ]
  },
  {
   "cell_type": "markdown",
   "id": "99fe22e7-137b-4e3d-954f-34b52f3004d1",
   "metadata": {},
   "source": [
    "### 슬라이싱에 대한 응용"
   ]
  },
  {
   "cell_type": "code",
   "execution_count": 109,
   "id": "dab73497-a24d-491d-a955-d0482ab622b0",
   "metadata": {},
   "outputs": [
    {
     "data": {
      "text/html": [
       "<div>\n",
       "<style scoped>\n",
       "    .dataframe tbody tr th:only-of-type {\n",
       "        vertical-align: middle;\n",
       "    }\n",
       "\n",
       "    .dataframe tbody tr th {\n",
       "        vertical-align: top;\n",
       "    }\n",
       "\n",
       "    .dataframe thead th {\n",
       "        text-align: right;\n",
       "    }\n",
       "</style>\n",
       "<table border=\"1\" class=\"dataframe\">\n",
       "  <thead>\n",
       "    <tr style=\"text-align: right;\">\n",
       "      <th></th>\n",
       "      <th>A</th>\n",
       "      <th>B</th>\n",
       "      <th>C</th>\n",
       "      <th>D</th>\n",
       "    </tr>\n",
       "  </thead>\n",
       "  <tbody>\n",
       "    <tr>\n",
       "      <th>2020-12-25</th>\n",
       "      <td>1.624345</td>\n",
       "      <td>-0.611756</td>\n",
       "      <td>-0.528172</td>\n",
       "      <td>-1.072969</td>\n",
       "    </tr>\n",
       "    <tr>\n",
       "      <th>2020-12-27</th>\n",
       "      <td>0.319039</td>\n",
       "      <td>-0.249370</td>\n",
       "      <td>1.462108</td>\n",
       "      <td>-2.060141</td>\n",
       "    </tr>\n",
       "    <tr>\n",
       "      <th>2020-12-29</th>\n",
       "      <td>-0.172428</td>\n",
       "      <td>-0.877858</td>\n",
       "      <td>0.042214</td>\n",
       "      <td>0.582815</td>\n",
       "    </tr>\n",
       "    <tr>\n",
       "      <th>2020-12-31</th>\n",
       "      <td>0.900856</td>\n",
       "      <td>-0.683728</td>\n",
       "      <td>-0.122890</td>\n",
       "      <td>-0.935769</td>\n",
       "    </tr>\n",
       "    <tr>\n",
       "      <th>2021-01-02</th>\n",
       "      <td>-0.687173</td>\n",
       "      <td>-0.845206</td>\n",
       "      <td>-0.671246</td>\n",
       "      <td>-0.012665</td>\n",
       "    </tr>\n",
       "    <tr>\n",
       "      <th>2021-01-04</th>\n",
       "      <td>-0.191836</td>\n",
       "      <td>-0.887629</td>\n",
       "      <td>-0.747158</td>\n",
       "      <td>1.692455</td>\n",
       "    </tr>\n",
       "    <tr>\n",
       "      <th>2021-01-06</th>\n",
       "      <td>0.120159</td>\n",
       "      <td>0.617203</td>\n",
       "      <td>0.300170</td>\n",
       "      <td>-0.352250</td>\n",
       "    </tr>\n",
       "    <tr>\n",
       "      <th>2021-01-08</th>\n",
       "      <td>0.838983</td>\n",
       "      <td>0.931102</td>\n",
       "      <td>0.285587</td>\n",
       "      <td>0.885141</td>\n",
       "    </tr>\n",
       "    <tr>\n",
       "      <th>2021-01-10</th>\n",
       "      <td>0.488518</td>\n",
       "      <td>-0.075572</td>\n",
       "      <td>1.131629</td>\n",
       "      <td>1.519817</td>\n",
       "    </tr>\n",
       "    <tr>\n",
       "      <th>2021-01-12</th>\n",
       "      <td>0.160037</td>\n",
       "      <td>0.876169</td>\n",
       "      <td>0.315635</td>\n",
       "      <td>-2.022201</td>\n",
       "    </tr>\n",
       "  </tbody>\n",
       "</table>\n",
       "</div>"
      ],
      "text/plain": [
       "                   A         B         C         D\n",
       "2020-12-25  1.624345 -0.611756 -0.528172 -1.072969\n",
       "2020-12-27  0.319039 -0.249370  1.462108 -2.060141\n",
       "2020-12-29 -0.172428 -0.877858  0.042214  0.582815\n",
       "2020-12-31  0.900856 -0.683728 -0.122890 -0.935769\n",
       "2021-01-02 -0.687173 -0.845206 -0.671246 -0.012665\n",
       "2021-01-04 -0.191836 -0.887629 -0.747158  1.692455\n",
       "2021-01-06  0.120159  0.617203  0.300170 -0.352250\n",
       "2021-01-08  0.838983  0.931102  0.285587  0.885141\n",
       "2021-01-10  0.488518 -0.075572  1.131629  1.519817\n",
       "2021-01-12  0.160037  0.876169  0.315635 -2.022201"
      ]
     },
     "execution_count": 109,
     "metadata": {},
     "output_type": "execute_result"
    }
   ],
   "source": [
    "_df.iloc[::2]"
   ]
  },
  {
   "cell_type": "code",
   "execution_count": 111,
   "id": "2fe2357b-820b-4186-b98b-85546581fce3",
   "metadata": {},
   "outputs": [
    {
     "data": {
      "text/html": [
       "<div>\n",
       "<style scoped>\n",
       "    .dataframe tbody tr th:only-of-type {\n",
       "        vertical-align: middle;\n",
       "    }\n",
       "\n",
       "    .dataframe tbody tr th {\n",
       "        vertical-align: top;\n",
       "    }\n",
       "\n",
       "    .dataframe thead th {\n",
       "        text-align: right;\n",
       "    }\n",
       "</style>\n",
       "<table border=\"1\" class=\"dataframe\">\n",
       "  <thead>\n",
       "    <tr style=\"text-align: right;\">\n",
       "      <th></th>\n",
       "      <th>A</th>\n",
       "      <th>B</th>\n",
       "      <th>C</th>\n",
       "      <th>D</th>\n",
       "    </tr>\n",
       "  </thead>\n",
       "  <tbody>\n",
       "    <tr>\n",
       "      <th>2020-12-25</th>\n",
       "      <td>1.624345</td>\n",
       "      <td>-0.611756</td>\n",
       "      <td>-0.528172</td>\n",
       "      <td>-1.072969</td>\n",
       "    </tr>\n",
       "    <tr>\n",
       "      <th>2020-12-28</th>\n",
       "      <td>-0.322417</td>\n",
       "      <td>-0.384054</td>\n",
       "      <td>1.133769</td>\n",
       "      <td>-1.099891</td>\n",
       "    </tr>\n",
       "    <tr>\n",
       "      <th>2020-12-31</th>\n",
       "      <td>0.900856</td>\n",
       "      <td>-0.683728</td>\n",
       "      <td>-0.122890</td>\n",
       "      <td>-0.935769</td>\n",
       "    </tr>\n",
       "    <tr>\n",
       "      <th>2021-01-03</th>\n",
       "      <td>-1.117310</td>\n",
       "      <td>0.234416</td>\n",
       "      <td>1.659802</td>\n",
       "      <td>0.742044</td>\n",
       "    </tr>\n",
       "    <tr>\n",
       "      <th>2021-01-06</th>\n",
       "      <td>0.120159</td>\n",
       "      <td>0.617203</td>\n",
       "      <td>0.300170</td>\n",
       "      <td>-0.352250</td>\n",
       "    </tr>\n",
       "    <tr>\n",
       "      <th>2021-01-09</th>\n",
       "      <td>-0.754398</td>\n",
       "      <td>1.252868</td>\n",
       "      <td>0.512930</td>\n",
       "      <td>-0.298093</td>\n",
       "    </tr>\n",
       "    <tr>\n",
       "      <th>2021-01-12</th>\n",
       "      <td>0.160037</td>\n",
       "      <td>0.876169</td>\n",
       "      <td>0.315635</td>\n",
       "      <td>-2.022201</td>\n",
       "    </tr>\n",
       "  </tbody>\n",
       "</table>\n",
       "</div>"
      ],
      "text/plain": [
       "                   A         B         C         D\n",
       "2020-12-25  1.624345 -0.611756 -0.528172 -1.072969\n",
       "2020-12-28 -0.322417 -0.384054  1.133769 -1.099891\n",
       "2020-12-31  0.900856 -0.683728 -0.122890 -0.935769\n",
       "2021-01-03 -1.117310  0.234416  1.659802  0.742044\n",
       "2021-01-06  0.120159  0.617203  0.300170 -0.352250\n",
       "2021-01-09 -0.754398  1.252868  0.512930 -0.298093\n",
       "2021-01-12  0.160037  0.876169  0.315635 -2.022201"
      ]
     },
     "execution_count": 111,
     "metadata": {},
     "output_type": "execute_result"
    }
   ],
   "source": [
    "_df.iloc[::3]"
   ]
  },
  {
   "cell_type": "markdown",
   "id": "d3383c43-40be-4dbb-ac02-939398afd97c",
   "metadata": {},
   "source": [
    "`-` 이 방법을 칼럼에도 적용 가능"
   ]
  },
  {
   "cell_type": "code",
   "execution_count": 110,
   "id": "934d69f6-4905-480f-bfb5-ce5eb014e797",
   "metadata": {},
   "outputs": [
    {
     "data": {
      "text/html": [
       "<div>\n",
       "<style scoped>\n",
       "    .dataframe tbody tr th:only-of-type {\n",
       "        vertical-align: middle;\n",
       "    }\n",
       "\n",
       "    .dataframe tbody tr th {\n",
       "        vertical-align: top;\n",
       "    }\n",
       "\n",
       "    .dataframe thead th {\n",
       "        text-align: right;\n",
       "    }\n",
       "</style>\n",
       "<table border=\"1\" class=\"dataframe\">\n",
       "  <thead>\n",
       "    <tr style=\"text-align: right;\">\n",
       "      <th></th>\n",
       "      <th>A</th>\n",
       "      <th>C</th>\n",
       "    </tr>\n",
       "  </thead>\n",
       "  <tbody>\n",
       "    <tr>\n",
       "      <th>2020-12-25</th>\n",
       "      <td>1.624345</td>\n",
       "      <td>-0.528172</td>\n",
       "    </tr>\n",
       "    <tr>\n",
       "      <th>2020-12-26</th>\n",
       "      <td>0.865408</td>\n",
       "      <td>1.744812</td>\n",
       "    </tr>\n",
       "    <tr>\n",
       "      <th>2020-12-27</th>\n",
       "      <td>0.319039</td>\n",
       "      <td>1.462108</td>\n",
       "    </tr>\n",
       "    <tr>\n",
       "      <th>2020-12-28</th>\n",
       "      <td>-0.322417</td>\n",
       "      <td>1.133769</td>\n",
       "    </tr>\n",
       "    <tr>\n",
       "      <th>2020-12-29</th>\n",
       "      <td>-0.172428</td>\n",
       "      <td>0.042214</td>\n",
       "    </tr>\n",
       "    <tr>\n",
       "      <th>2020-12-30</th>\n",
       "      <td>-1.100619</td>\n",
       "      <td>0.901591</td>\n",
       "    </tr>\n",
       "    <tr>\n",
       "      <th>2020-12-31</th>\n",
       "      <td>0.900856</td>\n",
       "      <td>-0.122890</td>\n",
       "    </tr>\n",
       "    <tr>\n",
       "      <th>2021-01-01</th>\n",
       "      <td>-0.267888</td>\n",
       "      <td>-0.691661</td>\n",
       "    </tr>\n",
       "    <tr>\n",
       "      <th>2021-01-02</th>\n",
       "      <td>-0.687173</td>\n",
       "      <td>-0.671246</td>\n",
       "    </tr>\n",
       "    <tr>\n",
       "      <th>2021-01-03</th>\n",
       "      <td>-1.117310</td>\n",
       "      <td>1.659802</td>\n",
       "    </tr>\n",
       "    <tr>\n",
       "      <th>2021-01-04</th>\n",
       "      <td>-0.191836</td>\n",
       "      <td>-0.747158</td>\n",
       "    </tr>\n",
       "    <tr>\n",
       "      <th>2021-01-05</th>\n",
       "      <td>0.050808</td>\n",
       "      <td>0.190915</td>\n",
       "    </tr>\n",
       "    <tr>\n",
       "      <th>2021-01-06</th>\n",
       "      <td>0.120159</td>\n",
       "      <td>0.300170</td>\n",
       "    </tr>\n",
       "    <tr>\n",
       "      <th>2021-01-07</th>\n",
       "      <td>-1.142518</td>\n",
       "      <td>-0.208894</td>\n",
       "    </tr>\n",
       "    <tr>\n",
       "      <th>2021-01-08</th>\n",
       "      <td>0.838983</td>\n",
       "      <td>0.285587</td>\n",
       "    </tr>\n",
       "    <tr>\n",
       "      <th>2021-01-09</th>\n",
       "      <td>-0.754398</td>\n",
       "      <td>0.512930</td>\n",
       "    </tr>\n",
       "    <tr>\n",
       "      <th>2021-01-10</th>\n",
       "      <td>0.488518</td>\n",
       "      <td>1.131629</td>\n",
       "    </tr>\n",
       "    <tr>\n",
       "      <th>2021-01-11</th>\n",
       "      <td>2.185575</td>\n",
       "      <td>-1.444114</td>\n",
       "    </tr>\n",
       "    <tr>\n",
       "      <th>2021-01-12</th>\n",
       "      <td>0.160037</td>\n",
       "      <td>0.315635</td>\n",
       "    </tr>\n",
       "    <tr>\n",
       "      <th>2021-01-13</th>\n",
       "      <td>-0.306204</td>\n",
       "      <td>0.230095</td>\n",
       "    </tr>\n",
       "  </tbody>\n",
       "</table>\n",
       "</div>"
      ],
      "text/plain": [
       "                   A         C\n",
       "2020-12-25  1.624345 -0.528172\n",
       "2020-12-26  0.865408  1.744812\n",
       "2020-12-27  0.319039  1.462108\n",
       "2020-12-28 -0.322417  1.133769\n",
       "2020-12-29 -0.172428  0.042214\n",
       "2020-12-30 -1.100619  0.901591\n",
       "2020-12-31  0.900856 -0.122890\n",
       "2021-01-01 -0.267888 -0.691661\n",
       "2021-01-02 -0.687173 -0.671246\n",
       "2021-01-03 -1.117310  1.659802\n",
       "2021-01-04 -0.191836 -0.747158\n",
       "2021-01-05  0.050808  0.190915\n",
       "2021-01-06  0.120159  0.300170\n",
       "2021-01-07 -1.142518 -0.208894\n",
       "2021-01-08  0.838983  0.285587\n",
       "2021-01-09 -0.754398  0.512930\n",
       "2021-01-10  0.488518  1.131629\n",
       "2021-01-11  2.185575 -1.444114\n",
       "2021-01-12  0.160037  0.315635\n",
       "2021-01-13 -0.306204  0.230095"
      ]
     },
     "execution_count": 110,
     "metadata": {},
     "output_type": "execute_result"
    }
   ],
   "source": [
    "_df.iloc[:,::2]"
   ]
  },
  {
   "cell_type": "markdown",
   "id": "9bbd97f2-2df6-442d-9298-315d2feefba3",
   "metadata": {},
   "source": [
    "`-` 컬럼에는 잘 쓰지 않는이유 ?"
   ]
  },
  {
   "cell_type": "markdown",
   "id": "ada97974-4ebb-48a9-963c-7d175ddc9ddf",
   "metadata": {},
   "source": [
    "- row는 특정 간격으로 뽑는 일이 빈번함.(예를들어 일별 데이터를 주별 데이터로 바꾸고 싶을 때, 바꾸고 싶을 경우?)"
   ]
  },
  {
   "cell_type": "markdown",
   "id": "67223237-d9c0-46bd-bf57-05bec7acd63b",
   "metadata": {},
   "source": [
    "- col을 특정 간격으로 뽑아야 하는 일은 없음"
   ]
  },
  {
   "cell_type": "markdown",
   "id": "b9ef0c6f-edb5-49b4-85a0-b0c5c392d570",
   "metadata": {},
   "source": [
    "### lambda + map"
   ]
  },
  {
   "cell_type": "code",
   "execution_count": 112,
   "id": "169cdccc-f720-4878-8ad9-dcc6f11b2ff8",
   "metadata": {},
   "outputs": [
    {
     "data": {
      "text/html": [
       "<div>\n",
       "<style scoped>\n",
       "    .dataframe tbody tr th:only-of-type {\n",
       "        vertical-align: middle;\n",
       "    }\n",
       "\n",
       "    .dataframe tbody tr th {\n",
       "        vertical-align: top;\n",
       "    }\n",
       "\n",
       "    .dataframe thead th {\n",
       "        text-align: right;\n",
       "    }\n",
       "</style>\n",
       "<table border=\"1\" class=\"dataframe\">\n",
       "  <thead>\n",
       "    <tr style=\"text-align: right;\">\n",
       "      <th></th>\n",
       "      <th>A</th>\n",
       "      <th>B</th>\n",
       "      <th>C</th>\n",
       "      <th>D</th>\n",
       "    </tr>\n",
       "  </thead>\n",
       "  <tbody>\n",
       "    <tr>\n",
       "      <th>0</th>\n",
       "      <td>1.624345</td>\n",
       "      <td>-0.611756</td>\n",
       "      <td>-0.528172</td>\n",
       "      <td>-1.072969</td>\n",
       "    </tr>\n",
       "    <tr>\n",
       "      <th>1</th>\n",
       "      <td>0.865408</td>\n",
       "      <td>-2.301539</td>\n",
       "      <td>1.744812</td>\n",
       "      <td>-0.761207</td>\n",
       "    </tr>\n",
       "    <tr>\n",
       "      <th>2</th>\n",
       "      <td>0.319039</td>\n",
       "      <td>-0.249370</td>\n",
       "      <td>1.462108</td>\n",
       "      <td>-2.060141</td>\n",
       "    </tr>\n",
       "    <tr>\n",
       "      <th>3</th>\n",
       "      <td>-0.322417</td>\n",
       "      <td>-0.384054</td>\n",
       "      <td>1.133769</td>\n",
       "      <td>-1.099891</td>\n",
       "    </tr>\n",
       "    <tr>\n",
       "      <th>4</th>\n",
       "      <td>-0.172428</td>\n",
       "      <td>-0.877858</td>\n",
       "      <td>0.042214</td>\n",
       "      <td>0.582815</td>\n",
       "    </tr>\n",
       "    <tr>\n",
       "      <th>5</th>\n",
       "      <td>-1.100619</td>\n",
       "      <td>1.144724</td>\n",
       "      <td>0.901591</td>\n",
       "      <td>0.502494</td>\n",
       "    </tr>\n",
       "    <tr>\n",
       "      <th>6</th>\n",
       "      <td>0.900856</td>\n",
       "      <td>-0.683728</td>\n",
       "      <td>-0.122890</td>\n",
       "      <td>-0.935769</td>\n",
       "    </tr>\n",
       "    <tr>\n",
       "      <th>7</th>\n",
       "      <td>-0.267888</td>\n",
       "      <td>0.530355</td>\n",
       "      <td>-0.691661</td>\n",
       "      <td>-0.396754</td>\n",
       "    </tr>\n",
       "    <tr>\n",
       "      <th>8</th>\n",
       "      <td>-0.687173</td>\n",
       "      <td>-0.845206</td>\n",
       "      <td>-0.671246</td>\n",
       "      <td>-0.012665</td>\n",
       "    </tr>\n",
       "    <tr>\n",
       "      <th>9</th>\n",
       "      <td>-1.117310</td>\n",
       "      <td>0.234416</td>\n",
       "      <td>1.659802</td>\n",
       "      <td>0.742044</td>\n",
       "    </tr>\n",
       "  </tbody>\n",
       "</table>\n",
       "</div>"
      ],
      "text/plain": [
       "          A         B         C         D\n",
       "0  1.624345 -0.611756 -0.528172 -1.072969\n",
       "1  0.865408 -2.301539  1.744812 -0.761207\n",
       "2  0.319039 -0.249370  1.462108 -2.060141\n",
       "3 -0.322417 -0.384054  1.133769 -1.099891\n",
       "4 -0.172428 -0.877858  0.042214  0.582815\n",
       "5 -1.100619  1.144724  0.901591  0.502494\n",
       "6  0.900856 -0.683728 -0.122890 -0.935769\n",
       "7 -0.267888  0.530355 -0.691661 -0.396754\n",
       "8 -0.687173 -0.845206 -0.671246 -0.012665\n",
       "9 -1.117310  0.234416  1.659802  0.742044"
      ]
     },
     "execution_count": 112,
     "metadata": {},
     "output_type": "execute_result"
    }
   ],
   "source": [
    "np.random.seed(1)\n",
    "df2=pd.DataFrame(np.random.normal(size=(10,4)),columns=list('ABCD'))\n",
    "df2"
   ]
  },
  {
   "cell_type": "markdown",
   "id": "bc22df6c-bb1f-4779-99df-82e6d71ac1b3",
   "metadata": {},
   "source": [
    "#### 컬럼A의 값이 0보다 큰 경우만"
   ]
  },
  {
   "cell_type": "markdown",
   "id": "8a9c042b-1728-4f9b-8e3a-3f1d859196b0",
   "metadata": {},
   "source": [
    "`-` 방법1"
   ]
  },
  {
   "cell_type": "code",
   "execution_count": 119,
   "id": "07365290-6130-4cbe-abed-e4d16250e271",
   "metadata": {},
   "outputs": [
    {
     "data": {
      "text/html": [
       "<div>\n",
       "<style scoped>\n",
       "    .dataframe tbody tr th:only-of-type {\n",
       "        vertical-align: middle;\n",
       "    }\n",
       "\n",
       "    .dataframe tbody tr th {\n",
       "        vertical-align: top;\n",
       "    }\n",
       "\n",
       "    .dataframe thead th {\n",
       "        text-align: right;\n",
       "    }\n",
       "</style>\n",
       "<table border=\"1\" class=\"dataframe\">\n",
       "  <thead>\n",
       "    <tr style=\"text-align: right;\">\n",
       "      <th></th>\n",
       "      <th>A</th>\n",
       "      <th>B</th>\n",
       "      <th>C</th>\n",
       "      <th>D</th>\n",
       "    </tr>\n",
       "  </thead>\n",
       "  <tbody>\n",
       "    <tr>\n",
       "      <th>0</th>\n",
       "      <td>1.624345</td>\n",
       "      <td>-0.611756</td>\n",
       "      <td>-0.528172</td>\n",
       "      <td>-1.072969</td>\n",
       "    </tr>\n",
       "    <tr>\n",
       "      <th>1</th>\n",
       "      <td>0.865408</td>\n",
       "      <td>-2.301539</td>\n",
       "      <td>1.744812</td>\n",
       "      <td>-0.761207</td>\n",
       "    </tr>\n",
       "    <tr>\n",
       "      <th>2</th>\n",
       "      <td>0.319039</td>\n",
       "      <td>-0.249370</td>\n",
       "      <td>1.462108</td>\n",
       "      <td>-2.060141</td>\n",
       "    </tr>\n",
       "    <tr>\n",
       "      <th>6</th>\n",
       "      <td>0.900856</td>\n",
       "      <td>-0.683728</td>\n",
       "      <td>-0.122890</td>\n",
       "      <td>-0.935769</td>\n",
       "    </tr>\n",
       "  </tbody>\n",
       "</table>\n",
       "</div>"
      ],
      "text/plain": [
       "          A         B         C         D\n",
       "0  1.624345 -0.611756 -0.528172 -1.072969\n",
       "1  0.865408 -2.301539  1.744812 -0.761207\n",
       "2  0.319039 -0.249370  1.462108 -2.060141\n",
       "6  0.900856 -0.683728 -0.122890 -0.935769"
      ]
     },
     "execution_count": 119,
     "metadata": {},
     "output_type": "execute_result"
    }
   ],
   "source": [
    "df2.loc[map(lambda x : x>0,df2['A']),:] #iloc도 가능"
   ]
  },
  {
   "cell_type": "code",
   "execution_count": 117,
   "id": "4958820b-793d-4113-870a-5bc3e822f0be",
   "metadata": {},
   "outputs": [
    {
     "data": {
      "text/plain": [
       "[True, True, True, False, False, False, True, False, False, False]"
      ]
     },
     "execution_count": 117,
     "metadata": {},
     "output_type": "execute_result"
    }
   ],
   "source": [
    "list(map(lambda x : x>0,df2['A'])) #list를 통해 자세히 확인"
   ]
  },
  {
   "cell_type": "markdown",
   "id": "a742fd42-015e-4d6f-bca2-c8d57b9bcf78",
   "metadata": {},
   "source": [
    "`-` 방법2"
   ]
  },
  {
   "cell_type": "code",
   "execution_count": 127,
   "id": "28bd4ef0-1384-4f01-a58c-1d3afe4ee995",
   "metadata": {},
   "outputs": [
    {
     "data": {
      "text/html": [
       "<div>\n",
       "<style scoped>\n",
       "    .dataframe tbody tr th:only-of-type {\n",
       "        vertical-align: middle;\n",
       "    }\n",
       "\n",
       "    .dataframe tbody tr th {\n",
       "        vertical-align: top;\n",
       "    }\n",
       "\n",
       "    .dataframe thead th {\n",
       "        text-align: right;\n",
       "    }\n",
       "</style>\n",
       "<table border=\"1\" class=\"dataframe\">\n",
       "  <thead>\n",
       "    <tr style=\"text-align: right;\">\n",
       "      <th></th>\n",
       "      <th>A</th>\n",
       "      <th>B</th>\n",
       "      <th>C</th>\n",
       "      <th>D</th>\n",
       "    </tr>\n",
       "  </thead>\n",
       "  <tbody>\n",
       "    <tr>\n",
       "      <th>0</th>\n",
       "      <td>1.624345</td>\n",
       "      <td>-0.611756</td>\n",
       "      <td>-0.528172</td>\n",
       "      <td>-1.072969</td>\n",
       "    </tr>\n",
       "    <tr>\n",
       "      <th>1</th>\n",
       "      <td>0.865408</td>\n",
       "      <td>-2.301539</td>\n",
       "      <td>1.744812</td>\n",
       "      <td>-0.761207</td>\n",
       "    </tr>\n",
       "    <tr>\n",
       "      <th>2</th>\n",
       "      <td>0.319039</td>\n",
       "      <td>-0.249370</td>\n",
       "      <td>1.462108</td>\n",
       "      <td>-2.060141</td>\n",
       "    </tr>\n",
       "    <tr>\n",
       "      <th>6</th>\n",
       "      <td>0.900856</td>\n",
       "      <td>-0.683728</td>\n",
       "      <td>-0.122890</td>\n",
       "      <td>-0.935769</td>\n",
       "    </tr>\n",
       "  </tbody>\n",
       "</table>\n",
       "</div>"
      ],
      "text/plain": [
       "          A         B         C         D\n",
       "0  1.624345 -0.611756 -0.528172 -1.072969\n",
       "1  0.865408 -2.301539  1.744812 -0.761207\n",
       "2  0.319039 -0.249370  1.462108 -2.060141\n",
       "6  0.900856 -0.683728 -0.122890 -0.935769"
      ]
     },
     "execution_count": 127,
     "metadata": {},
     "output_type": "execute_result"
    }
   ],
   "source": [
    "df2.loc[lambda df : df['A']>0] #loc은 행과 친하기 때문에 끝에 ,: 따로 안붙여도됌"
   ]
  },
  {
   "cell_type": "markdown",
   "id": "8a39acd5-9815-44c8-8231-b42b022b8047",
   "metadata": {},
   "source": [
    "- ??"
   ]
  },
  {
   "cell_type": "markdown",
   "id": "a9d79062-77ed-44b1-9021-d936e18eb761",
   "metadata": {},
   "source": [
    "- map의 기능은 (1) 리스트를 원소별로 분해하여 (2) 어떠한 함수를 적용하여 아웃풋을 구한 뒤 (3) 각각의 아웃풋을 다시 하나의 리스트로 묶음"
   ]
  },
  {
   "cell_type": "markdown",
   "id": "40741502-294f-41fa-affe-346eefe81680",
   "metadata": {},
   "source": [
    "- 우리는 이 중에서 (1),(3)에만 집중했음"
   ]
  },
  {
   "cell_type": "markdown",
   "id": "390e9a4e-477f-426a-b1a9-8d30279367ea",
   "metadata": {},
   "source": [
    "- 하지만 생각해보면 일단 (2) 함수를 적용하는 기능이 있었음"
   ]
  },
  {
   "cell_type": "markdown",
   "id": "c5fe1f3f-2bee-4605-964e-152187dac6f1",
   "metadata": {},
   "source": [
    "- 그런데 위의 코드는 함수를 적용한 겨로가가 아니라 함수 오브젝트 자체를 전달하여도 동작함"
   ]
  },
  {
   "cell_type": "markdown",
   "id": "f7648c35-7b84-4717-a1a7-aaaeb5e94513",
   "metadata": {},
   "source": [
    "**요약!!**\n",
    "\n",
    "- True, False로 이루어진 벡터를 리스트의 형태로 전달하여 인덱싱했음 (원래 우리가 알고 있는 개념)\n",
    "\n",
    "- True, False로 이루어진 벡터를 리턴할 수 있는 함수오브젝트 자체를 전달해도 인덱싱이 가능"
   ]
  },
  {
   "cell_type": "markdown",
   "id": "e52dc1da-c5ca-4321-befb-6f7597fc423a",
   "metadata": {},
   "source": [
    "`-` 방법3"
   ]
  },
  {
   "cell_type": "code",
   "execution_count": 128,
   "id": "fbf27f29-a3c5-408e-8b8c-27a03edc1d79",
   "metadata": {},
   "outputs": [
    {
     "data": {
      "text/html": [
       "<div>\n",
       "<style scoped>\n",
       "    .dataframe tbody tr th:only-of-type {\n",
       "        vertical-align: middle;\n",
       "    }\n",
       "\n",
       "    .dataframe tbody tr th {\n",
       "        vertical-align: top;\n",
       "    }\n",
       "\n",
       "    .dataframe thead th {\n",
       "        text-align: right;\n",
       "    }\n",
       "</style>\n",
       "<table border=\"1\" class=\"dataframe\">\n",
       "  <thead>\n",
       "    <tr style=\"text-align: right;\">\n",
       "      <th></th>\n",
       "      <th>A</th>\n",
       "      <th>B</th>\n",
       "      <th>C</th>\n",
       "      <th>D</th>\n",
       "    </tr>\n",
       "  </thead>\n",
       "  <tbody>\n",
       "    <tr>\n",
       "      <th>0</th>\n",
       "      <td>1.624345</td>\n",
       "      <td>-0.611756</td>\n",
       "      <td>-0.528172</td>\n",
       "      <td>-1.072969</td>\n",
       "    </tr>\n",
       "    <tr>\n",
       "      <th>1</th>\n",
       "      <td>0.865408</td>\n",
       "      <td>-2.301539</td>\n",
       "      <td>1.744812</td>\n",
       "      <td>-0.761207</td>\n",
       "    </tr>\n",
       "    <tr>\n",
       "      <th>2</th>\n",
       "      <td>0.319039</td>\n",
       "      <td>-0.249370</td>\n",
       "      <td>1.462108</td>\n",
       "      <td>-2.060141</td>\n",
       "    </tr>\n",
       "    <tr>\n",
       "      <th>6</th>\n",
       "      <td>0.900856</td>\n",
       "      <td>-0.683728</td>\n",
       "      <td>-0.122890</td>\n",
       "      <td>-0.935769</td>\n",
       "    </tr>\n",
       "  </tbody>\n",
       "</table>\n",
       "</div>"
      ],
      "text/plain": [
       "          A         B         C         D\n",
       "0  1.624345 -0.611756 -0.528172 -1.072969\n",
       "1  0.865408 -2.301539  1.744812 -0.761207\n",
       "2  0.319039 -0.249370  1.462108 -2.060141\n",
       "6  0.900856 -0.683728 -0.122890 -0.935769"
      ]
     },
     "execution_count": 128,
     "metadata": {},
     "output_type": "execute_result"
    }
   ],
   "source": [
    "df2.iloc[map(lambda x : x>0,df2['A']),:]"
   ]
  },
  {
   "cell_type": "markdown",
   "id": "3e25bb77-3699-4212-8332-0082ac856371",
   "metadata": {},
   "source": [
    "`-` 방법4 : 실패"
   ]
  },
  {
   "cell_type": "code",
   "execution_count": 130,
   "id": "2a82c3f4-2903-4480-9f61-4a39343bac0e",
   "metadata": {},
   "outputs": [],
   "source": [
    "#df2.iloc[lambda df : df['A']>0]"
   ]
  },
  {
   "cell_type": "markdown",
   "id": "b3c387bd-0589-4cd4-9526-82a01daae03e",
   "metadata": {},
   "source": [
    "- 위에서 iloc을 loc으로 바꾸면 되는데..\n",
    "- iloc입장에서는 조금 서운함.."
   ]
  },
  {
   "cell_type": "markdown",
   "id": "e193313f-0f60-4721-9d2c-9d4facc22274",
   "metadata": {},
   "source": [
    "#### 칼럼 A>0이고 칼럼 C<0인 경우"
   ]
  },
  {
   "cell_type": "code",
   "execution_count": 137,
   "id": "4a2a269d-856b-4c29-a874-8f39fe776e70",
   "metadata": {},
   "outputs": [
    {
     "data": {
      "text/html": [
       "<div>\n",
       "<style scoped>\n",
       "    .dataframe tbody tr th:only-of-type {\n",
       "        vertical-align: middle;\n",
       "    }\n",
       "\n",
       "    .dataframe tbody tr th {\n",
       "        vertical-align: top;\n",
       "    }\n",
       "\n",
       "    .dataframe thead th {\n",
       "        text-align: right;\n",
       "    }\n",
       "</style>\n",
       "<table border=\"1\" class=\"dataframe\">\n",
       "  <thead>\n",
       "    <tr style=\"text-align: right;\">\n",
       "      <th></th>\n",
       "      <th>A</th>\n",
       "      <th>B</th>\n",
       "      <th>C</th>\n",
       "      <th>D</th>\n",
       "    </tr>\n",
       "  </thead>\n",
       "  <tbody>\n",
       "    <tr>\n",
       "      <th>0</th>\n",
       "      <td>1.624345</td>\n",
       "      <td>-0.611756</td>\n",
       "      <td>-0.528172</td>\n",
       "      <td>-1.072969</td>\n",
       "    </tr>\n",
       "    <tr>\n",
       "      <th>1</th>\n",
       "      <td>0.865408</td>\n",
       "      <td>-2.301539</td>\n",
       "      <td>1.744812</td>\n",
       "      <td>-0.761207</td>\n",
       "    </tr>\n",
       "    <tr>\n",
       "      <th>2</th>\n",
       "      <td>0.319039</td>\n",
       "      <td>-0.249370</td>\n",
       "      <td>1.462108</td>\n",
       "      <td>-2.060141</td>\n",
       "    </tr>\n",
       "    <tr>\n",
       "      <th>3</th>\n",
       "      <td>-0.322417</td>\n",
       "      <td>-0.384054</td>\n",
       "      <td>1.133769</td>\n",
       "      <td>-1.099891</td>\n",
       "    </tr>\n",
       "    <tr>\n",
       "      <th>4</th>\n",
       "      <td>-0.172428</td>\n",
       "      <td>-0.877858</td>\n",
       "      <td>0.042214</td>\n",
       "      <td>0.582815</td>\n",
       "    </tr>\n",
       "    <tr>\n",
       "      <th>5</th>\n",
       "      <td>-1.100619</td>\n",
       "      <td>1.144724</td>\n",
       "      <td>0.901591</td>\n",
       "      <td>0.502494</td>\n",
       "    </tr>\n",
       "    <tr>\n",
       "      <th>6</th>\n",
       "      <td>0.900856</td>\n",
       "      <td>-0.683728</td>\n",
       "      <td>-0.122890</td>\n",
       "      <td>-0.935769</td>\n",
       "    </tr>\n",
       "    <tr>\n",
       "      <th>7</th>\n",
       "      <td>-0.267888</td>\n",
       "      <td>0.530355</td>\n",
       "      <td>-0.691661</td>\n",
       "      <td>-0.396754</td>\n",
       "    </tr>\n",
       "    <tr>\n",
       "      <th>8</th>\n",
       "      <td>-0.687173</td>\n",
       "      <td>-0.845206</td>\n",
       "      <td>-0.671246</td>\n",
       "      <td>-0.012665</td>\n",
       "    </tr>\n",
       "    <tr>\n",
       "      <th>9</th>\n",
       "      <td>-1.117310</td>\n",
       "      <td>0.234416</td>\n",
       "      <td>1.659802</td>\n",
       "      <td>0.742044</td>\n",
       "    </tr>\n",
       "  </tbody>\n",
       "</table>\n",
       "</div>"
      ],
      "text/plain": [
       "          A         B         C         D\n",
       "0  1.624345 -0.611756 -0.528172 -1.072969\n",
       "1  0.865408 -2.301539  1.744812 -0.761207\n",
       "2  0.319039 -0.249370  1.462108 -2.060141\n",
       "3 -0.322417 -0.384054  1.133769 -1.099891\n",
       "4 -0.172428 -0.877858  0.042214  0.582815\n",
       "5 -1.100619  1.144724  0.901591  0.502494\n",
       "6  0.900856 -0.683728 -0.122890 -0.935769\n",
       "7 -0.267888  0.530355 -0.691661 -0.396754\n",
       "8 -0.687173 -0.845206 -0.671246 -0.012665\n",
       "9 -1.117310  0.234416  1.659802  0.742044"
      ]
     },
     "execution_count": 137,
     "metadata": {},
     "output_type": "execute_result"
    }
   ],
   "source": [
    "df2"
   ]
  },
  {
   "cell_type": "markdown",
   "id": "ca092059-d15d-49e0-82cf-27cefb9cd533",
   "metadata": {},
   "source": [
    "`-` 방법1"
   ]
  },
  {
   "cell_type": "code",
   "execution_count": 139,
   "id": "c6a47672-50cb-417e-ab68-bf887739cbeb",
   "metadata": {},
   "outputs": [
    {
     "data": {
      "text/html": [
       "<div>\n",
       "<style scoped>\n",
       "    .dataframe tbody tr th:only-of-type {\n",
       "        vertical-align: middle;\n",
       "    }\n",
       "\n",
       "    .dataframe tbody tr th {\n",
       "        vertical-align: top;\n",
       "    }\n",
       "\n",
       "    .dataframe thead th {\n",
       "        text-align: right;\n",
       "    }\n",
       "</style>\n",
       "<table border=\"1\" class=\"dataframe\">\n",
       "  <thead>\n",
       "    <tr style=\"text-align: right;\">\n",
       "      <th></th>\n",
       "      <th>A</th>\n",
       "      <th>B</th>\n",
       "      <th>C</th>\n",
       "      <th>D</th>\n",
       "    </tr>\n",
       "  </thead>\n",
       "  <tbody>\n",
       "    <tr>\n",
       "      <th>0</th>\n",
       "      <td>1.624345</td>\n",
       "      <td>-0.611756</td>\n",
       "      <td>-0.528172</td>\n",
       "      <td>-1.072969</td>\n",
       "    </tr>\n",
       "    <tr>\n",
       "      <th>6</th>\n",
       "      <td>0.900856</td>\n",
       "      <td>-0.683728</td>\n",
       "      <td>-0.122890</td>\n",
       "      <td>-0.935769</td>\n",
       "    </tr>\n",
       "  </tbody>\n",
       "</table>\n",
       "</div>"
      ],
      "text/plain": [
       "          A         B         C         D\n",
       "0  1.624345 -0.611756 -0.528172 -1.072969\n",
       "6  0.900856 -0.683728 -0.122890 -0.935769"
      ]
     },
     "execution_count": 139,
     "metadata": {},
     "output_type": "execute_result"
    }
   ],
   "source": [
    "df2.loc[map(lambda x,y: x>0 and y<0, df2['A'],df2['C']),]"
   ]
  },
  {
   "cell_type": "code",
   "execution_count": 141,
   "id": "4ca6eae3-e32e-4c6b-a97e-9cb531bc9c82",
   "metadata": {},
   "outputs": [
    {
     "data": {
      "text/plain": [
       "[True, False, False, False, False, False, True, False, False, False]"
      ]
     },
     "execution_count": 141,
     "metadata": {},
     "output_type": "execute_result"
    }
   ],
   "source": [
    "list(map(lambda x,y: x>0 and y<0, df2['A'],df2['C']))"
   ]
  },
  {
   "cell_type": "markdown",
   "id": "ad9591b8-bf35-42dd-838e-d7f5bcdb7ccb",
   "metadata": {},
   "source": [
    "`-` 방법2"
   ]
  },
  {
   "cell_type": "code",
   "execution_count": 143,
   "id": "0884db87-fb53-460b-9d7f-60204e7419f8",
   "metadata": {},
   "outputs": [],
   "source": [
    "#df2.loc[map(lambda x,y: x>0 & y<0, df2['A'],df2['C']),] <=에러"
   ]
  },
  {
   "cell_type": "markdown",
   "id": "9dae0a5a-e2fa-4837-b411-4f45033f3dab",
   "metadata": {},
   "source": [
    "- ??? 아래를 관찰"
   ]
  },
  {
   "cell_type": "markdown",
   "id": "73f01ec2-6b94-4910-bd3a-e27b1be197c9",
   "metadata": {},
   "source": [
    "***보충학습***"
   ]
  },
  {
   "cell_type": "code",
   "execution_count": 152,
   "id": "9e129004-9c91-4daa-a959-9f6c76e6644a",
   "metadata": {},
   "outputs": [],
   "source": [
    "#0<3.2 & 0<2.2 <= 에러, 연산의 우선순위 때문"
   ]
  },
  {
   "cell_type": "code",
   "execution_count": 148,
   "id": "22015511-955c-44aa-b8a3-d0c442e16aab",
   "metadata": {},
   "outputs": [
    {
     "data": {
      "text/plain": [
       "True"
      ]
     },
     "execution_count": 148,
     "metadata": {},
     "output_type": "execute_result"
    }
   ],
   "source": [
    "(0<3.2) & (0<2.2)"
   ]
  },
  {
   "cell_type": "markdown",
   "id": "a6134e85-38fb-40e4-aa8a-3847b5673dbf",
   "metadata": {},
   "source": [
    "***보충학습끝***"
   ]
  },
  {
   "cell_type": "markdown",
   "id": "46c8b385-b1ee-4544-844e-b4a0fb877723",
   "metadata": {},
   "source": [
    "위의코드도 괄호로 묶어주면 잘 동작한다."
   ]
  },
  {
   "cell_type": "code",
   "execution_count": 151,
   "id": "823a8e40-a425-4eab-8f0e-928794f0ece3",
   "metadata": {},
   "outputs": [
    {
     "data": {
      "text/html": [
       "<div>\n",
       "<style scoped>\n",
       "    .dataframe tbody tr th:only-of-type {\n",
       "        vertical-align: middle;\n",
       "    }\n",
       "\n",
       "    .dataframe tbody tr th {\n",
       "        vertical-align: top;\n",
       "    }\n",
       "\n",
       "    .dataframe thead th {\n",
       "        text-align: right;\n",
       "    }\n",
       "</style>\n",
       "<table border=\"1\" class=\"dataframe\">\n",
       "  <thead>\n",
       "    <tr style=\"text-align: right;\">\n",
       "      <th></th>\n",
       "      <th>A</th>\n",
       "      <th>B</th>\n",
       "      <th>C</th>\n",
       "      <th>D</th>\n",
       "    </tr>\n",
       "  </thead>\n",
       "  <tbody>\n",
       "    <tr>\n",
       "      <th>0</th>\n",
       "      <td>1.624345</td>\n",
       "      <td>-0.611756</td>\n",
       "      <td>-0.528172</td>\n",
       "      <td>-1.072969</td>\n",
       "    </tr>\n",
       "    <tr>\n",
       "      <th>6</th>\n",
       "      <td>0.900856</td>\n",
       "      <td>-0.683728</td>\n",
       "      <td>-0.122890</td>\n",
       "      <td>-0.935769</td>\n",
       "    </tr>\n",
       "  </tbody>\n",
       "</table>\n",
       "</div>"
      ],
      "text/plain": [
       "          A         B         C         D\n",
       "0  1.624345 -0.611756 -0.528172 -1.072969\n",
       "6  0.900856 -0.683728 -0.122890 -0.935769"
      ]
     },
     "execution_count": 151,
     "metadata": {},
     "output_type": "execute_result"
    }
   ],
   "source": [
    "df2.loc[map(lambda x,y: (x>0) & (y<0), df2['A'],df2['C']),:]"
   ]
  },
  {
   "cell_type": "markdown",
   "id": "f416f837-5863-4693-94a7-281cbc77f59b",
   "metadata": {},
   "source": [
    "`-` 방법3"
   ]
  },
  {
   "cell_type": "code",
   "execution_count": 155,
   "id": "419915d8-cb1b-4959-947a-5d2f5b5057a6",
   "metadata": {},
   "outputs": [
    {
     "data": {
      "text/html": [
       "<div>\n",
       "<style scoped>\n",
       "    .dataframe tbody tr th:only-of-type {\n",
       "        vertical-align: middle;\n",
       "    }\n",
       "\n",
       "    .dataframe tbody tr th {\n",
       "        vertical-align: top;\n",
       "    }\n",
       "\n",
       "    .dataframe thead th {\n",
       "        text-align: right;\n",
       "    }\n",
       "</style>\n",
       "<table border=\"1\" class=\"dataframe\">\n",
       "  <thead>\n",
       "    <tr style=\"text-align: right;\">\n",
       "      <th></th>\n",
       "      <th>A</th>\n",
       "      <th>B</th>\n",
       "      <th>C</th>\n",
       "      <th>D</th>\n",
       "    </tr>\n",
       "  </thead>\n",
       "  <tbody>\n",
       "    <tr>\n",
       "      <th>0</th>\n",
       "      <td>1.624345</td>\n",
       "      <td>-0.611756</td>\n",
       "      <td>-0.528172</td>\n",
       "      <td>-1.072969</td>\n",
       "    </tr>\n",
       "    <tr>\n",
       "      <th>6</th>\n",
       "      <td>0.900856</td>\n",
       "      <td>-0.683728</td>\n",
       "      <td>-0.122890</td>\n",
       "      <td>-0.935769</td>\n",
       "    </tr>\n",
       "  </tbody>\n",
       "</table>\n",
       "</div>"
      ],
      "text/plain": [
       "          A         B         C         D\n",
       "0  1.624345 -0.611756 -0.528172 -1.072969\n",
       "6  0.900856 -0.683728 -0.122890 -0.935769"
      ]
     },
     "execution_count": 155,
     "metadata": {},
     "output_type": "execute_result"
    }
   ],
   "source": [
    "df2.loc[lambda df: (df['A']>0) & (df['C']<0),:]"
   ]
  },
  {
   "cell_type": "markdown",
   "id": "6d89ba0e-3dc1-4f08-aa36-6d9a0b8caf82",
   "metadata": {},
   "source": [
    "**아래는 실행되지 않는다.**"
   ]
  },
  {
   "cell_type": "code",
   "execution_count": 164,
   "id": "7b148b96-b28c-4313-99f4-21b69ed7d88b",
   "metadata": {},
   "outputs": [],
   "source": [
    "#df2.loc[lambda df: (df['A']>0) and (df['C']<0),:]"
   ]
  },
  {
   "cell_type": "markdown",
   "id": "9744c8aa-33fd-48d9-8656-6e3634c23bf6",
   "metadata": {},
   "source": [
    "**실행되지 않는 이유**"
   ]
  },
  {
   "cell_type": "code",
   "execution_count": 159,
   "id": "53d39f66-18dd-4e0b-a949-7f7a491eea88",
   "metadata": {},
   "outputs": [
    {
     "data": {
      "text/plain": [
       "array([ True, False])"
      ]
     },
     "execution_count": 159,
     "metadata": {},
     "output_type": "execute_result"
    }
   ],
   "source": [
    "np.array([True, False]) & np.array([True, True])"
   ]
  },
  {
   "cell_type": "code",
   "execution_count": 162,
   "id": "11a451aa-141f-4fc3-968b-f65bf3064dba",
   "metadata": {},
   "outputs": [],
   "source": [
    "#np.array([True, False]) and np.array([True, True]) => and는 벡터 연산이 안됨, 위와 같은 에러"
   ]
  },
  {
   "cell_type": "markdown",
   "id": "b0be7045-723b-4ed7-92e3-cc21c8a89df9",
   "metadata": {
    "tags": []
   },
   "source": [
    "`-` iloc은 함수 오브젝트 자체를 전달하는건 안되지만, 스칼라 아웃풋을 받아 맵으로 랩핑하는 방법은 가능하다. 자세한건 생략."
   ]
  }
 ],
 "metadata": {
  "kernelspec": {
   "display_name": "Python 3",
   "language": "python",
   "name": "python3"
  },
  "language_info": {
   "codemirror_mode": {
    "name": "ipython",
    "version": 3
   },
   "file_extension": ".py",
   "mimetype": "text/x-python",
   "name": "python",
   "nbconvert_exporter": "python",
   "pygments_lexer": "ipython3",
   "version": "3.8.8"
  }
 },
 "nbformat": 4,
 "nbformat_minor": 5
}
