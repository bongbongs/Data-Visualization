{
 "cells": [
  {
   "cell_type": "markdown",
   "id": "b8a5bd8f-5b72-4319-b62e-cb6018abd9d1",
   "metadata": {},
   "source": [
    "## 판다스에서 column을 선택하는 방법"
   ]
  },
  {
   "cell_type": "markdown",
   "id": "49715d52-f61c-4cab-8c8d-aa6546b47d41",
   "metadata": {},
   "source": [
    "### 예제1"
   ]
  },
  {
   "cell_type": "code",
   "execution_count": 1,
   "id": "919420e0-9e83-494f-8747-59d53d46f24e",
   "metadata": {},
   "outputs": [],
   "source": [
    "import numpy as np\n",
    "import pandas as pd"
   ]
  },
  {
   "cell_type": "code",
   "execution_count": 2,
   "id": "16d90e38-a3e0-417e-80e0-9d7a695d5812",
   "metadata": {},
   "outputs": [],
   "source": [
    "dic={'X1':np.random.normal(0,1,5),\n",
    "    'X2':np.random.normal(0,1,5),\n",
    "    'X3':np.random.normal(0,1,5)}"
   ]
  },
  {
   "cell_type": "code",
   "execution_count": 3,
   "id": "db0bfa86-5dfc-4bf4-8b98-097789e86ad7",
   "metadata": {},
   "outputs": [
    {
     "data": {
      "text/plain": [
       "{'X1': array([ 0.29304191,  0.70514343,  0.44152058, -0.53251374, -0.01485201]),\n",
       " 'X2': array([ 1.83614478, -0.12428781,  0.51154662, -0.11962186, -1.52424568]),\n",
       " 'X3': array([-0.08326255, -0.70029832, -0.80491554,  0.69313269, -1.02252161])}"
      ]
     },
     "execution_count": 3,
     "metadata": {},
     "output_type": "execute_result"
    }
   ],
   "source": [
    "dic"
   ]
  },
  {
   "cell_type": "code",
   "execution_count": 4,
   "id": "345bb34a-947e-484b-8532-ea0774c98662",
   "metadata": {},
   "outputs": [
    {
     "data": {
      "text/html": [
       "<div>\n",
       "<style scoped>\n",
       "    .dataframe tbody tr th:only-of-type {\n",
       "        vertical-align: middle;\n",
       "    }\n",
       "\n",
       "    .dataframe tbody tr th {\n",
       "        vertical-align: top;\n",
       "    }\n",
       "\n",
       "    .dataframe thead th {\n",
       "        text-align: right;\n",
       "    }\n",
       "</style>\n",
       "<table border=\"1\" class=\"dataframe\">\n",
       "  <thead>\n",
       "    <tr style=\"text-align: right;\">\n",
       "      <th></th>\n",
       "      <th>X1</th>\n",
       "      <th>X2</th>\n",
       "      <th>X3</th>\n",
       "    </tr>\n",
       "  </thead>\n",
       "  <tbody>\n",
       "    <tr>\n",
       "      <th>0</th>\n",
       "      <td>0.293042</td>\n",
       "      <td>1.836145</td>\n",
       "      <td>-0.083263</td>\n",
       "    </tr>\n",
       "    <tr>\n",
       "      <th>1</th>\n",
       "      <td>0.705143</td>\n",
       "      <td>-0.124288</td>\n",
       "      <td>-0.700298</td>\n",
       "    </tr>\n",
       "    <tr>\n",
       "      <th>2</th>\n",
       "      <td>0.441521</td>\n",
       "      <td>0.511547</td>\n",
       "      <td>-0.804916</td>\n",
       "    </tr>\n",
       "    <tr>\n",
       "      <th>3</th>\n",
       "      <td>-0.532514</td>\n",
       "      <td>-0.119622</td>\n",
       "      <td>0.693133</td>\n",
       "    </tr>\n",
       "    <tr>\n",
       "      <th>4</th>\n",
       "      <td>-0.014852</td>\n",
       "      <td>-1.524246</td>\n",
       "      <td>-1.022522</td>\n",
       "    </tr>\n",
       "  </tbody>\n",
       "</table>\n",
       "</div>"
      ],
      "text/plain": [
       "         X1        X2        X3\n",
       "0  0.293042  1.836145 -0.083263\n",
       "1  0.705143 -0.124288 -0.700298\n",
       "2  0.441521  0.511547 -0.804916\n",
       "3 -0.532514 -0.119622  0.693133\n",
       "4 -0.014852 -1.524246 -1.022522"
      ]
     },
     "execution_count": 4,
     "metadata": {},
     "output_type": "execute_result"
    }
   ],
   "source": [
    "df=pd.DataFrame(dic)\n",
    "df"
   ]
  },
  {
   "cell_type": "markdown",
   "id": "e1fb9d80-504e-4e0c-8a53-69d9f39203a6",
   "metadata": {},
   "source": [
    "`-` 방법1"
   ]
  },
  {
   "cell_type": "code",
   "execution_count": 5,
   "id": "035e7502-ba83-4c61-ba0f-977a6f780d3a",
   "metadata": {},
   "outputs": [
    {
     "data": {
      "text/plain": [
       "0    0.293042\n",
       "1    0.705143\n",
       "2    0.441521\n",
       "3   -0.532514\n",
       "4   -0.014852\n",
       "Name: X1, dtype: float64"
      ]
     },
     "execution_count": 5,
     "metadata": {},
     "output_type": "execute_result"
    }
   ],
   "source": [
    "df.X1"
   ]
  },
  {
   "cell_type": "markdown",
   "id": "f881c6a0-5db2-4c9e-9396-1e386f36c62a",
   "metadata": {},
   "source": [
    "`-` 방법2"
   ]
  },
  {
   "cell_type": "code",
   "execution_count": 6,
   "id": "998bf9c5-d45f-4cf1-b612-35b88ec22310",
   "metadata": {},
   "outputs": [
    {
     "data": {
      "text/plain": [
       "0    0.293042\n",
       "1    0.705143\n",
       "2    0.441521\n",
       "3   -0.532514\n",
       "4   -0.014852\n",
       "Name: X1, dtype: float64"
      ]
     },
     "execution_count": 6,
     "metadata": {},
     "output_type": "execute_result"
    }
   ],
   "source": [
    "df['X1'] #dictionary 형태"
   ]
  },
  {
   "cell_type": "markdown",
   "id": "33168c49-3ac8-4597-aa95-6e063f8d55ce",
   "metadata": {},
   "source": [
    "`-` 방법3"
   ]
  },
  {
   "cell_type": "code",
   "execution_count": 7,
   "id": "8cc973c3-dd84-4171-8c66-5b4684391dc3",
   "metadata": {},
   "outputs": [
    {
     "data": {
      "text/html": [
       "<div>\n",
       "<style scoped>\n",
       "    .dataframe tbody tr th:only-of-type {\n",
       "        vertical-align: middle;\n",
       "    }\n",
       "\n",
       "    .dataframe tbody tr th {\n",
       "        vertical-align: top;\n",
       "    }\n",
       "\n",
       "    .dataframe thead th {\n",
       "        text-align: right;\n",
       "    }\n",
       "</style>\n",
       "<table border=\"1\" class=\"dataframe\">\n",
       "  <thead>\n",
       "    <tr style=\"text-align: right;\">\n",
       "      <th></th>\n",
       "      <th>X1</th>\n",
       "    </tr>\n",
       "  </thead>\n",
       "  <tbody>\n",
       "    <tr>\n",
       "      <th>0</th>\n",
       "      <td>0.293042</td>\n",
       "    </tr>\n",
       "    <tr>\n",
       "      <th>1</th>\n",
       "      <td>0.705143</td>\n",
       "    </tr>\n",
       "    <tr>\n",
       "      <th>2</th>\n",
       "      <td>0.441521</td>\n",
       "    </tr>\n",
       "    <tr>\n",
       "      <th>3</th>\n",
       "      <td>-0.532514</td>\n",
       "    </tr>\n",
       "    <tr>\n",
       "      <th>4</th>\n",
       "      <td>-0.014852</td>\n",
       "    </tr>\n",
       "  </tbody>\n",
       "</table>\n",
       "</div>"
      ],
      "text/plain": [
       "         X1\n",
       "0  0.293042\n",
       "1  0.705143\n",
       "2  0.441521\n",
       "3 -0.532514\n",
       "4 -0.014852"
      ]
     },
     "execution_count": 7,
     "metadata": {},
     "output_type": "execute_result"
    }
   ],
   "source": [
    "df[['X1']] #list 형태"
   ]
  },
  {
   "cell_type": "code",
   "execution_count": 8,
   "id": "2ace8302-c265-4ce6-b00a-127dc3531f55",
   "metadata": {},
   "outputs": [],
   "source": [
    "a=df['X1'] #Pandas Series"
   ]
  },
  {
   "cell_type": "code",
   "execution_count": 9,
   "id": "8508a258-88e7-45da-8af3-7414c5d8020b",
   "metadata": {},
   "outputs": [],
   "source": [
    "b=df[['X1']] #Pandas DataFrame"
   ]
  },
  {
   "cell_type": "code",
   "execution_count": 10,
   "id": "f7c965f8-cadc-4a2f-8a1e-9881fc923fb8",
   "metadata": {
    "tags": []
   },
   "outputs": [
    {
     "data": {
      "text/plain": [
       "\u001b[0;31mType:\u001b[0m        Series\n",
       "\u001b[0;31mString form:\u001b[0m\n",
       "0    0.293042\n",
       "1    0.705143\n",
       "2    0.441521\n",
       "3   -0.532514\n",
       "4   -0.014852\n",
       "Name: X1, dtype: float64\n",
       "\u001b[0;31mLength:\u001b[0m      5\n",
       "\u001b[0;31mFile:\u001b[0m        ~/opt/anaconda3/lib/python3.8/site-packages/pandas/core/series.py\n",
       "\u001b[0;31mDocstring:\u001b[0m  \n",
       "One-dimensional ndarray with axis labels (including time series).\n",
       "\n",
       "Labels need not be unique but must be a hashable type. The object\n",
       "supports both integer- and label-based indexing and provides a host of\n",
       "methods for performing operations involving the index. Statistical\n",
       "methods from ndarray have been overridden to automatically exclude\n",
       "missing data (currently represented as NaN).\n",
       "\n",
       "Operations between Series (+, -, /, *, **) align values based on their\n",
       "associated index values-- they need not be the same length. The result\n",
       "index will be the sorted union of the two indexes.\n",
       "\n",
       "Parameters\n",
       "----------\n",
       "data : array-like, Iterable, dict, or scalar value\n",
       "    Contains data stored in Series. If data is a dict, argument order is\n",
       "    maintained.\n",
       "index : array-like or Index (1d)\n",
       "    Values must be hashable and have the same length as `data`.\n",
       "    Non-unique index values are allowed. Will default to\n",
       "    RangeIndex (0, 1, 2, ..., n) if not provided. If data is dict-like\n",
       "    and index is None, then the keys in the data are used as the index. If the\n",
       "    index is not None, the resulting Series is reindexed with the index values.\n",
       "dtype : str, numpy.dtype, or ExtensionDtype, optional\n",
       "    Data type for the output Series. If not specified, this will be\n",
       "    inferred from `data`.\n",
       "    See the :ref:`user guide <basics.dtypes>` for more usages.\n",
       "name : str, optional\n",
       "    The name to give to the Series.\n",
       "copy : bool, default False\n",
       "    Copy input data. Only affects Series or 1d ndarray input. See examples.\n",
       "\n",
       "Examples\n",
       "--------\n",
       "Constructing Series from a dictionary with an Index specified\n",
       "\n",
       ">>> d = {'a': 1, 'b': 2, 'c': 3}\n",
       ">>> ser = pd.Series(data=d, index=['a', 'b', 'c'])\n",
       ">>> ser\n",
       "a   1\n",
       "b   2\n",
       "c   3\n",
       "dtype: int64\n",
       "\n",
       "The keys of the dictionary match with the Index values, hence the Index\n",
       "values have no effect.\n",
       "\n",
       ">>> d = {'a': 1, 'b': 2, 'c': 3}\n",
       ">>> ser = pd.Series(data=d, index=['x', 'y', 'z'])\n",
       ">>> ser\n",
       "x   NaN\n",
       "y   NaN\n",
       "z   NaN\n",
       "dtype: float64\n",
       "\n",
       "Note that the Index is first build with the keys from the dictionary.\n",
       "After this the Series is reindexed with the given Index values, hence we\n",
       "get all NaN as a result.\n",
       "\n",
       "Constructing Series from a list with `copy=False`.\n",
       "\n",
       ">>> r = [1, 2]\n",
       ">>> ser = pd.Series(r, copy=False)\n",
       ">>> ser.iloc[0] = 999\n",
       ">>> r\n",
       "[1, 2]\n",
       ">>> ser\n",
       "0    999\n",
       "1      2\n",
       "dtype: int64\n",
       "\n",
       "Due to input data type the Series has a `copy` of\n",
       "the original data even though `copy=False`, so\n",
       "the data is unchanged.\n",
       "\n",
       "Constructing Series from a 1d ndarray with `copy=False`.\n",
       "\n",
       ">>> r = np.array([1, 2])\n",
       ">>> ser = pd.Series(r, copy=False)\n",
       ">>> ser.iloc[0] = 999\n",
       ">>> r\n",
       "array([999,   2])\n",
       ">>> ser\n",
       "0    999\n",
       "1      2\n",
       "dtype: int64\n",
       "\n",
       "Due to input data type the Series has a `view` on\n",
       "the original data, so\n",
       "the data is changed as well.\n"
      ]
     },
     "metadata": {},
     "output_type": "display_data"
    }
   ],
   "source": [
    "a?"
   ]
  },
  {
   "cell_type": "code",
   "execution_count": 11,
   "id": "25dbecfc-33f9-457c-984e-6150fb0d094c",
   "metadata": {
    "tags": []
   },
   "outputs": [
    {
     "data": {
      "text/plain": [
       "\u001b[0;31mType:\u001b[0m        DataFrame\n",
       "\u001b[0;31mString form:\u001b[0m\n",
       "         X1\n",
       "0  0.293042\n",
       "1  0.705143\n",
       "2  0.441521\n",
       "3 -0.532514\n",
       "4 -0.014852\n",
       "\u001b[0;31mLength:\u001b[0m      5\n",
       "\u001b[0;31mFile:\u001b[0m        ~/opt/anaconda3/lib/python3.8/site-packages/pandas/core/frame.py\n",
       "\u001b[0;31mDocstring:\u001b[0m  \n",
       "Two-dimensional, size-mutable, potentially heterogeneous tabular data.\n",
       "\n",
       "Data structure also contains labeled axes (rows and columns).\n",
       "Arithmetic operations align on both row and column labels. Can be\n",
       "thought of as a dict-like container for Series objects. The primary\n",
       "pandas data structure.\n",
       "\n",
       "Parameters\n",
       "----------\n",
       "data : ndarray (structured or homogeneous), Iterable, dict, or DataFrame\n",
       "    Dict can contain Series, arrays, constants, dataclass or list-like objects. If\n",
       "    data is a dict, column order follows insertion-order.\n",
       "\n",
       "    .. versionchanged:: 0.25.0\n",
       "       If data is a list of dicts, column order follows insertion-order.\n",
       "\n",
       "index : Index or array-like\n",
       "    Index to use for resulting frame. Will default to RangeIndex if\n",
       "    no indexing information part of input data and no index provided.\n",
       "columns : Index or array-like\n",
       "    Column labels to use for resulting frame when data does not have them,\n",
       "    defaulting to RangeIndex(0, 1, 2, ..., n). If data contains column labels,\n",
       "    will perform column selection instead.\n",
       "dtype : dtype, default None\n",
       "    Data type to force. Only a single dtype is allowed. If None, infer.\n",
       "copy : bool or None, default None\n",
       "    Copy data from inputs.\n",
       "    For dict data, the default of None behaves like ``copy=True``.  For DataFrame\n",
       "    or 2d ndarray input, the default of None behaves like ``copy=False``.\n",
       "\n",
       "    .. versionchanged:: 1.3.0\n",
       "\n",
       "See Also\n",
       "--------\n",
       "DataFrame.from_records : Constructor from tuples, also record arrays.\n",
       "DataFrame.from_dict : From dicts of Series, arrays, or dicts.\n",
       "read_csv : Read a comma-separated values (csv) file into DataFrame.\n",
       "read_table : Read general delimited file into DataFrame.\n",
       "read_clipboard : Read text from clipboard into DataFrame.\n",
       "\n",
       "Examples\n",
       "--------\n",
       "Constructing DataFrame from a dictionary.\n",
       "\n",
       ">>> d = {'col1': [1, 2], 'col2': [3, 4]}\n",
       ">>> df = pd.DataFrame(data=d)\n",
       ">>> df\n",
       "   col1  col2\n",
       "0     1     3\n",
       "1     2     4\n",
       "\n",
       "Notice that the inferred dtype is int64.\n",
       "\n",
       ">>> df.dtypes\n",
       "col1    int64\n",
       "col2    int64\n",
       "dtype: object\n",
       "\n",
       "To enforce a single dtype:\n",
       "\n",
       ">>> df = pd.DataFrame(data=d, dtype=np.int8)\n",
       ">>> df.dtypes\n",
       "col1    int8\n",
       "col2    int8\n",
       "dtype: object\n",
       "\n",
       "Constructing DataFrame from numpy ndarray:\n",
       "\n",
       ">>> df2 = pd.DataFrame(np.array([[1, 2, 3], [4, 5, 6], [7, 8, 9]]),\n",
       "...                    columns=['a', 'b', 'c'])\n",
       ">>> df2\n",
       "   a  b  c\n",
       "0  1  2  3\n",
       "1  4  5  6\n",
       "2  7  8  9\n",
       "\n",
       "Constructing DataFrame from a numpy ndarray that has labeled columns:\n",
       "\n",
       ">>> data = np.array([(1, 2, 3), (4, 5, 6), (7, 8, 9)],\n",
       "...                 dtype=[(\"a\", \"i4\"), (\"b\", \"i4\"), (\"c\", \"i4\")])\n",
       ">>> df3 = pd.DataFrame(data, columns=['c', 'a'])\n",
       "...\n",
       ">>> df3\n",
       "   c  a\n",
       "0  3  1\n",
       "1  6  4\n",
       "2  9  7\n",
       "\n",
       "Constructing DataFrame from dataclass:\n",
       "\n",
       ">>> from dataclasses import make_dataclass\n",
       ">>> Point = make_dataclass(\"Point\", [(\"x\", int), (\"y\", int)])\n",
       ">>> pd.DataFrame([Point(0, 0), Point(0, 3), Point(2, 3)])\n",
       "   x  y\n",
       "0  0  0\n",
       "1  0  3\n",
       "2  2  3\n"
      ]
     },
     "metadata": {},
     "output_type": "display_data"
    }
   ],
   "source": [
    "b?"
   ]
  },
  {
   "cell_type": "code",
   "execution_count": 12,
   "id": "4c4bb435-c0ac-4af4-9ad2-e5c7ddddac52",
   "metadata": {},
   "outputs": [
    {
     "data": {
      "text/plain": [
       "(5,)"
      ]
     },
     "execution_count": 12,
     "metadata": {},
     "output_type": "execute_result"
    }
   ],
   "source": [
    "a.shape"
   ]
  },
  {
   "cell_type": "code",
   "execution_count": 13,
   "id": "938c253c-8565-4da9-a3c3-53139c9edd29",
   "metadata": {},
   "outputs": [
    {
     "data": {
      "text/plain": [
       "(5, 1)"
      ]
     },
     "execution_count": 13,
     "metadata": {},
     "output_type": "execute_result"
    }
   ],
   "source": [
    "b.shape"
   ]
  },
  {
   "cell_type": "markdown",
   "id": "d913ab25-b2aa-43e5-a9f8-ff6438732e9e",
   "metadata": {},
   "source": [
    "- `df['X1']`는 series를 리턴하고 `df[['X1']]`는 dataframe을 리턴한다."
   ]
  },
  {
   "cell_type": "markdown",
   "id": "6105c698-9c66-4fc1-8306-306694fb6f9a",
   "metadata": {},
   "source": [
    "`-` 방법4"
   ]
  },
  {
   "cell_type": "code",
   "execution_count": 14,
   "id": "e5024437-419e-4021-ae93-0142ecccd747",
   "metadata": {},
   "outputs": [
    {
     "data": {
      "text/plain": [
       "0    0.293042\n",
       "1    0.705143\n",
       "2    0.441521\n",
       "3   -0.532514\n",
       "4   -0.014852\n",
       "Name: X1, dtype: float64"
      ]
     },
     "execution_count": 14,
     "metadata": {},
     "output_type": "execute_result"
    }
   ],
   "source": [
    "df.loc[:,'X1'] #Series"
   ]
  },
  {
   "cell_type": "markdown",
   "id": "1d777236-dafc-4810-a736-8cbc4340a859",
   "metadata": {},
   "source": [
    "`-` 방법5"
   ]
  },
  {
   "cell_type": "code",
   "execution_count": 15,
   "id": "9e1d40b6-6f4f-4efb-9d11-e6fdd361581e",
   "metadata": {},
   "outputs": [
    {
     "data": {
      "text/html": [
       "<div>\n",
       "<style scoped>\n",
       "    .dataframe tbody tr th:only-of-type {\n",
       "        vertical-align: middle;\n",
       "    }\n",
       "\n",
       "    .dataframe tbody tr th {\n",
       "        vertical-align: top;\n",
       "    }\n",
       "\n",
       "    .dataframe thead th {\n",
       "        text-align: right;\n",
       "    }\n",
       "</style>\n",
       "<table border=\"1\" class=\"dataframe\">\n",
       "  <thead>\n",
       "    <tr style=\"text-align: right;\">\n",
       "      <th></th>\n",
       "      <th>X1</th>\n",
       "    </tr>\n",
       "  </thead>\n",
       "  <tbody>\n",
       "    <tr>\n",
       "      <th>0</th>\n",
       "      <td>0.293042</td>\n",
       "    </tr>\n",
       "    <tr>\n",
       "      <th>1</th>\n",
       "      <td>0.705143</td>\n",
       "    </tr>\n",
       "    <tr>\n",
       "      <th>2</th>\n",
       "      <td>0.441521</td>\n",
       "    </tr>\n",
       "    <tr>\n",
       "      <th>3</th>\n",
       "      <td>-0.532514</td>\n",
       "    </tr>\n",
       "    <tr>\n",
       "      <th>4</th>\n",
       "      <td>-0.014852</td>\n",
       "    </tr>\n",
       "  </tbody>\n",
       "</table>\n",
       "</div>"
      ],
      "text/plain": [
       "         X1\n",
       "0  0.293042\n",
       "1  0.705143\n",
       "2  0.441521\n",
       "3 -0.532514\n",
       "4 -0.014852"
      ]
     },
     "execution_count": 15,
     "metadata": {},
     "output_type": "execute_result"
    }
   ],
   "source": [
    "df.loc[:,['X1']] #Dataframe, 여러개도 가능"
   ]
  },
  {
   "cell_type": "markdown",
   "id": "fee7cce3-6212-46d6-8cfe-3fb767301337",
   "metadata": {},
   "source": [
    "- `df.loc[:,'X1']`는 series를 리턴하고 `df.loc[:,['X1']]`는 dataframe을 리턴한다. "
   ]
  },
  {
   "cell_type": "markdown",
   "id": "772023b3-99d9-441c-8e0c-eeb971bc2feb",
   "metadata": {},
   "source": [
    "### 방법을 다 외울 필요 없이 시험땐 딱 한 코드로 보면됌!"
   ]
  },
  {
   "cell_type": "markdown",
   "id": "55ecdafc-04bf-4cab-89fc-5b41a4348b5d",
   "metadata": {},
   "source": [
    "`-` 방법6"
   ]
  },
  {
   "cell_type": "code",
   "execution_count": 16,
   "id": "31655f4c-3f2f-4c54-8de2-9ac719c97294",
   "metadata": {},
   "outputs": [
    {
     "data": {
      "text/html": [
       "<div>\n",
       "<style scoped>\n",
       "    .dataframe tbody tr th:only-of-type {\n",
       "        vertical-align: middle;\n",
       "    }\n",
       "\n",
       "    .dataframe tbody tr th {\n",
       "        vertical-align: top;\n",
       "    }\n",
       "\n",
       "    .dataframe thead th {\n",
       "        text-align: right;\n",
       "    }\n",
       "</style>\n",
       "<table border=\"1\" class=\"dataframe\">\n",
       "  <thead>\n",
       "    <tr style=\"text-align: right;\">\n",
       "      <th></th>\n",
       "      <th>X1</th>\n",
       "    </tr>\n",
       "  </thead>\n",
       "  <tbody>\n",
       "    <tr>\n",
       "      <th>0</th>\n",
       "      <td>0.293042</td>\n",
       "    </tr>\n",
       "    <tr>\n",
       "      <th>1</th>\n",
       "      <td>0.705143</td>\n",
       "    </tr>\n",
       "    <tr>\n",
       "      <th>2</th>\n",
       "      <td>0.441521</td>\n",
       "    </tr>\n",
       "    <tr>\n",
       "      <th>3</th>\n",
       "      <td>-0.532514</td>\n",
       "    </tr>\n",
       "    <tr>\n",
       "      <th>4</th>\n",
       "      <td>-0.014852</td>\n",
       "    </tr>\n",
       "  </tbody>\n",
       "</table>\n",
       "</div>"
      ],
      "text/plain": [
       "         X1\n",
       "0  0.293042\n",
       "1  0.705143\n",
       "2  0.441521\n",
       "3 -0.532514\n",
       "4 -0.014852"
      ]
     },
     "execution_count": 16,
     "metadata": {},
     "output_type": "execute_result"
    }
   ],
   "source": [
    "df.loc[:,[True,False,False]]"
   ]
  },
  {
   "cell_type": "markdown",
   "id": "93668f3a-5ad2-4327-a738-bf157ba06099",
   "metadata": {},
   "source": [
    "- 불인덱싱가능"
   ]
  },
  {
   "cell_type": "markdown",
   "id": "d784a39a-4676-4218-b49d-9d56038330b9",
   "metadata": {},
   "source": [
    "`-` 방법7"
   ]
  },
  {
   "cell_type": "code",
   "execution_count": 1,
   "id": "e571b190-79a4-499f-a860-f948a1b0587e",
   "metadata": {},
   "outputs": [
    {
     "ename": "NameError",
     "evalue": "name 'df' is not defined",
     "output_type": "error",
     "traceback": [
      "\u001b[0;31m---------------------------------------------------------------------------\u001b[0m",
      "\u001b[0;31mNameError\u001b[0m                                 Traceback (most recent call last)",
      "\u001b[0;32m<ipython-input-1-99563b487b43>\u001b[0m in \u001b[0;36m<module>\u001b[0;34m\u001b[0m\n\u001b[0;32m----> 1\u001b[0;31m \u001b[0mdf\u001b[0m\u001b[0;34m.\u001b[0m\u001b[0miloc\u001b[0m\u001b[0;34m[\u001b[0m\u001b[0;34m:\u001b[0m\u001b[0;34m,\u001b[0m\u001b[0;36m0\u001b[0m\u001b[0;34m]\u001b[0m \u001b[0;31m#iloc = integer location\u001b[0m\u001b[0;34m\u001b[0m\u001b[0;34m\u001b[0m\u001b[0m\n\u001b[0m",
      "\u001b[0;31mNameError\u001b[0m: name 'df' is not defined"
     ]
    }
   ],
   "source": [
    "df.iloc[:,0] #iloc = integer location"
   ]
  },
  {
   "cell_type": "markdown",
   "id": "6fb8571b-5b95-4c99-85f8-3c54b45af526",
   "metadata": {},
   "source": [
    "`-` 방법8"
   ]
  },
  {
   "cell_type": "code",
   "execution_count": 18,
   "id": "4f93f512-4acf-4127-abcd-67bc3ce79ec1",
   "metadata": {},
   "outputs": [
    {
     "data": {
      "text/html": [
       "<div>\n",
       "<style scoped>\n",
       "    .dataframe tbody tr th:only-of-type {\n",
       "        vertical-align: middle;\n",
       "    }\n",
       "\n",
       "    .dataframe tbody tr th {\n",
       "        vertical-align: top;\n",
       "    }\n",
       "\n",
       "    .dataframe thead th {\n",
       "        text-align: right;\n",
       "    }\n",
       "</style>\n",
       "<table border=\"1\" class=\"dataframe\">\n",
       "  <thead>\n",
       "    <tr style=\"text-align: right;\">\n",
       "      <th></th>\n",
       "      <th>X1</th>\n",
       "    </tr>\n",
       "  </thead>\n",
       "  <tbody>\n",
       "    <tr>\n",
       "      <th>0</th>\n",
       "      <td>0.293042</td>\n",
       "    </tr>\n",
       "    <tr>\n",
       "      <th>1</th>\n",
       "      <td>0.705143</td>\n",
       "    </tr>\n",
       "    <tr>\n",
       "      <th>2</th>\n",
       "      <td>0.441521</td>\n",
       "    </tr>\n",
       "    <tr>\n",
       "      <th>3</th>\n",
       "      <td>-0.532514</td>\n",
       "    </tr>\n",
       "    <tr>\n",
       "      <th>4</th>\n",
       "      <td>-0.014852</td>\n",
       "    </tr>\n",
       "  </tbody>\n",
       "</table>\n",
       "</div>"
      ],
      "text/plain": [
       "         X1\n",
       "0  0.293042\n",
       "1  0.705143\n",
       "2  0.441521\n",
       "3 -0.532514\n",
       "4 -0.014852"
      ]
     },
     "execution_count": 18,
     "metadata": {},
     "output_type": "execute_result"
    }
   ],
   "source": [
    "df.iloc[:,[0]]"
   ]
  },
  {
   "cell_type": "markdown",
   "id": "7aa3f50f-ed42-4c24-95a8-85d566cd5d7a",
   "metadata": {},
   "source": [
    "`-` 방법9"
   ]
  },
  {
   "cell_type": "code",
   "execution_count": 19,
   "id": "4b5dc896-3f40-4678-b555-b78a28b97432",
   "metadata": {},
   "outputs": [
    {
     "data": {
      "text/html": [
       "<div>\n",
       "<style scoped>\n",
       "    .dataframe tbody tr th:only-of-type {\n",
       "        vertical-align: middle;\n",
       "    }\n",
       "\n",
       "    .dataframe tbody tr th {\n",
       "        vertical-align: top;\n",
       "    }\n",
       "\n",
       "    .dataframe thead th {\n",
       "        text-align: right;\n",
       "    }\n",
       "</style>\n",
       "<table border=\"1\" class=\"dataframe\">\n",
       "  <thead>\n",
       "    <tr style=\"text-align: right;\">\n",
       "      <th></th>\n",
       "      <th>X1</th>\n",
       "    </tr>\n",
       "  </thead>\n",
       "  <tbody>\n",
       "    <tr>\n",
       "      <th>0</th>\n",
       "      <td>0.293042</td>\n",
       "    </tr>\n",
       "    <tr>\n",
       "      <th>1</th>\n",
       "      <td>0.705143</td>\n",
       "    </tr>\n",
       "    <tr>\n",
       "      <th>2</th>\n",
       "      <td>0.441521</td>\n",
       "    </tr>\n",
       "    <tr>\n",
       "      <th>3</th>\n",
       "      <td>-0.532514</td>\n",
       "    </tr>\n",
       "    <tr>\n",
       "      <th>4</th>\n",
       "      <td>-0.014852</td>\n",
       "    </tr>\n",
       "  </tbody>\n",
       "</table>\n",
       "</div>"
      ],
      "text/plain": [
       "         X1\n",
       "0  0.293042\n",
       "1  0.705143\n",
       "2  0.441521\n",
       "3 -0.532514\n",
       "4 -0.014852"
      ]
     },
     "execution_count": 19,
     "metadata": {},
     "output_type": "execute_result"
    }
   ],
   "source": [
    "df.iloc[:,[True,False,False]]"
   ]
  },
  {
   "cell_type": "markdown",
   "id": "1bd9dc29-2155-43a0-80d0-baa8cbffde76",
   "metadata": {},
   "source": [
    "#### 참고사항: 열이름이 integer일 경우"
   ]
  },
  {
   "cell_type": "code",
   "execution_count": 20,
   "id": "7f1c107a-53a1-4a46-a39f-b37dc6a35420",
   "metadata": {},
   "outputs": [],
   "source": [
    "_df = pd.DataFrame(np.array([[1,2,3],[3,4,5],[5,6,7]]))"
   ]
  },
  {
   "cell_type": "code",
   "execution_count": 21,
   "id": "bd6d1a61-0e74-468c-9bc3-75b7a2c3b9c6",
   "metadata": {},
   "outputs": [
    {
     "data": {
      "text/plain": [
       "[[1, 2, 3], [3, 4, 5], [5, 6, 7]]"
      ]
     },
     "execution_count": 21,
     "metadata": {},
     "output_type": "execute_result"
    }
   ],
   "source": [
    "[[1,2,3],[3,4,5],[5,6,7]]"
   ]
  },
  {
   "cell_type": "code",
   "execution_count": 22,
   "id": "d05b041a-af66-4a13-bb5e-d71894672f12",
   "metadata": {},
   "outputs": [
    {
     "data": {
      "text/plain": [
       "array([[1, 2, 3],\n",
       "       [3, 4, 5],\n",
       "       [5, 6, 7]])"
      ]
     },
     "execution_count": 22,
     "metadata": {},
     "output_type": "execute_result"
    }
   ],
   "source": [
    "np.array([[1,2,3],[3,4,5],[5,6,7]])"
   ]
  },
  {
   "cell_type": "code",
   "execution_count": 23,
   "id": "39e492a9-efeb-4666-a5d9-00a9e5e6c2f8",
   "metadata": {},
   "outputs": [
    {
     "data": {
      "text/html": [
       "<div>\n",
       "<style scoped>\n",
       "    .dataframe tbody tr th:only-of-type {\n",
       "        vertical-align: middle;\n",
       "    }\n",
       "\n",
       "    .dataframe tbody tr th {\n",
       "        vertical-align: top;\n",
       "    }\n",
       "\n",
       "    .dataframe thead th {\n",
       "        text-align: right;\n",
       "    }\n",
       "</style>\n",
       "<table border=\"1\" class=\"dataframe\">\n",
       "  <thead>\n",
       "    <tr style=\"text-align: right;\">\n",
       "      <th></th>\n",
       "      <th>0</th>\n",
       "      <th>1</th>\n",
       "      <th>2</th>\n",
       "    </tr>\n",
       "  </thead>\n",
       "  <tbody>\n",
       "    <tr>\n",
       "      <th>0</th>\n",
       "      <td>1</td>\n",
       "      <td>2</td>\n",
       "      <td>3</td>\n",
       "    </tr>\n",
       "    <tr>\n",
       "      <th>1</th>\n",
       "      <td>3</td>\n",
       "      <td>4</td>\n",
       "      <td>5</td>\n",
       "    </tr>\n",
       "    <tr>\n",
       "      <th>2</th>\n",
       "      <td>5</td>\n",
       "      <td>6</td>\n",
       "      <td>7</td>\n",
       "    </tr>\n",
       "  </tbody>\n",
       "</table>\n",
       "</div>"
      ],
      "text/plain": [
       "   0  1  2\n",
       "0  1  2  3\n",
       "1  3  4  5\n",
       "2  5  6  7"
      ]
     },
     "execution_count": 23,
     "metadata": {},
     "output_type": "execute_result"
    }
   ],
   "source": [
    "_df"
   ]
  },
  {
   "cell_type": "code",
   "execution_count": 24,
   "id": "9d53efc2-7724-48c9-b5c2-f5d38fb9685a",
   "metadata": {},
   "outputs": [
    {
     "data": {
      "text/plain": [
       "RangeIndex(start=0, stop=3, step=1)"
      ]
     },
     "execution_count": 24,
     "metadata": {},
     "output_type": "execute_result"
    }
   ],
   "source": [
    "_df.columns #range(숫자)"
   ]
  },
  {
   "cell_type": "markdown",
   "id": "588a77fd-c141-4283-9d32-918411241aa1",
   "metadata": {},
   "source": [
    "`-` 아래가 모두 가능하다."
   ]
  },
  {
   "cell_type": "code",
   "execution_count": 25,
   "id": "beab2442-1ca4-4108-92f5-ceb3a5f280f2",
   "metadata": {},
   "outputs": [
    {
     "data": {
      "text/plain": [
       "0    1\n",
       "1    3\n",
       "2    5\n",
       "Name: 0, dtype: int64"
      ]
     },
     "execution_count": 25,
     "metadata": {},
     "output_type": "execute_result"
    }
   ],
   "source": [
    "_df[0]"
   ]
  },
  {
   "cell_type": "code",
   "execution_count": 26,
   "id": "6c48cf32-7d35-44a8-9924-7e9363bbfcb8",
   "metadata": {},
   "outputs": [
    {
     "data": {
      "text/html": [
       "<div>\n",
       "<style scoped>\n",
       "    .dataframe tbody tr th:only-of-type {\n",
       "        vertical-align: middle;\n",
       "    }\n",
       "\n",
       "    .dataframe tbody tr th {\n",
       "        vertical-align: top;\n",
       "    }\n",
       "\n",
       "    .dataframe thead th {\n",
       "        text-align: right;\n",
       "    }\n",
       "</style>\n",
       "<table border=\"1\" class=\"dataframe\">\n",
       "  <thead>\n",
       "    <tr style=\"text-align: right;\">\n",
       "      <th></th>\n",
       "      <th>0</th>\n",
       "    </tr>\n",
       "  </thead>\n",
       "  <tbody>\n",
       "    <tr>\n",
       "      <th>0</th>\n",
       "      <td>1</td>\n",
       "    </tr>\n",
       "    <tr>\n",
       "      <th>1</th>\n",
       "      <td>3</td>\n",
       "    </tr>\n",
       "    <tr>\n",
       "      <th>2</th>\n",
       "      <td>5</td>\n",
       "    </tr>\n",
       "  </tbody>\n",
       "</table>\n",
       "</div>"
      ],
      "text/plain": [
       "   0\n",
       "0  1\n",
       "1  3\n",
       "2  5"
      ]
     },
     "execution_count": 26,
     "metadata": {},
     "output_type": "execute_result"
    }
   ],
   "source": [
    "_df[[0]]"
   ]
  },
  {
   "cell_type": "code",
   "execution_count": 27,
   "id": "ff5d3698-d697-443d-8243-6e35849282b4",
   "metadata": {},
   "outputs": [
    {
     "data": {
      "text/plain": [
       "0    1\n",
       "1    3\n",
       "2    5\n",
       "Name: 0, dtype: int64"
      ]
     },
     "execution_count": 27,
     "metadata": {},
     "output_type": "execute_result"
    }
   ],
   "source": [
    "_df.loc[:,0]"
   ]
  },
  {
   "cell_type": "code",
   "execution_count": 28,
   "id": "185c4930-56a3-4c72-95fe-ddba20235543",
   "metadata": {},
   "outputs": [
    {
     "data": {
      "text/html": [
       "<div>\n",
       "<style scoped>\n",
       "    .dataframe tbody tr th:only-of-type {\n",
       "        vertical-align: middle;\n",
       "    }\n",
       "\n",
       "    .dataframe tbody tr th {\n",
       "        vertical-align: top;\n",
       "    }\n",
       "\n",
       "    .dataframe thead th {\n",
       "        text-align: right;\n",
       "    }\n",
       "</style>\n",
       "<table border=\"1\" class=\"dataframe\">\n",
       "  <thead>\n",
       "    <tr style=\"text-align: right;\">\n",
       "      <th></th>\n",
       "      <th>0</th>\n",
       "    </tr>\n",
       "  </thead>\n",
       "  <tbody>\n",
       "    <tr>\n",
       "      <th>0</th>\n",
       "      <td>1</td>\n",
       "    </tr>\n",
       "    <tr>\n",
       "      <th>1</th>\n",
       "      <td>3</td>\n",
       "    </tr>\n",
       "    <tr>\n",
       "      <th>2</th>\n",
       "      <td>5</td>\n",
       "    </tr>\n",
       "  </tbody>\n",
       "</table>\n",
       "</div>"
      ],
      "text/plain": [
       "   0\n",
       "0  1\n",
       "1  3\n",
       "2  5"
      ]
     },
     "execution_count": 28,
     "metadata": {},
     "output_type": "execute_result"
    }
   ],
   "source": [
    "_df.loc[:,[0]]"
   ]
  },
  {
   "cell_type": "code",
   "execution_count": 29,
   "id": "3102adcb-cc77-494a-b3cc-f53489916323",
   "metadata": {},
   "outputs": [
    {
     "data": {
      "text/plain": [
       "0    1\n",
       "1    3\n",
       "2    5\n",
       "Name: 0, dtype: int64"
      ]
     },
     "execution_count": 29,
     "metadata": {},
     "output_type": "execute_result"
    }
   ],
   "source": [
    "_df.iloc[:,0]"
   ]
  },
  {
   "cell_type": "code",
   "execution_count": 30,
   "id": "5e448670-33e7-408f-9a2c-8df0f257e505",
   "metadata": {},
   "outputs": [
    {
     "data": {
      "text/html": [
       "<div>\n",
       "<style scoped>\n",
       "    .dataframe tbody tr th:only-of-type {\n",
       "        vertical-align: middle;\n",
       "    }\n",
       "\n",
       "    .dataframe tbody tr th {\n",
       "        vertical-align: top;\n",
       "    }\n",
       "\n",
       "    .dataframe thead th {\n",
       "        text-align: right;\n",
       "    }\n",
       "</style>\n",
       "<table border=\"1\" class=\"dataframe\">\n",
       "  <thead>\n",
       "    <tr style=\"text-align: right;\">\n",
       "      <th></th>\n",
       "      <th>0</th>\n",
       "    </tr>\n",
       "  </thead>\n",
       "  <tbody>\n",
       "    <tr>\n",
       "      <th>0</th>\n",
       "      <td>1</td>\n",
       "    </tr>\n",
       "    <tr>\n",
       "      <th>1</th>\n",
       "      <td>3</td>\n",
       "    </tr>\n",
       "    <tr>\n",
       "      <th>2</th>\n",
       "      <td>5</td>\n",
       "    </tr>\n",
       "  </tbody>\n",
       "</table>\n",
       "</div>"
      ],
      "text/plain": [
       "   0\n",
       "0  1\n",
       "1  3\n",
       "2  5"
      ]
     },
     "execution_count": 30,
     "metadata": {},
     "output_type": "execute_result"
    }
   ],
   "source": [
    "_df.iloc[:,[0]]"
   ]
  },
  {
   "cell_type": "markdown",
   "id": "000db8bc-72dc-481d-9bc6-75e2ce30a6f3",
   "metadata": {},
   "source": [
    "#### 방법 1~9의 요약(교수님의 생각)"
   ]
  },
  {
   "cell_type": "markdown",
   "id": "b8c770ee-9c4d-43c1-9584-ffdf9bef1247",
   "metadata": {},
   "source": [
    "`-` `df.X1`로 열을 선택하는게 간단하고 편리함.\n",
    "- 단점1 : 변수이름을 알고 있어야 한다는 단점이 있음.\n",
    "- 단점2 : 변수이름에 .이 있거나 변수이름에서 공백이 있을경우 사용할 수 없음."
   ]
  },
  {
   "cell_type": "markdown",
   "id": "393921c6-8098-4cfd-a75b-e5dc3c46c916",
   "metadata": {},
   "source": [
    "`-` 언급한 단점의 예시"
   ]
  },
  {
   "cell_type": "code",
   "execution_count": 31,
   "id": "72c76251-4ea4-4381-84db-6d4acfdbba47",
   "metadata": {},
   "outputs": [
    {
     "data": {
      "text/html": [
       "<div>\n",
       "<style scoped>\n",
       "    .dataframe tbody tr th:only-of-type {\n",
       "        vertical-align: middle;\n",
       "    }\n",
       "\n",
       "    .dataframe tbody tr th {\n",
       "        vertical-align: top;\n",
       "    }\n",
       "\n",
       "    .dataframe thead th {\n",
       "        text-align: right;\n",
       "    }\n",
       "</style>\n",
       "<table border=\"1\" class=\"dataframe\">\n",
       "  <thead>\n",
       "    <tr style=\"text-align: right;\">\n",
       "      <th></th>\n",
       "      <th>X.1</th>\n",
       "      <th>X.2</th>\n",
       "      <th>X.3</th>\n",
       "    </tr>\n",
       "  </thead>\n",
       "  <tbody>\n",
       "    <tr>\n",
       "      <th>0</th>\n",
       "      <td>-1.549930</td>\n",
       "      <td>-0.127528</td>\n",
       "      <td>-1.218544</td>\n",
       "    </tr>\n",
       "    <tr>\n",
       "      <th>1</th>\n",
       "      <td>-0.759567</td>\n",
       "      <td>-0.058759</td>\n",
       "      <td>-1.266962</td>\n",
       "    </tr>\n",
       "    <tr>\n",
       "      <th>2</th>\n",
       "      <td>-1.390959</td>\n",
       "      <td>0.182294</td>\n",
       "      <td>0.034370</td>\n",
       "    </tr>\n",
       "    <tr>\n",
       "      <th>3</th>\n",
       "      <td>0.133787</td>\n",
       "      <td>-0.798632</td>\n",
       "      <td>-0.934967</td>\n",
       "    </tr>\n",
       "    <tr>\n",
       "      <th>4</th>\n",
       "      <td>0.671855</td>\n",
       "      <td>-0.464007</td>\n",
       "      <td>-0.785560</td>\n",
       "    </tr>\n",
       "  </tbody>\n",
       "</table>\n",
       "</div>"
      ],
      "text/plain": [
       "        X.1       X.2       X.3\n",
       "0 -1.549930 -0.127528 -1.218544\n",
       "1 -0.759567 -0.058759 -1.266962\n",
       "2 -1.390959  0.182294  0.034370\n",
       "3  0.133787 -0.798632 -0.934967\n",
       "4  0.671855 -0.464007 -0.785560"
      ]
     },
     "execution_count": 31,
     "metadata": {},
     "output_type": "execute_result"
    }
   ],
   "source": [
    "dic={'X.1':np.random.normal(0,1,5),\n",
    "    'X.2':np.random.normal(0,1,5),\n",
    "    'X.3':np.random.normal(0,1,5)}\n",
    "_df=pd.DataFrame(dic)\n",
    "_df"
   ]
  },
  {
   "cell_type": "code",
   "execution_count": 32,
   "id": "df592f94-923d-424e-84d8-669a009722fa",
   "metadata": {},
   "outputs": [
    {
     "data": {
      "text/plain": [
       "0   -1.549930\n",
       "1   -0.759567\n",
       "2   -1.390959\n",
       "3    0.133787\n",
       "4    0.671855\n",
       "Name: X.1, dtype: float64"
      ]
     },
     "execution_count": 32,
     "metadata": {},
     "output_type": "execute_result"
    }
   ],
   "source": [
    "_df['X.1']"
   ]
  },
  {
   "cell_type": "code",
   "execution_count": 33,
   "id": "38712188-65f2-4072-ac3f-c8e66ea318a8",
   "metadata": {},
   "outputs": [],
   "source": [
    "#_df.X.1 =>오류가 난다."
   ]
  },
  {
   "cell_type": "markdown",
   "id": "9fe4a48b-0bec-45fc-91ff-b77ce32d3939",
   "metadata": {},
   "source": [
    "### 예제2: 여러개의 열을 선택"
   ]
  },
  {
   "cell_type": "code",
   "execution_count": 34,
   "id": "b878bca7-50ea-4f9c-9e9d-7e3aecfd98e8",
   "metadata": {},
   "outputs": [
    {
     "data": {
      "text/html": [
       "<div>\n",
       "<style scoped>\n",
       "    .dataframe tbody tr th:only-of-type {\n",
       "        vertical-align: middle;\n",
       "    }\n",
       "\n",
       "    .dataframe tbody tr th {\n",
       "        vertical-align: top;\n",
       "    }\n",
       "\n",
       "    .dataframe thead th {\n",
       "        text-align: right;\n",
       "    }\n",
       "</style>\n",
       "<table border=\"1\" class=\"dataframe\">\n",
       "  <thead>\n",
       "    <tr style=\"text-align: right;\">\n",
       "      <th></th>\n",
       "      <th>X1</th>\n",
       "      <th>X2</th>\n",
       "      <th>X3</th>\n",
       "      <th>X4</th>\n",
       "    </tr>\n",
       "  </thead>\n",
       "  <tbody>\n",
       "    <tr>\n",
       "      <th>0</th>\n",
       "      <td>1.102037</td>\n",
       "      <td>-0.108735</td>\n",
       "      <td>1.026604</td>\n",
       "      <td>0.233034</td>\n",
       "    </tr>\n",
       "    <tr>\n",
       "      <th>1</th>\n",
       "      <td>-0.521908</td>\n",
       "      <td>-0.274667</td>\n",
       "      <td>0.061779</td>\n",
       "      <td>-0.214833</td>\n",
       "    </tr>\n",
       "    <tr>\n",
       "      <th>2</th>\n",
       "      <td>-1.016183</td>\n",
       "      <td>0.248786</td>\n",
       "      <td>-0.252976</td>\n",
       "      <td>0.487853</td>\n",
       "    </tr>\n",
       "    <tr>\n",
       "      <th>3</th>\n",
       "      <td>1.381456</td>\n",
       "      <td>-0.238290</td>\n",
       "      <td>1.940097</td>\n",
       "      <td>-0.071263</td>\n",
       "    </tr>\n",
       "    <tr>\n",
       "      <th>4</th>\n",
       "      <td>-0.668600</td>\n",
       "      <td>-1.280641</td>\n",
       "      <td>2.163691</td>\n",
       "      <td>1.679495</td>\n",
       "    </tr>\n",
       "  </tbody>\n",
       "</table>\n",
       "</div>"
      ],
      "text/plain": [
       "         X1        X2        X3        X4\n",
       "0  1.102037 -0.108735  1.026604  0.233034\n",
       "1 -0.521908 -0.274667  0.061779 -0.214833\n",
       "2 -1.016183  0.248786 -0.252976  0.487853\n",
       "3  1.381456 -0.238290  1.940097 -0.071263\n",
       "4 -0.668600 -1.280641  2.163691  1.679495"
      ]
     },
     "execution_count": 34,
     "metadata": {},
     "output_type": "execute_result"
    }
   ],
   "source": [
    "dic={'X1':np.random.normal(0,1,5),\n",
    "    'X2':np.random.normal(0,1,5),\n",
    "    'X3':np.random.normal(0,1,5),\n",
    "    'X4':np.random.normal(0,1,5)}\n",
    "df=pd.DataFrame(dic)\n",
    "df"
   ]
  },
  {
   "cell_type": "markdown",
   "id": "1ee5b80c-bfbc-4010-8774-0b5b69ba7035",
   "metadata": {},
   "source": [
    "`-` 목표: 1,2,3열을 선택"
   ]
  },
  {
   "cell_type": "markdown",
   "id": "bc8c2838-030d-473d-8c87-3cf1e028f7da",
   "metadata": {},
   "source": [
    "`-` 방법1"
   ]
  },
  {
   "cell_type": "code",
   "execution_count": 35,
   "id": "5de77629-4cd0-4374-834e-3d2fce95b67a",
   "metadata": {},
   "outputs": [
    {
     "data": {
      "text/html": [
       "<div>\n",
       "<style scoped>\n",
       "    .dataframe tbody tr th:only-of-type {\n",
       "        vertical-align: middle;\n",
       "    }\n",
       "\n",
       "    .dataframe tbody tr th {\n",
       "        vertical-align: top;\n",
       "    }\n",
       "\n",
       "    .dataframe thead th {\n",
       "        text-align: right;\n",
       "    }\n",
       "</style>\n",
       "<table border=\"1\" class=\"dataframe\">\n",
       "  <thead>\n",
       "    <tr style=\"text-align: right;\">\n",
       "      <th></th>\n",
       "      <th>X1</th>\n",
       "      <th>X2</th>\n",
       "      <th>X3</th>\n",
       "    </tr>\n",
       "  </thead>\n",
       "  <tbody>\n",
       "    <tr>\n",
       "      <th>0</th>\n",
       "      <td>1.102037</td>\n",
       "      <td>-0.108735</td>\n",
       "      <td>1.026604</td>\n",
       "    </tr>\n",
       "    <tr>\n",
       "      <th>1</th>\n",
       "      <td>-0.521908</td>\n",
       "      <td>-0.274667</td>\n",
       "      <td>0.061779</td>\n",
       "    </tr>\n",
       "    <tr>\n",
       "      <th>2</th>\n",
       "      <td>-1.016183</td>\n",
       "      <td>0.248786</td>\n",
       "      <td>-0.252976</td>\n",
       "    </tr>\n",
       "    <tr>\n",
       "      <th>3</th>\n",
       "      <td>1.381456</td>\n",
       "      <td>-0.238290</td>\n",
       "      <td>1.940097</td>\n",
       "    </tr>\n",
       "    <tr>\n",
       "      <th>4</th>\n",
       "      <td>-0.668600</td>\n",
       "      <td>-1.280641</td>\n",
       "      <td>2.163691</td>\n",
       "    </tr>\n",
       "  </tbody>\n",
       "</table>\n",
       "</div>"
      ],
      "text/plain": [
       "         X1        X2        X3\n",
       "0  1.102037 -0.108735  1.026604\n",
       "1 -0.521908 -0.274667  0.061779\n",
       "2 -1.016183  0.248786 -0.252976\n",
       "3  1.381456 -0.238290  1.940097\n",
       "4 -0.668600 -1.280641  2.163691"
      ]
     },
     "execution_count": 35,
     "metadata": {},
     "output_type": "execute_result"
    }
   ],
   "source": [
    "df[['X1','X2','X3']]"
   ]
  },
  {
   "cell_type": "markdown",
   "id": "3bc3cd64-c6a8-45fa-98fd-1196f8a63d10",
   "metadata": {},
   "source": [
    "`-`방법2"
   ]
  },
  {
   "cell_type": "code",
   "execution_count": 36,
   "id": "6f80fc62-4efb-4ee4-91f6-1141a827f2ce",
   "metadata": {},
   "outputs": [
    {
     "data": {
      "text/html": [
       "<div>\n",
       "<style scoped>\n",
       "    .dataframe tbody tr th:only-of-type {\n",
       "        vertical-align: middle;\n",
       "    }\n",
       "\n",
       "    .dataframe tbody tr th {\n",
       "        vertical-align: top;\n",
       "    }\n",
       "\n",
       "    .dataframe thead th {\n",
       "        text-align: right;\n",
       "    }\n",
       "</style>\n",
       "<table border=\"1\" class=\"dataframe\">\n",
       "  <thead>\n",
       "    <tr style=\"text-align: right;\">\n",
       "      <th></th>\n",
       "      <th>X1</th>\n",
       "      <th>X2</th>\n",
       "      <th>X3</th>\n",
       "    </tr>\n",
       "  </thead>\n",
       "  <tbody>\n",
       "    <tr>\n",
       "      <th>0</th>\n",
       "      <td>1.102037</td>\n",
       "      <td>-0.108735</td>\n",
       "      <td>1.026604</td>\n",
       "    </tr>\n",
       "    <tr>\n",
       "      <th>1</th>\n",
       "      <td>-0.521908</td>\n",
       "      <td>-0.274667</td>\n",
       "      <td>0.061779</td>\n",
       "    </tr>\n",
       "    <tr>\n",
       "      <th>2</th>\n",
       "      <td>-1.016183</td>\n",
       "      <td>0.248786</td>\n",
       "      <td>-0.252976</td>\n",
       "    </tr>\n",
       "    <tr>\n",
       "      <th>3</th>\n",
       "      <td>1.381456</td>\n",
       "      <td>-0.238290</td>\n",
       "      <td>1.940097</td>\n",
       "    </tr>\n",
       "    <tr>\n",
       "      <th>4</th>\n",
       "      <td>-0.668600</td>\n",
       "      <td>-1.280641</td>\n",
       "      <td>2.163691</td>\n",
       "    </tr>\n",
       "  </tbody>\n",
       "</table>\n",
       "</div>"
      ],
      "text/plain": [
       "         X1        X2        X3\n",
       "0  1.102037 -0.108735  1.026604\n",
       "1 -0.521908 -0.274667  0.061779\n",
       "2 -1.016183  0.248786 -0.252976\n",
       "3  1.381456 -0.238290  1.940097\n",
       "4 -0.668600 -1.280641  2.163691"
      ]
     },
     "execution_count": 36,
     "metadata": {},
     "output_type": "execute_result"
    }
   ],
   "source": [
    "df.loc[:,['X1','X2','X3']]"
   ]
  },
  {
   "cell_type": "markdown",
   "id": "0608e799-5ec8-4962-9efb-97a1f070b5fc",
   "metadata": {},
   "source": [
    "`-`방법3"
   ]
  },
  {
   "cell_type": "code",
   "execution_count": 37,
   "id": "cf4361d7-5a93-4ab5-8991-f8c761a073c4",
   "metadata": {},
   "outputs": [
    {
     "data": {
      "text/html": [
       "<div>\n",
       "<style scoped>\n",
       "    .dataframe tbody tr th:only-of-type {\n",
       "        vertical-align: middle;\n",
       "    }\n",
       "\n",
       "    .dataframe tbody tr th {\n",
       "        vertical-align: top;\n",
       "    }\n",
       "\n",
       "    .dataframe thead th {\n",
       "        text-align: right;\n",
       "    }\n",
       "</style>\n",
       "<table border=\"1\" class=\"dataframe\">\n",
       "  <thead>\n",
       "    <tr style=\"text-align: right;\">\n",
       "      <th></th>\n",
       "      <th>X1</th>\n",
       "      <th>X2</th>\n",
       "      <th>X3</th>\n",
       "    </tr>\n",
       "  </thead>\n",
       "  <tbody>\n",
       "    <tr>\n",
       "      <th>0</th>\n",
       "      <td>1.102037</td>\n",
       "      <td>-0.108735</td>\n",
       "      <td>1.026604</td>\n",
       "    </tr>\n",
       "    <tr>\n",
       "      <th>1</th>\n",
       "      <td>-0.521908</td>\n",
       "      <td>-0.274667</td>\n",
       "      <td>0.061779</td>\n",
       "    </tr>\n",
       "    <tr>\n",
       "      <th>2</th>\n",
       "      <td>-1.016183</td>\n",
       "      <td>0.248786</td>\n",
       "      <td>-0.252976</td>\n",
       "    </tr>\n",
       "    <tr>\n",
       "      <th>3</th>\n",
       "      <td>1.381456</td>\n",
       "      <td>-0.238290</td>\n",
       "      <td>1.940097</td>\n",
       "    </tr>\n",
       "    <tr>\n",
       "      <th>4</th>\n",
       "      <td>-0.668600</td>\n",
       "      <td>-1.280641</td>\n",
       "      <td>2.163691</td>\n",
       "    </tr>\n",
       "  </tbody>\n",
       "</table>\n",
       "</div>"
      ],
      "text/plain": [
       "         X1        X2        X3\n",
       "0  1.102037 -0.108735  1.026604\n",
       "1 -0.521908 -0.274667  0.061779\n",
       "2 -1.016183  0.248786 -0.252976\n",
       "3  1.381456 -0.238290  1.940097\n",
       "4 -0.668600 -1.280641  2.163691"
      ]
     },
     "execution_count": 37,
     "metadata": {},
     "output_type": "execute_result"
    }
   ],
   "source": [
    "df.loc[:,'X1':'X3']"
   ]
  },
  {
   "cell_type": "markdown",
   "id": "3bc42936-122e-40c0-8888-9333f8024af8",
   "metadata": {},
   "source": [
    "`-` 방법4"
   ]
  },
  {
   "cell_type": "code",
   "execution_count": 38,
   "id": "54bc4332-274d-44d3-9df4-d2cefca9e61e",
   "metadata": {},
   "outputs": [
    {
     "data": {
      "text/html": [
       "<div>\n",
       "<style scoped>\n",
       "    .dataframe tbody tr th:only-of-type {\n",
       "        vertical-align: middle;\n",
       "    }\n",
       "\n",
       "    .dataframe tbody tr th {\n",
       "        vertical-align: top;\n",
       "    }\n",
       "\n",
       "    .dataframe thead th {\n",
       "        text-align: right;\n",
       "    }\n",
       "</style>\n",
       "<table border=\"1\" class=\"dataframe\">\n",
       "  <thead>\n",
       "    <tr style=\"text-align: right;\">\n",
       "      <th></th>\n",
       "      <th>X1</th>\n",
       "      <th>X2</th>\n",
       "      <th>X3</th>\n",
       "    </tr>\n",
       "  </thead>\n",
       "  <tbody>\n",
       "    <tr>\n",
       "      <th>0</th>\n",
       "      <td>1.102037</td>\n",
       "      <td>-0.108735</td>\n",
       "      <td>1.026604</td>\n",
       "    </tr>\n",
       "    <tr>\n",
       "      <th>1</th>\n",
       "      <td>-0.521908</td>\n",
       "      <td>-0.274667</td>\n",
       "      <td>0.061779</td>\n",
       "    </tr>\n",
       "    <tr>\n",
       "      <th>2</th>\n",
       "      <td>-1.016183</td>\n",
       "      <td>0.248786</td>\n",
       "      <td>-0.252976</td>\n",
       "    </tr>\n",
       "    <tr>\n",
       "      <th>3</th>\n",
       "      <td>1.381456</td>\n",
       "      <td>-0.238290</td>\n",
       "      <td>1.940097</td>\n",
       "    </tr>\n",
       "    <tr>\n",
       "      <th>4</th>\n",
       "      <td>-0.668600</td>\n",
       "      <td>-1.280641</td>\n",
       "      <td>2.163691</td>\n",
       "    </tr>\n",
       "  </tbody>\n",
       "</table>\n",
       "</div>"
      ],
      "text/plain": [
       "         X1        X2        X3\n",
       "0  1.102037 -0.108735  1.026604\n",
       "1 -0.521908 -0.274667  0.061779\n",
       "2 -1.016183  0.248786 -0.252976\n",
       "3  1.381456 -0.238290  1.940097\n",
       "4 -0.668600 -1.280641  2.163691"
      ]
     },
     "execution_count": 38,
     "metadata": {},
     "output_type": "execute_result"
    }
   ],
   "source": [
    "df.loc[:,[True,True,True,False]]"
   ]
  },
  {
   "cell_type": "markdown",
   "id": "f769a404-48ac-4657-9e84-2324080fac2f",
   "metadata": {},
   "source": [
    "`-`방법5"
   ]
  },
  {
   "cell_type": "code",
   "execution_count": 39,
   "id": "90bed5ef-1d1b-4a76-a9f8-6998a855d136",
   "metadata": {},
   "outputs": [
    {
     "data": {
      "text/html": [
       "<div>\n",
       "<style scoped>\n",
       "    .dataframe tbody tr th:only-of-type {\n",
       "        vertical-align: middle;\n",
       "    }\n",
       "\n",
       "    .dataframe tbody tr th {\n",
       "        vertical-align: top;\n",
       "    }\n",
       "\n",
       "    .dataframe thead th {\n",
       "        text-align: right;\n",
       "    }\n",
       "</style>\n",
       "<table border=\"1\" class=\"dataframe\">\n",
       "  <thead>\n",
       "    <tr style=\"text-align: right;\">\n",
       "      <th></th>\n",
       "      <th>X1</th>\n",
       "      <th>X2</th>\n",
       "      <th>X3</th>\n",
       "    </tr>\n",
       "  </thead>\n",
       "  <tbody>\n",
       "    <tr>\n",
       "      <th>0</th>\n",
       "      <td>1.102037</td>\n",
       "      <td>-0.108735</td>\n",
       "      <td>1.026604</td>\n",
       "    </tr>\n",
       "    <tr>\n",
       "      <th>1</th>\n",
       "      <td>-0.521908</td>\n",
       "      <td>-0.274667</td>\n",
       "      <td>0.061779</td>\n",
       "    </tr>\n",
       "    <tr>\n",
       "      <th>2</th>\n",
       "      <td>-1.016183</td>\n",
       "      <td>0.248786</td>\n",
       "      <td>-0.252976</td>\n",
       "    </tr>\n",
       "    <tr>\n",
       "      <th>3</th>\n",
       "      <td>1.381456</td>\n",
       "      <td>-0.238290</td>\n",
       "      <td>1.940097</td>\n",
       "    </tr>\n",
       "    <tr>\n",
       "      <th>4</th>\n",
       "      <td>-0.668600</td>\n",
       "      <td>-1.280641</td>\n",
       "      <td>2.163691</td>\n",
       "    </tr>\n",
       "  </tbody>\n",
       "</table>\n",
       "</div>"
      ],
      "text/plain": [
       "         X1        X2        X3\n",
       "0  1.102037 -0.108735  1.026604\n",
       "1 -0.521908 -0.274667  0.061779\n",
       "2 -1.016183  0.248786 -0.252976\n",
       "3  1.381456 -0.238290  1.940097\n",
       "4 -0.668600 -1.280641  2.163691"
      ]
     },
     "execution_count": 39,
     "metadata": {},
     "output_type": "execute_result"
    }
   ],
   "source": [
    "df.iloc[:,[0,1,2]]"
   ]
  },
  {
   "cell_type": "markdown",
   "id": "6579f284-1e68-4160-b031-e7f0fe5e8626",
   "metadata": {},
   "source": [
    "`-`방법6"
   ]
  },
  {
   "cell_type": "code",
   "execution_count": 40,
   "id": "344cbd63-7c9a-457d-a314-9c9ab91f2b74",
   "metadata": {},
   "outputs": [
    {
     "data": {
      "text/html": [
       "<div>\n",
       "<style scoped>\n",
       "    .dataframe tbody tr th:only-of-type {\n",
       "        vertical-align: middle;\n",
       "    }\n",
       "\n",
       "    .dataframe tbody tr th {\n",
       "        vertical-align: top;\n",
       "    }\n",
       "\n",
       "    .dataframe thead th {\n",
       "        text-align: right;\n",
       "    }\n",
       "</style>\n",
       "<table border=\"1\" class=\"dataframe\">\n",
       "  <thead>\n",
       "    <tr style=\"text-align: right;\">\n",
       "      <th></th>\n",
       "      <th>X1</th>\n",
       "      <th>X2</th>\n",
       "      <th>X3</th>\n",
       "    </tr>\n",
       "  </thead>\n",
       "  <tbody>\n",
       "    <tr>\n",
       "      <th>0</th>\n",
       "      <td>1.102037</td>\n",
       "      <td>-0.108735</td>\n",
       "      <td>1.026604</td>\n",
       "    </tr>\n",
       "    <tr>\n",
       "      <th>1</th>\n",
       "      <td>-0.521908</td>\n",
       "      <td>-0.274667</td>\n",
       "      <td>0.061779</td>\n",
       "    </tr>\n",
       "    <tr>\n",
       "      <th>2</th>\n",
       "      <td>-1.016183</td>\n",
       "      <td>0.248786</td>\n",
       "      <td>-0.252976</td>\n",
       "    </tr>\n",
       "    <tr>\n",
       "      <th>3</th>\n",
       "      <td>1.381456</td>\n",
       "      <td>-0.238290</td>\n",
       "      <td>1.940097</td>\n",
       "    </tr>\n",
       "    <tr>\n",
       "      <th>4</th>\n",
       "      <td>-0.668600</td>\n",
       "      <td>-1.280641</td>\n",
       "      <td>2.163691</td>\n",
       "    </tr>\n",
       "  </tbody>\n",
       "</table>\n",
       "</div>"
      ],
      "text/plain": [
       "         X1        X2        X3\n",
       "0  1.102037 -0.108735  1.026604\n",
       "1 -0.521908 -0.274667  0.061779\n",
       "2 -1.016183  0.248786 -0.252976\n",
       "3  1.381456 -0.238290  1.940097\n",
       "4 -0.668600 -1.280641  2.163691"
      ]
     },
     "execution_count": 40,
     "metadata": {},
     "output_type": "execute_result"
    }
   ],
   "source": [
    "df.iloc[:,:3]"
   ]
  },
  {
   "cell_type": "code",
   "execution_count": 41,
   "id": "f139abbb-5422-4e36-9fe6-10d36e72f1a9",
   "metadata": {},
   "outputs": [
    {
     "data": {
      "text/html": [
       "<div>\n",
       "<style scoped>\n",
       "    .dataframe tbody tr th:only-of-type {\n",
       "        vertical-align: middle;\n",
       "    }\n",
       "\n",
       "    .dataframe tbody tr th {\n",
       "        vertical-align: top;\n",
       "    }\n",
       "\n",
       "    .dataframe thead th {\n",
       "        text-align: right;\n",
       "    }\n",
       "</style>\n",
       "<table border=\"1\" class=\"dataframe\">\n",
       "  <thead>\n",
       "    <tr style=\"text-align: right;\">\n",
       "      <th></th>\n",
       "      <th>X1</th>\n",
       "      <th>X2</th>\n",
       "      <th>X3</th>\n",
       "    </tr>\n",
       "  </thead>\n",
       "  <tbody>\n",
       "    <tr>\n",
       "      <th>0</th>\n",
       "      <td>1.102037</td>\n",
       "      <td>-0.108735</td>\n",
       "      <td>1.026604</td>\n",
       "    </tr>\n",
       "    <tr>\n",
       "      <th>1</th>\n",
       "      <td>-0.521908</td>\n",
       "      <td>-0.274667</td>\n",
       "      <td>0.061779</td>\n",
       "    </tr>\n",
       "    <tr>\n",
       "      <th>2</th>\n",
       "      <td>-1.016183</td>\n",
       "      <td>0.248786</td>\n",
       "      <td>-0.252976</td>\n",
       "    </tr>\n",
       "    <tr>\n",
       "      <th>3</th>\n",
       "      <td>1.381456</td>\n",
       "      <td>-0.238290</td>\n",
       "      <td>1.940097</td>\n",
       "    </tr>\n",
       "    <tr>\n",
       "      <th>4</th>\n",
       "      <td>-0.668600</td>\n",
       "      <td>-1.280641</td>\n",
       "      <td>2.163691</td>\n",
       "    </tr>\n",
       "  </tbody>\n",
       "</table>\n",
       "</div>"
      ],
      "text/plain": [
       "         X1        X2        X3\n",
       "0  1.102037 -0.108735  1.026604\n",
       "1 -0.521908 -0.274667  0.061779\n",
       "2 -1.016183  0.248786 -0.252976\n",
       "3  1.381456 -0.238290  1.940097\n",
       "4 -0.668600 -1.280641  2.163691"
      ]
     },
     "execution_count": 41,
     "metadata": {},
     "output_type": "execute_result"
    }
   ],
   "source": [
    "df.iloc[:,0:3]"
   ]
  },
  {
   "cell_type": "code",
   "execution_count": 42,
   "id": "a43b3b3f-cfd6-4429-943c-ab402255abab",
   "metadata": {},
   "outputs": [
    {
     "data": {
      "text/html": [
       "<div>\n",
       "<style scoped>\n",
       "    .dataframe tbody tr th:only-of-type {\n",
       "        vertical-align: middle;\n",
       "    }\n",
       "\n",
       "    .dataframe tbody tr th {\n",
       "        vertical-align: top;\n",
       "    }\n",
       "\n",
       "    .dataframe thead th {\n",
       "        text-align: right;\n",
       "    }\n",
       "</style>\n",
       "<table border=\"1\" class=\"dataframe\">\n",
       "  <thead>\n",
       "    <tr style=\"text-align: right;\">\n",
       "      <th></th>\n",
       "      <th>X1</th>\n",
       "      <th>X2</th>\n",
       "      <th>X3</th>\n",
       "    </tr>\n",
       "  </thead>\n",
       "  <tbody>\n",
       "    <tr>\n",
       "      <th>0</th>\n",
       "      <td>1.102037</td>\n",
       "      <td>-0.108735</td>\n",
       "      <td>1.026604</td>\n",
       "    </tr>\n",
       "    <tr>\n",
       "      <th>1</th>\n",
       "      <td>-0.521908</td>\n",
       "      <td>-0.274667</td>\n",
       "      <td>0.061779</td>\n",
       "    </tr>\n",
       "    <tr>\n",
       "      <th>2</th>\n",
       "      <td>-1.016183</td>\n",
       "      <td>0.248786</td>\n",
       "      <td>-0.252976</td>\n",
       "    </tr>\n",
       "    <tr>\n",
       "      <th>3</th>\n",
       "      <td>1.381456</td>\n",
       "      <td>-0.238290</td>\n",
       "      <td>1.940097</td>\n",
       "    </tr>\n",
       "    <tr>\n",
       "      <th>4</th>\n",
       "      <td>-0.668600</td>\n",
       "      <td>-1.280641</td>\n",
       "      <td>2.163691</td>\n",
       "    </tr>\n",
       "  </tbody>\n",
       "</table>\n",
       "</div>"
      ],
      "text/plain": [
       "         X1        X2        X3\n",
       "0  1.102037 -0.108735  1.026604\n",
       "1 -0.521908 -0.274667  0.061779\n",
       "2 -1.016183  0.248786 -0.252976\n",
       "3  1.381456 -0.238290  1.940097\n",
       "4 -0.668600 -1.280641  2.163691"
      ]
     },
     "execution_count": 42,
     "metadata": {},
     "output_type": "execute_result"
    }
   ],
   "source": [
    "df.iloc[:,range(3)]"
   ]
  },
  {
   "cell_type": "code",
   "execution_count": 43,
   "id": "946412d4-0fce-4bc6-9711-4e63d1da2ba7",
   "metadata": {},
   "outputs": [
    {
     "data": {
      "text/html": [
       "<div>\n",
       "<style scoped>\n",
       "    .dataframe tbody tr th:only-of-type {\n",
       "        vertical-align: middle;\n",
       "    }\n",
       "\n",
       "    .dataframe tbody tr th {\n",
       "        vertical-align: top;\n",
       "    }\n",
       "\n",
       "    .dataframe thead th {\n",
       "        text-align: right;\n",
       "    }\n",
       "</style>\n",
       "<table border=\"1\" class=\"dataframe\">\n",
       "  <thead>\n",
       "    <tr style=\"text-align: right;\">\n",
       "      <th></th>\n",
       "      <th>X1</th>\n",
       "      <th>X2</th>\n",
       "      <th>X3</th>\n",
       "    </tr>\n",
       "  </thead>\n",
       "  <tbody>\n",
       "    <tr>\n",
       "      <th>0</th>\n",
       "      <td>1.102037</td>\n",
       "      <td>-0.108735</td>\n",
       "      <td>1.026604</td>\n",
       "    </tr>\n",
       "    <tr>\n",
       "      <th>1</th>\n",
       "      <td>-0.521908</td>\n",
       "      <td>-0.274667</td>\n",
       "      <td>0.061779</td>\n",
       "    </tr>\n",
       "    <tr>\n",
       "      <th>2</th>\n",
       "      <td>-1.016183</td>\n",
       "      <td>0.248786</td>\n",
       "      <td>-0.252976</td>\n",
       "    </tr>\n",
       "    <tr>\n",
       "      <th>3</th>\n",
       "      <td>1.381456</td>\n",
       "      <td>-0.238290</td>\n",
       "      <td>1.940097</td>\n",
       "    </tr>\n",
       "    <tr>\n",
       "      <th>4</th>\n",
       "      <td>-0.668600</td>\n",
       "      <td>-1.280641</td>\n",
       "      <td>2.163691</td>\n",
       "    </tr>\n",
       "  </tbody>\n",
       "</table>\n",
       "</div>"
      ],
      "text/plain": [
       "         X1        X2        X3\n",
       "0  1.102037 -0.108735  1.026604\n",
       "1 -0.521908 -0.274667  0.061779\n",
       "2 -1.016183  0.248786 -0.252976\n",
       "3  1.381456 -0.238290  1.940097\n",
       "4 -0.668600 -1.280641  2.163691"
      ]
     },
     "execution_count": 43,
     "metadata": {},
     "output_type": "execute_result"
    }
   ],
   "source": [
    "df.iloc[:,list(range(3))]"
   ]
  },
  {
   "cell_type": "markdown",
   "id": "cd936fc9-bc8e-4a5f-80a0-54c59fef9e51",
   "metadata": {},
   "source": [
    "`-`방법7"
   ]
  },
  {
   "cell_type": "code",
   "execution_count": 44,
   "id": "930676e2-1d53-4dcd-af25-581da0ec1cbe",
   "metadata": {},
   "outputs": [
    {
     "data": {
      "text/html": [
       "<div>\n",
       "<style scoped>\n",
       "    .dataframe tbody tr th:only-of-type {\n",
       "        vertical-align: middle;\n",
       "    }\n",
       "\n",
       "    .dataframe tbody tr th {\n",
       "        vertical-align: top;\n",
       "    }\n",
       "\n",
       "    .dataframe thead th {\n",
       "        text-align: right;\n",
       "    }\n",
       "</style>\n",
       "<table border=\"1\" class=\"dataframe\">\n",
       "  <thead>\n",
       "    <tr style=\"text-align: right;\">\n",
       "      <th></th>\n",
       "      <th>X1</th>\n",
       "      <th>X2</th>\n",
       "      <th>X3</th>\n",
       "    </tr>\n",
       "  </thead>\n",
       "  <tbody>\n",
       "    <tr>\n",
       "      <th>0</th>\n",
       "      <td>1.102037</td>\n",
       "      <td>-0.108735</td>\n",
       "      <td>1.026604</td>\n",
       "    </tr>\n",
       "    <tr>\n",
       "      <th>1</th>\n",
       "      <td>-0.521908</td>\n",
       "      <td>-0.274667</td>\n",
       "      <td>0.061779</td>\n",
       "    </tr>\n",
       "    <tr>\n",
       "      <th>2</th>\n",
       "      <td>-1.016183</td>\n",
       "      <td>0.248786</td>\n",
       "      <td>-0.252976</td>\n",
       "    </tr>\n",
       "    <tr>\n",
       "      <th>3</th>\n",
       "      <td>1.381456</td>\n",
       "      <td>-0.238290</td>\n",
       "      <td>1.940097</td>\n",
       "    </tr>\n",
       "    <tr>\n",
       "      <th>4</th>\n",
       "      <td>-0.668600</td>\n",
       "      <td>-1.280641</td>\n",
       "      <td>2.163691</td>\n",
       "    </tr>\n",
       "  </tbody>\n",
       "</table>\n",
       "</div>"
      ],
      "text/plain": [
       "         X1        X2        X3\n",
       "0  1.102037 -0.108735  1.026604\n",
       "1 -0.521908 -0.274667  0.061779\n",
       "2 -1.016183  0.248786 -0.252976\n",
       "3  1.381456 -0.238290  1.940097\n",
       "4 -0.668600 -1.280641  2.163691"
      ]
     },
     "execution_count": 44,
     "metadata": {},
     "output_type": "execute_result"
    }
   ],
   "source": [
    "df.iloc[:,[True,True,True,False]]"
   ]
  },
  {
   "cell_type": "markdown",
   "id": "0533ae1d-7aa2-4a08-ac42-98597941e371",
   "metadata": {},
   "source": [
    "**(주의) loc에서의 슬라이싱은 마지막변수를 포함하지만 iloc에서는 포함하지 않음**"
   ]
  },
  {
   "cell_type": "markdown",
   "id": "d5dd4298-2ad4-414a-bd40-3bf2908fb203",
   "metadata": {},
   "source": [
    "`-`아래를 비교하라."
   ]
  },
  {
   "cell_type": "code",
   "execution_count": 45,
   "id": "b5c68101-6b97-425c-8203-ef8992ec83ce",
   "metadata": {},
   "outputs": [
    {
     "data": {
      "text/html": [
       "<div>\n",
       "<style scoped>\n",
       "    .dataframe tbody tr th:only-of-type {\n",
       "        vertical-align: middle;\n",
       "    }\n",
       "\n",
       "    .dataframe tbody tr th {\n",
       "        vertical-align: top;\n",
       "    }\n",
       "\n",
       "    .dataframe thead th {\n",
       "        text-align: right;\n",
       "    }\n",
       "</style>\n",
       "<table border=\"1\" class=\"dataframe\">\n",
       "  <thead>\n",
       "    <tr style=\"text-align: right;\">\n",
       "      <th></th>\n",
       "      <th>X1</th>\n",
       "      <th>X2</th>\n",
       "      <th>X3</th>\n",
       "    </tr>\n",
       "  </thead>\n",
       "  <tbody>\n",
       "    <tr>\n",
       "      <th>0</th>\n",
       "      <td>1.102037</td>\n",
       "      <td>-0.108735</td>\n",
       "      <td>1.026604</td>\n",
       "    </tr>\n",
       "    <tr>\n",
       "      <th>1</th>\n",
       "      <td>-0.521908</td>\n",
       "      <td>-0.274667</td>\n",
       "      <td>0.061779</td>\n",
       "    </tr>\n",
       "    <tr>\n",
       "      <th>2</th>\n",
       "      <td>-1.016183</td>\n",
       "      <td>0.248786</td>\n",
       "      <td>-0.252976</td>\n",
       "    </tr>\n",
       "    <tr>\n",
       "      <th>3</th>\n",
       "      <td>1.381456</td>\n",
       "      <td>-0.238290</td>\n",
       "      <td>1.940097</td>\n",
       "    </tr>\n",
       "    <tr>\n",
       "      <th>4</th>\n",
       "      <td>-0.668600</td>\n",
       "      <td>-1.280641</td>\n",
       "      <td>2.163691</td>\n",
       "    </tr>\n",
       "  </tbody>\n",
       "</table>\n",
       "</div>"
      ],
      "text/plain": [
       "         X1        X2        X3\n",
       "0  1.102037 -0.108735  1.026604\n",
       "1 -0.521908 -0.274667  0.061779\n",
       "2 -1.016183  0.248786 -0.252976\n",
       "3  1.381456 -0.238290  1.940097\n",
       "4 -0.668600 -1.280641  2.163691"
      ]
     },
     "execution_count": 45,
     "metadata": {},
     "output_type": "execute_result"
    }
   ],
   "source": [
    "df.iloc[:,0:3] ##0,1,2,3중 3은 포함되지 않는다.(0,1,2)"
   ]
  },
  {
   "cell_type": "code",
   "execution_count": 46,
   "id": "7bb02ab0-daa8-40b3-a0bc-312e8314bcd4",
   "metadata": {},
   "outputs": [
    {
     "data": {
      "text/html": [
       "<div>\n",
       "<style scoped>\n",
       "    .dataframe tbody tr th:only-of-type {\n",
       "        vertical-align: middle;\n",
       "    }\n",
       "\n",
       "    .dataframe tbody tr th {\n",
       "        vertical-align: top;\n",
       "    }\n",
       "\n",
       "    .dataframe thead th {\n",
       "        text-align: right;\n",
       "    }\n",
       "</style>\n",
       "<table border=\"1\" class=\"dataframe\">\n",
       "  <thead>\n",
       "    <tr style=\"text-align: right;\">\n",
       "      <th></th>\n",
       "      <th>X1</th>\n",
       "      <th>X2</th>\n",
       "      <th>X3</th>\n",
       "    </tr>\n",
       "  </thead>\n",
       "  <tbody>\n",
       "    <tr>\n",
       "      <th>0</th>\n",
       "      <td>1.102037</td>\n",
       "      <td>-0.108735</td>\n",
       "      <td>1.026604</td>\n",
       "    </tr>\n",
       "    <tr>\n",
       "      <th>1</th>\n",
       "      <td>-0.521908</td>\n",
       "      <td>-0.274667</td>\n",
       "      <td>0.061779</td>\n",
       "    </tr>\n",
       "    <tr>\n",
       "      <th>2</th>\n",
       "      <td>-1.016183</td>\n",
       "      <td>0.248786</td>\n",
       "      <td>-0.252976</td>\n",
       "    </tr>\n",
       "    <tr>\n",
       "      <th>3</th>\n",
       "      <td>1.381456</td>\n",
       "      <td>-0.238290</td>\n",
       "      <td>1.940097</td>\n",
       "    </tr>\n",
       "    <tr>\n",
       "      <th>4</th>\n",
       "      <td>-0.668600</td>\n",
       "      <td>-1.280641</td>\n",
       "      <td>2.163691</td>\n",
       "    </tr>\n",
       "  </tbody>\n",
       "</table>\n",
       "</div>"
      ],
      "text/plain": [
       "         X1        X2        X3\n",
       "0  1.102037 -0.108735  1.026604\n",
       "1 -0.521908 -0.274667  0.061779\n",
       "2 -1.016183  0.248786 -0.252976\n",
       "3  1.381456 -0.238290  1.940097\n",
       "4 -0.668600 -1.280641  2.163691"
      ]
     },
     "execution_count": 46,
     "metadata": {},
     "output_type": "execute_result"
    }
   ],
   "source": [
    "df.loc[:,'X1':'X3'] ## 'X3도 포함된다.'"
   ]
  },
  {
   "cell_type": "markdown",
   "id": "639232c7-7f2a-448d-8c24-93cb85524b9e",
   "metadata": {},
   "source": [
    "`-` 그래서 column의 이름이 integer일 경우는 매우 종종 헷갈리는 일이 일어남"
   ]
  },
  {
   "cell_type": "code",
   "execution_count": 47,
   "id": "f50de31b-701e-46ad-93e9-3cfeb949e093",
   "metadata": {},
   "outputs": [
    {
     "data": {
      "text/html": [
       "<div>\n",
       "<style scoped>\n",
       "    .dataframe tbody tr th:only-of-type {\n",
       "        vertical-align: middle;\n",
       "    }\n",
       "\n",
       "    .dataframe tbody tr th {\n",
       "        vertical-align: top;\n",
       "    }\n",
       "\n",
       "    .dataframe thead th {\n",
       "        text-align: right;\n",
       "    }\n",
       "</style>\n",
       "<table border=\"1\" class=\"dataframe\">\n",
       "  <thead>\n",
       "    <tr style=\"text-align: right;\">\n",
       "      <th></th>\n",
       "      <th>0</th>\n",
       "      <th>1</th>\n",
       "      <th>2</th>\n",
       "      <th>3</th>\n",
       "    </tr>\n",
       "  </thead>\n",
       "  <tbody>\n",
       "    <tr>\n",
       "      <th>0</th>\n",
       "      <td>1</td>\n",
       "      <td>2</td>\n",
       "      <td>3</td>\n",
       "      <td>4</td>\n",
       "    </tr>\n",
       "    <tr>\n",
       "      <th>1</th>\n",
       "      <td>3</td>\n",
       "      <td>4</td>\n",
       "      <td>5</td>\n",
       "      <td>6</td>\n",
       "    </tr>\n",
       "    <tr>\n",
       "      <th>2</th>\n",
       "      <td>5</td>\n",
       "      <td>6</td>\n",
       "      <td>7</td>\n",
       "      <td>8</td>\n",
       "    </tr>\n",
       "  </tbody>\n",
       "</table>\n",
       "</div>"
      ],
      "text/plain": [
       "   0  1  2  3\n",
       "0  1  2  3  4\n",
       "1  3  4  5  6\n",
       "2  5  6  7  8"
      ]
     },
     "execution_count": 47,
     "metadata": {},
     "output_type": "execute_result"
    }
   ],
   "source": [
    "_df = pd.DataFrame(np.array([[1,2,3,4],[3,4,5,6],[5,6,7,8]]))\n",
    "_df"
   ]
  },
  {
   "cell_type": "code",
   "execution_count": 48,
   "id": "4d6d155a-3ac5-4fe4-b456-de23f4602bd9",
   "metadata": {},
   "outputs": [
    {
     "data": {
      "text/html": [
       "<div>\n",
       "<style scoped>\n",
       "    .dataframe tbody tr th:only-of-type {\n",
       "        vertical-align: middle;\n",
       "    }\n",
       "\n",
       "    .dataframe tbody tr th {\n",
       "        vertical-align: top;\n",
       "    }\n",
       "\n",
       "    .dataframe thead th {\n",
       "        text-align: right;\n",
       "    }\n",
       "</style>\n",
       "<table border=\"1\" class=\"dataframe\">\n",
       "  <thead>\n",
       "    <tr style=\"text-align: right;\">\n",
       "      <th></th>\n",
       "      <th>0</th>\n",
       "      <th>1</th>\n",
       "      <th>2</th>\n",
       "    </tr>\n",
       "  </thead>\n",
       "  <tbody>\n",
       "    <tr>\n",
       "      <th>0</th>\n",
       "      <td>1</td>\n",
       "      <td>2</td>\n",
       "      <td>3</td>\n",
       "    </tr>\n",
       "    <tr>\n",
       "      <th>1</th>\n",
       "      <td>3</td>\n",
       "      <td>4</td>\n",
       "      <td>5</td>\n",
       "    </tr>\n",
       "    <tr>\n",
       "      <th>2</th>\n",
       "      <td>5</td>\n",
       "      <td>6</td>\n",
       "      <td>7</td>\n",
       "    </tr>\n",
       "  </tbody>\n",
       "</table>\n",
       "</div>"
      ],
      "text/plain": [
       "   0  1  2\n",
       "0  1  2  3\n",
       "1  3  4  5\n",
       "2  5  6  7"
      ]
     },
     "execution_count": 48,
     "metadata": {},
     "output_type": "execute_result"
    }
   ],
   "source": [
    "_df.loc[:,0:2]"
   ]
  },
  {
   "cell_type": "code",
   "execution_count": 49,
   "id": "aff47b82-02fe-482a-b6f2-b80f27371e05",
   "metadata": {},
   "outputs": [
    {
     "data": {
      "text/html": [
       "<div>\n",
       "<style scoped>\n",
       "    .dataframe tbody tr th:only-of-type {\n",
       "        vertical-align: middle;\n",
       "    }\n",
       "\n",
       "    .dataframe tbody tr th {\n",
       "        vertical-align: top;\n",
       "    }\n",
       "\n",
       "    .dataframe thead th {\n",
       "        text-align: right;\n",
       "    }\n",
       "</style>\n",
       "<table border=\"1\" class=\"dataframe\">\n",
       "  <thead>\n",
       "    <tr style=\"text-align: right;\">\n",
       "      <th></th>\n",
       "      <th>0</th>\n",
       "      <th>1</th>\n",
       "    </tr>\n",
       "  </thead>\n",
       "  <tbody>\n",
       "    <tr>\n",
       "      <th>0</th>\n",
       "      <td>1</td>\n",
       "      <td>2</td>\n",
       "    </tr>\n",
       "    <tr>\n",
       "      <th>1</th>\n",
       "      <td>3</td>\n",
       "      <td>4</td>\n",
       "    </tr>\n",
       "    <tr>\n",
       "      <th>2</th>\n",
       "      <td>5</td>\n",
       "      <td>6</td>\n",
       "    </tr>\n",
       "  </tbody>\n",
       "</table>\n",
       "</div>"
      ],
      "text/plain": [
       "   0  1\n",
       "0  1  2\n",
       "1  3  4\n",
       "2  5  6"
      ]
     },
     "execution_count": 49,
     "metadata": {},
     "output_type": "execute_result"
    }
   ],
   "source": [
    "_df.iloc[:,0:2] #0,1만 포함돼서 나옴"
   ]
  },
  {
   "cell_type": "markdown",
   "id": "5b75a583-19a7-4559-a6a2-99e92f549d35",
   "metadata": {},
   "source": [
    "> Note: 사실 이것은 일부러 헷갈리게 예제를 구성한 것이다. 실제로는 헷갈리는 상황이 자주 발생하지 않는다.\n",
    "    \n",
    "    왜냐하면 보통 위와 같은 형태의 자료는 ndarray로 처리하고 colname이 있는 경우만 데이터프레임으로 처리하기 때문이다."
   ]
  },
  {
   "cell_type": "markdown",
   "id": "1621969e-3dda-4944-9cba-79cdb30a7bbe",
   "metadata": {},
   "source": [
    "#### 예제 3: Movie data - 특정조건에 맞는 열을 선택"
   ]
  },
  {
   "cell_type": "code",
   "execution_count": 50,
   "id": "f555f0b6-6f93-422b-99a0-04deb344eea1",
   "metadata": {},
   "outputs": [
    {
     "data": {
      "text/html": [
       "<div>\n",
       "<style scoped>\n",
       "    .dataframe tbody tr th:only-of-type {\n",
       "        vertical-align: middle;\n",
       "    }\n",
       "\n",
       "    .dataframe tbody tr th {\n",
       "        vertical-align: top;\n",
       "    }\n",
       "\n",
       "    .dataframe thead th {\n",
       "        text-align: right;\n",
       "    }\n",
       "</style>\n",
       "<table border=\"1\" class=\"dataframe\">\n",
       "  <thead>\n",
       "    <tr style=\"text-align: right;\">\n",
       "      <th></th>\n",
       "      <th>color</th>\n",
       "      <th>director_name</th>\n",
       "      <th>num_critic_for_reviews</th>\n",
       "      <th>duration</th>\n",
       "      <th>director_facebook_likes</th>\n",
       "      <th>actor_3_facebook_likes</th>\n",
       "      <th>actor_2_name</th>\n",
       "      <th>actor_1_facebook_likes</th>\n",
       "      <th>gross</th>\n",
       "      <th>genres</th>\n",
       "      <th>...</th>\n",
       "      <th>num_user_for_reviews</th>\n",
       "      <th>language</th>\n",
       "      <th>country</th>\n",
       "      <th>content_rating</th>\n",
       "      <th>budget</th>\n",
       "      <th>title_year</th>\n",
       "      <th>actor_2_facebook_likes</th>\n",
       "      <th>imdb_score</th>\n",
       "      <th>aspect_ratio</th>\n",
       "      <th>movie_facebook_likes</th>\n",
       "    </tr>\n",
       "  </thead>\n",
       "  <tbody>\n",
       "    <tr>\n",
       "      <th>0</th>\n",
       "      <td>Color</td>\n",
       "      <td>James Cameron</td>\n",
       "      <td>723.0</td>\n",
       "      <td>178.0</td>\n",
       "      <td>0.0</td>\n",
       "      <td>855.0</td>\n",
       "      <td>Joel David Moore</td>\n",
       "      <td>1000.0</td>\n",
       "      <td>760505847.0</td>\n",
       "      <td>Action|Adventure|Fantasy|Sci-Fi</td>\n",
       "      <td>...</td>\n",
       "      <td>3054.0</td>\n",
       "      <td>English</td>\n",
       "      <td>USA</td>\n",
       "      <td>PG-13</td>\n",
       "      <td>237000000.0</td>\n",
       "      <td>2009.0</td>\n",
       "      <td>936.0</td>\n",
       "      <td>7.9</td>\n",
       "      <td>1.78</td>\n",
       "      <td>33000</td>\n",
       "    </tr>\n",
       "    <tr>\n",
       "      <th>1</th>\n",
       "      <td>Color</td>\n",
       "      <td>Gore Verbinski</td>\n",
       "      <td>302.0</td>\n",
       "      <td>169.0</td>\n",
       "      <td>563.0</td>\n",
       "      <td>1000.0</td>\n",
       "      <td>Orlando Bloom</td>\n",
       "      <td>40000.0</td>\n",
       "      <td>309404152.0</td>\n",
       "      <td>Action|Adventure|Fantasy</td>\n",
       "      <td>...</td>\n",
       "      <td>1238.0</td>\n",
       "      <td>English</td>\n",
       "      <td>USA</td>\n",
       "      <td>PG-13</td>\n",
       "      <td>300000000.0</td>\n",
       "      <td>2007.0</td>\n",
       "      <td>5000.0</td>\n",
       "      <td>7.1</td>\n",
       "      <td>2.35</td>\n",
       "      <td>0</td>\n",
       "    </tr>\n",
       "    <tr>\n",
       "      <th>2</th>\n",
       "      <td>Color</td>\n",
       "      <td>Sam Mendes</td>\n",
       "      <td>602.0</td>\n",
       "      <td>148.0</td>\n",
       "      <td>0.0</td>\n",
       "      <td>161.0</td>\n",
       "      <td>Rory Kinnear</td>\n",
       "      <td>11000.0</td>\n",
       "      <td>200074175.0</td>\n",
       "      <td>Action|Adventure|Thriller</td>\n",
       "      <td>...</td>\n",
       "      <td>994.0</td>\n",
       "      <td>English</td>\n",
       "      <td>UK</td>\n",
       "      <td>PG-13</td>\n",
       "      <td>245000000.0</td>\n",
       "      <td>2015.0</td>\n",
       "      <td>393.0</td>\n",
       "      <td>6.8</td>\n",
       "      <td>2.35</td>\n",
       "      <td>85000</td>\n",
       "    </tr>\n",
       "    <tr>\n",
       "      <th>3</th>\n",
       "      <td>Color</td>\n",
       "      <td>Christopher Nolan</td>\n",
       "      <td>813.0</td>\n",
       "      <td>164.0</td>\n",
       "      <td>22000.0</td>\n",
       "      <td>23000.0</td>\n",
       "      <td>Christian Bale</td>\n",
       "      <td>27000.0</td>\n",
       "      <td>448130642.0</td>\n",
       "      <td>Action|Thriller</td>\n",
       "      <td>...</td>\n",
       "      <td>2701.0</td>\n",
       "      <td>English</td>\n",
       "      <td>USA</td>\n",
       "      <td>PG-13</td>\n",
       "      <td>250000000.0</td>\n",
       "      <td>2012.0</td>\n",
       "      <td>23000.0</td>\n",
       "      <td>8.5</td>\n",
       "      <td>2.35</td>\n",
       "      <td>164000</td>\n",
       "    </tr>\n",
       "    <tr>\n",
       "      <th>4</th>\n",
       "      <td>NaN</td>\n",
       "      <td>Doug Walker</td>\n",
       "      <td>NaN</td>\n",
       "      <td>NaN</td>\n",
       "      <td>131.0</td>\n",
       "      <td>NaN</td>\n",
       "      <td>Rob Walker</td>\n",
       "      <td>131.0</td>\n",
       "      <td>NaN</td>\n",
       "      <td>Documentary</td>\n",
       "      <td>...</td>\n",
       "      <td>NaN</td>\n",
       "      <td>NaN</td>\n",
       "      <td>NaN</td>\n",
       "      <td>NaN</td>\n",
       "      <td>NaN</td>\n",
       "      <td>NaN</td>\n",
       "      <td>12.0</td>\n",
       "      <td>7.1</td>\n",
       "      <td>NaN</td>\n",
       "      <td>0</td>\n",
       "    </tr>\n",
       "  </tbody>\n",
       "</table>\n",
       "<p>5 rows × 28 columns</p>\n",
       "</div>"
      ],
      "text/plain": [
       "   color      director_name  num_critic_for_reviews  duration  \\\n",
       "0  Color      James Cameron                   723.0     178.0   \n",
       "1  Color     Gore Verbinski                   302.0     169.0   \n",
       "2  Color         Sam Mendes                   602.0     148.0   \n",
       "3  Color  Christopher Nolan                   813.0     164.0   \n",
       "4    NaN        Doug Walker                     NaN       NaN   \n",
       "\n",
       "   director_facebook_likes  actor_3_facebook_likes      actor_2_name  \\\n",
       "0                      0.0                   855.0  Joel David Moore   \n",
       "1                    563.0                  1000.0     Orlando Bloom   \n",
       "2                      0.0                   161.0      Rory Kinnear   \n",
       "3                  22000.0                 23000.0    Christian Bale   \n",
       "4                    131.0                     NaN        Rob Walker   \n",
       "\n",
       "   actor_1_facebook_likes        gross                           genres  ...  \\\n",
       "0                  1000.0  760505847.0  Action|Adventure|Fantasy|Sci-Fi  ...   \n",
       "1                 40000.0  309404152.0         Action|Adventure|Fantasy  ...   \n",
       "2                 11000.0  200074175.0        Action|Adventure|Thriller  ...   \n",
       "3                 27000.0  448130642.0                  Action|Thriller  ...   \n",
       "4                   131.0          NaN                      Documentary  ...   \n",
       "\n",
       "  num_user_for_reviews language  country  content_rating       budget  \\\n",
       "0               3054.0  English      USA           PG-13  237000000.0   \n",
       "1               1238.0  English      USA           PG-13  300000000.0   \n",
       "2                994.0  English       UK           PG-13  245000000.0   \n",
       "3               2701.0  English      USA           PG-13  250000000.0   \n",
       "4                  NaN      NaN      NaN             NaN          NaN   \n",
       "\n",
       "   title_year actor_2_facebook_likes imdb_score  aspect_ratio  \\\n",
       "0      2009.0                  936.0        7.9          1.78   \n",
       "1      2007.0                 5000.0        7.1          2.35   \n",
       "2      2015.0                  393.0        6.8          2.35   \n",
       "3      2012.0                23000.0        8.5          2.35   \n",
       "4         NaN                   12.0        7.1           NaN   \n",
       "\n",
       "  movie_facebook_likes  \n",
       "0                33000  \n",
       "1                    0  \n",
       "2                85000  \n",
       "3               164000  \n",
       "4                    0  \n",
       "\n",
       "[5 rows x 28 columns]"
      ]
     },
     "execution_count": 50,
     "metadata": {},
     "output_type": "execute_result"
    }
   ],
   "source": [
    "df=pd.read_csv('https://raw.githubusercontent.com/PacktPublishing/Pandas-Cookbook/master/data/movie.csv')\n",
    "df.head()"
   ]
  },
  {
   "cell_type": "code",
   "execution_count": 51,
   "id": "fe6353d1-6004-41af-8feb-795ea842cfc8",
   "metadata": {},
   "outputs": [
    {
     "data": {
      "text/plain": [
       "Index(['color', 'director_name', 'num_critic_for_reviews', 'duration',\n",
       "       'director_facebook_likes', 'actor_3_facebook_likes', 'actor_2_name',\n",
       "       'actor_1_facebook_likes', 'gross', 'genres', 'actor_1_name',\n",
       "       'movie_title', 'num_voted_users', 'cast_total_facebook_likes',\n",
       "       'actor_3_name', 'facenumber_in_poster', 'plot_keywords',\n",
       "       'movie_imdb_link', 'num_user_for_reviews', 'language', 'country',\n",
       "       'content_rating', 'budget', 'title_year', 'actor_2_facebook_likes',\n",
       "       'imdb_score', 'aspect_ratio', 'movie_facebook_likes'],\n",
       "      dtype='object')"
      ]
     },
     "execution_count": 51,
     "metadata": {},
     "output_type": "execute_result"
    }
   ],
   "source": [
    "df.columns"
   ]
  },
  {
   "cell_type": "markdown",
   "id": "aefeb889-bba7-43ed-a92a-a8ff004ce336",
   "metadata": {},
   "source": [
    "`-` color ~ num_voted_user를 뽑고 + aspect_ratio도 추가적으로 뽑고싶다."
   ]
  },
  {
   "cell_type": "code",
   "execution_count": 52,
   "id": "11c33f15-476b-4a87-9da9-8b260f02d37c",
   "metadata": {},
   "outputs": [
    {
     "data": {
      "text/html": [
       "<div>\n",
       "<style scoped>\n",
       "    .dataframe tbody tr th:only-of-type {\n",
       "        vertical-align: middle;\n",
       "    }\n",
       "\n",
       "    .dataframe tbody tr th {\n",
       "        vertical-align: top;\n",
       "    }\n",
       "\n",
       "    .dataframe thead th {\n",
       "        text-align: right;\n",
       "    }\n",
       "</style>\n",
       "<table border=\"1\" class=\"dataframe\">\n",
       "  <thead>\n",
       "    <tr style=\"text-align: right;\">\n",
       "      <th></th>\n",
       "      <th>color</th>\n",
       "      <th>director_name</th>\n",
       "      <th>num_critic_for_reviews</th>\n",
       "      <th>duration</th>\n",
       "      <th>director_facebook_likes</th>\n",
       "      <th>actor_3_facebook_likes</th>\n",
       "      <th>actor_2_name</th>\n",
       "      <th>actor_1_facebook_likes</th>\n",
       "      <th>gross</th>\n",
       "      <th>genres</th>\n",
       "      <th>actor_1_name</th>\n",
       "      <th>movie_title</th>\n",
       "      <th>num_voted_users</th>\n",
       "    </tr>\n",
       "  </thead>\n",
       "  <tbody>\n",
       "    <tr>\n",
       "      <th>0</th>\n",
       "      <td>Color</td>\n",
       "      <td>James Cameron</td>\n",
       "      <td>723.0</td>\n",
       "      <td>178.0</td>\n",
       "      <td>0.0</td>\n",
       "      <td>855.0</td>\n",
       "      <td>Joel David Moore</td>\n",
       "      <td>1000.0</td>\n",
       "      <td>760505847.0</td>\n",
       "      <td>Action|Adventure|Fantasy|Sci-Fi</td>\n",
       "      <td>CCH Pounder</td>\n",
       "      <td>Avatar</td>\n",
       "      <td>886204</td>\n",
       "    </tr>\n",
       "    <tr>\n",
       "      <th>1</th>\n",
       "      <td>Color</td>\n",
       "      <td>Gore Verbinski</td>\n",
       "      <td>302.0</td>\n",
       "      <td>169.0</td>\n",
       "      <td>563.0</td>\n",
       "      <td>1000.0</td>\n",
       "      <td>Orlando Bloom</td>\n",
       "      <td>40000.0</td>\n",
       "      <td>309404152.0</td>\n",
       "      <td>Action|Adventure|Fantasy</td>\n",
       "      <td>Johnny Depp</td>\n",
       "      <td>Pirates of the Caribbean: At World's End</td>\n",
       "      <td>471220</td>\n",
       "    </tr>\n",
       "    <tr>\n",
       "      <th>2</th>\n",
       "      <td>Color</td>\n",
       "      <td>Sam Mendes</td>\n",
       "      <td>602.0</td>\n",
       "      <td>148.0</td>\n",
       "      <td>0.0</td>\n",
       "      <td>161.0</td>\n",
       "      <td>Rory Kinnear</td>\n",
       "      <td>11000.0</td>\n",
       "      <td>200074175.0</td>\n",
       "      <td>Action|Adventure|Thriller</td>\n",
       "      <td>Christoph Waltz</td>\n",
       "      <td>Spectre</td>\n",
       "      <td>275868</td>\n",
       "    </tr>\n",
       "    <tr>\n",
       "      <th>3</th>\n",
       "      <td>Color</td>\n",
       "      <td>Christopher Nolan</td>\n",
       "      <td>813.0</td>\n",
       "      <td>164.0</td>\n",
       "      <td>22000.0</td>\n",
       "      <td>23000.0</td>\n",
       "      <td>Christian Bale</td>\n",
       "      <td>27000.0</td>\n",
       "      <td>448130642.0</td>\n",
       "      <td>Action|Thriller</td>\n",
       "      <td>Tom Hardy</td>\n",
       "      <td>The Dark Knight Rises</td>\n",
       "      <td>1144337</td>\n",
       "    </tr>\n",
       "    <tr>\n",
       "      <th>4</th>\n",
       "      <td>NaN</td>\n",
       "      <td>Doug Walker</td>\n",
       "      <td>NaN</td>\n",
       "      <td>NaN</td>\n",
       "      <td>131.0</td>\n",
       "      <td>NaN</td>\n",
       "      <td>Rob Walker</td>\n",
       "      <td>131.0</td>\n",
       "      <td>NaN</td>\n",
       "      <td>Documentary</td>\n",
       "      <td>Doug Walker</td>\n",
       "      <td>Star Wars: Episode VII - The Force Awakens</td>\n",
       "      <td>8</td>\n",
       "    </tr>\n",
       "    <tr>\n",
       "      <th>...</th>\n",
       "      <td>...</td>\n",
       "      <td>...</td>\n",
       "      <td>...</td>\n",
       "      <td>...</td>\n",
       "      <td>...</td>\n",
       "      <td>...</td>\n",
       "      <td>...</td>\n",
       "      <td>...</td>\n",
       "      <td>...</td>\n",
       "      <td>...</td>\n",
       "      <td>...</td>\n",
       "      <td>...</td>\n",
       "      <td>...</td>\n",
       "    </tr>\n",
       "    <tr>\n",
       "      <th>4911</th>\n",
       "      <td>Color</td>\n",
       "      <td>Scott Smith</td>\n",
       "      <td>1.0</td>\n",
       "      <td>87.0</td>\n",
       "      <td>2.0</td>\n",
       "      <td>318.0</td>\n",
       "      <td>Daphne Zuniga</td>\n",
       "      <td>637.0</td>\n",
       "      <td>NaN</td>\n",
       "      <td>Comedy|Drama</td>\n",
       "      <td>Eric Mabius</td>\n",
       "      <td>Signed Sealed Delivered</td>\n",
       "      <td>629</td>\n",
       "    </tr>\n",
       "    <tr>\n",
       "      <th>4912</th>\n",
       "      <td>Color</td>\n",
       "      <td>NaN</td>\n",
       "      <td>43.0</td>\n",
       "      <td>43.0</td>\n",
       "      <td>NaN</td>\n",
       "      <td>319.0</td>\n",
       "      <td>Valorie Curry</td>\n",
       "      <td>841.0</td>\n",
       "      <td>NaN</td>\n",
       "      <td>Crime|Drama|Mystery|Thriller</td>\n",
       "      <td>Natalie Zea</td>\n",
       "      <td>The Following</td>\n",
       "      <td>73839</td>\n",
       "    </tr>\n",
       "    <tr>\n",
       "      <th>4913</th>\n",
       "      <td>Color</td>\n",
       "      <td>Benjamin Roberds</td>\n",
       "      <td>13.0</td>\n",
       "      <td>76.0</td>\n",
       "      <td>0.0</td>\n",
       "      <td>0.0</td>\n",
       "      <td>Maxwell Moody</td>\n",
       "      <td>0.0</td>\n",
       "      <td>NaN</td>\n",
       "      <td>Drama|Horror|Thriller</td>\n",
       "      <td>Eva Boehnke</td>\n",
       "      <td>A Plague So Pleasant</td>\n",
       "      <td>38</td>\n",
       "    </tr>\n",
       "    <tr>\n",
       "      <th>4914</th>\n",
       "      <td>Color</td>\n",
       "      <td>Daniel Hsia</td>\n",
       "      <td>14.0</td>\n",
       "      <td>100.0</td>\n",
       "      <td>0.0</td>\n",
       "      <td>489.0</td>\n",
       "      <td>Daniel Henney</td>\n",
       "      <td>946.0</td>\n",
       "      <td>10443.0</td>\n",
       "      <td>Comedy|Drama|Romance</td>\n",
       "      <td>Alan Ruck</td>\n",
       "      <td>Shanghai Calling</td>\n",
       "      <td>1255</td>\n",
       "    </tr>\n",
       "    <tr>\n",
       "      <th>4915</th>\n",
       "      <td>Color</td>\n",
       "      <td>Jon Gunn</td>\n",
       "      <td>43.0</td>\n",
       "      <td>90.0</td>\n",
       "      <td>16.0</td>\n",
       "      <td>16.0</td>\n",
       "      <td>Brian Herzlinger</td>\n",
       "      <td>86.0</td>\n",
       "      <td>85222.0</td>\n",
       "      <td>Documentary</td>\n",
       "      <td>John August</td>\n",
       "      <td>My Date with Drew</td>\n",
       "      <td>4285</td>\n",
       "    </tr>\n",
       "  </tbody>\n",
       "</table>\n",
       "<p>4916 rows × 13 columns</p>\n",
       "</div>"
      ],
      "text/plain": [
       "      color      director_name  num_critic_for_reviews  duration  \\\n",
       "0     Color      James Cameron                   723.0     178.0   \n",
       "1     Color     Gore Verbinski                   302.0     169.0   \n",
       "2     Color         Sam Mendes                   602.0     148.0   \n",
       "3     Color  Christopher Nolan                   813.0     164.0   \n",
       "4       NaN        Doug Walker                     NaN       NaN   \n",
       "...     ...                ...                     ...       ...   \n",
       "4911  Color        Scott Smith                     1.0      87.0   \n",
       "4912  Color                NaN                    43.0      43.0   \n",
       "4913  Color   Benjamin Roberds                    13.0      76.0   \n",
       "4914  Color        Daniel Hsia                    14.0     100.0   \n",
       "4915  Color           Jon Gunn                    43.0      90.0   \n",
       "\n",
       "      director_facebook_likes  actor_3_facebook_likes      actor_2_name  \\\n",
       "0                         0.0                   855.0  Joel David Moore   \n",
       "1                       563.0                  1000.0     Orlando Bloom   \n",
       "2                         0.0                   161.0      Rory Kinnear   \n",
       "3                     22000.0                 23000.0    Christian Bale   \n",
       "4                       131.0                     NaN        Rob Walker   \n",
       "...                       ...                     ...               ...   \n",
       "4911                      2.0                   318.0     Daphne Zuniga   \n",
       "4912                      NaN                   319.0     Valorie Curry   \n",
       "4913                      0.0                     0.0     Maxwell Moody   \n",
       "4914                      0.0                   489.0     Daniel Henney   \n",
       "4915                     16.0                    16.0  Brian Herzlinger   \n",
       "\n",
       "      actor_1_facebook_likes        gross                           genres  \\\n",
       "0                     1000.0  760505847.0  Action|Adventure|Fantasy|Sci-Fi   \n",
       "1                    40000.0  309404152.0         Action|Adventure|Fantasy   \n",
       "2                    11000.0  200074175.0        Action|Adventure|Thriller   \n",
       "3                    27000.0  448130642.0                  Action|Thriller   \n",
       "4                      131.0          NaN                      Documentary   \n",
       "...                      ...          ...                              ...   \n",
       "4911                   637.0          NaN                     Comedy|Drama   \n",
       "4912                   841.0          NaN     Crime|Drama|Mystery|Thriller   \n",
       "4913                     0.0          NaN            Drama|Horror|Thriller   \n",
       "4914                   946.0      10443.0             Comedy|Drama|Romance   \n",
       "4915                    86.0      85222.0                      Documentary   \n",
       "\n",
       "         actor_1_name                                 movie_title  \\\n",
       "0         CCH Pounder                                      Avatar   \n",
       "1         Johnny Depp    Pirates of the Caribbean: At World's End   \n",
       "2     Christoph Waltz                                     Spectre   \n",
       "3           Tom Hardy                       The Dark Knight Rises   \n",
       "4         Doug Walker  Star Wars: Episode VII - The Force Awakens   \n",
       "...               ...                                         ...   \n",
       "4911      Eric Mabius                     Signed Sealed Delivered   \n",
       "4912      Natalie Zea                               The Following   \n",
       "4913      Eva Boehnke                        A Plague So Pleasant   \n",
       "4914        Alan Ruck                            Shanghai Calling   \n",
       "4915      John August                           My Date with Drew   \n",
       "\n",
       "      num_voted_users  \n",
       "0              886204  \n",
       "1              471220  \n",
       "2              275868  \n",
       "3             1144337  \n",
       "4                   8  \n",
       "...               ...  \n",
       "4911              629  \n",
       "4912            73839  \n",
       "4913               38  \n",
       "4914             1255  \n",
       "4915             4285  \n",
       "\n",
       "[4916 rows x 13 columns]"
      ]
     },
     "execution_count": 52,
     "metadata": {},
     "output_type": "execute_result"
    }
   ],
   "source": [
    "df.loc[:,'color':'num_voted_users']"
   ]
  },
  {
   "cell_type": "markdown",
   "id": "95f9de95-210b-4027-897b-21c59c11bce6",
   "metadata": {},
   "source": [
    "`-` (팁) 복잡한 조건은 iloc으로 쓰는게 편하다. $\\to$ 그런데 `df.columns` 변수들이 몇번인지 알아보기 힘듬 $\\to$ 아래와 같이하면 열의 이름을 인덱스와 함께 출력할 수 있음"
   ]
  },
  {
   "cell_type": "code",
   "execution_count": 53,
   "id": "8da07d94-e0d4-4d16-84bd-800ba9452d6f",
   "metadata": {},
   "outputs": [
    {
     "data": {
      "text/plain": [
       "0                         color\n",
       "1                 director_name\n",
       "2        num_critic_for_reviews\n",
       "3                      duration\n",
       "4       director_facebook_likes\n",
       "5        actor_3_facebook_likes\n",
       "6                  actor_2_name\n",
       "7        actor_1_facebook_likes\n",
       "8                         gross\n",
       "9                        genres\n",
       "10                 actor_1_name\n",
       "11                  movie_title\n",
       "12              num_voted_users\n",
       "13    cast_total_facebook_likes\n",
       "14                 actor_3_name\n",
       "15         facenumber_in_poster\n",
       "16                plot_keywords\n",
       "17              movie_imdb_link\n",
       "18         num_user_for_reviews\n",
       "19                     language\n",
       "20                      country\n",
       "21               content_rating\n",
       "22                       budget\n",
       "23                   title_year\n",
       "24       actor_2_facebook_likes\n",
       "25                   imdb_score\n",
       "26                 aspect_ratio\n",
       "27         movie_facebook_likes\n",
       "dtype: object"
      ]
     },
     "execution_count": 53,
     "metadata": {},
     "output_type": "execute_result"
    }
   ],
   "source": [
    "pd.Series(df.columns)"
   ]
  },
  {
   "cell_type": "code",
   "execution_count": 54,
   "id": "03b7f0c1-d470-48cc-a09b-8c223b959715",
   "metadata": {},
   "outputs": [
    {
     "data": {
      "text/plain": [
       "[0, 1, 2, 3, 4, 5, 6, 7, 8, 9, 10, 11, 12, 26]"
      ]
     },
     "execution_count": 54,
     "metadata": {},
     "output_type": "execute_result"
    }
   ],
   "source": [
    "list(range(13)) + [26]"
   ]
  },
  {
   "cell_type": "code",
   "execution_count": 55,
   "id": "1d6738f7-8b44-4498-b059-a761defeb34c",
   "metadata": {},
   "outputs": [
    {
     "data": {
      "text/html": [
       "<div>\n",
       "<style scoped>\n",
       "    .dataframe tbody tr th:only-of-type {\n",
       "        vertical-align: middle;\n",
       "    }\n",
       "\n",
       "    .dataframe tbody tr th {\n",
       "        vertical-align: top;\n",
       "    }\n",
       "\n",
       "    .dataframe thead th {\n",
       "        text-align: right;\n",
       "    }\n",
       "</style>\n",
       "<table border=\"1\" class=\"dataframe\">\n",
       "  <thead>\n",
       "    <tr style=\"text-align: right;\">\n",
       "      <th></th>\n",
       "      <th>color</th>\n",
       "      <th>director_name</th>\n",
       "      <th>num_critic_for_reviews</th>\n",
       "      <th>duration</th>\n",
       "      <th>director_facebook_likes</th>\n",
       "      <th>actor_3_facebook_likes</th>\n",
       "      <th>actor_2_name</th>\n",
       "      <th>actor_1_facebook_likes</th>\n",
       "      <th>gross</th>\n",
       "      <th>genres</th>\n",
       "      <th>actor_1_name</th>\n",
       "      <th>movie_title</th>\n",
       "      <th>num_voted_users</th>\n",
       "      <th>aspect_ratio</th>\n",
       "    </tr>\n",
       "  </thead>\n",
       "  <tbody>\n",
       "    <tr>\n",
       "      <th>0</th>\n",
       "      <td>Color</td>\n",
       "      <td>James Cameron</td>\n",
       "      <td>723.0</td>\n",
       "      <td>178.0</td>\n",
       "      <td>0.0</td>\n",
       "      <td>855.0</td>\n",
       "      <td>Joel David Moore</td>\n",
       "      <td>1000.0</td>\n",
       "      <td>760505847.0</td>\n",
       "      <td>Action|Adventure|Fantasy|Sci-Fi</td>\n",
       "      <td>CCH Pounder</td>\n",
       "      <td>Avatar</td>\n",
       "      <td>886204</td>\n",
       "      <td>1.78</td>\n",
       "    </tr>\n",
       "    <tr>\n",
       "      <th>1</th>\n",
       "      <td>Color</td>\n",
       "      <td>Gore Verbinski</td>\n",
       "      <td>302.0</td>\n",
       "      <td>169.0</td>\n",
       "      <td>563.0</td>\n",
       "      <td>1000.0</td>\n",
       "      <td>Orlando Bloom</td>\n",
       "      <td>40000.0</td>\n",
       "      <td>309404152.0</td>\n",
       "      <td>Action|Adventure|Fantasy</td>\n",
       "      <td>Johnny Depp</td>\n",
       "      <td>Pirates of the Caribbean: At World's End</td>\n",
       "      <td>471220</td>\n",
       "      <td>2.35</td>\n",
       "    </tr>\n",
       "    <tr>\n",
       "      <th>2</th>\n",
       "      <td>Color</td>\n",
       "      <td>Sam Mendes</td>\n",
       "      <td>602.0</td>\n",
       "      <td>148.0</td>\n",
       "      <td>0.0</td>\n",
       "      <td>161.0</td>\n",
       "      <td>Rory Kinnear</td>\n",
       "      <td>11000.0</td>\n",
       "      <td>200074175.0</td>\n",
       "      <td>Action|Adventure|Thriller</td>\n",
       "      <td>Christoph Waltz</td>\n",
       "      <td>Spectre</td>\n",
       "      <td>275868</td>\n",
       "      <td>2.35</td>\n",
       "    </tr>\n",
       "    <tr>\n",
       "      <th>3</th>\n",
       "      <td>Color</td>\n",
       "      <td>Christopher Nolan</td>\n",
       "      <td>813.0</td>\n",
       "      <td>164.0</td>\n",
       "      <td>22000.0</td>\n",
       "      <td>23000.0</td>\n",
       "      <td>Christian Bale</td>\n",
       "      <td>27000.0</td>\n",
       "      <td>448130642.0</td>\n",
       "      <td>Action|Thriller</td>\n",
       "      <td>Tom Hardy</td>\n",
       "      <td>The Dark Knight Rises</td>\n",
       "      <td>1144337</td>\n",
       "      <td>2.35</td>\n",
       "    </tr>\n",
       "    <tr>\n",
       "      <th>4</th>\n",
       "      <td>NaN</td>\n",
       "      <td>Doug Walker</td>\n",
       "      <td>NaN</td>\n",
       "      <td>NaN</td>\n",
       "      <td>131.0</td>\n",
       "      <td>NaN</td>\n",
       "      <td>Rob Walker</td>\n",
       "      <td>131.0</td>\n",
       "      <td>NaN</td>\n",
       "      <td>Documentary</td>\n",
       "      <td>Doug Walker</td>\n",
       "      <td>Star Wars: Episode VII - The Force Awakens</td>\n",
       "      <td>8</td>\n",
       "      <td>NaN</td>\n",
       "    </tr>\n",
       "    <tr>\n",
       "      <th>...</th>\n",
       "      <td>...</td>\n",
       "      <td>...</td>\n",
       "      <td>...</td>\n",
       "      <td>...</td>\n",
       "      <td>...</td>\n",
       "      <td>...</td>\n",
       "      <td>...</td>\n",
       "      <td>...</td>\n",
       "      <td>...</td>\n",
       "      <td>...</td>\n",
       "      <td>...</td>\n",
       "      <td>...</td>\n",
       "      <td>...</td>\n",
       "      <td>...</td>\n",
       "    </tr>\n",
       "    <tr>\n",
       "      <th>4911</th>\n",
       "      <td>Color</td>\n",
       "      <td>Scott Smith</td>\n",
       "      <td>1.0</td>\n",
       "      <td>87.0</td>\n",
       "      <td>2.0</td>\n",
       "      <td>318.0</td>\n",
       "      <td>Daphne Zuniga</td>\n",
       "      <td>637.0</td>\n",
       "      <td>NaN</td>\n",
       "      <td>Comedy|Drama</td>\n",
       "      <td>Eric Mabius</td>\n",
       "      <td>Signed Sealed Delivered</td>\n",
       "      <td>629</td>\n",
       "      <td>NaN</td>\n",
       "    </tr>\n",
       "    <tr>\n",
       "      <th>4912</th>\n",
       "      <td>Color</td>\n",
       "      <td>NaN</td>\n",
       "      <td>43.0</td>\n",
       "      <td>43.0</td>\n",
       "      <td>NaN</td>\n",
       "      <td>319.0</td>\n",
       "      <td>Valorie Curry</td>\n",
       "      <td>841.0</td>\n",
       "      <td>NaN</td>\n",
       "      <td>Crime|Drama|Mystery|Thriller</td>\n",
       "      <td>Natalie Zea</td>\n",
       "      <td>The Following</td>\n",
       "      <td>73839</td>\n",
       "      <td>16.00</td>\n",
       "    </tr>\n",
       "    <tr>\n",
       "      <th>4913</th>\n",
       "      <td>Color</td>\n",
       "      <td>Benjamin Roberds</td>\n",
       "      <td>13.0</td>\n",
       "      <td>76.0</td>\n",
       "      <td>0.0</td>\n",
       "      <td>0.0</td>\n",
       "      <td>Maxwell Moody</td>\n",
       "      <td>0.0</td>\n",
       "      <td>NaN</td>\n",
       "      <td>Drama|Horror|Thriller</td>\n",
       "      <td>Eva Boehnke</td>\n",
       "      <td>A Plague So Pleasant</td>\n",
       "      <td>38</td>\n",
       "      <td>NaN</td>\n",
       "    </tr>\n",
       "    <tr>\n",
       "      <th>4914</th>\n",
       "      <td>Color</td>\n",
       "      <td>Daniel Hsia</td>\n",
       "      <td>14.0</td>\n",
       "      <td>100.0</td>\n",
       "      <td>0.0</td>\n",
       "      <td>489.0</td>\n",
       "      <td>Daniel Henney</td>\n",
       "      <td>946.0</td>\n",
       "      <td>10443.0</td>\n",
       "      <td>Comedy|Drama|Romance</td>\n",
       "      <td>Alan Ruck</td>\n",
       "      <td>Shanghai Calling</td>\n",
       "      <td>1255</td>\n",
       "      <td>2.35</td>\n",
       "    </tr>\n",
       "    <tr>\n",
       "      <th>4915</th>\n",
       "      <td>Color</td>\n",
       "      <td>Jon Gunn</td>\n",
       "      <td>43.0</td>\n",
       "      <td>90.0</td>\n",
       "      <td>16.0</td>\n",
       "      <td>16.0</td>\n",
       "      <td>Brian Herzlinger</td>\n",
       "      <td>86.0</td>\n",
       "      <td>85222.0</td>\n",
       "      <td>Documentary</td>\n",
       "      <td>John August</td>\n",
       "      <td>My Date with Drew</td>\n",
       "      <td>4285</td>\n",
       "      <td>1.85</td>\n",
       "    </tr>\n",
       "  </tbody>\n",
       "</table>\n",
       "<p>4916 rows × 14 columns</p>\n",
       "</div>"
      ],
      "text/plain": [
       "      color      director_name  num_critic_for_reviews  duration  \\\n",
       "0     Color      James Cameron                   723.0     178.0   \n",
       "1     Color     Gore Verbinski                   302.0     169.0   \n",
       "2     Color         Sam Mendes                   602.0     148.0   \n",
       "3     Color  Christopher Nolan                   813.0     164.0   \n",
       "4       NaN        Doug Walker                     NaN       NaN   \n",
       "...     ...                ...                     ...       ...   \n",
       "4911  Color        Scott Smith                     1.0      87.0   \n",
       "4912  Color                NaN                    43.0      43.0   \n",
       "4913  Color   Benjamin Roberds                    13.0      76.0   \n",
       "4914  Color        Daniel Hsia                    14.0     100.0   \n",
       "4915  Color           Jon Gunn                    43.0      90.0   \n",
       "\n",
       "      director_facebook_likes  actor_3_facebook_likes      actor_2_name  \\\n",
       "0                         0.0                   855.0  Joel David Moore   \n",
       "1                       563.0                  1000.0     Orlando Bloom   \n",
       "2                         0.0                   161.0      Rory Kinnear   \n",
       "3                     22000.0                 23000.0    Christian Bale   \n",
       "4                       131.0                     NaN        Rob Walker   \n",
       "...                       ...                     ...               ...   \n",
       "4911                      2.0                   318.0     Daphne Zuniga   \n",
       "4912                      NaN                   319.0     Valorie Curry   \n",
       "4913                      0.0                     0.0     Maxwell Moody   \n",
       "4914                      0.0                   489.0     Daniel Henney   \n",
       "4915                     16.0                    16.0  Brian Herzlinger   \n",
       "\n",
       "      actor_1_facebook_likes        gross                           genres  \\\n",
       "0                     1000.0  760505847.0  Action|Adventure|Fantasy|Sci-Fi   \n",
       "1                    40000.0  309404152.0         Action|Adventure|Fantasy   \n",
       "2                    11000.0  200074175.0        Action|Adventure|Thriller   \n",
       "3                    27000.0  448130642.0                  Action|Thriller   \n",
       "4                      131.0          NaN                      Documentary   \n",
       "...                      ...          ...                              ...   \n",
       "4911                   637.0          NaN                     Comedy|Drama   \n",
       "4912                   841.0          NaN     Crime|Drama|Mystery|Thriller   \n",
       "4913                     0.0          NaN            Drama|Horror|Thriller   \n",
       "4914                   946.0      10443.0             Comedy|Drama|Romance   \n",
       "4915                    86.0      85222.0                      Documentary   \n",
       "\n",
       "         actor_1_name                                 movie_title  \\\n",
       "0         CCH Pounder                                      Avatar   \n",
       "1         Johnny Depp    Pirates of the Caribbean: At World's End   \n",
       "2     Christoph Waltz                                     Spectre   \n",
       "3           Tom Hardy                       The Dark Knight Rises   \n",
       "4         Doug Walker  Star Wars: Episode VII - The Force Awakens   \n",
       "...               ...                                         ...   \n",
       "4911      Eric Mabius                     Signed Sealed Delivered   \n",
       "4912      Natalie Zea                               The Following   \n",
       "4913      Eva Boehnke                        A Plague So Pleasant   \n",
       "4914        Alan Ruck                            Shanghai Calling   \n",
       "4915      John August                           My Date with Drew   \n",
       "\n",
       "      num_voted_users  aspect_ratio  \n",
       "0              886204          1.78  \n",
       "1              471220          2.35  \n",
       "2              275868          2.35  \n",
       "3             1144337          2.35  \n",
       "4                   8           NaN  \n",
       "...               ...           ...  \n",
       "4911              629           NaN  \n",
       "4912            73839         16.00  \n",
       "4913               38           NaN  \n",
       "4914             1255          2.35  \n",
       "4915             4285          1.85  \n",
       "\n",
       "[4916 rows x 14 columns]"
      ]
     },
     "execution_count": 55,
     "metadata": {},
     "output_type": "execute_result"
    }
   ],
   "source": [
    "df.iloc[:,list(range(13)) + [26]]"
   ]
  },
  {
   "cell_type": "markdown",
   "id": "cfd7677f-8430-4259-a187-d7872059ba0b",
   "metadata": {},
   "source": [
    "`-` 다시 열의 이름들을 확인"
   ]
  },
  {
   "cell_type": "code",
   "execution_count": 56,
   "id": "6936156c-5434-4dae-849a-a5398e321f24",
   "metadata": {},
   "outputs": [
    {
     "data": {
      "text/plain": [
       "Index(['color', 'director_name', 'num_critic_for_reviews', 'duration',\n",
       "       'director_facebook_likes', 'actor_3_facebook_likes', 'actor_2_name',\n",
       "       'actor_1_facebook_likes', 'gross', 'genres', 'actor_1_name',\n",
       "       'movie_title', 'num_voted_users', 'cast_total_facebook_likes',\n",
       "       'actor_3_name', 'facenumber_in_poster', 'plot_keywords',\n",
       "       'movie_imdb_link', 'num_user_for_reviews', 'language', 'country',\n",
       "       'content_rating', 'budget', 'title_year', 'actor_2_facebook_likes',\n",
       "       'imdb_score', 'aspect_ratio', 'movie_facebook_likes'],\n",
       "      dtype='object')"
      ]
     },
     "execution_count": 56,
     "metadata": {},
     "output_type": "execute_result"
    }
   ],
   "source": [
    "df.columns"
   ]
  },
  {
   "cell_type": "markdown",
   "id": "b5757b15-97bb-409d-89a8-618beea162e5",
   "metadata": {},
   "source": [
    "#### actor라는 단어가 포함된 변수들만 뽑고싶다."
   ]
  },
  {
   "cell_type": "code",
   "execution_count": 57,
   "id": "e73e1c4c-46fe-4b9d-add0-540d072e89d3",
   "metadata": {},
   "outputs": [
    {
     "data": {
      "text/plain": [
       "['color',\n",
       " 'director_name',\n",
       " 'num_critic_for_reviews',\n",
       " 'duration',\n",
       " 'director_facebook_likes',\n",
       " 'actor_3_facebook_likes',\n",
       " 'actor_2_name',\n",
       " 'actor_1_facebook_likes',\n",
       " 'gross',\n",
       " 'genres',\n",
       " 'actor_1_name',\n",
       " 'movie_title',\n",
       " 'num_voted_users',\n",
       " 'cast_total_facebook_likes',\n",
       " 'actor_3_name',\n",
       " 'facenumber_in_poster',\n",
       " 'plot_keywords',\n",
       " 'movie_imdb_link',\n",
       " 'num_user_for_reviews',\n",
       " 'language',\n",
       " 'country',\n",
       " 'content_rating',\n",
       " 'budget',\n",
       " 'title_year',\n",
       " 'actor_2_facebook_likes',\n",
       " 'imdb_score',\n",
       " 'aspect_ratio',\n",
       " 'movie_facebook_likes']"
      ]
     },
     "execution_count": 57,
     "metadata": {},
     "output_type": "execute_result"
    }
   ],
   "source": [
    "['color', 'director_name', 'num_critic_for_reviews', 'duration',\n",
    "       'director_facebook_likes', 'actor_3_facebook_likes', 'actor_2_name',\n",
    "       'actor_1_facebook_likes', 'gross', 'genres', 'actor_1_name',\n",
    "       'movie_title', 'num_voted_users', 'cast_total_facebook_likes',\n",
    "       'actor_3_name', 'facenumber_in_poster', 'plot_keywords',\n",
    "       'movie_imdb_link', 'num_user_for_reviews', 'language', 'country',\n",
    "       'content_rating', 'budget', 'title_year', 'actor_2_facebook_likes',\n",
    "       'imdb_score', 'aspect_ratio', 'movie_facebook_likes']"
   ]
  },
  {
   "cell_type": "code",
   "execution_count": 58,
   "id": "ed9d9e6c-b872-4ef9-b20a-d1b5b1eca2f4",
   "metadata": {},
   "outputs": [
    {
     "data": {
      "text/plain": [
       "True"
      ]
     },
     "execution_count": 58,
     "metadata": {},
     "output_type": "execute_result"
    }
   ],
   "source": [
    "'actor' in 'actor_3_facebook_likes'"
   ]
  },
  {
   "cell_type": "markdown",
   "id": "5f3cad95-0474-4866-8004-466511e3b5b8",
   "metadata": {},
   "source": [
    "`map, lambda` 활용"
   ]
  },
  {
   "cell_type": "code",
   "execution_count": 60,
   "id": "fdde33d7-dfc2-4c2f-95bf-2c862be9e69a",
   "metadata": {},
   "outputs": [],
   "source": [
    "f = lambda x : 'actor' in x"
   ]
  },
  {
   "cell_type": "code",
   "execution_count": 61,
   "id": "966bdb1b-1949-40b0-b63c-17380a69c8f9",
   "metadata": {},
   "outputs": [
    {
     "data": {
      "text/plain": [
       "[False,\n",
       " False,\n",
       " False,\n",
       " False,\n",
       " False,\n",
       " True,\n",
       " True,\n",
       " True,\n",
       " False,\n",
       " False,\n",
       " True,\n",
       " False,\n",
       " False,\n",
       " False,\n",
       " True,\n",
       " False,\n",
       " False,\n",
       " False,\n",
       " False,\n",
       " False,\n",
       " False,\n",
       " False,\n",
       " False,\n",
       " False,\n",
       " True,\n",
       " False,\n",
       " False,\n",
       " False]"
      ]
     },
     "execution_count": 61,
     "metadata": {},
     "output_type": "execute_result"
    }
   ],
   "source": [
    "list(map(f, df.columns))"
   ]
  },
  {
   "cell_type": "code",
   "execution_count": null,
   "id": "f3b42b9f-4446-437c-9d18-bb2bb1482b96",
   "metadata": {},
   "outputs": [],
   "source": [
    "f('actor_3_facebook_likes')"
   ]
  },
  {
   "cell_type": "code",
   "execution_count": null,
   "id": "8c0eaee9-de36-4270-bc26-7bdc38cc88bb",
   "metadata": {},
   "outputs": [],
   "source": [
    "f('color')"
   ]
  },
  {
   "cell_type": "markdown",
   "id": "b6cc29e5-5d01-4eb5-b770-f0fea92b908a",
   "metadata": {},
   "source": [
    "`-`방법1"
   ]
  },
  {
   "cell_type": "code",
   "execution_count": null,
   "id": "4386a8eb-e4b9-4b9c-a75d-6718e4cf6752",
   "metadata": {},
   "outputs": [],
   "source": [
    "df.iloc[:,list(map(f,df.columns))]"
   ]
  },
  {
   "cell_type": "code",
   "execution_count": null,
   "id": "259d1059-7882-4253-904b-46f69ed9977d",
   "metadata": {},
   "outputs": [],
   "source": [
    "df.iloc[:,list(map(lambda x : 'actor' in x, df.columns))]"
   ]
  },
  {
   "cell_type": "markdown",
   "id": "c6e4d9c1-96e5-4bfa-ac7e-f9b8f1878bf4",
   "metadata": {},
   "source": [
    "`-`방법2"
   ]
  },
  {
   "cell_type": "code",
   "execution_count": null,
   "id": "74c7923f-c367-475e-924d-f2ae3d536f69",
   "metadata": {},
   "outputs": [],
   "source": [
    "df.loc[:,list(map(lambda x : 'actor' in x, df.columns))]"
   ]
  },
  {
   "cell_type": "markdown",
   "id": "8ec76081-d2ae-4388-a8de-9b12926a59da",
   "metadata": {},
   "source": [
    "`-`방법3"
   ]
  },
  {
   "cell_type": "code",
   "execution_count": null,
   "id": "4bf743b5-ed1c-41e0-ae11-b241bc5da06c",
   "metadata": {},
   "outputs": [],
   "source": [
    "df.iloc[:,map(lambda x : 'actor' in x, df.columns)]"
   ]
  },
  {
   "cell_type": "markdown",
   "id": "6b98480a-c1bf-425a-8dca-6b46b2ff8093",
   "metadata": {},
   "source": [
    "`-`방법4"
   ]
  },
  {
   "cell_type": "code",
   "execution_count": null,
   "id": "d95b077f-0624-4e6e-b04a-4574af598c6e",
   "metadata": {},
   "outputs": [],
   "source": [
    "df.loc[:,map(lambda x : 'actor' in x, df.columns)]"
   ]
  },
  {
   "cell_type": "markdown",
   "id": "2408138f-d14f-4998-bb12-05ad5d02ad38",
   "metadata": {},
   "source": [
    "`-` 방법5"
   ]
  },
  {
   "cell_type": "code",
   "execution_count": 64,
   "id": "e1945664-33d8-4537-b16a-43cd4524f2c5",
   "metadata": {},
   "outputs": [
    {
     "data": {
      "text/plain": [
       "<filter at 0x7fa761a0ae20>"
      ]
     },
     "execution_count": 64,
     "metadata": {},
     "output_type": "execute_result"
    }
   ],
   "source": [
    "filter(lambda x : 'actor' in x, df.columns)"
   ]
  },
  {
   "cell_type": "code",
   "execution_count": 65,
   "id": "072d0ed9-754a-4149-a993-6286eb6d394b",
   "metadata": {},
   "outputs": [
    {
     "data": {
      "text/html": [
       "<div>\n",
       "<style scoped>\n",
       "    .dataframe tbody tr th:only-of-type {\n",
       "        vertical-align: middle;\n",
       "    }\n",
       "\n",
       "    .dataframe tbody tr th {\n",
       "        vertical-align: top;\n",
       "    }\n",
       "\n",
       "    .dataframe thead th {\n",
       "        text-align: right;\n",
       "    }\n",
       "</style>\n",
       "<table border=\"1\" class=\"dataframe\">\n",
       "  <thead>\n",
       "    <tr style=\"text-align: right;\">\n",
       "      <th></th>\n",
       "      <th>actor_3_facebook_likes</th>\n",
       "      <th>actor_2_name</th>\n",
       "      <th>actor_1_facebook_likes</th>\n",
       "      <th>actor_1_name</th>\n",
       "      <th>actor_3_name</th>\n",
       "      <th>actor_2_facebook_likes</th>\n",
       "    </tr>\n",
       "  </thead>\n",
       "  <tbody>\n",
       "    <tr>\n",
       "      <th>0</th>\n",
       "      <td>855.0</td>\n",
       "      <td>Joel David Moore</td>\n",
       "      <td>1000.0</td>\n",
       "      <td>CCH Pounder</td>\n",
       "      <td>Wes Studi</td>\n",
       "      <td>936.0</td>\n",
       "    </tr>\n",
       "    <tr>\n",
       "      <th>1</th>\n",
       "      <td>1000.0</td>\n",
       "      <td>Orlando Bloom</td>\n",
       "      <td>40000.0</td>\n",
       "      <td>Johnny Depp</td>\n",
       "      <td>Jack Davenport</td>\n",
       "      <td>5000.0</td>\n",
       "    </tr>\n",
       "    <tr>\n",
       "      <th>2</th>\n",
       "      <td>161.0</td>\n",
       "      <td>Rory Kinnear</td>\n",
       "      <td>11000.0</td>\n",
       "      <td>Christoph Waltz</td>\n",
       "      <td>Stephanie Sigman</td>\n",
       "      <td>393.0</td>\n",
       "    </tr>\n",
       "    <tr>\n",
       "      <th>3</th>\n",
       "      <td>23000.0</td>\n",
       "      <td>Christian Bale</td>\n",
       "      <td>27000.0</td>\n",
       "      <td>Tom Hardy</td>\n",
       "      <td>Joseph Gordon-Levitt</td>\n",
       "      <td>23000.0</td>\n",
       "    </tr>\n",
       "    <tr>\n",
       "      <th>4</th>\n",
       "      <td>NaN</td>\n",
       "      <td>Rob Walker</td>\n",
       "      <td>131.0</td>\n",
       "      <td>Doug Walker</td>\n",
       "      <td>NaN</td>\n",
       "      <td>12.0</td>\n",
       "    </tr>\n",
       "    <tr>\n",
       "      <th>...</th>\n",
       "      <td>...</td>\n",
       "      <td>...</td>\n",
       "      <td>...</td>\n",
       "      <td>...</td>\n",
       "      <td>...</td>\n",
       "      <td>...</td>\n",
       "    </tr>\n",
       "    <tr>\n",
       "      <th>4911</th>\n",
       "      <td>318.0</td>\n",
       "      <td>Daphne Zuniga</td>\n",
       "      <td>637.0</td>\n",
       "      <td>Eric Mabius</td>\n",
       "      <td>Crystal Lowe</td>\n",
       "      <td>470.0</td>\n",
       "    </tr>\n",
       "    <tr>\n",
       "      <th>4912</th>\n",
       "      <td>319.0</td>\n",
       "      <td>Valorie Curry</td>\n",
       "      <td>841.0</td>\n",
       "      <td>Natalie Zea</td>\n",
       "      <td>Sam Underwood</td>\n",
       "      <td>593.0</td>\n",
       "    </tr>\n",
       "    <tr>\n",
       "      <th>4913</th>\n",
       "      <td>0.0</td>\n",
       "      <td>Maxwell Moody</td>\n",
       "      <td>0.0</td>\n",
       "      <td>Eva Boehnke</td>\n",
       "      <td>David Chandler</td>\n",
       "      <td>0.0</td>\n",
       "    </tr>\n",
       "    <tr>\n",
       "      <th>4914</th>\n",
       "      <td>489.0</td>\n",
       "      <td>Daniel Henney</td>\n",
       "      <td>946.0</td>\n",
       "      <td>Alan Ruck</td>\n",
       "      <td>Eliza Coupe</td>\n",
       "      <td>719.0</td>\n",
       "    </tr>\n",
       "    <tr>\n",
       "      <th>4915</th>\n",
       "      <td>16.0</td>\n",
       "      <td>Brian Herzlinger</td>\n",
       "      <td>86.0</td>\n",
       "      <td>John August</td>\n",
       "      <td>Jon Gunn</td>\n",
       "      <td>23.0</td>\n",
       "    </tr>\n",
       "  </tbody>\n",
       "</table>\n",
       "<p>4916 rows × 6 columns</p>\n",
       "</div>"
      ],
      "text/plain": [
       "      actor_3_facebook_likes      actor_2_name  actor_1_facebook_likes  \\\n",
       "0                      855.0  Joel David Moore                  1000.0   \n",
       "1                     1000.0     Orlando Bloom                 40000.0   \n",
       "2                      161.0      Rory Kinnear                 11000.0   \n",
       "3                    23000.0    Christian Bale                 27000.0   \n",
       "4                        NaN        Rob Walker                   131.0   \n",
       "...                      ...               ...                     ...   \n",
       "4911                   318.0     Daphne Zuniga                   637.0   \n",
       "4912                   319.0     Valorie Curry                   841.0   \n",
       "4913                     0.0     Maxwell Moody                     0.0   \n",
       "4914                   489.0     Daniel Henney                   946.0   \n",
       "4915                    16.0  Brian Herzlinger                    86.0   \n",
       "\n",
       "         actor_1_name          actor_3_name  actor_2_facebook_likes  \n",
       "0         CCH Pounder             Wes Studi                   936.0  \n",
       "1         Johnny Depp        Jack Davenport                  5000.0  \n",
       "2     Christoph Waltz      Stephanie Sigman                   393.0  \n",
       "3           Tom Hardy  Joseph Gordon-Levitt                 23000.0  \n",
       "4         Doug Walker                   NaN                    12.0  \n",
       "...               ...                   ...                     ...  \n",
       "4911      Eric Mabius          Crystal Lowe                   470.0  \n",
       "4912      Natalie Zea         Sam Underwood                   593.0  \n",
       "4913      Eva Boehnke        David Chandler                     0.0  \n",
       "4914        Alan Ruck           Eliza Coupe                   719.0  \n",
       "4915      John August              Jon Gunn                    23.0  \n",
       "\n",
       "[4916 rows x 6 columns]"
      ]
     },
     "execution_count": 65,
     "metadata": {},
     "output_type": "execute_result"
    }
   ],
   "source": [
    "df.loc[:,filter(lambda x : 'actor' in x, df.columns)] #iloc은 integer이므로 되지 않음"
   ]
  },
  {
   "cell_type": "markdown",
   "id": "c5f090cf-641e-4518-a896-3ff7099947cc",
   "metadata": {},
   "source": [
    "## 2021.10.18"
   ]
  },
  {
   "cell_type": "markdown",
   "id": "f0ebd7ab-40dc-442b-9e3d-4f181e3f3ea4",
   "metadata": {},
   "source": [
    "# Partial Corr"
   ]
  },
  {
   "cell_type": "markdown",
   "id": "364081ad-29a5-4cea-9d9d-528772568ff4",
   "metadata": {},
   "source": [
    "### 아이스크림을 많이 먹으면 걸리는 병"
   ]
  },
  {
   "cell_type": "markdown",
   "id": "70ff6c2b-5aaa-4c0c-affc-6b9626539c14",
   "metadata": {},
   "source": [
    "`-` ref- 데이터 과학자의 사고법: 더 나은 선택을 위한 통계학적 통찰의 힘 (추천)\n",
    "\n",
    "https://books.google.co.kr/books?id=qy4iEAAAQBAJ&pg=PT87&lpg=PT87&dq=%EC%95%84%EC%9D%B4%EC%8A%A4%ED%81%AC%EB%A6%BC%EC%9D%84+%EB%A7%8E%EC%9D%B4+%EB%A8%B9%EC%9C%BC%EB%A9%B4+%EA%B1%B8%EB%A6%AC%EB%8A%94+%EB%B3%91+%EC%86%8C%EC%95%84%EB%A7%88%EB%B9%84&source=bl&ots=V9B7ZG6oR-&sig=ACfU3U0UMd4ehuRXYxI69TT6lIlU-r91bA&hl=en&sa=X&ved=2ahUKEwj13JSV19LzAhVEGaYKHdgfDgcQ6AF6BAgCEAM#v=onepage&q=%EC%95%84%EC%9D%B4%EC%8A%A4%ED%81%AC%EB%A6%BC%EC%9D%84%20%EB%A7%8E%EC%9D%B4%20%EB%A8%B9%EC%9C%BC%EB%A9%B4%20%EA%B1%B8%EB%A6%AC%EB%8A%94%20%EB%B3%91%20%EC%86%8C%EC%95%84%EB%A7%88%EB%B9%84&f=false"
   ]
  },
  {
   "cell_type": "markdown",
   "id": "6b1a1441-4bd1-4c9f-a2ed-4a9d829ffb62",
   "metadata": {},
   "source": [
    "`-` 내용요약\n",
    "\n",
    "- 여름 $\\to$ 수영장 $\\to$ 소아마비\n",
    "- 여름 $\\to$ 아이스크림\n",
    "- 아이스크림과 소아마비는 상관관계가 높다. : 아이스크림 성분 중에서 소아마비를 유발하는 유해물질이 있을 것이다.(?)"
   ]
  },
  {
   "cell_type": "markdown",
   "id": "e83ac760-24f1-420e-97c5-9e009425e1f3",
   "metadata": {},
   "source": [
    "`-` 아래와 같이 모형을 간단하게 하자."
   ]
  },
  {
   "cell_type": "markdown",
   "id": "7c94fbf7-cfd0-4007-b419-34950c2965cd",
   "metadata": {},
   "source": [
    "- 온도 $\\to$ 소아마비\n",
    "- 온도 $\\to$ 아이스크림"
   ]
  },
  {
   "cell_type": "markdown",
   "id": "6db3d3e6-7e59-4b35-82d8-8c4d8b25f3b4",
   "metadata": {},
   "source": [
    "### Toy exam"
   ]
  },
  {
   "cell_type": "code",
   "execution_count": 4,
   "id": "cb96be59-52e0-4b05-beb5-0f031d99c958",
   "metadata": {},
   "outputs": [],
   "source": [
    "import numpy as np\n",
    "import matplotlib.pyplot as plt\n",
    "import pandas as pd"
   ]
  },
  {
   "cell_type": "markdown",
   "id": "cbf2e0db-e522-4ffe-800c-0814d4dfe8b5",
   "metadata": {},
   "source": [
    "`-` 책의 예제상황은 예를들면 아래와 같다."
   ]
  },
  {
   "cell_type": "markdown",
   "id": "f06a1e88-454d-4751-9629-abced26f46a6",
   "metadata": {},
   "source": [
    "`-` 아이스크림 판매량 = 20 + 온도 $\\times$ 2 + $\\epsilon$"
   ]
  },
  {
   "cell_type": "code",
   "execution_count": 29,
   "id": "f0801810-dfb2-44c1-a418-6b2e1932ea39",
   "metadata": {},
   "outputs": [],
   "source": [
    "np.random.seed(1)\n",
    "temp = np.array([-10.2, -5.2, 0.1, 10.1, 12.2, 14.7, 25.4, 26.8, 28.9, 35.1, 32.2, 34.6])\n",
    "ϵ1 = np.random.normal(size=12, scale = 5) "
   ]
  },
  {
   "cell_type": "code",
   "execution_count": 30,
   "id": "4b33d894-749d-4a5b-aa39-2624f7653f54",
   "metadata": {},
   "outputs": [],
   "source": [
    "icecream = 20 + temp * 2 + ϵ1"
   ]
  },
  {
   "cell_type": "code",
   "execution_count": 31,
   "id": "33e5c94e-575d-49ce-a62e-27e8396a1af9",
   "metadata": {},
   "outputs": [
    {
     "data": {
      "text/plain": [
       "[<matplotlib.lines.Line2D at 0x7fc758078eb0>]"
      ]
     },
     "execution_count": 31,
     "metadata": {},
     "output_type": "execute_result"
    },
    {
     "data": {
      "image/png": "[encoded data removed]",
      "text/plain": [
       "<Figure size 432x288 with 1 Axes>"
      ]
     },
     "metadata": {
      "needs_background": "light"
     },
     "output_type": "display_data"
    }
   ],
   "source": [
    "plt.plot(temp,icecream,'.')"
   ]
  },
  {
   "cell_type": "markdown",
   "id": "b22061e9-13e1-4ac9-af90-ed11f196f7d0",
   "metadata": {},
   "source": [
    "- 온도와 아이스크림 판매량의 산점도"
   ]
  },
  {
   "cell_type": "markdown",
   "id": "036615b5-3c99-4dbf-abb4-20884e442e0e",
   "metadata": {},
   "source": [
    "`-` 소아마비 = 30 + 온도 $\\times$ 0.5 + $\\epsilon^*$"
   ]
  },
  {
   "cell_type": "code",
   "execution_count": 33,
   "id": "ae7a3f14-dabb-4456-a7f1-50cbdf2203c1",
   "metadata": {},
   "outputs": [],
   "source": [
    "np.random.seed(2)\n",
    "ϵ2=np.random.normal(size=12,scale=5)\n",
    "disease = 30 + temp * 0.5 + ϵ2"
   ]
  },
  {
   "cell_type": "code",
   "execution_count": 34,
   "id": "19c01527-1d29-46bd-a228-b5cfb1c77dac",
   "metadata": {},
   "outputs": [
    {
     "data": {
      "text/plain": [
       "[<matplotlib.lines.Line2D at 0x7fc798917a60>]"
      ]
     },
     "execution_count": 34,
     "metadata": {},
     "output_type": "execute_result"
    },
    {
     "data": {
      "image/png": "[encoded data removed]",
      "text/plain": [
       "<Figure size 432x288 with 1 Axes>"
      ]
     },
     "metadata": {
      "needs_background": "light"
     },
     "output_type": "display_data"
    }
   ],
   "source": [
    "plt.plot(temp,disease,'.')"
   ]
  },
  {
   "cell_type": "markdown",
   "id": "364a09c3-d72d-475b-a032-7f491186908b",
   "metadata": {},
   "source": [
    "- 온도와 소아마비의 산점도"
   ]
  },
  {
   "cell_type": "markdown",
   "id": "a9b75a10-5329-4e59-9bc8-24a45b984672",
   "metadata": {},
   "source": [
    "`-` 아이스크림과 질병의 산점도를 그려보자."
   ]
  },
  {
   "cell_type": "code",
   "execution_count": 35,
   "id": "b777b4be-4c4c-4ec6-bef0-0db56b920ec0",
   "metadata": {},
   "outputs": [
    {
     "data": {
      "text/plain": [
       "[<matplotlib.lines.Line2D at 0x7fc79894f580>]"
      ]
     },
     "execution_count": 35,
     "metadata": {},
     "output_type": "execute_result"
    },
    {
     "data": {
      "image/png": "[encoded data removed]",
      "text/plain": [
       "<Figure size 432x288 with 1 Axes>"
      ]
     },
     "metadata": {
      "needs_background": "light"
     },
     "output_type": "display_data"
    }
   ],
   "source": [
    "plt.plot(icecream,disease,'.')"
   ]
  },
  {
   "cell_type": "markdown",
   "id": "4cdbe2f8-f050-4c11-888d-198d93e1f395",
   "metadata": {},
   "source": [
    "- 양의 상관관계에 있다."
   ]
  },
  {
   "cell_type": "markdown",
   "id": "dac8696b-60eb-47ae-b500-9a1d20a7a1dd",
   "metadata": {},
   "source": [
    "`-` 아이스크림 중 어떠한 물질이 소아마비를 일으키는 것이 분명하므로 (인과성이 분명해보이니까) 아래와 같은 모형을 세우자. <-- 여기서부터 틀렸음."
   ]
  },
  {
   "cell_type": "markdown",
   "id": "344ca967-752f-4df6-bc43-fd9a31787351",
   "metadata": {},
   "source": [
    "$${\\tt disease}_i =\\beta_0+\\beta_1 {\\tt icecream}_i +\\epsilon_i,\\quad \\textbf{for} ~~ i=1,2,\\dots,12$$"
   ]
  },
  {
   "cell_type": "markdown",
   "id": "2e301eb9-a504-40bc-ba0f-4379697a94a4",
   "metadata": {},
   "source": [
    "`-` 적절한 $\\beta_0$와 $\\beta_1$을 추정하면 우리는 아이스크림과 소아마비의 관계를 알 수 있다. <-- 틀린주장\n",
    "- 틀린 모형\n",
    "- 도대체 뭘 믿고 분석을 해야하는건가? 우리가 뭘 잘못했는가?"
   ]
  },
  {
   "cell_type": "markdown",
   "id": "8187f5ae-ee27-4341-b104-1b1703edd854",
   "metadata": {},
   "source": [
    "`-` 두 변수 사이에 상관관계가 있어도 실제 원인은 다른 변수에 숨겨져있는 경우가 많음"
   ]
  },
  {
   "cell_type": "markdown",
   "id": "f80d6cef-beba-4a3c-bb19-93bd39612e09",
   "metadata": {},
   "source": [
    "- 예제의 상황 : 아이스크림과 익사자도 양의 상관관계이 있을것이다.\n",
    "- 아이스크림을 먹이면 물에 빠져 죽는다. $\\to$ 틀린 주장\n",
    "- 사실 기온이 숨겨진 원인이다. 기온이 증가하면 아이스크림 판매량도 증가하고 폭염때문에 익사 사고율도 높아지는 구조이다."
   ]
  },
  {
   "cell_type": "markdown",
   "id": "e3139800-8bac-4264-86f4-c7b47ab92437",
   "metadata": {},
   "source": [
    "`-` 아래와 같은 예제를 생각."
   ]
  },
  {
   "cell_type": "markdown",
   "id": "dc215538-1e9c-468c-bd96-c139bb209cfa",
   "metadata": {},
   "source": [
    "- 인구수 $\\to$ 교회\n",
    "- 인구수 $\\to$ 범죄 건 수\n",
    "- 지역별 교회와 범죄 건 수를 살펴보면 상관관계가 높게 나올 것임"
   ]
  },
  {
   "cell_type": "markdown",
   "id": "9138031f-b0ef-46be-ad1c-88130c882c22",
   "metadata": {},
   "source": [
    "`-` 교회를 많이 지으면 범죄 건 수도 증가한다. ?\n",
    "- 사실 그렇지 않다.\n",
    "- 인구 수가 비슷한 도시끼리 묶어서 비교해보면 교회와 범죄건수는 양의 상관관계에 있지 않을것임."
   ]
  },
  {
   "cell_type": "markdown",
   "id": "ef34d763-7dc0-4e08-92a8-d206be2422e8",
   "metadata": {},
   "source": [
    "`-` 올바른 분석: 온도가 비슷한 그룹끼리 묶어서 그려보자 $\\to$ 상관계수가 줄어들 것이다."
   ]
  },
  {
   "cell_type": "code",
   "execution_count": 46,
   "id": "7836f09e-fd61-4937-a2f8-811948833942",
   "metadata": {},
   "outputs": [
    {
     "data": {
      "text/plain": [
       "(array([-10.2,  -5.2,   0.1,  10.1,  12.2,  14.7,  25.4,  26.8,  28.9,\n",
       "         35.1,  32.2,  34.6]),\n",
       " array([22.81621076, 27.11866586, 19.36901952, 43.25135404, 27.13282207,\n",
       "        33.14126317, 45.21440709, 37.17355957, 39.16023891, 43.00496193,\n",
       "        48.85727022, 58.76104006]),\n",
       " array([ 7.72172682,  6.54121793, 17.55914124, 34.83515689, 48.72703815,\n",
       "        37.89230652, 79.52405882, 69.7939655 , 79.39519548, 88.95314812,\n",
       "        91.71053969, 78.89929645]))"
      ]
     },
     "execution_count": 46,
     "metadata": {},
     "output_type": "execute_result"
    }
   ],
   "source": [
    "temp,disease,icecream"
   ]
  },
  {
   "cell_type": "code",
   "execution_count": 43,
   "id": "2ec1bb86-05da-462b-bdac-a7ac20b62bed",
   "metadata": {},
   "outputs": [
    {
     "data": {
      "text/plain": [
       "[<matplotlib.lines.Line2D at 0x7fc7baea3d30>]"
      ]
     },
     "execution_count": 43,
     "metadata": {},
     "output_type": "execute_result"
    },
    {
     "data": {
      "image/png": "[encoded data removed]",
      "text/plain": [
       "<Figure size 432x288 with 1 Axes>"
      ]
     },
     "metadata": {
      "needs_background": "light"
     },
     "output_type": "display_data"
    }
   ],
   "source": [
    "plt.plot(icecream[:6],disease[:6],'.')"
   ]
  },
  {
   "cell_type": "code",
   "execution_count": 44,
   "id": "8163b78e-d172-4233-a356-afe6797f55c9",
   "metadata": {},
   "outputs": [
    {
     "data": {
      "text/plain": [
       "[<matplotlib.lines.Line2D at 0x7fc7bac0ea30>]"
      ]
     },
     "execution_count": 44,
     "metadata": {},
     "output_type": "execute_result"
    },
    {
     "data": {
      "image/png": "[encoded data removed]",
      "text/plain": [
       "<Figure size 432x288 with 1 Axes>"
      ]
     },
     "metadata": {
      "needs_background": "light"
     },
     "output_type": "display_data"
    }
   ],
   "source": [
    "plt.plot(icecream[6:],disease[6:],'.')"
   ]
  },
  {
   "cell_type": "markdown",
   "id": "06fdbae5-271f-420c-92b2-f5f325163015",
   "metadata": {},
   "source": [
    "`-` 진짜로 선형관계가 약해졌다.."
   ]
  },
  {
   "cell_type": "markdown",
   "id": "24cc881e-7ffa-453e-80da-6566e5c6d55c",
   "metadata": {},
   "source": [
    "### 좀 더 그럴듯한 자료"
   ]
  },
  {
   "cell_type": "markdown",
   "id": "7d5e56ba-5982-4ef9-9eb4-e5c20c3f52c4",
   "metadata": {},
   "source": [
    "`-` 위의 toy example은 데이터가 너무 작아서 억지스러움"
   ]
  },
  {
   "cell_type": "code",
   "execution_count": 47,
   "id": "322b350e-860e-4b5c-9b45-b898919eb1f4",
   "metadata": {},
   "outputs": [],
   "source": [
    "df=pd.read_csv('https://raw.githubusercontent.com/guebin/2021DV/master/_notebooks/extremum.csv')"
   ]
  },
  {
   "cell_type": "code",
   "execution_count": 48,
   "id": "eafb070a-6427-41f9-a5cf-2c6f61b16462",
   "metadata": {},
   "outputs": [
    {
     "data": {
      "text/html": [
       "<div>\n",
       "<style scoped>\n",
       "    .dataframe tbody tr th:only-of-type {\n",
       "        vertical-align: middle;\n",
       "    }\n",
       "\n",
       "    .dataframe tbody tr th {\n",
       "        vertical-align: top;\n",
       "    }\n",
       "\n",
       "    .dataframe thead th {\n",
       "        text-align: right;\n",
       "    }\n",
       "</style>\n",
       "<table border=\"1\" class=\"dataframe\">\n",
       "  <thead>\n",
       "    <tr style=\"text-align: right;\">\n",
       "      <th></th>\n",
       "      <th>지점번호</th>\n",
       "      <th>지점명</th>\n",
       "      <th>일시</th>\n",
       "      <th>평균기온(℃)</th>\n",
       "      <th>최고기온(℃)</th>\n",
       "      <th>최고기온시각</th>\n",
       "      <th>최저기온(℃)</th>\n",
       "      <th>최저기온시각일교차</th>\n",
       "      <th>Unnamed: 8</th>\n",
       "    </tr>\n",
       "  </thead>\n",
       "  <tbody>\n",
       "    <tr>\n",
       "      <th>0</th>\n",
       "      <td>146</td>\n",
       "      <td>전주</td>\n",
       "      <td>2020-01-01</td>\n",
       "      <td>-0.5</td>\n",
       "      <td>4.3</td>\n",
       "      <td>15:09</td>\n",
       "      <td>-6.4</td>\n",
       "      <td>1:42</td>\n",
       "      <td>10.7</td>\n",
       "    </tr>\n",
       "    <tr>\n",
       "      <th>1</th>\n",
       "      <td>146</td>\n",
       "      <td>전주</td>\n",
       "      <td>2020-01-02</td>\n",
       "      <td>1.4</td>\n",
       "      <td>6.5</td>\n",
       "      <td>14:12</td>\n",
       "      <td>-3.0</td>\n",
       "      <td>7:55</td>\n",
       "      <td>9.5</td>\n",
       "    </tr>\n",
       "    <tr>\n",
       "      <th>2</th>\n",
       "      <td>146</td>\n",
       "      <td>전주</td>\n",
       "      <td>2020-01-03</td>\n",
       "      <td>2.6</td>\n",
       "      <td>7.6</td>\n",
       "      <td>13:32</td>\n",
       "      <td>-0.5</td>\n",
       "      <td>23:53</td>\n",
       "      <td>8.1</td>\n",
       "    </tr>\n",
       "    <tr>\n",
       "      <th>3</th>\n",
       "      <td>146</td>\n",
       "      <td>전주</td>\n",
       "      <td>2020-01-04</td>\n",
       "      <td>2.0</td>\n",
       "      <td>7.7</td>\n",
       "      <td>13:51</td>\n",
       "      <td>-2.6</td>\n",
       "      <td>5:30</td>\n",
       "      <td>10.3</td>\n",
       "    </tr>\n",
       "    <tr>\n",
       "      <th>4</th>\n",
       "      <td>146</td>\n",
       "      <td>전주</td>\n",
       "      <td>2020-01-05</td>\n",
       "      <td>2.5</td>\n",
       "      <td>8.6</td>\n",
       "      <td>14:05</td>\n",
       "      <td>-3.2</td>\n",
       "      <td>7:36</td>\n",
       "      <td>11.8</td>\n",
       "    </tr>\n",
       "    <tr>\n",
       "      <th>...</th>\n",
       "      <td>...</td>\n",
       "      <td>...</td>\n",
       "      <td>...</td>\n",
       "      <td>...</td>\n",
       "      <td>...</td>\n",
       "      <td>...</td>\n",
       "      <td>...</td>\n",
       "      <td>...</td>\n",
       "      <td>...</td>\n",
       "    </tr>\n",
       "    <tr>\n",
       "      <th>651</th>\n",
       "      <td>146</td>\n",
       "      <td>전주</td>\n",
       "      <td>2021-10-13</td>\n",
       "      <td>19.9</td>\n",
       "      <td>25.5</td>\n",
       "      <td>14:29</td>\n",
       "      <td>15.6</td>\n",
       "      <td>3:49</td>\n",
       "      <td>9.9</td>\n",
       "    </tr>\n",
       "    <tr>\n",
       "      <th>652</th>\n",
       "      <td>146</td>\n",
       "      <td>전주</td>\n",
       "      <td>2021-10-14</td>\n",
       "      <td>20.4</td>\n",
       "      <td>25.5</td>\n",
       "      <td>13:36</td>\n",
       "      <td>17.0</td>\n",
       "      <td>6:15</td>\n",
       "      <td>8.5</td>\n",
       "    </tr>\n",
       "    <tr>\n",
       "      <th>653</th>\n",
       "      <td>146</td>\n",
       "      <td>전주</td>\n",
       "      <td>2021-10-15</td>\n",
       "      <td>18.3</td>\n",
       "      <td>22.0</td>\n",
       "      <td>13:47</td>\n",
       "      <td>15.7</td>\n",
       "      <td>4:48</td>\n",
       "      <td>6.3</td>\n",
       "    </tr>\n",
       "    <tr>\n",
       "      <th>654</th>\n",
       "      <td>146</td>\n",
       "      <td>전주</td>\n",
       "      <td>2021-10-16</td>\n",
       "      <td>12.8</td>\n",
       "      <td>17.4</td>\n",
       "      <td>0:01</td>\n",
       "      <td>6.5</td>\n",
       "      <td>23:31</td>\n",
       "      <td>10.9</td>\n",
       "    </tr>\n",
       "    <tr>\n",
       "      <th>655</th>\n",
       "      <td>146</td>\n",
       "      <td>전주</td>\n",
       "      <td>2021-10-17</td>\n",
       "      <td>6.7</td>\n",
       "      <td>12.4</td>\n",
       "      <td>15:18</td>\n",
       "      <td>2.2</td>\n",
       "      <td>6:43</td>\n",
       "      <td>10.2</td>\n",
       "    </tr>\n",
       "  </tbody>\n",
       "</table>\n",
       "<p>656 rows × 9 columns</p>\n",
       "</div>"
      ],
      "text/plain": [
       "     지점번호 지점명          일시  평균기온(℃)  최고기온(℃) 최고기온시각  최저기온(℃) 최저기온시각일교차  \\\n",
       "0     146  전주  2020-01-01     -0.5      4.3  15:09     -6.4      1:42   \n",
       "1     146  전주  2020-01-02      1.4      6.5  14:12     -3.0      7:55   \n",
       "2     146  전주  2020-01-03      2.6      7.6  13:32     -0.5     23:53   \n",
       "3     146  전주  2020-01-04      2.0      7.7  13:51     -2.6      5:30   \n",
       "4     146  전주  2020-01-05      2.5      8.6  14:05     -3.2      7:36   \n",
       "..    ...  ..         ...      ...      ...    ...      ...       ...   \n",
       "651   146  전주  2021-10-13     19.9     25.5  14:29     15.6      3:49   \n",
       "652   146  전주  2021-10-14     20.4     25.5  13:36     17.0      6:15   \n",
       "653   146  전주  2021-10-15     18.3     22.0  13:47     15.7      4:48   \n",
       "654   146  전주  2021-10-16     12.8     17.4   0:01      6.5     23:31   \n",
       "655   146  전주  2021-10-17      6.7     12.4  15:18      2.2      6:43   \n",
       "\n",
       "     Unnamed: 8  \n",
       "0          10.7  \n",
       "1           9.5  \n",
       "2           8.1  \n",
       "3          10.3  \n",
       "4          11.8  \n",
       "..          ...  \n",
       "651         9.9  \n",
       "652         8.5  \n",
       "653         6.3  \n",
       "654        10.9  \n",
       "655        10.2  \n",
       "\n",
       "[656 rows x 9 columns]"
      ]
     },
     "execution_count": 48,
     "metadata": {},
     "output_type": "execute_result"
    }
   ],
   "source": [
    "df"
   ]
  },
  {
   "cell_type": "markdown",
   "id": "28248533-335a-4c12-ba0c-6b7b68974564",
   "metadata": {},
   "source": [
    "`-` 평균기온만 선택하여 뽑자."
   ]
  },
  {
   "cell_type": "code",
   "execution_count": 51,
   "id": "a5211eea-dab8-4c99-8d8a-a197b46628c3",
   "metadata": {},
   "outputs": [
    {
     "data": {
      "text/plain": [
       "0          지점번호\n",
       "1           지점명\n",
       "2            일시\n",
       "3       평균기온(℃)\n",
       "4       최고기온(℃)\n",
       "5        최고기온시각\n",
       "6       최저기온(℃)\n",
       "7     최저기온시각일교차\n",
       "8    Unnamed: 8\n",
       "dtype: object"
      ]
     },
     "execution_count": 51,
     "metadata": {},
     "output_type": "execute_result"
    }
   ],
   "source": [
    "pd.Series(df.columns)"
   ]
  },
  {
   "cell_type": "code",
   "execution_count": 54,
   "id": "7dd28945-dfd9-4dbe-8281-cf6cacc3e3ca",
   "metadata": {},
   "outputs": [],
   "source": [
    "temp=np.array(df.iloc[:,3])"
   ]
  },
  {
   "cell_type": "code",
   "execution_count": 56,
   "id": "e10984a1-e3cd-4d09-8529-3fd682b14a52",
   "metadata": {},
   "outputs": [
    {
     "data": {
      "text/plain": [
       "656"
      ]
     },
     "execution_count": 56,
     "metadata": {},
     "output_type": "execute_result"
    }
   ],
   "source": [
    "len(temp)"
   ]
  },
  {
   "cell_type": "markdown",
   "id": "1bfc866a-9bd6-443c-a473-aad4ba22d0ae",
   "metadata": {},
   "source": [
    "`-` 아이스크림 판매량"
   ]
  },
  {
   "cell_type": "code",
   "execution_count": 67,
   "id": "80b21183-9747-4138-969e-551f491f66b1",
   "metadata": {},
   "outputs": [],
   "source": [
    "np.random.seed(1)\n",
    "ϵ1=np.random.normal(size=656, scale=10)\n",
    "icecream=temp*2 + 30 + ϵ1"
   ]
  },
  {
   "cell_type": "code",
   "execution_count": 68,
   "id": "4994f7b6-706e-4826-b19c-da4335afd761",
   "metadata": {},
   "outputs": [
    {
     "data": {
      "text/plain": [
       "[<matplotlib.lines.Line2D at 0x7fc7a8bac220>]"
      ]
     },
     "execution_count": 68,
     "metadata": {},
     "output_type": "execute_result"
    },
    {
     "data": {
      "image/png": "[encoded data removed]",
      "text/plain": [
       "<Figure size 432x288 with 1 Axes>"
      ]
     },
     "metadata": {
      "needs_background": "light"
     },
     "output_type": "display_data"
    }
   ],
   "source": [
    "plt.plot(temp,icecream,'.')"
   ]
  },
  {
   "cell_type": "markdown",
   "id": "a21a75f7-07a6-474b-b859-1c695525d32e",
   "metadata": {},
   "source": [
    "`-` 소아마비"
   ]
  },
  {
   "cell_type": "code",
   "execution_count": 65,
   "id": "4a4cba44-d557-4f9f-a5a2-f19b1de38816",
   "metadata": {},
   "outputs": [],
   "source": [
    "np.random.seed(2)\n",
    "ϵ2=np.random.normal(size=656,scale=1)\n",
    "disease=temp*0.5 + 40 + ϵ2"
   ]
  },
  {
   "cell_type": "code",
   "execution_count": 66,
   "id": "82b88059-df56-499b-8739-1e65e57c646f",
   "metadata": {},
   "outputs": [
    {
     "data": {
      "text/plain": [
       "[<matplotlib.lines.Line2D at 0x7fc7bb04a610>]"
      ]
     },
     "execution_count": 66,
     "metadata": {},
     "output_type": "execute_result"
    },
    {
     "data": {
      "image/png": "[encoded data removed]",
      "text/plain": [
       "<Figure size 432x288 with 1 Axes>"
      ]
     },
     "metadata": {
      "needs_background": "light"
     },
     "output_type": "display_data"
    }
   ],
   "source": [
    "plt.plot(temp,disease,'.')"
   ]
  },
  {
   "cell_type": "markdown",
   "id": "d14f5d67-1c00-429e-bdef-857960d0fc79",
   "metadata": {},
   "source": [
    "`-` 아이스크림과 소아마비"
   ]
  },
  {
   "cell_type": "code",
   "execution_count": 71,
   "id": "a0c1b3ba-c073-4143-9b7a-4674bdf3f8f0",
   "metadata": {},
   "outputs": [
    {
     "data": {
      "text/plain": [
       "[<matplotlib.lines.Line2D at 0x7fc788b50d60>]"
      ]
     },
     "execution_count": 71,
     "metadata": {},
     "output_type": "execute_result"
    },
    {
     "data": {
      "image/png": "[encoded data removed]",
      "text/plain": [
       "<Figure size 432x288 with 1 Axes>"
      ]
     },
     "metadata": {
      "needs_background": "light"
     },
     "output_type": "display_data"
    }
   ],
   "source": [
    "plt.plot(icecream,disease,'.')"
   ]
  },
  {
   "cell_type": "code",
   "execution_count": 72,
   "id": "84f01156-5ea0-482e-8653-b46fa3620d9b",
   "metadata": {},
   "outputs": [
    {
     "data": {
      "text/plain": [
       "array([[1.        , 0.86298975],\n",
       "       [0.86298975, 1.        ]])"
      ]
     },
     "execution_count": 72,
     "metadata": {},
     "output_type": "execute_result"
    }
   ],
   "source": [
    "np.corrcoef(icecream,disease)"
   ]
  },
  {
   "cell_type": "markdown",
   "id": "7ca1944d-bdeb-4d6e-be16-df9ea65b83b8",
   "metadata": {},
   "source": [
    "- 0.86정도(상당히 1에 가깝다)"
   ]
  },
  {
   "cell_type": "markdown",
   "id": "c62ac569-60f3-45b4-9aa3-ac3c7d71a7f8",
   "metadata": {},
   "source": [
    "`-` 여름만 뽑아서 그려보면 ?"
   ]
  },
  {
   "cell_type": "code",
   "execution_count": 76,
   "id": "8eb1558e-9885-4fa5-9167-6d7136ab9224",
   "metadata": {},
   "outputs": [
    {
     "data": {
      "text/plain": [
       "[<matplotlib.lines.Line2D at 0x7fc758152a30>]"
      ]
     },
     "execution_count": 76,
     "metadata": {},
     "output_type": "execute_result"
    },
    {
     "data": {
      "image/png": "[encoded data removed]",
      "text/plain": [
       "<Figure size 432x288 with 1 Axes>"
      ]
     },
     "metadata": {
      "needs_background": "light"
     },
     "output_type": "display_data"
    }
   ],
   "source": [
    "plt.plot(icecream[temp>25],disease[temp>25],'.') ## 평균기온이 25도가 넘어가면 여름"
   ]
  },
  {
   "cell_type": "markdown",
   "id": "2b2ff535-bc40-40b3-bd1c-858a7847a2fe",
   "metadata": {},
   "source": [
    "`-` 산점도"
   ]
  },
  {
   "cell_type": "code",
   "execution_count": 82,
   "id": "6a5c0028-27de-43e8-bd9f-2aa642902891",
   "metadata": {},
   "outputs": [
    {
     "data": {
      "text/plain": [
       "[<matplotlib.lines.Line2D at 0x7fc788de3f40>]"
      ]
     },
     "execution_count": 82,
     "metadata": {},
     "output_type": "execute_result"
    },
    {
     "data": {
      "image/png": "[encoded data removed]",
      "text/plain": [
       "<Figure size 432x288 with 4 Axes>"
      ]
     },
     "metadata": {
      "needs_background": "light"
     },
     "output_type": "display_data"
    }
   ],
   "source": [
    "fig, ((ax1,ax2),(ax3,ax4)) = plt.subplots(2,2)\n",
    "ax1.plot(temp,icecream,'.')\n",
    "ax2.plot(temp,disease,'.')\n",
    "ax3.plot(icecream,disease,'.')\n",
    "ax4.plot(icecream[temp>25],disease[temp>25],'.')"
   ]
  },
  {
   "cell_type": "code",
   "execution_count": 83,
   "id": "6ab0a494-9de3-480e-b4f4-9649ede2a0d3",
   "metadata": {},
   "outputs": [
    {
     "data": {
      "text/plain": [
       "[<matplotlib.lines.Line2D at 0x7fc7a8dbadf0>]"
      ]
     },
     "execution_count": 83,
     "metadata": {},
     "output_type": "execute_result"
    },
    {
     "data": {
      "image/png": "[encoded data removed]",
      "text/plain": [
       "<Figure size 432x288 with 4 Axes>"
      ]
     },
     "metadata": {
      "needs_background": "light"
     },
     "output_type": "display_data"
    }
   ],
   "source": [
    "fig, ((ax1,ax2),(ax3,ax4)) = plt.subplots(2,2)\n",
    "ax1.plot(temp,icecream,'.')\n",
    "ax2.plot(temp,disease,'.')\n",
    "ax3.plot(icecream,disease,'.')\n",
    "ax4.plot(icecream,disease,'.')\n",
    "ax4.plot(icecream[temp>25],disease[temp>25],'.')"
   ]
  },
  {
   "cell_type": "markdown",
   "id": "47f38f5a-9a68-427d-b258-33a284cf8034",
   "metadata": {},
   "source": [
    "### 온도구간을 세분화하여 시각화"
   ]
  },
  {
   "cell_type": "markdown",
   "id": "4109ff03-5a86-4b6d-a47b-761950ce0cf8",
   "metadata": {},
   "source": [
    "`-` 목표 : 모든 온도구간에 대하여 각각 색을 다르게하여 그려보자."
   ]
  },
  {
   "cell_type": "markdown",
   "id": "cd076ab1-70f8-4c2b-861b-70f263979408",
   "metadata": {},
   "source": [
    "- 사실 지금 변수는 온도, 아이스크림 판매량, 소아마비\n",
    "- 지금까지는 기본 산점도만 사용하였기에 2차원 플랏만 그렸음 $\\to$ 그래서 각각의 산점도를 정신없이 그려왔음\n",
    "- 온도가 유사한 지역을 색으로 묶으면 3차원 플랏이 가능함"
   ]
  },
  {
   "cell_type": "markdown",
   "id": "3e577f0f-922e-4bc7-9989-7db5a06fa1b5",
   "metadata": {},
   "source": [
    "`-` 일단 데이터프레임을 정리하자."
   ]
  },
  {
   "cell_type": "code",
   "execution_count": 87,
   "id": "0c4e934a-9748-4a49-9b56-dc86c121d6c0",
   "metadata": {},
   "outputs": [],
   "source": [
    "df1 = pd.DataFrame({'temp':temp, 'icecream':icecream,'disease':disease})"
   ]
  },
  {
   "cell_type": "code",
   "execution_count": 88,
   "id": "086e534a-5080-43db-ac00-a386064e3407",
   "metadata": {},
   "outputs": [
    {
     "data": {
      "text/html": [
       "<div>\n",
       "<style scoped>\n",
       "    .dataframe tbody tr th:only-of-type {\n",
       "        vertical-align: middle;\n",
       "    }\n",
       "\n",
       "    .dataframe tbody tr th {\n",
       "        vertical-align: top;\n",
       "    }\n",
       "\n",
       "    .dataframe thead th {\n",
       "        text-align: right;\n",
       "    }\n",
       "</style>\n",
       "<table border=\"1\" class=\"dataframe\">\n",
       "  <thead>\n",
       "    <tr style=\"text-align: right;\">\n",
       "      <th></th>\n",
       "      <th>temp</th>\n",
       "      <th>icecream</th>\n",
       "      <th>disease</th>\n",
       "    </tr>\n",
       "  </thead>\n",
       "  <tbody>\n",
       "    <tr>\n",
       "      <th>0</th>\n",
       "      <td>-0.5</td>\n",
       "      <td>45.243454</td>\n",
       "      <td>39.333242</td>\n",
       "    </tr>\n",
       "    <tr>\n",
       "      <th>1</th>\n",
       "      <td>1.4</td>\n",
       "      <td>26.682436</td>\n",
       "      <td>40.643733</td>\n",
       "    </tr>\n",
       "    <tr>\n",
       "      <th>2</th>\n",
       "      <td>2.6</td>\n",
       "      <td>29.918282</td>\n",
       "      <td>39.163804</td>\n",
       "    </tr>\n",
       "    <tr>\n",
       "      <th>3</th>\n",
       "      <td>2.0</td>\n",
       "      <td>23.270314</td>\n",
       "      <td>42.640271</td>\n",
       "    </tr>\n",
       "    <tr>\n",
       "      <th>4</th>\n",
       "      <td>2.5</td>\n",
       "      <td>43.654076</td>\n",
       "      <td>39.456564</td>\n",
       "    </tr>\n",
       "    <tr>\n",
       "      <th>...</th>\n",
       "      <td>...</td>\n",
       "      <td>...</td>\n",
       "      <td>...</td>\n",
       "    </tr>\n",
       "    <tr>\n",
       "      <th>651</th>\n",
       "      <td>19.9</td>\n",
       "      <td>78.839992</td>\n",
       "      <td>49.633906</td>\n",
       "    </tr>\n",
       "    <tr>\n",
       "      <th>652</th>\n",
       "      <td>20.4</td>\n",
       "      <td>86.554679</td>\n",
       "      <td>48.920443</td>\n",
       "    </tr>\n",
       "    <tr>\n",
       "      <th>653</th>\n",
       "      <td>18.3</td>\n",
       "      <td>78.666079</td>\n",
       "      <td>49.882650</td>\n",
       "    </tr>\n",
       "    <tr>\n",
       "      <th>654</th>\n",
       "      <td>12.8</td>\n",
       "      <td>52.771364</td>\n",
       "      <td>46.613159</td>\n",
       "    </tr>\n",
       "    <tr>\n",
       "      <th>655</th>\n",
       "      <td>6.7</td>\n",
       "      <td>40.736731</td>\n",
       "      <td>44.902513</td>\n",
       "    </tr>\n",
       "  </tbody>\n",
       "</table>\n",
       "<p>656 rows × 3 columns</p>\n",
       "</div>"
      ],
      "text/plain": [
       "     temp   icecream    disease\n",
       "0    -0.5  45.243454  39.333242\n",
       "1     1.4  26.682436  40.643733\n",
       "2     2.6  29.918282  39.163804\n",
       "3     2.0  23.270314  42.640271\n",
       "4     2.5  43.654076  39.456564\n",
       "..    ...        ...        ...\n",
       "651  19.9  78.839992  49.633906\n",
       "652  20.4  86.554679  48.920443\n",
       "653  18.3  78.666079  49.882650\n",
       "654  12.8  52.771364  46.613159\n",
       "655   6.7  40.736731  44.902513\n",
       "\n",
       "[656 rows x 3 columns]"
      ]
     },
     "execution_count": 88,
     "metadata": {},
     "output_type": "execute_result"
    }
   ],
   "source": [
    "df1"
   ]
  },
  {
   "cell_type": "markdown",
   "id": "d5408b32-50a4-4e22-8840-3fe673373008",
   "metadata": {},
   "source": [
    "`-` 온도를 카테고리화 하자. $\\to$ 적당한 구간을 설정하기 위해 히스토그램을 그려보자."
   ]
  },
  {
   "cell_type": "code",
   "execution_count": 89,
   "id": "15aace55-ade8-4341-80c4-97833e0b10b2",
   "metadata": {},
   "outputs": [
    {
     "data": {
      "text/plain": [
       "<AxesSubplot:>"
      ]
     },
     "execution_count": 89,
     "metadata": {},
     "output_type": "execute_result"
    },
    {
     "data": {
      "image/png": "[encoded data removed]",
      "text/plain": [
       "<Figure size 432x288 with 1 Axes>"
      ]
     },
     "metadata": {
      "needs_background": "light"
     },
     "output_type": "display_data"
    }
   ],
   "source": [
    "df1.temp.hist()"
   ]
  },
  {
   "cell_type": "code",
   "execution_count": 90,
   "id": "4dba2a15-976c-49b0-aa48-29dbc3a2bdaa",
   "metadata": {},
   "outputs": [
    {
     "data": {
      "text/plain": [
       "(array([  3.,   9.,  29.,  60.,  92.,  86.,  65.,  93., 139.,  80.]),\n",
       " array([-12.4 ,  -8.16,  -3.92,   0.32,   4.56,   8.8 ,  13.04,  17.28,\n",
       "         21.52,  25.76,  30.  ]),\n",
       " <BarContainer object of 10 artists>)"
      ]
     },
     "execution_count": 90,
     "metadata": {},
     "output_type": "execute_result"
    },
    {
     "data": {
      "image/png": "[encoded data removed]",
      "text/plain": [
       "<Figure size 432x288 with 1 Axes>"
      ]
     },
     "metadata": {
      "needs_background": "light"
     },
     "output_type": "display_data"
    }
   ],
   "source": [
    "plt.hist(df1.temp)"
   ]
  },
  {
   "cell_type": "markdown",
   "id": "3d64518a-33f1-4495-863f-e3b04f8d0389",
   "metadata": {},
   "source": [
    "`-` 구간은 5정도로 하면 적당할 것 같다."
   ]
  },
  {
   "cell_type": "code",
   "execution_count": 91,
   "id": "1b9d1057-3d67-4ae6-b016-fc1c424051af",
   "metadata": {},
   "outputs": [
    {
     "data": {
      "text/plain": [
       "count    656.000000\n",
       "mean      15.083232\n",
       "std        9.286912\n",
       "min      -12.400000\n",
       "25%        7.675000\n",
       "50%       16.150000\n",
       "75%       23.200000\n",
       "max       30.000000\n",
       "Name: temp, dtype: float64"
      ]
     },
     "execution_count": 91,
     "metadata": {},
     "output_type": "execute_result"
    }
   ],
   "source": [
    "df1.temp.describe()"
   ]
  },
  {
   "cell_type": "code",
   "execution_count": 92,
   "id": "cb23ce00-17a6-4ca1-83b1-eefdd9069a7c",
   "metadata": {},
   "outputs": [],
   "source": [
    "def f(x):\n",
    "    if x<0:\n",
    "        y='group0'\n",
    "    elif x<5:\n",
    "        y='group5'\n",
    "    elif x<10:\n",
    "        y='group10'\n",
    "    elif x<15:\n",
    "        y='group15'\n",
    "    elif x<20:\n",
    "        y='group20'\n",
    "    elif x<25:\n",
    "        y='group25'\n",
    "    else:\n",
    "        y='group30'\n",
    "    return y"
   ]
  },
  {
   "cell_type": "code",
   "execution_count": 98,
   "id": "438c90e1-7285-4a6a-a58e-3a3ceae88b3c",
   "metadata": {},
   "outputs": [],
   "source": [
    "df1['temp2']=list(map(f,df1.temp))"
   ]
  },
  {
   "cell_type": "code",
   "execution_count": 99,
   "id": "e515d2b4-2227-4f2d-9b19-6313d361b111",
   "metadata": {},
   "outputs": [
    {
     "data": {
      "text/html": [
       "<div>\n",
       "<style scoped>\n",
       "    .dataframe tbody tr th:only-of-type {\n",
       "        vertical-align: middle;\n",
       "    }\n",
       "\n",
       "    .dataframe tbody tr th {\n",
       "        vertical-align: top;\n",
       "    }\n",
       "\n",
       "    .dataframe thead th {\n",
       "        text-align: right;\n",
       "    }\n",
       "</style>\n",
       "<table border=\"1\" class=\"dataframe\">\n",
       "  <thead>\n",
       "    <tr style=\"text-align: right;\">\n",
       "      <th></th>\n",
       "      <th>temp</th>\n",
       "      <th>icecream</th>\n",
       "      <th>disease</th>\n",
       "      <th>temp2</th>\n",
       "    </tr>\n",
       "  </thead>\n",
       "  <tbody>\n",
       "    <tr>\n",
       "      <th>0</th>\n",
       "      <td>-0.5</td>\n",
       "      <td>45.243454</td>\n",
       "      <td>39.333242</td>\n",
       "      <td>group0</td>\n",
       "    </tr>\n",
       "    <tr>\n",
       "      <th>1</th>\n",
       "      <td>1.4</td>\n",
       "      <td>26.682436</td>\n",
       "      <td>40.643733</td>\n",
       "      <td>group5</td>\n",
       "    </tr>\n",
       "    <tr>\n",
       "      <th>2</th>\n",
       "      <td>2.6</td>\n",
       "      <td>29.918282</td>\n",
       "      <td>39.163804</td>\n",
       "      <td>group5</td>\n",
       "    </tr>\n",
       "    <tr>\n",
       "      <th>3</th>\n",
       "      <td>2.0</td>\n",
       "      <td>23.270314</td>\n",
       "      <td>42.640271</td>\n",
       "      <td>group5</td>\n",
       "    </tr>\n",
       "    <tr>\n",
       "      <th>4</th>\n",
       "      <td>2.5</td>\n",
       "      <td>43.654076</td>\n",
       "      <td>39.456564</td>\n",
       "      <td>group5</td>\n",
       "    </tr>\n",
       "    <tr>\n",
       "      <th>...</th>\n",
       "      <td>...</td>\n",
       "      <td>...</td>\n",
       "      <td>...</td>\n",
       "      <td>...</td>\n",
       "    </tr>\n",
       "    <tr>\n",
       "      <th>651</th>\n",
       "      <td>19.9</td>\n",
       "      <td>78.839992</td>\n",
       "      <td>49.633906</td>\n",
       "      <td>group20</td>\n",
       "    </tr>\n",
       "    <tr>\n",
       "      <th>652</th>\n",
       "      <td>20.4</td>\n",
       "      <td>86.554679</td>\n",
       "      <td>48.920443</td>\n",
       "      <td>group25</td>\n",
       "    </tr>\n",
       "    <tr>\n",
       "      <th>653</th>\n",
       "      <td>18.3</td>\n",
       "      <td>78.666079</td>\n",
       "      <td>49.882650</td>\n",
       "      <td>group20</td>\n",
       "    </tr>\n",
       "    <tr>\n",
       "      <th>654</th>\n",
       "      <td>12.8</td>\n",
       "      <td>52.771364</td>\n",
       "      <td>46.613159</td>\n",
       "      <td>group15</td>\n",
       "    </tr>\n",
       "    <tr>\n",
       "      <th>655</th>\n",
       "      <td>6.7</td>\n",
       "      <td>40.736731</td>\n",
       "      <td>44.902513</td>\n",
       "      <td>group10</td>\n",
       "    </tr>\n",
       "  </tbody>\n",
       "</table>\n",
       "<p>656 rows × 4 columns</p>\n",
       "</div>"
      ],
      "text/plain": [
       "     temp   icecream    disease    temp2\n",
       "0    -0.5  45.243454  39.333242   group0\n",
       "1     1.4  26.682436  40.643733   group5\n",
       "2     2.6  29.918282  39.163804   group5\n",
       "3     2.0  23.270314  42.640271   group5\n",
       "4     2.5  43.654076  39.456564   group5\n",
       "..    ...        ...        ...      ...\n",
       "651  19.9  78.839992  49.633906  group20\n",
       "652  20.4  86.554679  48.920443  group25\n",
       "653  18.3  78.666079  49.882650  group20\n",
       "654  12.8  52.771364  46.613159  group15\n",
       "655   6.7  40.736731  44.902513  group10\n",
       "\n",
       "[656 rows x 4 columns]"
      ]
     },
     "execution_count": 99,
     "metadata": {},
     "output_type": "execute_result"
    }
   ],
   "source": [
    "df1"
   ]
  },
  {
   "cell_type": "code",
   "execution_count": 100,
   "id": "c9af3e4e-1554-4235-a5f5-633dc4eebc66",
   "metadata": {},
   "outputs": [],
   "source": [
    "from plotnine import *"
   ]
  },
  {
   "cell_type": "code",
   "execution_count": 2,
   "id": "d628601e-81ff-42a0-a942-6b16c97d0329",
   "metadata": {},
   "outputs": [
    {
     "ename": "NameError",
     "evalue": "name 'ggplot' is not defined",
     "output_type": "error",
     "traceback": [
      "\u001b[0;31m---------------------------------------------------------------------------\u001b[0m",
      "\u001b[0;31mNameError\u001b[0m                                 Traceback (most recent call last)",
      "\u001b[0;32m<ipython-input-2-db298926894e>\u001b[0m in \u001b[0;36m<module>\u001b[0;34m\u001b[0m\n\u001b[0;32m----> 1\u001b[0;31m \u001b[0mggplot\u001b[0m\u001b[0;34m(\u001b[0m\u001b[0mdata\u001b[0m\u001b[0;34m=\u001b[0m\u001b[0mdf1\u001b[0m\u001b[0;34m)\u001b[0m\u001b[0;34m+\u001b[0m\u001b[0mgeom_point\u001b[0m\u001b[0;34m(\u001b[0m\u001b[0maes\u001b[0m\u001b[0;34m(\u001b[0m\u001b[0mx\u001b[0m\u001b[0;34m=\u001b[0m\u001b[0;34m'icecream'\u001b[0m\u001b[0;34m,\u001b[0m\u001b[0my\u001b[0m\u001b[0;34m=\u001b[0m\u001b[0;34m'disease'\u001b[0m\u001b[0;34m,\u001b[0m\u001b[0mcolour\u001b[0m\u001b[0;34m=\u001b[0m\u001b[0;34m'temp2'\u001b[0m\u001b[0;34m)\u001b[0m\u001b[0;34m,\u001b[0m\u001b[0malpha\u001b[0m\u001b[0;34m=\u001b[0m\u001b[0;36m0.2\u001b[0m\u001b[0;34m)\u001b[0m\u001b[0;31m\\\u001b[0m\u001b[0;34m\u001b[0m\u001b[0;34m\u001b[0m\u001b[0m\n\u001b[0m\u001b[1;32m      2\u001b[0m \u001b[0;34m+\u001b[0m\u001b[0mgeom_smooth\u001b[0m\u001b[0;34m(\u001b[0m\u001b[0maes\u001b[0m\u001b[0;34m(\u001b[0m\u001b[0mx\u001b[0m\u001b[0;34m=\u001b[0m\u001b[0;34m'icecream'\u001b[0m\u001b[0;34m,\u001b[0m\u001b[0my\u001b[0m\u001b[0;34m=\u001b[0m\u001b[0;34m'disease'\u001b[0m\u001b[0;34m,\u001b[0m\u001b[0mcolour\u001b[0m\u001b[0;34m=\u001b[0m\u001b[0;34m'temp2'\u001b[0m\u001b[0;34m)\u001b[0m\u001b[0;34m,\u001b[0m\u001b[0msize\u001b[0m\u001b[0;34m=\u001b[0m\u001b[0;36m2\u001b[0m\u001b[0;34m,\u001b[0m\u001b[0mlinetype\u001b[0m\u001b[0;34m=\u001b[0m\u001b[0;34m'dashed'\u001b[0m\u001b[0;34m)\u001b[0m\u001b[0;34m\u001b[0m\u001b[0;34m\u001b[0m\u001b[0m\n",
      "\u001b[0;31mNameError\u001b[0m: name 'ggplot' is not defined"
     ]
    }
   ],
   "source": [
    "ggplot(data=df1)+geom_point(aes(x='icecream',y='disease',colour='temp2'),alpha=0.2)\\\n",
    "+geom_smooth(aes(x='icecream',y='disease',colour='temp2'),size=2,linetype='dashed')"
   ]
  },
  {
   "cell_type": "markdown",
   "id": "19520d9d-6b21-404f-92f3-9ed756a9522c",
   "metadata": {},
   "source": [
    "`-` 온도를 통제하니까 아이스크림과 질병은 관련이 없어보인다."
   ]
  },
  {
   "cell_type": "markdown",
   "id": "ec7ae126-9541-4401-9b29-ed571e8b9fba",
   "metadata": {},
   "source": [
    "### 진짜 만약에 아이스크림과 소아마비가 관련있는 경우라면?"
   ]
  },
  {
   "cell_type": "code",
   "execution_count": 119,
   "id": "f3ac7db0-c5dc-4dd4-b3c2-763530f49305",
   "metadata": {},
   "outputs": [],
   "source": [
    "np.random.seed(1)\n",
    "ϵ1=np.random.normal(size=656, scale=10)\n",
    "icecream=temp*2 + 30 + ϵ1"
   ]
  },
  {
   "cell_type": "code",
   "execution_count": 120,
   "id": "927276ca-f20d-4f40-954d-06dc9499bdd2",
   "metadata": {
    "tags": []
   },
   "outputs": [],
   "source": [
    "np.random.seed(2)\n",
    "ϵ2=np.random.normal(size=656,scale=1)\n",
    "disease= 30 + temp*0.0 + icecream*0.15 + ϵ2*2"
   ]
  },
  {
   "cell_type": "code",
   "execution_count": 122,
   "id": "f20e589b-a716-4d79-9e74-ced4c4a25097",
   "metadata": {},
   "outputs": [],
   "source": [
    "df2=pd.DataFrame({'temp':temp,'icecream':icecream,'disease':disease})\n",
    "df2['temp2']=list(map(f,df2.temp))"
   ]
  },
  {
   "cell_type": "code",
   "execution_count": 123,
   "id": "286503f7-08d3-4e65-ab12-15f25bce5f9c",
   "metadata": {},
   "outputs": [
    {
     "data": {
      "text/html": [
       "<div>\n",
       "<style scoped>\n",
       "    .dataframe tbody tr th:only-of-type {\n",
       "        vertical-align: middle;\n",
       "    }\n",
       "\n",
       "    .dataframe tbody tr th {\n",
       "        vertical-align: top;\n",
       "    }\n",
       "\n",
       "    .dataframe thead th {\n",
       "        text-align: right;\n",
       "    }\n",
       "</style>\n",
       "<table border=\"1\" class=\"dataframe\">\n",
       "  <thead>\n",
       "    <tr style=\"text-align: right;\">\n",
       "      <th></th>\n",
       "      <th>temp</th>\n",
       "      <th>icecream</th>\n",
       "      <th>disease</th>\n",
       "      <th>temp2</th>\n",
       "    </tr>\n",
       "  </thead>\n",
       "  <tbody>\n",
       "    <tr>\n",
       "      <th>0</th>\n",
       "      <td>-0.5</td>\n",
       "      <td>45.243454</td>\n",
       "      <td>35.953002</td>\n",
       "      <td>group0</td>\n",
       "    </tr>\n",
       "    <tr>\n",
       "      <th>1</th>\n",
       "      <td>1.4</td>\n",
       "      <td>26.682436</td>\n",
       "      <td>33.889832</td>\n",
       "      <td>group5</td>\n",
       "    </tr>\n",
       "    <tr>\n",
       "      <th>2</th>\n",
       "      <td>2.6</td>\n",
       "      <td>29.918282</td>\n",
       "      <td>30.215350</td>\n",
       "      <td>group5</td>\n",
       "    </tr>\n",
       "    <tr>\n",
       "      <th>3</th>\n",
       "      <td>2.0</td>\n",
       "      <td>23.270314</td>\n",
       "      <td>36.771089</td>\n",
       "      <td>group5</td>\n",
       "    </tr>\n",
       "    <tr>\n",
       "      <th>4</th>\n",
       "      <td>2.5</td>\n",
       "      <td>43.654076</td>\n",
       "      <td>32.961240</td>\n",
       "      <td>group5</td>\n",
       "    </tr>\n",
       "    <tr>\n",
       "      <th>...</th>\n",
       "      <td>...</td>\n",
       "      <td>...</td>\n",
       "      <td>...</td>\n",
       "      <td>...</td>\n",
       "    </tr>\n",
       "    <tr>\n",
       "      <th>651</th>\n",
       "      <td>19.9</td>\n",
       "      <td>78.839992</td>\n",
       "      <td>41.193811</td>\n",
       "      <td>group20</td>\n",
       "    </tr>\n",
       "    <tr>\n",
       "      <th>652</th>\n",
       "      <td>20.4</td>\n",
       "      <td>86.554679</td>\n",
       "      <td>40.424088</td>\n",
       "      <td>group25</td>\n",
       "    </tr>\n",
       "    <tr>\n",
       "      <th>653</th>\n",
       "      <td>18.3</td>\n",
       "      <td>78.666079</td>\n",
       "      <td>43.265212</td>\n",
       "      <td>group20</td>\n",
       "    </tr>\n",
       "    <tr>\n",
       "      <th>654</th>\n",
       "      <td>12.8</td>\n",
       "      <td>52.771364</td>\n",
       "      <td>38.342022</td>\n",
       "      <td>group15</td>\n",
       "    </tr>\n",
       "    <tr>\n",
       "      <th>655</th>\n",
       "      <td>6.7</td>\n",
       "      <td>40.736731</td>\n",
       "      <td>39.215537</td>\n",
       "      <td>group10</td>\n",
       "    </tr>\n",
       "  </tbody>\n",
       "</table>\n",
       "<p>656 rows × 4 columns</p>\n",
       "</div>"
      ],
      "text/plain": [
       "     temp   icecream    disease    temp2\n",
       "0    -0.5  45.243454  35.953002   group0\n",
       "1     1.4  26.682436  33.889832   group5\n",
       "2     2.6  29.918282  30.215350   group5\n",
       "3     2.0  23.270314  36.771089   group5\n",
       "4     2.5  43.654076  32.961240   group5\n",
       "..    ...        ...        ...      ...\n",
       "651  19.9  78.839992  41.193811  group20\n",
       "652  20.4  86.554679  40.424088  group25\n",
       "653  18.3  78.666079  43.265212  group20\n",
       "654  12.8  52.771364  38.342022  group15\n",
       "655   6.7  40.736731  39.215537  group10\n",
       "\n",
       "[656 rows x 4 columns]"
      ]
     },
     "execution_count": 123,
     "metadata": {},
     "output_type": "execute_result"
    }
   ],
   "source": [
    "df2"
   ]
  },
  {
   "cell_type": "code",
   "execution_count": 125,
   "id": "560b5dae-4e72-4a74-be0d-4c71a44305b6",
   "metadata": {},
   "outputs": [
    {
     "name": "stderr",
     "output_type": "stream",
     "text": [
      "/Users/dlqhd/opt/anaconda3/lib/python3.8/site-packages/plotnine/stats/smoothers.py:310: PlotnineWarning: Confidence intervals are not yet implementedfor lowess smoothings.\n"
     ]
    },
    {
     "data": {
      "image/png": "[encoded data removed]",
      "text/plain": [
       "<Figure size 640x480 with 1 Axes>"
      ]
     },
     "metadata": {},
     "output_type": "display_data"
    },
    {
     "data": {
      "text/plain": [
       "<ggplot: (8780969699325)>"
      ]
     },
     "execution_count": 125,
     "metadata": {},
     "output_type": "execute_result"
    }
   ],
   "source": [
    "ggplot(data=df2)+geom_point(aes(x='icecream',y='disease',colour='temp2'),alpha=0.2)+geom_smooth(aes(x='icecream',y='disease',colour='temp2'),size=2,linetype='dashed')"
   ]
  },
  {
   "cell_type": "code",
   "execution_count": 126,
   "id": "941a5a41-6216-4aa4-9ec5-9a72556c9eff",
   "metadata": {},
   "outputs": [
    {
     "data": {
      "text/html": [
       "<div>\n",
       "<style scoped>\n",
       "    .dataframe tbody tr th:only-of-type {\n",
       "        vertical-align: middle;\n",
       "    }\n",
       "\n",
       "    .dataframe tbody tr th {\n",
       "        vertical-align: top;\n",
       "    }\n",
       "\n",
       "    .dataframe thead th {\n",
       "        text-align: right;\n",
       "    }\n",
       "</style>\n",
       "<table border=\"1\" class=\"dataframe\">\n",
       "  <thead>\n",
       "    <tr style=\"text-align: right;\">\n",
       "      <th></th>\n",
       "      <th>temp</th>\n",
       "      <th>icecream</th>\n",
       "      <th>disease</th>\n",
       "    </tr>\n",
       "  </thead>\n",
       "  <tbody>\n",
       "    <tr>\n",
       "      <th>temp</th>\n",
       "      <td>1.000000</td>\n",
       "      <td>0.884366</td>\n",
       "      <td>0.975609</td>\n",
       "    </tr>\n",
       "    <tr>\n",
       "      <th>icecream</th>\n",
       "      <td>0.884366</td>\n",
       "      <td>1.000000</td>\n",
       "      <td>0.862990</td>\n",
       "    </tr>\n",
       "    <tr>\n",
       "      <th>disease</th>\n",
       "      <td>0.975609</td>\n",
       "      <td>0.862990</td>\n",
       "      <td>1.000000</td>\n",
       "    </tr>\n",
       "  </tbody>\n",
       "</table>\n",
       "</div>"
      ],
      "text/plain": [
       "              temp  icecream   disease\n",
       "temp      1.000000  0.884366  0.975609\n",
       "icecream  0.884366  1.000000  0.862990\n",
       "disease   0.975609  0.862990  1.000000"
      ]
     },
     "execution_count": 126,
     "metadata": {},
     "output_type": "execute_result"
    }
   ],
   "source": [
    "df1.corr()"
   ]
  },
  {
   "cell_type": "code",
   "execution_count": 127,
   "id": "a1dc4c41-b288-4429-aa62-bbfc68b80ba6",
   "metadata": {},
   "outputs": [
    {
     "data": {
      "text/html": [
       "<div>\n",
       "<style scoped>\n",
       "    .dataframe tbody tr th:only-of-type {\n",
       "        vertical-align: middle;\n",
       "    }\n",
       "\n",
       "    .dataframe tbody tr th {\n",
       "        vertical-align: top;\n",
       "    }\n",
       "\n",
       "    .dataframe thead th {\n",
       "        text-align: right;\n",
       "    }\n",
       "</style>\n",
       "<table border=\"1\" class=\"dataframe\">\n",
       "  <thead>\n",
       "    <tr style=\"text-align: right;\">\n",
       "      <th></th>\n",
       "      <th>temp</th>\n",
       "      <th>icecream</th>\n",
       "      <th>disease</th>\n",
       "    </tr>\n",
       "  </thead>\n",
       "  <tbody>\n",
       "    <tr>\n",
       "      <th>temp</th>\n",
       "      <td>1.000000</td>\n",
       "      <td>0.884366</td>\n",
       "      <td>0.725505</td>\n",
       "    </tr>\n",
       "    <tr>\n",
       "      <th>icecream</th>\n",
       "      <td>0.884366</td>\n",
       "      <td>1.000000</td>\n",
       "      <td>0.830539</td>\n",
       "    </tr>\n",
       "    <tr>\n",
       "      <th>disease</th>\n",
       "      <td>0.725505</td>\n",
       "      <td>0.830539</td>\n",
       "      <td>1.000000</td>\n",
       "    </tr>\n",
       "  </tbody>\n",
       "</table>\n",
       "</div>"
      ],
      "text/plain": [
       "              temp  icecream   disease\n",
       "temp      1.000000  0.884366  0.725505\n",
       "icecream  0.884366  1.000000  0.830539\n",
       "disease   0.725505  0.830539  1.000000"
      ]
     },
     "execution_count": 127,
     "metadata": {},
     "output_type": "execute_result"
    }
   ],
   "source": [
    "df2.corr()"
   ]
  }
 ],
 "metadata": {
  "kernelspec": {
   "display_name": "Python 3",
   "language": "python",
   "name": "python3"
  },
  "language_info": {
   "codemirror_mode": {
    "name": "ipython",
    "version": 3
   },
   "file_extension": ".py",
   "mimetype": "text/x-python",
   "name": "python",
   "nbconvert_exporter": "python",
   "pygments_lexer": "ipython3",
   "version": "3.8.8"
  }
 },
 "nbformat": 4,
 "nbformat_minor": 5
}
