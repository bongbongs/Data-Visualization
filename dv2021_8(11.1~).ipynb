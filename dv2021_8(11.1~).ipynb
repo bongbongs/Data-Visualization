{
 "cells": [
  {
   "cell_type": "markdown",
   "id": "bff27282-9d88-406b-8bec-38f805c09705",
   "metadata": {},
   "source": [
    "### 2021.11.1(4/8)"
   ]
  },
  {
   "cell_type": "markdown",
   "id": "5861efa6-42bd-40f4-99c6-e7e2ed00d80e",
   "metadata": {},
   "source": [
    "### barplot + 해들리위컴의 그래프레이어"
   ]
  },
  {
   "cell_type": "markdown",
   "id": "2b9903d7-be6e-489c-aa73-3f44e69cecbb",
   "metadata": {},
   "source": [
    "#### 기본사용법"
   ]
  },
  {
   "cell_type": "code",
   "execution_count": 1,
   "id": "a5267a83-a01b-4131-bd86-bbca76f40395",
   "metadata": {},
   "outputs": [],
   "source": [
    "import pandas as pd\n",
    "import numpy as np\n",
    "from plotnine import *\n",
    "import matplotlib.pyplot as plt"
   ]
  },
  {
   "cell_type": "code",
   "execution_count": 2,
   "id": "1f007501-3b4f-43ee-94a8-ef83d241fbbe",
   "metadata": {},
   "outputs": [],
   "source": [
    "g=['A']*100+['B']*200\n",
    "y=list(np.random.randn(100)*2+2)+list(np.random.randn(200)+3)"
   ]
  },
  {
   "cell_type": "code",
   "execution_count": 3,
   "id": "a12d680c-8d2b-4b70-90b3-a297d16cbe32",
   "metadata": {},
   "outputs": [
    {
     "data": {
      "text/html": [
       "<div>\n",
       "<style scoped>\n",
       "    .dataframe tbody tr th:only-of-type {\n",
       "        vertical-align: middle;\n",
       "    }\n",
       "\n",
       "    .dataframe tbody tr th {\n",
       "        vertical-align: top;\n",
       "    }\n",
       "\n",
       "    .dataframe thead th {\n",
       "        text-align: right;\n",
       "    }\n",
       "</style>\n",
       "<table border=\"1\" class=\"dataframe\">\n",
       "  <thead>\n",
       "    <tr style=\"text-align: right;\">\n",
       "      <th></th>\n",
       "      <th>g</th>\n",
       "      <th>y</th>\n",
       "    </tr>\n",
       "  </thead>\n",
       "  <tbody>\n",
       "    <tr>\n",
       "      <th>0</th>\n",
       "      <td>A</td>\n",
       "      <td>4.044824</td>\n",
       "    </tr>\n",
       "    <tr>\n",
       "      <th>1</th>\n",
       "      <td>A</td>\n",
       "      <td>2.580658</td>\n",
       "    </tr>\n",
       "    <tr>\n",
       "      <th>2</th>\n",
       "      <td>A</td>\n",
       "      <td>3.269251</td>\n",
       "    </tr>\n",
       "    <tr>\n",
       "      <th>3</th>\n",
       "      <td>A</td>\n",
       "      <td>3.302310</td>\n",
       "    </tr>\n",
       "    <tr>\n",
       "      <th>4</th>\n",
       "      <td>A</td>\n",
       "      <td>0.973601</td>\n",
       "    </tr>\n",
       "    <tr>\n",
       "      <th>...</th>\n",
       "      <td>...</td>\n",
       "      <td>...</td>\n",
       "    </tr>\n",
       "    <tr>\n",
       "      <th>295</th>\n",
       "      <td>B</td>\n",
       "      <td>3.761853</td>\n",
       "    </tr>\n",
       "    <tr>\n",
       "      <th>296</th>\n",
       "      <td>B</td>\n",
       "      <td>2.509434</td>\n",
       "    </tr>\n",
       "    <tr>\n",
       "      <th>297</th>\n",
       "      <td>B</td>\n",
       "      <td>3.496341</td>\n",
       "    </tr>\n",
       "    <tr>\n",
       "      <th>298</th>\n",
       "      <td>B</td>\n",
       "      <td>2.652094</td>\n",
       "    </tr>\n",
       "    <tr>\n",
       "      <th>299</th>\n",
       "      <td>B</td>\n",
       "      <td>3.558637</td>\n",
       "    </tr>\n",
       "  </tbody>\n",
       "</table>\n",
       "<p>300 rows × 2 columns</p>\n",
       "</div>"
      ],
      "text/plain": [
       "     g         y\n",
       "0    A  4.044824\n",
       "1    A  2.580658\n",
       "2    A  3.269251\n",
       "3    A  3.302310\n",
       "4    A  0.973601\n",
       "..  ..       ...\n",
       "295  B  3.761853\n",
       "296  B  2.509434\n",
       "297  B  3.496341\n",
       "298  B  2.652094\n",
       "299  B  3.558637\n",
       "\n",
       "[300 rows x 2 columns]"
      ]
     },
     "execution_count": 3,
     "metadata": {},
     "output_type": "execute_result"
    }
   ],
   "source": [
    "df=pd.DataFrame({'g':g,'y':y})\n",
    "df"
   ]
  },
  {
   "cell_type": "code",
   "execution_count": 4,
   "id": "a3466f0d-78e9-46e2-8e3c-e73b2157ce2f",
   "metadata": {},
   "outputs": [
    {
     "data": {
      "image/png": "[encoded data removed]",
      "text/plain": [
       "<Figure size 640x480 with 1 Axes>"
      ]
     },
     "metadata": {},
     "output_type": "display_data"
    },
    {
     "data": {
      "text/plain": [
       "<ggplot: (8769972966108)>"
      ]
     },
     "execution_count": 4,
     "metadata": {},
     "output_type": "execute_result"
    }
   ],
   "source": [
    "ggplot(df)+geom_bar(aes(x='g',fill='g')) ## 디폴트로 카운트를 수행해줌"
   ]
  },
  {
   "cell_type": "markdown",
   "id": "9175c200-b51f-4f8d-bed7-f1a1eaa29ed0",
   "metadata": {},
   "source": [
    "`-` 이것은 아래의 코드와 같다."
   ]
  },
  {
   "cell_type": "code",
   "execution_count": 5,
   "id": "7dd2a97b-69d5-4b2e-ab46-346202588510",
   "metadata": {},
   "outputs": [
    {
     "data": {
      "text/html": [
       "<div>\n",
       "<style scoped>\n",
       "    .dataframe tbody tr th:only-of-type {\n",
       "        vertical-align: middle;\n",
       "    }\n",
       "\n",
       "    .dataframe tbody tr th {\n",
       "        vertical-align: top;\n",
       "    }\n",
       "\n",
       "    .dataframe thead th {\n",
       "        text-align: right;\n",
       "    }\n",
       "</style>\n",
       "<table border=\"1\" class=\"dataframe\">\n",
       "  <thead>\n",
       "    <tr style=\"text-align: right;\">\n",
       "      <th></th>\n",
       "      <th>y</th>\n",
       "    </tr>\n",
       "    <tr>\n",
       "      <th>g</th>\n",
       "      <th></th>\n",
       "    </tr>\n",
       "  </thead>\n",
       "  <tbody>\n",
       "    <tr>\n",
       "      <th>A</th>\n",
       "      <td>100</td>\n",
       "    </tr>\n",
       "    <tr>\n",
       "      <th>B</th>\n",
       "      <td>200</td>\n",
       "    </tr>\n",
       "  </tbody>\n",
       "</table>\n",
       "</div>"
      ],
      "text/plain": [
       "     y\n",
       "g     \n",
       "A  100\n",
       "B  200"
      ]
     },
     "execution_count": 5,
     "metadata": {},
     "output_type": "execute_result"
    }
   ],
   "source": [
    "df.groupby(by='g').count()"
   ]
  },
  {
   "cell_type": "code",
   "execution_count": 6,
   "id": "056fc13e-29a8-4477-8f42-0a1e06c9e559",
   "metadata": {},
   "outputs": [
    {
     "data": {
      "image/png": "[encoded data removed]",
      "text/plain": [
       "<Figure size 640x480 with 1 Axes>"
      ]
     },
     "metadata": {},
     "output_type": "display_data"
    },
    {
     "data": {
      "text/plain": [
       "<ggplot: (8769972980655)>"
      ]
     },
     "execution_count": 6,
     "metadata": {},
     "output_type": "execute_result"
    }
   ],
   "source": [
    "fig=ggplot(df.groupby(by='g').count().reset_index())\n",
    "fig+geom_bar(aes(x='g',y='y',fill='g'),stat='identity')"
   ]
  },
  {
   "cell_type": "markdown",
   "id": "c0b73227-4bd9-4806-b623-f1882306c471",
   "metadata": {},
   "source": [
    "`-` barplot은 기본적으로 groupby+count()가 내장되어 있다. 따라서 아래의 코드\n",
    "\n",
    "```r\n",
    "ggplot(df)+geom_bar(aes(x='g',fill='g'))\n",
    "```\n",
    "\n",
    "를 좀더 엄밀하게 쓰면"
   ]
  },
  {
   "cell_type": "code",
   "execution_count": 7,
   "id": "41a9eee1-3f04-4e14-8ddc-f98417bfe708",
   "metadata": {},
   "outputs": [
    {
     "data": {
      "image/png": "[encoded data removed]",
      "text/plain": [
       "<Figure size 640x480 with 1 Axes>"
      ]
     },
     "metadata": {},
     "output_type": "display_data"
    },
    {
     "data": {
      "text/plain": [
       "<ggplot: (8769990295037)>"
      ]
     },
     "execution_count": 7,
     "metadata": {},
     "output_type": "execute_result"
    }
   ],
   "source": [
    "ggplot(df)+geom_bar(aes(x='g',fill='g'),stat='count')"
   ]
  },
  {
   "cell_type": "markdown",
   "id": "c4dc2b68-522e-469f-92ee-a4e9c600fb6f",
   "metadata": {},
   "source": [
    "`-` 이것은 때때로 불편하다. 왜냐하면 데이터프레임을 변환하는 것은 판다스를 이용하는게 더 쉽고 자유로움"
   ]
  },
  {
   "cell_type": "markdown",
   "id": "f03e9449-dd14-49fd-afa5-d63938e85b4e",
   "metadata": {},
   "source": [
    "#### Barplot의 불편한점 1"
   ]
  },
  {
   "cell_type": "code",
   "execution_count": 8,
   "id": "c2eb0e66-0c56-487b-a728-864051ad13a9",
   "metadata": {},
   "outputs": [
    {
     "data": {
      "text/html": [
       "<div>\n",
       "<style scoped>\n",
       "    .dataframe tbody tr th:only-of-type {\n",
       "        vertical-align: middle;\n",
       "    }\n",
       "\n",
       "    .dataframe tbody tr th {\n",
       "        vertical-align: top;\n",
       "    }\n",
       "\n",
       "    .dataframe thead th {\n",
       "        text-align: right;\n",
       "    }\n",
       "</style>\n",
       "<table border=\"1\" class=\"dataframe\">\n",
       "  <thead>\n",
       "    <tr style=\"text-align: right;\">\n",
       "      <th></th>\n",
       "      <th>g</th>\n",
       "      <th>y</th>\n",
       "    </tr>\n",
       "  </thead>\n",
       "  <tbody>\n",
       "    <tr>\n",
       "      <th>0</th>\n",
       "      <td>A</td>\n",
       "      <td>100</td>\n",
       "    </tr>\n",
       "    <tr>\n",
       "      <th>1</th>\n",
       "      <td>B</td>\n",
       "      <td>200</td>\n",
       "    </tr>\n",
       "  </tbody>\n",
       "</table>\n",
       "</div>"
      ],
      "text/plain": [
       "   g    y\n",
       "0  A  100\n",
       "1  B  200"
      ]
     },
     "execution_count": 8,
     "metadata": {},
     "output_type": "execute_result"
    }
   ],
   "source": [
    "td=df.groupby(by='g').count().reset_index() #(tidy data)\n",
    "td"
   ]
  },
  {
   "cell_type": "markdown",
   "id": "784db750-109a-4f1f-b9d7-c4cdd51a8e14",
   "metadata": {},
   "source": [
    "`-` 그냥 `x=g,y=y`를 맵핑하여 그리면 안되나?"
   ]
  },
  {
   "cell_type": "code",
   "execution_count": 9,
   "id": "00681171-f6a9-4da3-a4bc-7f7d8290cb51",
   "metadata": {},
   "outputs": [
    {
     "data": {
      "text/plain": [
       "<BarContainer object of 2 artists>"
      ]
     },
     "execution_count": 9,
     "metadata": {},
     "output_type": "execute_result"
    },
    {
     "data": {
      "image/png": "[encoded data removed]",
      "text/plain": [
       "<Figure size 432x288 with 1 Axes>"
      ]
     },
     "metadata": {
      "needs_background": "light"
     },
     "output_type": "display_data"
    }
   ],
   "source": [
    "plt.bar(td.g,td.y)"
   ]
  },
  {
   "cell_type": "code",
   "execution_count": 10,
   "id": "fd6f2cfa-9d0f-4f50-88d9-76c8666a99d7",
   "metadata": {
    "tags": []
   },
   "outputs": [
    {
     "data": {
      "text/plain": [
       "<AxesSubplot:xlabel='g'>"
      ]
     },
     "execution_count": 10,
     "metadata": {},
     "output_type": "execute_result"
    },
    {
     "data": {
      "image/png": "[encoded data removed]",
      "text/plain": [
       "<Figure size 432x288 with 1 Axes>"
      ]
     },
     "metadata": {
      "needs_background": "light"
     },
     "output_type": "display_data"
    }
   ],
   "source": [
    "td.plot(kind='bar',x='g',y='y')"
   ]
  },
  {
   "cell_type": "markdown",
   "id": "f9313d6f-f9f8-4218-9165-d4e910d9173a",
   "metadata": {},
   "source": [
    "`-` 그런데 ggplot을 쓰려고 하면 ?"
   ]
  },
  {
   "cell_type": "code",
   "execution_count": 11,
   "id": "c38c3190-8b28-45be-b67f-e239ad6da12a",
   "metadata": {},
   "outputs": [],
   "source": [
    "#ggplot(td)+geom_bar(aes(x='g',y='y',fill='g')) => 에러, 기본적으로 'count'함수로 되어있기 때문"
   ]
  },
  {
   "cell_type": "code",
   "execution_count": 12,
   "id": "66fd72e9-0006-46af-970a-87fa615b8756",
   "metadata": {},
   "outputs": [
    {
     "data": {
      "image/png": "[encoded data removed]",
      "text/plain": [
       "<Figure size 640x480 with 1 Axes>"
      ]
     },
     "metadata": {},
     "output_type": "display_data"
    },
    {
     "data": {
      "text/plain": [
       "<ggplot: (8769973009680)>"
      ]
     },
     "execution_count": 12,
     "metadata": {},
     "output_type": "execute_result"
    }
   ],
   "source": [
    "ggplot(td)+geom_bar(aes(x='g',y='y',fill='g'),stat='identity')"
   ]
  },
  {
   "cell_type": "markdown",
   "id": "6d613209-862c-4daf-9dac-7ccc17c14d77",
   "metadata": {},
   "source": [
    "- 너무 불편하다.. stat='identity'를 항상 써야하는것이!"
   ]
  },
  {
   "cell_type": "markdown",
   "id": "117dc0ea-6816-4d46-a463-dc4725e440c1",
   "metadata": {},
   "source": [
    "#### Barplot의 불편한점 2"
   ]
  },
  {
   "cell_type": "markdown",
   "id": "a3d754d8-5add-4035-b075-2c9e407e18be",
   "metadata": {},
   "source": [
    "`-` groupby를 자동으로 해주므로 익숙해지면 ggplot2 방식이 더 편하지 않을까? $\\to$ groupby 하는게 더 편해요.."
   ]
  },
  {
   "cell_type": "code",
   "execution_count": 13,
   "id": "6e350991-3a61-4523-a20e-8136d8eccecd",
   "metadata": {},
   "outputs": [
    {
     "data": {
      "text/html": [
       "<div>\n",
       "<style scoped>\n",
       "    .dataframe tbody tr th:only-of-type {\n",
       "        vertical-align: middle;\n",
       "    }\n",
       "\n",
       "    .dataframe tbody tr th {\n",
       "        vertical-align: top;\n",
       "    }\n",
       "\n",
       "    .dataframe thead tr th {\n",
       "        text-align: left;\n",
       "    }\n",
       "\n",
       "    .dataframe thead tr:last-of-type th {\n",
       "        text-align: right;\n",
       "    }\n",
       "</style>\n",
       "<table border=\"1\" class=\"dataframe\">\n",
       "  <thead>\n",
       "    <tr>\n",
       "      <th></th>\n",
       "      <th colspan=\"4\" halign=\"left\">y</th>\n",
       "    </tr>\n",
       "    <tr>\n",
       "      <th></th>\n",
       "      <th>mean</th>\n",
       "      <th>median</th>\n",
       "      <th>std</th>\n",
       "      <th>&lt;lambda_0&gt;</th>\n",
       "    </tr>\n",
       "    <tr>\n",
       "      <th>g</th>\n",
       "      <th></th>\n",
       "      <th></th>\n",
       "      <th></th>\n",
       "      <th></th>\n",
       "    </tr>\n",
       "  </thead>\n",
       "  <tbody>\n",
       "    <tr>\n",
       "      <th>A</th>\n",
       "      <td>1.957066</td>\n",
       "      <td>2.092485</td>\n",
       "      <td>1.769598</td>\n",
       "      <td>8.579945</td>\n",
       "    </tr>\n",
       "    <tr>\n",
       "      <th>B</th>\n",
       "      <td>2.998402</td>\n",
       "      <td>3.015775</td>\n",
       "      <td>0.943449</td>\n",
       "      <td>5.203707</td>\n",
       "    </tr>\n",
       "  </tbody>\n",
       "</table>\n",
       "</div>"
      ],
      "text/plain": [
       "          y                               \n",
       "       mean    median       std <lambda_0>\n",
       "g                                         \n",
       "A  1.957066  2.092485  1.769598   8.579945\n",
       "B  2.998402  3.015775  0.943449   5.203707"
      ]
     },
     "execution_count": 13,
     "metadata": {},
     "output_type": "execute_result"
    }
   ],
   "source": [
    "df.groupby('g').agg({'y':[np.mean,np.median,np.std,lambda x: np.max(x)-np.min(x)]})"
   ]
  },
  {
   "cell_type": "code",
   "execution_count": 14,
   "id": "fadde7af-2a33-4847-9af0-43bb9920c0e9",
   "metadata": {},
   "outputs": [
    {
     "data": {
      "text/plain": [
       "MultiIndex([('y',       'mean'),\n",
       "            ('y',     'median'),\n",
       "            ('y',        'std'),\n",
       "            ('y', '<lambda_0>')],\n",
       "           )"
      ]
     },
     "execution_count": 14,
     "metadata": {},
     "output_type": "execute_result"
    }
   ],
   "source": [
    "_=df.groupby('g').agg({'y':[np.mean,np.median,np.std,lambda x: np.max(x)-np.min(x)]})\n",
    "_.columns"
   ]
  },
  {
   "cell_type": "code",
   "execution_count": 15,
   "id": "6e08fa91-8c0c-4b67-aef2-27dc3efcd7ef",
   "metadata": {},
   "outputs": [
    {
     "data": {
      "text/html": [
       "<div>\n",
       "<style scoped>\n",
       "    .dataframe tbody tr th:only-of-type {\n",
       "        vertical-align: middle;\n",
       "    }\n",
       "\n",
       "    .dataframe tbody tr th {\n",
       "        vertical-align: top;\n",
       "    }\n",
       "\n",
       "    .dataframe thead th {\n",
       "        text-align: right;\n",
       "    }\n",
       "</style>\n",
       "<table border=\"1\" class=\"dataframe\">\n",
       "  <thead>\n",
       "    <tr style=\"text-align: right;\">\n",
       "      <th></th>\n",
       "      <th>g</th>\n",
       "      <th>level_1</th>\n",
       "      <th>y</th>\n",
       "    </tr>\n",
       "  </thead>\n",
       "  <tbody>\n",
       "    <tr>\n",
       "      <th>0</th>\n",
       "      <td>A</td>\n",
       "      <td>mean</td>\n",
       "      <td>1.957066</td>\n",
       "    </tr>\n",
       "    <tr>\n",
       "      <th>1</th>\n",
       "      <td>A</td>\n",
       "      <td>median</td>\n",
       "      <td>2.092485</td>\n",
       "    </tr>\n",
       "    <tr>\n",
       "      <th>2</th>\n",
       "      <td>A</td>\n",
       "      <td>range</td>\n",
       "      <td>8.579945</td>\n",
       "    </tr>\n",
       "    <tr>\n",
       "      <th>3</th>\n",
       "      <td>A</td>\n",
       "      <td>std</td>\n",
       "      <td>1.769598</td>\n",
       "    </tr>\n",
       "    <tr>\n",
       "      <th>4</th>\n",
       "      <td>B</td>\n",
       "      <td>mean</td>\n",
       "      <td>2.998402</td>\n",
       "    </tr>\n",
       "    <tr>\n",
       "      <th>5</th>\n",
       "      <td>B</td>\n",
       "      <td>median</td>\n",
       "      <td>3.015775</td>\n",
       "    </tr>\n",
       "    <tr>\n",
       "      <th>6</th>\n",
       "      <td>B</td>\n",
       "      <td>range</td>\n",
       "      <td>5.203707</td>\n",
       "    </tr>\n",
       "    <tr>\n",
       "      <th>7</th>\n",
       "      <td>B</td>\n",
       "      <td>std</td>\n",
       "      <td>0.943449</td>\n",
       "    </tr>\n",
       "  </tbody>\n",
       "</table>\n",
       "</div>"
      ],
      "text/plain": [
       "   g level_1         y\n",
       "0  A    mean  1.957066\n",
       "1  A  median  2.092485\n",
       "2  A   range  8.579945\n",
       "3  A     std  1.769598\n",
       "4  B    mean  2.998402\n",
       "5  B  median  3.015775\n",
       "6  B   range  5.203707\n",
       "7  B     std  0.943449"
      ]
     },
     "execution_count": 15,
     "metadata": {},
     "output_type": "execute_result"
    }
   ],
   "source": [
    "df.groupby('g').agg({'y':[np.mean,np.median,np.std,lambda x: np.max(x)-np.min(x)]})\\\n",
    ".rename(columns={'<lambda_0>':'range'}).stack().reset_index()"
   ]
  },
  {
   "cell_type": "code",
   "execution_count": 16,
   "id": "f22cc445-9682-4cb5-9e42-cd970f1cb112",
   "metadata": {},
   "outputs": [],
   "source": [
    "tb=df.groupby('g').agg({'y':[np.mean,np.median,np.std,lambda x: np.max(x)-np.min(x)]})\\\n",
    ".rename(columns={'<lambda_0>':'range'}).stack().reset_index()"
   ]
  },
  {
   "cell_type": "code",
   "execution_count": 17,
   "id": "4cd48ff2-1800-49b0-af0b-5b2ac7f45524",
   "metadata": {},
   "outputs": [
    {
     "data": {
      "image/png": "[encoded data removed]",
      "text/plain": [
       "<Figure size 640x480 with 1 Axes>"
      ]
     },
     "metadata": {},
     "output_type": "display_data"
    },
    {
     "data": {
      "text/plain": [
       "<ggplot: (8769972981655)>"
      ]
     },
     "execution_count": 17,
     "metadata": {},
     "output_type": "execute_result"
    }
   ],
   "source": [
    "ggplot(tb)+geom_bar(aes(x='level_1',y='y',fill='g'),stat='identity')"
   ]
  },
  {
   "cell_type": "markdown",
   "id": "9b2b668d-b827-4ca7-95bd-1528bf7d58c2",
   "metadata": {},
   "source": [
    "`-`position이 디폴트로 stack으로 되어있다. barplot이 이래서 맘에 안든다 $\\to$ position='dodge'로!"
   ]
  },
  {
   "cell_type": "markdown",
   "id": "2b49144a-f121-4491-85a3-dcdf1a3ec846",
   "metadata": {},
   "source": [
    "#### position"
   ]
  },
  {
   "cell_type": "code",
   "execution_count": 18,
   "id": "67f6ee87-fa06-42de-8b71-50aeb7972da6",
   "metadata": {},
   "outputs": [
    {
     "data": {
      "image/png": "[encoded data removed]",
      "text/plain": [
       "<Figure size 640x480 with 1 Axes>"
      ]
     },
     "metadata": {},
     "output_type": "display_data"
    },
    {
     "data": {
      "text/plain": [
       "<ggplot: (8769972971671)>"
      ]
     },
     "execution_count": 18,
     "metadata": {},
     "output_type": "execute_result"
    }
   ],
   "source": [
    "ggplot(tb)+geom_bar(aes(x='level_1',y='y',fill='g'),stat='identity',position='dodge')"
   ]
  },
  {
   "cell_type": "markdown",
   "id": "dfa0cd0a-0d06-4d9a-a7af-d1058a6de30e",
   "metadata": {},
   "source": [
    "#### coord_flip()"
   ]
  },
  {
   "cell_type": "markdown",
   "id": "9442ee53-fe4e-4fbe-8fd1-e28a5a55996c",
   "metadata": {},
   "source": [
    "`-` 때때로 아래와 같이 보는 것이 더 좋은 경우도 있음"
   ]
  },
  {
   "cell_type": "code",
   "execution_count": 19,
   "id": "a7ca9314-0a72-4472-b8b1-c2a204dfccd8",
   "metadata": {},
   "outputs": [
    {
     "data": {
      "image/png": "[encoded data removed]",
      "text/plain": [
       "<Figure size 640x480 with 1 Axes>"
      ]
     },
     "metadata": {},
     "output_type": "display_data"
    },
    {
     "data": {
      "text/plain": [
       "<ggplot: (8770005587167)>"
      ]
     },
     "execution_count": 19,
     "metadata": {},
     "output_type": "execute_result"
    }
   ],
   "source": [
    "ggplot(tb)\\\n",
    "+geom_bar(aes(x='level_1',y='y',fill='g'),stat='identity',position='dodge')\\\n",
    "+coord_flip()"
   ]
  },
  {
   "cell_type": "markdown",
   "id": "02e42b19-7836-4c53-bb52-c9e50a60b361",
   "metadata": {},
   "source": [
    "#### facet_wrap()"
   ]
  },
  {
   "cell_type": "code",
   "execution_count": 20,
   "id": "1f502f59-a378-40b5-98c2-17f7129a6de2",
   "metadata": {},
   "outputs": [
    {
     "data": {
      "image/png": "[encoded data removed]",
      "text/plain": [
       "<Figure size 640x480 with 4 Axes>"
      ]
     },
     "metadata": {},
     "output_type": "display_data"
    },
    {
     "data": {
      "text/plain": [
       "<ggplot: (8770005590821)>"
      ]
     },
     "execution_count": 20,
     "metadata": {},
     "output_type": "execute_result"
    }
   ],
   "source": [
    "ggplot(tb)\\\n",
    "+geom_bar(aes(x='level_1',y='y',fill='g'),stat='identity',position='dodge')\\\n",
    "+coord_flip()\\\n",
    "+facet_wrap('level_1')"
   ]
  },
  {
   "cell_type": "code",
   "execution_count": 21,
   "id": "6f2b53af-13a0-4832-80f3-1e39a39cfc31",
   "metadata": {},
   "outputs": [
    {
     "data": {
      "image/png": "[encoded data removed]",
      "text/plain": [
       "<Figure size 640x480 with 4 Axes>"
      ]
     },
     "metadata": {},
     "output_type": "display_data"
    },
    {
     "data": {
      "text/plain": [
       "<ggplot: (8770005713851)>"
      ]
     },
     "execution_count": 21,
     "metadata": {},
     "output_type": "execute_result"
    }
   ],
   "source": [
    "ggplot(tb)\\\n",
    "+geom_bar(aes(x='g',y='y',fill='g'),stat='identity',position='dodge')\\\n",
    "+coord_flip()\\\n",
    "+facet_wrap('level_1')"
   ]
  },
  {
   "cell_type": "markdown",
   "id": "2c212669-685b-4bdd-880f-a285ec3bcbb3",
   "metadata": {},
   "source": [
    "해들리위컴의 그래프레이어"
   ]
  },
  {
   "cell_type": "markdown",
   "id": "2c9f9058-82ca-49ae-9706-3203d912cb5e",
   "metadata": {},
   "source": [
    "`-` 데이터셋 + 맵핑 + 지움 + 포지션 + 스탯 + 축 + 면분할"
   ]
  },
  {
   "cell_type": "markdown",
   "id": "ec05d6d2-0f65-49f9-9baa-4100194c9c07",
   "metadata": {},
   "source": [
    "- 데이터셋 : 판다스\n",
    "- 맵핑 : x축, y축, 색깔, 크기, 투명도\n",
    "- 지옴 : 포인트지옴, 바지옴, 라인지옴, 스무스지옴\n",
    "- 포지션 : jutter, dodge, identity\n",
    "- 스탯 : identity, count\n",
    "- 축 : coord_flip()\n",
    "- 면분할:facet_wrap(),facet_grid()"
   ]
  },
  {
   "cell_type": "code",
   "execution_count": 22,
   "id": "b4887717-6150-473f-8665-ff41b7c23a32",
   "metadata": {},
   "outputs": [
    {
     "data": {
      "image/png": "[encoded data removed]",
      "text/plain": [
       "<Figure size 640x480 with 4 Axes>"
      ]
     },
     "metadata": {},
     "output_type": "display_data"
    },
    {
     "data": {
      "text/plain": [
       "<ggplot: (8769973234110)>"
      ]
     },
     "execution_count": 22,
     "metadata": {},
     "output_type": "execute_result"
    }
   ],
   "source": [
    "ggplot(tb)+facet_wrap('level_1')\n",
    "#+geom_bar(aes(x='g',y='y',fill='g'),stat='identity',position='dodge')+coord_flip()"
   ]
  },
  {
   "cell_type": "code",
   "execution_count": 23,
   "id": "680b106e-40b4-4053-a518-19e1249d0bcc",
   "metadata": {},
   "outputs": [
    {
     "data": {
      "image/png": "[encoded data removed]",
      "text/plain": [
       "<Figure size 640x480 with 8 Axes>"
      ]
     },
     "metadata": {},
     "output_type": "display_data"
    },
    {
     "data": {
      "text/plain": [
       "<ggplot: (8769990558362)>"
      ]
     },
     "execution_count": 23,
     "metadata": {},
     "output_type": "execute_result"
    }
   ],
   "source": [
    "ggplot(tb)+facet_grid('level_1~g')\\\n",
    "+geom_bar(aes(x='g',y='y',fill='g'),stat='identity',position='dodge')+coord_flip()  #lm(y~x)를 떠올리며"
   ]
  },
  {
   "cell_type": "markdown",
   "id": "32ce49cd-e7fa-43ae-8213-bc9ac2ee4923",
   "metadata": {},
   "source": [
    "### 예제 : 심슨의 역설"
   ]
  },
  {
   "cell_type": "code",
   "execution_count": 24,
   "id": "c750de01-cc7f-4e1c-b866-1b944cc0ea54",
   "metadata": {},
   "outputs": [],
   "source": [
    "DEP=(['A1']*2+['A2']*2+['B1']*2+['B2']*2)*2\n",
    "GEN=['M']*8+['F']*8\n",
    "STATE=['PASS','FAIL']*8\n",
    "COUNT=(1,9,2,8,80,20,85,15,5,5,5,5,9,1,9,1)"
   ]
  },
  {
   "cell_type": "code",
   "execution_count": 25,
   "id": "06052e52-8783-4fbc-aaee-173b14e3b448",
   "metadata": {},
   "outputs": [],
   "source": [
    "df=pd.DataFrame({'DEP':DEP,'STATE':STATE,'GEN':GEN,'COUNT':COUNT})"
   ]
  },
  {
   "cell_type": "code",
   "execution_count": 26,
   "id": "b6860294-ca44-477f-a61b-bd4e93cf1da5",
   "metadata": {},
   "outputs": [
    {
     "data": {
      "text/html": [
       "<div>\n",
       "<style scoped>\n",
       "    .dataframe tbody tr th:only-of-type {\n",
       "        vertical-align: middle;\n",
       "    }\n",
       "\n",
       "    .dataframe tbody tr th {\n",
       "        vertical-align: top;\n",
       "    }\n",
       "\n",
       "    .dataframe thead th {\n",
       "        text-align: right;\n",
       "    }\n",
       "</style>\n",
       "<table border=\"1\" class=\"dataframe\">\n",
       "  <thead>\n",
       "    <tr style=\"text-align: right;\">\n",
       "      <th></th>\n",
       "      <th>DEP</th>\n",
       "      <th>STATE</th>\n",
       "      <th>GEN</th>\n",
       "      <th>COUNT</th>\n",
       "    </tr>\n",
       "  </thead>\n",
       "  <tbody>\n",
       "    <tr>\n",
       "      <th>0</th>\n",
       "      <td>A1</td>\n",
       "      <td>PASS</td>\n",
       "      <td>M</td>\n",
       "      <td>1</td>\n",
       "    </tr>\n",
       "    <tr>\n",
       "      <th>1</th>\n",
       "      <td>A1</td>\n",
       "      <td>FAIL</td>\n",
       "      <td>M</td>\n",
       "      <td>9</td>\n",
       "    </tr>\n",
       "    <tr>\n",
       "      <th>2</th>\n",
       "      <td>A2</td>\n",
       "      <td>PASS</td>\n",
       "      <td>M</td>\n",
       "      <td>2</td>\n",
       "    </tr>\n",
       "    <tr>\n",
       "      <th>3</th>\n",
       "      <td>A2</td>\n",
       "      <td>FAIL</td>\n",
       "      <td>M</td>\n",
       "      <td>8</td>\n",
       "    </tr>\n",
       "    <tr>\n",
       "      <th>4</th>\n",
       "      <td>B1</td>\n",
       "      <td>PASS</td>\n",
       "      <td>M</td>\n",
       "      <td>80</td>\n",
       "    </tr>\n",
       "    <tr>\n",
       "      <th>5</th>\n",
       "      <td>B1</td>\n",
       "      <td>FAIL</td>\n",
       "      <td>M</td>\n",
       "      <td>20</td>\n",
       "    </tr>\n",
       "    <tr>\n",
       "      <th>6</th>\n",
       "      <td>B2</td>\n",
       "      <td>PASS</td>\n",
       "      <td>M</td>\n",
       "      <td>85</td>\n",
       "    </tr>\n",
       "    <tr>\n",
       "      <th>7</th>\n",
       "      <td>B2</td>\n",
       "      <td>FAIL</td>\n",
       "      <td>M</td>\n",
       "      <td>15</td>\n",
       "    </tr>\n",
       "    <tr>\n",
       "      <th>8</th>\n",
       "      <td>A1</td>\n",
       "      <td>PASS</td>\n",
       "      <td>F</td>\n",
       "      <td>5</td>\n",
       "    </tr>\n",
       "    <tr>\n",
       "      <th>9</th>\n",
       "      <td>A1</td>\n",
       "      <td>FAIL</td>\n",
       "      <td>F</td>\n",
       "      <td>5</td>\n",
       "    </tr>\n",
       "    <tr>\n",
       "      <th>10</th>\n",
       "      <td>A2</td>\n",
       "      <td>PASS</td>\n",
       "      <td>F</td>\n",
       "      <td>5</td>\n",
       "    </tr>\n",
       "    <tr>\n",
       "      <th>11</th>\n",
       "      <td>A2</td>\n",
       "      <td>FAIL</td>\n",
       "      <td>F</td>\n",
       "      <td>5</td>\n",
       "    </tr>\n",
       "    <tr>\n",
       "      <th>12</th>\n",
       "      <td>B1</td>\n",
       "      <td>PASS</td>\n",
       "      <td>F</td>\n",
       "      <td>9</td>\n",
       "    </tr>\n",
       "    <tr>\n",
       "      <th>13</th>\n",
       "      <td>B1</td>\n",
       "      <td>FAIL</td>\n",
       "      <td>F</td>\n",
       "      <td>1</td>\n",
       "    </tr>\n",
       "    <tr>\n",
       "      <th>14</th>\n",
       "      <td>B2</td>\n",
       "      <td>PASS</td>\n",
       "      <td>F</td>\n",
       "      <td>9</td>\n",
       "    </tr>\n",
       "    <tr>\n",
       "      <th>15</th>\n",
       "      <td>B2</td>\n",
       "      <td>FAIL</td>\n",
       "      <td>F</td>\n",
       "      <td>1</td>\n",
       "    </tr>\n",
       "  </tbody>\n",
       "</table>\n",
       "</div>"
      ],
      "text/plain": [
       "   DEP STATE GEN  COUNT\n",
       "0   A1  PASS   M      1\n",
       "1   A1  FAIL   M      9\n",
       "2   A2  PASS   M      2\n",
       "3   A2  FAIL   M      8\n",
       "4   B1  PASS   M     80\n",
       "5   B1  FAIL   M     20\n",
       "6   B2  PASS   M     85\n",
       "7   B2  FAIL   M     15\n",
       "8   A1  PASS   F      5\n",
       "9   A1  FAIL   F      5\n",
       "10  A2  PASS   F      5\n",
       "11  A2  FAIL   F      5\n",
       "12  B1  PASS   F      9\n",
       "13  B1  FAIL   F      1\n",
       "14  B2  PASS   F      9\n",
       "15  B2  FAIL   F      1"
      ]
     },
     "execution_count": 26,
     "metadata": {},
     "output_type": "execute_result"
    }
   ],
   "source": [
    "df"
   ]
  },
  {
   "cell_type": "code",
   "execution_count": 27,
   "id": "225918e4-2055-4885-9d08-88245cccedc8",
   "metadata": {},
   "outputs": [
    {
     "data": {
      "text/html": [
       "<div>\n",
       "<style scoped>\n",
       "    .dataframe tbody tr th:only-of-type {\n",
       "        vertical-align: middle;\n",
       "    }\n",
       "\n",
       "    .dataframe tbody tr th {\n",
       "        vertical-align: top;\n",
       "    }\n",
       "\n",
       "    .dataframe thead th {\n",
       "        text-align: right;\n",
       "    }\n",
       "</style>\n",
       "<table border=\"1\" class=\"dataframe\">\n",
       "  <thead>\n",
       "    <tr style=\"text-align: right;\">\n",
       "      <th></th>\n",
       "      <th></th>\n",
       "      <th>COUNT</th>\n",
       "    </tr>\n",
       "    <tr>\n",
       "      <th>GEN</th>\n",
       "      <th>STATE</th>\n",
       "      <th></th>\n",
       "    </tr>\n",
       "  </thead>\n",
       "  <tbody>\n",
       "    <tr>\n",
       "      <th rowspan=\"2\" valign=\"top\">F</th>\n",
       "      <th>FAIL</th>\n",
       "      <td>12</td>\n",
       "    </tr>\n",
       "    <tr>\n",
       "      <th>PASS</th>\n",
       "      <td>28</td>\n",
       "    </tr>\n",
       "    <tr>\n",
       "      <th rowspan=\"2\" valign=\"top\">M</th>\n",
       "      <th>FAIL</th>\n",
       "      <td>52</td>\n",
       "    </tr>\n",
       "    <tr>\n",
       "      <th>PASS</th>\n",
       "      <td>168</td>\n",
       "    </tr>\n",
       "  </tbody>\n",
       "</table>\n",
       "</div>"
      ],
      "text/plain": [
       "           COUNT\n",
       "GEN STATE       \n",
       "F   FAIL      12\n",
       "    PASS      28\n",
       "M   FAIL      52\n",
       "    PASS     168"
      ]
     },
     "execution_count": 27,
     "metadata": {},
     "output_type": "execute_result"
    }
   ],
   "source": [
    "df.groupby(['GEN','STATE']).agg({'COUNT':np.sum})"
   ]
  },
  {
   "cell_type": "code",
   "execution_count": 28,
   "id": "9583ad78-51ad-4c31-bf11-2a90128e8b89",
   "metadata": {},
   "outputs": [
    {
     "data": {
      "text/plain": [
       "0.7"
      ]
     },
     "execution_count": 28,
     "metadata": {},
     "output_type": "execute_result"
    }
   ],
   "source": [
    "28/40"
   ]
  },
  {
   "cell_type": "code",
   "execution_count": 29,
   "id": "ed040c61-2941-4659-8101-428fe866a1b9",
   "metadata": {},
   "outputs": [
    {
     "data": {
      "text/plain": [
       "0.7636363636363637"
      ]
     },
     "execution_count": 29,
     "metadata": {},
     "output_type": "execute_result"
    }
   ],
   "source": [
    "168/(168+52)"
   ]
  },
  {
   "cell_type": "markdown",
   "id": "45284041-8ea4-4890-8944-59db79fe27ce",
   "metadata": {},
   "source": [
    "### 시각화1: 전체합격률을 barplot으로 시각화하자."
   ]
  },
  {
   "cell_type": "code",
   "execution_count": 30,
   "id": "5ce4b481-7f20-4a56-9aef-d70f76aa1a71",
   "metadata": {},
   "outputs": [
    {
     "data": {
      "text/html": [
       "<div>\n",
       "<style scoped>\n",
       "    .dataframe tbody tr th:only-of-type {\n",
       "        vertical-align: middle;\n",
       "    }\n",
       "\n",
       "    .dataframe tbody tr th {\n",
       "        vertical-align: top;\n",
       "    }\n",
       "\n",
       "    .dataframe thead th {\n",
       "        text-align: right;\n",
       "    }\n",
       "</style>\n",
       "<table border=\"1\" class=\"dataframe\">\n",
       "  <thead>\n",
       "    <tr style=\"text-align: right;\">\n",
       "      <th></th>\n",
       "      <th></th>\n",
       "      <th>COUNT</th>\n",
       "    </tr>\n",
       "    <tr>\n",
       "      <th>GEN</th>\n",
       "      <th>STATE</th>\n",
       "      <th></th>\n",
       "    </tr>\n",
       "  </thead>\n",
       "  <tbody>\n",
       "    <tr>\n",
       "      <th rowspan=\"2\" valign=\"top\">F</th>\n",
       "      <th>FAIL</th>\n",
       "      <td>12</td>\n",
       "    </tr>\n",
       "    <tr>\n",
       "      <th>PASS</th>\n",
       "      <td>28</td>\n",
       "    </tr>\n",
       "    <tr>\n",
       "      <th rowspan=\"2\" valign=\"top\">M</th>\n",
       "      <th>FAIL</th>\n",
       "      <td>52</td>\n",
       "    </tr>\n",
       "    <tr>\n",
       "      <th>PASS</th>\n",
       "      <td>168</td>\n",
       "    </tr>\n",
       "  </tbody>\n",
       "</table>\n",
       "</div>"
      ],
      "text/plain": [
       "           COUNT\n",
       "GEN STATE       \n",
       "F   FAIL      12\n",
       "    PASS      28\n",
       "M   FAIL      52\n",
       "    PASS     168"
      ]
     },
     "execution_count": 30,
     "metadata": {},
     "output_type": "execute_result"
    }
   ],
   "source": [
    "df.groupby(['GEN','STATE']).agg({'COUNT':np.sum})"
   ]
  },
  {
   "cell_type": "code",
   "execution_count": 31,
   "id": "b9184e98-8d6a-4ccd-8871-ddffee0150e1",
   "metadata": {},
   "outputs": [
    {
     "data": {
      "text/html": [
       "<div>\n",
       "<style scoped>\n",
       "    .dataframe tbody tr th:only-of-type {\n",
       "        vertical-align: middle;\n",
       "    }\n",
       "\n",
       "    .dataframe tbody tr th {\n",
       "        vertical-align: top;\n",
       "    }\n",
       "\n",
       "    .dataframe thead th {\n",
       "        text-align: right;\n",
       "    }\n",
       "</style>\n",
       "<table border=\"1\" class=\"dataframe\">\n",
       "  <thead>\n",
       "    <tr style=\"text-align: right;\">\n",
       "      <th></th>\n",
       "      <th>GEN</th>\n",
       "      <th>STATE</th>\n",
       "      <th>COUNT</th>\n",
       "    </tr>\n",
       "  </thead>\n",
       "  <tbody>\n",
       "    <tr>\n",
       "      <th>0</th>\n",
       "      <td>F</td>\n",
       "      <td>FAIL</td>\n",
       "      <td>12</td>\n",
       "    </tr>\n",
       "    <tr>\n",
       "      <th>1</th>\n",
       "      <td>F</td>\n",
       "      <td>PASS</td>\n",
       "      <td>28</td>\n",
       "    </tr>\n",
       "    <tr>\n",
       "      <th>2</th>\n",
       "      <td>M</td>\n",
       "      <td>FAIL</td>\n",
       "      <td>52</td>\n",
       "    </tr>\n",
       "    <tr>\n",
       "      <th>3</th>\n",
       "      <td>M</td>\n",
       "      <td>PASS</td>\n",
       "      <td>168</td>\n",
       "    </tr>\n",
       "  </tbody>\n",
       "</table>\n",
       "</div>"
      ],
      "text/plain": [
       "  GEN STATE  COUNT\n",
       "0   F  FAIL     12\n",
       "1   F  PASS     28\n",
       "2   M  FAIL     52\n",
       "3   M  PASS    168"
      ]
     },
     "execution_count": 31,
     "metadata": {},
     "output_type": "execute_result"
    }
   ],
   "source": [
    "df.groupby(['GEN','STATE']).agg({'COUNT':np.sum}).reset_index()"
   ]
  },
  {
   "cell_type": "code",
   "execution_count": 32,
   "id": "7068fff5-e481-4f03-bd48-8303d628aa84",
   "metadata": {},
   "outputs": [
    {
     "data": {
      "text/html": [
       "<div>\n",
       "<style scoped>\n",
       "    .dataframe tbody tr th:only-of-type {\n",
       "        vertical-align: middle;\n",
       "    }\n",
       "\n",
       "    .dataframe tbody tr th {\n",
       "        vertical-align: top;\n",
       "    }\n",
       "\n",
       "    .dataframe thead th {\n",
       "        text-align: right;\n",
       "    }\n",
       "</style>\n",
       "<table border=\"1\" class=\"dataframe\">\n",
       "  <thead>\n",
       "    <tr style=\"text-align: right;\">\n",
       "      <th></th>\n",
       "      <th>GEN</th>\n",
       "      <th>COUNT</th>\n",
       "    </tr>\n",
       "  </thead>\n",
       "  <tbody>\n",
       "    <tr>\n",
       "      <th>0</th>\n",
       "      <td>F</td>\n",
       "      <td>40</td>\n",
       "    </tr>\n",
       "    <tr>\n",
       "      <th>1</th>\n",
       "      <td>M</td>\n",
       "      <td>220</td>\n",
       "    </tr>\n",
       "  </tbody>\n",
       "</table>\n",
       "</div>"
      ],
      "text/plain": [
       "  GEN  COUNT\n",
       "0   F     40\n",
       "1   M    220"
      ]
     },
     "execution_count": 32,
     "metadata": {},
     "output_type": "execute_result"
    }
   ],
   "source": [
    "df.groupby(['GEN']).agg({'COUNT':np.sum}).reset_index()"
   ]
  },
  {
   "cell_type": "markdown",
   "id": "5d78381d-eecd-4f3c-8d39-f5ab62ba5d39",
   "metadata": {},
   "source": [
    "`-` 두개의 데이터프레임을 합쳐야 한다."
   ]
  },
  {
   "cell_type": "code",
   "execution_count": 33,
   "id": "3a5706e0-87ec-41ae-88ea-cd2474df2500",
   "metadata": {},
   "outputs": [],
   "source": [
    "_df1=df.groupby(['GEN','STATE']).agg({'COUNT':np.sum}).reset_index()\n",
    "_df2=df.groupby(['GEN']).agg({'COUNT':np.sum}).reset_index().rename(columns={'COUNT':'SUM'})"
   ]
  },
  {
   "cell_type": "code",
   "execution_count": 34,
   "id": "74596259-81f9-4afa-8fe9-dec877102cd3",
   "metadata": {},
   "outputs": [
    {
     "data": {
      "text/html": [
       "<div>\n",
       "<style scoped>\n",
       "    .dataframe tbody tr th:only-of-type {\n",
       "        vertical-align: middle;\n",
       "    }\n",
       "\n",
       "    .dataframe tbody tr th {\n",
       "        vertical-align: top;\n",
       "    }\n",
       "\n",
       "    .dataframe thead th {\n",
       "        text-align: right;\n",
       "    }\n",
       "</style>\n",
       "<table border=\"1\" class=\"dataframe\">\n",
       "  <thead>\n",
       "    <tr style=\"text-align: right;\">\n",
       "      <th></th>\n",
       "      <th>GEN</th>\n",
       "      <th>STATE</th>\n",
       "      <th>COUNT</th>\n",
       "    </tr>\n",
       "  </thead>\n",
       "  <tbody>\n",
       "    <tr>\n",
       "      <th>0</th>\n",
       "      <td>F</td>\n",
       "      <td>FAIL</td>\n",
       "      <td>12</td>\n",
       "    </tr>\n",
       "    <tr>\n",
       "      <th>1</th>\n",
       "      <td>F</td>\n",
       "      <td>PASS</td>\n",
       "      <td>28</td>\n",
       "    </tr>\n",
       "    <tr>\n",
       "      <th>2</th>\n",
       "      <td>M</td>\n",
       "      <td>FAIL</td>\n",
       "      <td>52</td>\n",
       "    </tr>\n",
       "    <tr>\n",
       "      <th>3</th>\n",
       "      <td>M</td>\n",
       "      <td>PASS</td>\n",
       "      <td>168</td>\n",
       "    </tr>\n",
       "  </tbody>\n",
       "</table>\n",
       "</div>"
      ],
      "text/plain": [
       "  GEN STATE  COUNT\n",
       "0   F  FAIL     12\n",
       "1   F  PASS     28\n",
       "2   M  FAIL     52\n",
       "3   M  PASS    168"
      ]
     },
     "execution_count": 34,
     "metadata": {},
     "output_type": "execute_result"
    }
   ],
   "source": [
    "_df1"
   ]
  },
  {
   "cell_type": "code",
   "execution_count": 35,
   "id": "5358a133-9273-47a8-967f-ec8c46155473",
   "metadata": {},
   "outputs": [
    {
     "data": {
      "text/html": [
       "<div>\n",
       "<style scoped>\n",
       "    .dataframe tbody tr th:only-of-type {\n",
       "        vertical-align: middle;\n",
       "    }\n",
       "\n",
       "    .dataframe tbody tr th {\n",
       "        vertical-align: top;\n",
       "    }\n",
       "\n",
       "    .dataframe thead th {\n",
       "        text-align: right;\n",
       "    }\n",
       "</style>\n",
       "<table border=\"1\" class=\"dataframe\">\n",
       "  <thead>\n",
       "    <tr style=\"text-align: right;\">\n",
       "      <th></th>\n",
       "      <th>GEN</th>\n",
       "      <th>SUM</th>\n",
       "    </tr>\n",
       "  </thead>\n",
       "  <tbody>\n",
       "    <tr>\n",
       "      <th>0</th>\n",
       "      <td>F</td>\n",
       "      <td>40</td>\n",
       "    </tr>\n",
       "    <tr>\n",
       "      <th>1</th>\n",
       "      <td>M</td>\n",
       "      <td>220</td>\n",
       "    </tr>\n",
       "  </tbody>\n",
       "</table>\n",
       "</div>"
      ],
      "text/plain": [
       "  GEN  SUM\n",
       "0   F   40\n",
       "1   M  220"
      ]
     },
     "execution_count": 35,
     "metadata": {},
     "output_type": "execute_result"
    }
   ],
   "source": [
    "_df2"
   ]
  },
  {
   "cell_type": "markdown",
   "id": "ffbfd15b-64c5-4d7f-ac54-3539290f4de6",
   "metadata": {},
   "source": [
    "`-` 단순한 방법"
   ]
  },
  {
   "cell_type": "code",
   "execution_count": 36,
   "id": "be52ea24-d59c-47e7-9ac3-0c33d5a9141c",
   "metadata": {},
   "outputs": [],
   "source": [
    "def f(x):\n",
    "    if x=='F':\n",
    "        return 40\n",
    "    if x=='M':\n",
    "        return 220"
   ]
  },
  {
   "cell_type": "code",
   "execution_count": 37,
   "id": "dcb2b167-9a1f-460d-8b95-51d335ecd7c8",
   "metadata": {},
   "outputs": [
    {
     "data": {
      "text/html": [
       "<div>\n",
       "<style scoped>\n",
       "    .dataframe tbody tr th:only-of-type {\n",
       "        vertical-align: middle;\n",
       "    }\n",
       "\n",
       "    .dataframe tbody tr th {\n",
       "        vertical-align: top;\n",
       "    }\n",
       "\n",
       "    .dataframe thead th {\n",
       "        text-align: right;\n",
       "    }\n",
       "</style>\n",
       "<table border=\"1\" class=\"dataframe\">\n",
       "  <thead>\n",
       "    <tr style=\"text-align: right;\">\n",
       "      <th></th>\n",
       "      <th>GEN</th>\n",
       "      <th>STATE</th>\n",
       "      <th>COUNT</th>\n",
       "      <th>SUM</th>\n",
       "    </tr>\n",
       "  </thead>\n",
       "  <tbody>\n",
       "    <tr>\n",
       "      <th>0</th>\n",
       "      <td>F</td>\n",
       "      <td>FAIL</td>\n",
       "      <td>12</td>\n",
       "      <td>40</td>\n",
       "    </tr>\n",
       "    <tr>\n",
       "      <th>1</th>\n",
       "      <td>F</td>\n",
       "      <td>PASS</td>\n",
       "      <td>28</td>\n",
       "      <td>40</td>\n",
       "    </tr>\n",
       "    <tr>\n",
       "      <th>2</th>\n",
       "      <td>M</td>\n",
       "      <td>FAIL</td>\n",
       "      <td>52</td>\n",
       "      <td>220</td>\n",
       "    </tr>\n",
       "    <tr>\n",
       "      <th>3</th>\n",
       "      <td>M</td>\n",
       "      <td>PASS</td>\n",
       "      <td>168</td>\n",
       "      <td>220</td>\n",
       "    </tr>\n",
       "  </tbody>\n",
       "</table>\n",
       "</div>"
      ],
      "text/plain": [
       "  GEN STATE  COUNT  SUM\n",
       "0   F  FAIL     12   40\n",
       "1   F  PASS     28   40\n",
       "2   M  FAIL     52  220\n",
       "3   M  PASS    168  220"
      ]
     },
     "execution_count": 37,
     "metadata": {},
     "output_type": "execute_result"
    }
   ],
   "source": [
    "_df1['SUM']=list(map(f,_df1.GEN))\n",
    "_df1"
   ]
  },
  {
   "cell_type": "markdown",
   "id": "14ec4a4b-717e-4b5c-be0a-9c389d310f10",
   "metadata": {},
   "source": [
    "`-` 좀 더 좋은 방법"
   ]
  },
  {
   "cell_type": "code",
   "execution_count": 38,
   "id": "5b53e19b-ba66-4252-b223-7faa4722cb15",
   "metadata": {},
   "outputs": [],
   "source": [
    "_df1=df.groupby(['GEN','STATE']).agg({'COUNT':np.sum}).reset_index()"
   ]
  },
  {
   "cell_type": "markdown",
   "id": "14a0d21d-edc1-4012-90c3-78d90af4ae41",
   "metadata": {},
   "source": [
    "- _df1를 다시 롤백"
   ]
  },
  {
   "cell_type": "code",
   "execution_count": 39,
   "id": "03eff8df-9a0d-4e60-b0dd-fed68659da9d",
   "metadata": {},
   "outputs": [],
   "source": [
    "def f(_df2):\n",
    "        return lambda x: _df2.query('GEN==@x').SUM.item()"
   ]
  },
  {
   "cell_type": "code",
   "execution_count": 40,
   "id": "5fa59eb2-cadd-4b42-9125-d246f37c9f75",
   "metadata": {},
   "outputs": [
    {
     "data": {
      "text/plain": [
       "0    F\n",
       "1    F\n",
       "2    M\n",
       "3    M\n",
       "Name: GEN, dtype: object"
      ]
     },
     "execution_count": 40,
     "metadata": {},
     "output_type": "execute_result"
    }
   ],
   "source": [
    "_df1.GEN"
   ]
  },
  {
   "cell_type": "code",
   "execution_count": 41,
   "id": "ccd9009d-f059-49ac-aa0b-7fcad2793333",
   "metadata": {},
   "outputs": [],
   "source": [
    "_df1['SUM']=list(map(f(_df2),_df1.GEN,))"
   ]
  },
  {
   "cell_type": "code",
   "execution_count": 42,
   "id": "1b74f538-f0c5-4ee5-aa37-dfdc00329d4a",
   "metadata": {},
   "outputs": [
    {
     "data": {
      "text/html": [
       "<div>\n",
       "<style scoped>\n",
       "    .dataframe tbody tr th:only-of-type {\n",
       "        vertical-align: middle;\n",
       "    }\n",
       "\n",
       "    .dataframe tbody tr th {\n",
       "        vertical-align: top;\n",
       "    }\n",
       "\n",
       "    .dataframe thead th {\n",
       "        text-align: right;\n",
       "    }\n",
       "</style>\n",
       "<table border=\"1\" class=\"dataframe\">\n",
       "  <thead>\n",
       "    <tr style=\"text-align: right;\">\n",
       "      <th></th>\n",
       "      <th>GEN</th>\n",
       "      <th>STATE</th>\n",
       "      <th>COUNT</th>\n",
       "      <th>SUM</th>\n",
       "    </tr>\n",
       "  </thead>\n",
       "  <tbody>\n",
       "    <tr>\n",
       "      <th>0</th>\n",
       "      <td>F</td>\n",
       "      <td>FAIL</td>\n",
       "      <td>12</td>\n",
       "      <td>40</td>\n",
       "    </tr>\n",
       "    <tr>\n",
       "      <th>1</th>\n",
       "      <td>F</td>\n",
       "      <td>PASS</td>\n",
       "      <td>28</td>\n",
       "      <td>40</td>\n",
       "    </tr>\n",
       "    <tr>\n",
       "      <th>2</th>\n",
       "      <td>M</td>\n",
       "      <td>FAIL</td>\n",
       "      <td>52</td>\n",
       "      <td>220</td>\n",
       "    </tr>\n",
       "    <tr>\n",
       "      <th>3</th>\n",
       "      <td>M</td>\n",
       "      <td>PASS</td>\n",
       "      <td>168</td>\n",
       "      <td>220</td>\n",
       "    </tr>\n",
       "  </tbody>\n",
       "</table>\n",
       "</div>"
      ],
      "text/plain": [
       "  GEN STATE  COUNT  SUM\n",
       "0   F  FAIL     12   40\n",
       "1   F  PASS     28   40\n",
       "2   M  FAIL     52  220\n",
       "3   M  PASS    168  220"
      ]
     },
     "execution_count": 42,
     "metadata": {},
     "output_type": "execute_result"
    }
   ],
   "source": [
    "_df1"
   ]
  },
  {
   "cell_type": "markdown",
   "id": "0a2b4b4e-2d59-43cd-b058-3f5c76dfd853",
   "metadata": {},
   "source": [
    "`-` 더 좋은 방법"
   ]
  },
  {
   "cell_type": "code",
   "execution_count": 43,
   "id": "2c4ad39f-ba96-4a63-98c3-d74c1e145323",
   "metadata": {},
   "outputs": [],
   "source": [
    "_df1=df.groupby(['GEN','STATE']).agg({'COUNT':np.sum}).reset_index()"
   ]
  },
  {
   "cell_type": "markdown",
   "id": "74d28425-bda8-47bf-9ce0-a4196253d76c",
   "metadata": {},
   "source": [
    "- _df1를 다시 롤백"
   ]
  },
  {
   "cell_type": "code",
   "execution_count": 44,
   "id": "fe11e0c5-4db4-495e-a2ab-a639df62e982",
   "metadata": {},
   "outputs": [
    {
     "data": {
      "text/html": [
       "<div>\n",
       "<style scoped>\n",
       "    .dataframe tbody tr th:only-of-type {\n",
       "        vertical-align: middle;\n",
       "    }\n",
       "\n",
       "    .dataframe tbody tr th {\n",
       "        vertical-align: top;\n",
       "    }\n",
       "\n",
       "    .dataframe thead th {\n",
       "        text-align: right;\n",
       "    }\n",
       "</style>\n",
       "<table border=\"1\" class=\"dataframe\">\n",
       "  <thead>\n",
       "    <tr style=\"text-align: right;\">\n",
       "      <th></th>\n",
       "      <th>GEN</th>\n",
       "      <th>STATE</th>\n",
       "      <th>COUNT</th>\n",
       "    </tr>\n",
       "  </thead>\n",
       "  <tbody>\n",
       "    <tr>\n",
       "      <th>0</th>\n",
       "      <td>F</td>\n",
       "      <td>FAIL</td>\n",
       "      <td>12</td>\n",
       "    </tr>\n",
       "    <tr>\n",
       "      <th>1</th>\n",
       "      <td>F</td>\n",
       "      <td>PASS</td>\n",
       "      <td>28</td>\n",
       "    </tr>\n",
       "    <tr>\n",
       "      <th>2</th>\n",
       "      <td>M</td>\n",
       "      <td>FAIL</td>\n",
       "      <td>52</td>\n",
       "    </tr>\n",
       "    <tr>\n",
       "      <th>3</th>\n",
       "      <td>M</td>\n",
       "      <td>PASS</td>\n",
       "      <td>168</td>\n",
       "    </tr>\n",
       "  </tbody>\n",
       "</table>\n",
       "</div>"
      ],
      "text/plain": [
       "  GEN STATE  COUNT\n",
       "0   F  FAIL     12\n",
       "1   F  PASS     28\n",
       "2   M  FAIL     52\n",
       "3   M  PASS    168"
      ]
     },
     "execution_count": 44,
     "metadata": {},
     "output_type": "execute_result"
    }
   ],
   "source": [
    "_df1"
   ]
  },
  {
   "cell_type": "code",
   "execution_count": 45,
   "id": "8caee284-47cb-4970-95bd-bdd19db3bdc3",
   "metadata": {},
   "outputs": [
    {
     "data": {
      "text/html": [
       "<div>\n",
       "<style scoped>\n",
       "    .dataframe tbody tr th:only-of-type {\n",
       "        vertical-align: middle;\n",
       "    }\n",
       "\n",
       "    .dataframe tbody tr th {\n",
       "        vertical-align: top;\n",
       "    }\n",
       "\n",
       "    .dataframe thead th {\n",
       "        text-align: right;\n",
       "    }\n",
       "</style>\n",
       "<table border=\"1\" class=\"dataframe\">\n",
       "  <thead>\n",
       "    <tr style=\"text-align: right;\">\n",
       "      <th></th>\n",
       "      <th>GEN</th>\n",
       "      <th>SUM</th>\n",
       "    </tr>\n",
       "  </thead>\n",
       "  <tbody>\n",
       "    <tr>\n",
       "      <th>0</th>\n",
       "      <td>F</td>\n",
       "      <td>40</td>\n",
       "    </tr>\n",
       "    <tr>\n",
       "      <th>1</th>\n",
       "      <td>M</td>\n",
       "      <td>220</td>\n",
       "    </tr>\n",
       "  </tbody>\n",
       "</table>\n",
       "</div>"
      ],
      "text/plain": [
       "  GEN  SUM\n",
       "0   F   40\n",
       "1   M  220"
      ]
     },
     "execution_count": 45,
     "metadata": {},
     "output_type": "execute_result"
    }
   ],
   "source": [
    "_df2"
   ]
  },
  {
   "cell_type": "code",
   "execution_count": 46,
   "id": "90aa145e-8ce5-4049-8dd8-2b5f118683f4",
   "metadata": {},
   "outputs": [
    {
     "data": {
      "text/html": [
       "<div>\n",
       "<style scoped>\n",
       "    .dataframe tbody tr th:only-of-type {\n",
       "        vertical-align: middle;\n",
       "    }\n",
       "\n",
       "    .dataframe tbody tr th {\n",
       "        vertical-align: top;\n",
       "    }\n",
       "\n",
       "    .dataframe thead th {\n",
       "        text-align: right;\n",
       "    }\n",
       "</style>\n",
       "<table border=\"1\" class=\"dataframe\">\n",
       "  <thead>\n",
       "    <tr style=\"text-align: right;\">\n",
       "      <th></th>\n",
       "      <th>GEN</th>\n",
       "      <th>STATE</th>\n",
       "      <th>COUNT</th>\n",
       "      <th>SUM</th>\n",
       "    </tr>\n",
       "  </thead>\n",
       "  <tbody>\n",
       "    <tr>\n",
       "      <th>0</th>\n",
       "      <td>F</td>\n",
       "      <td>FAIL</td>\n",
       "      <td>12</td>\n",
       "      <td>40</td>\n",
       "    </tr>\n",
       "    <tr>\n",
       "      <th>1</th>\n",
       "      <td>F</td>\n",
       "      <td>PASS</td>\n",
       "      <td>28</td>\n",
       "      <td>40</td>\n",
       "    </tr>\n",
       "    <tr>\n",
       "      <th>2</th>\n",
       "      <td>M</td>\n",
       "      <td>FAIL</td>\n",
       "      <td>52</td>\n",
       "      <td>220</td>\n",
       "    </tr>\n",
       "    <tr>\n",
       "      <th>3</th>\n",
       "      <td>M</td>\n",
       "      <td>PASS</td>\n",
       "      <td>168</td>\n",
       "      <td>220</td>\n",
       "    </tr>\n",
       "  </tbody>\n",
       "</table>\n",
       "</div>"
      ],
      "text/plain": [
       "  GEN STATE  COUNT  SUM\n",
       "0   F  FAIL     12   40\n",
       "1   F  PASS     28   40\n",
       "2   M  FAIL     52  220\n",
       "3   M  PASS    168  220"
      ]
     },
     "execution_count": 46,
     "metadata": {},
     "output_type": "execute_result"
    }
   ],
   "source": [
    "pd.merge(_df1,_df2)"
   ]
  },
  {
   "cell_type": "code",
   "execution_count": 47,
   "id": "12b99dd6-3cfb-4419-be20-50e87d7ef80a",
   "metadata": {},
   "outputs": [
    {
     "data": {
      "text/html": [
       "<div>\n",
       "<style scoped>\n",
       "    .dataframe tbody tr th:only-of-type {\n",
       "        vertical-align: middle;\n",
       "    }\n",
       "\n",
       "    .dataframe tbody tr th {\n",
       "        vertical-align: top;\n",
       "    }\n",
       "\n",
       "    .dataframe thead th {\n",
       "        text-align: right;\n",
       "    }\n",
       "</style>\n",
       "<table border=\"1\" class=\"dataframe\">\n",
       "  <thead>\n",
       "    <tr style=\"text-align: right;\">\n",
       "      <th></th>\n",
       "      <th>GEN</th>\n",
       "      <th>STATE</th>\n",
       "      <th>COUNT</th>\n",
       "      <th>SUM</th>\n",
       "    </tr>\n",
       "  </thead>\n",
       "  <tbody>\n",
       "    <tr>\n",
       "      <th>0</th>\n",
       "      <td>F</td>\n",
       "      <td>FAIL</td>\n",
       "      <td>12</td>\n",
       "      <td>40</td>\n",
       "    </tr>\n",
       "    <tr>\n",
       "      <th>1</th>\n",
       "      <td>F</td>\n",
       "      <td>PASS</td>\n",
       "      <td>28</td>\n",
       "      <td>40</td>\n",
       "    </tr>\n",
       "    <tr>\n",
       "      <th>2</th>\n",
       "      <td>M</td>\n",
       "      <td>FAIL</td>\n",
       "      <td>52</td>\n",
       "      <td>220</td>\n",
       "    </tr>\n",
       "    <tr>\n",
       "      <th>3</th>\n",
       "      <td>M</td>\n",
       "      <td>PASS</td>\n",
       "      <td>168</td>\n",
       "      <td>220</td>\n",
       "    </tr>\n",
       "  </tbody>\n",
       "</table>\n",
       "</div>"
      ],
      "text/plain": [
       "  GEN STATE  COUNT  SUM\n",
       "0   F  FAIL     12   40\n",
       "1   F  PASS     28   40\n",
       "2   M  FAIL     52  220\n",
       "3   M  PASS    168  220"
      ]
     },
     "execution_count": 47,
     "metadata": {},
     "output_type": "execute_result"
    }
   ],
   "source": [
    "_df1.merge(_df2)"
   ]
  },
  {
   "cell_type": "code",
   "execution_count": 48,
   "id": "652b256a-eaf0-45d8-94a3-87a64f16a2ef",
   "metadata": {},
   "outputs": [
    {
     "data": {
      "text/html": [
       "<div>\n",
       "<style scoped>\n",
       "    .dataframe tbody tr th:only-of-type {\n",
       "        vertical-align: middle;\n",
       "    }\n",
       "\n",
       "    .dataframe tbody tr th {\n",
       "        vertical-align: top;\n",
       "    }\n",
       "\n",
       "    .dataframe thead th {\n",
       "        text-align: right;\n",
       "    }\n",
       "</style>\n",
       "<table border=\"1\" class=\"dataframe\">\n",
       "  <thead>\n",
       "    <tr style=\"text-align: right;\">\n",
       "      <th></th>\n",
       "      <th>GEN</th>\n",
       "      <th>SUM</th>\n",
       "      <th>STATE</th>\n",
       "      <th>COUNT</th>\n",
       "    </tr>\n",
       "  </thead>\n",
       "  <tbody>\n",
       "    <tr>\n",
       "      <th>0</th>\n",
       "      <td>F</td>\n",
       "      <td>40</td>\n",
       "      <td>FAIL</td>\n",
       "      <td>12</td>\n",
       "    </tr>\n",
       "    <tr>\n",
       "      <th>1</th>\n",
       "      <td>F</td>\n",
       "      <td>40</td>\n",
       "      <td>PASS</td>\n",
       "      <td>28</td>\n",
       "    </tr>\n",
       "    <tr>\n",
       "      <th>2</th>\n",
       "      <td>M</td>\n",
       "      <td>220</td>\n",
       "      <td>FAIL</td>\n",
       "      <td>52</td>\n",
       "    </tr>\n",
       "    <tr>\n",
       "      <th>3</th>\n",
       "      <td>M</td>\n",
       "      <td>220</td>\n",
       "      <td>PASS</td>\n",
       "      <td>168</td>\n",
       "    </tr>\n",
       "  </tbody>\n",
       "</table>\n",
       "</div>"
      ],
      "text/plain": [
       "  GEN  SUM STATE  COUNT\n",
       "0   F   40  FAIL     12\n",
       "1   F   40  PASS     28\n",
       "2   M  220  FAIL     52\n",
       "3   M  220  PASS    168"
      ]
     },
     "execution_count": 48,
     "metadata": {},
     "output_type": "execute_result"
    }
   ],
   "source": [
    "_df2.merge(_df1)"
   ]
  },
  {
   "cell_type": "code",
   "execution_count": 49,
   "id": "cf3cec14-7131-45a5-9bd2-144b7b168ff8",
   "metadata": {},
   "outputs": [
    {
     "data": {
      "text/html": [
       "<div>\n",
       "<style scoped>\n",
       "    .dataframe tbody tr th:only-of-type {\n",
       "        vertical-align: middle;\n",
       "    }\n",
       "\n",
       "    .dataframe tbody tr th {\n",
       "        vertical-align: top;\n",
       "    }\n",
       "\n",
       "    .dataframe thead th {\n",
       "        text-align: right;\n",
       "    }\n",
       "</style>\n",
       "<table border=\"1\" class=\"dataframe\">\n",
       "  <thead>\n",
       "    <tr style=\"text-align: right;\">\n",
       "      <th></th>\n",
       "      <th>GEN</th>\n",
       "      <th>SUM</th>\n",
       "      <th>STATE</th>\n",
       "      <th>COUNT</th>\n",
       "    </tr>\n",
       "  </thead>\n",
       "  <tbody>\n",
       "    <tr>\n",
       "      <th>0</th>\n",
       "      <td>F</td>\n",
       "      <td>40</td>\n",
       "      <td>FAIL</td>\n",
       "      <td>12</td>\n",
       "    </tr>\n",
       "    <tr>\n",
       "      <th>1</th>\n",
       "      <td>F</td>\n",
       "      <td>40</td>\n",
       "      <td>PASS</td>\n",
       "      <td>28</td>\n",
       "    </tr>\n",
       "    <tr>\n",
       "      <th>2</th>\n",
       "      <td>M</td>\n",
       "      <td>220</td>\n",
       "      <td>FAIL</td>\n",
       "      <td>52</td>\n",
       "    </tr>\n",
       "    <tr>\n",
       "      <th>3</th>\n",
       "      <td>M</td>\n",
       "      <td>220</td>\n",
       "      <td>PASS</td>\n",
       "      <td>168</td>\n",
       "    </tr>\n",
       "  </tbody>\n",
       "</table>\n",
       "</div>"
      ],
      "text/plain": [
       "  GEN  SUM STATE  COUNT\n",
       "0   F   40  FAIL     12\n",
       "1   F   40  PASS     28\n",
       "2   M  220  FAIL     52\n",
       "3   M  220  PASS    168"
      ]
     },
     "execution_count": 49,
     "metadata": {},
     "output_type": "execute_result"
    }
   ],
   "source": [
    "td=_df2.merge(_df1)\n",
    "td"
   ]
  },
  {
   "cell_type": "code",
   "execution_count": 50,
   "id": "844dc757-e620-4955-9d93-3f9ce1f07f94",
   "metadata": {},
   "outputs": [],
   "source": [
    "td['PROP']=td.COUNT/td.SUM"
   ]
  },
  {
   "cell_type": "code",
   "execution_count": 51,
   "id": "9693bde9-0154-40e3-8e1b-3c79a94705cd",
   "metadata": {},
   "outputs": [
    {
     "data": {
      "text/html": [
       "<div>\n",
       "<style scoped>\n",
       "    .dataframe tbody tr th:only-of-type {\n",
       "        vertical-align: middle;\n",
       "    }\n",
       "\n",
       "    .dataframe tbody tr th {\n",
       "        vertical-align: top;\n",
       "    }\n",
       "\n",
       "    .dataframe thead th {\n",
       "        text-align: right;\n",
       "    }\n",
       "</style>\n",
       "<table border=\"1\" class=\"dataframe\">\n",
       "  <thead>\n",
       "    <tr style=\"text-align: right;\">\n",
       "      <th></th>\n",
       "      <th>GEN</th>\n",
       "      <th>SUM</th>\n",
       "      <th>STATE</th>\n",
       "      <th>COUNT</th>\n",
       "      <th>PROP</th>\n",
       "    </tr>\n",
       "  </thead>\n",
       "  <tbody>\n",
       "    <tr>\n",
       "      <th>0</th>\n",
       "      <td>F</td>\n",
       "      <td>40</td>\n",
       "      <td>FAIL</td>\n",
       "      <td>12</td>\n",
       "      <td>0.300000</td>\n",
       "    </tr>\n",
       "    <tr>\n",
       "      <th>1</th>\n",
       "      <td>F</td>\n",
       "      <td>40</td>\n",
       "      <td>PASS</td>\n",
       "      <td>28</td>\n",
       "      <td>0.700000</td>\n",
       "    </tr>\n",
       "    <tr>\n",
       "      <th>2</th>\n",
       "      <td>M</td>\n",
       "      <td>220</td>\n",
       "      <td>FAIL</td>\n",
       "      <td>52</td>\n",
       "      <td>0.236364</td>\n",
       "    </tr>\n",
       "    <tr>\n",
       "      <th>3</th>\n",
       "      <td>M</td>\n",
       "      <td>220</td>\n",
       "      <td>PASS</td>\n",
       "      <td>168</td>\n",
       "      <td>0.763636</td>\n",
       "    </tr>\n",
       "  </tbody>\n",
       "</table>\n",
       "</div>"
      ],
      "text/plain": [
       "  GEN  SUM STATE  COUNT      PROP\n",
       "0   F   40  FAIL     12  0.300000\n",
       "1   F   40  PASS     28  0.700000\n",
       "2   M  220  FAIL     52  0.236364\n",
       "3   M  220  PASS    168  0.763636"
      ]
     },
     "execution_count": 51,
     "metadata": {},
     "output_type": "execute_result"
    }
   ],
   "source": [
    "td"
   ]
  },
  {
   "cell_type": "code",
   "execution_count": 52,
   "id": "8aa1b3ee-df26-4c9b-827f-59c36a947f65",
   "metadata": {},
   "outputs": [
    {
     "data": {
      "image/png": "[encoded data removed]",
      "text/plain": [
       "<Figure size 640x480 with 1 Axes>"
      ]
     },
     "metadata": {},
     "output_type": "display_data"
    },
    {
     "data": {
      "text/plain": [
       "<ggplot: (8769972969997)>"
      ]
     },
     "execution_count": 52,
     "metadata": {},
     "output_type": "execute_result"
    }
   ],
   "source": [
    "ggplot(td.query('STATE==\"PASS\"'))+geom_bar(aes(x='GEN',y='PROP',fill='GEN'),stat='identity')"
   ]
  },
  {
   "cell_type": "markdown",
   "id": "71dd4a7b-30b4-4bec-9f85-c4e6e90d4e07",
   "metadata": {},
   "source": [
    "`-` 남자의 합격률이 더 높다. $\\to$ 성차별이 있어보인다(?)"
   ]
  },
  {
   "cell_type": "markdown",
   "id": "1b48ac0e-e1f2-425b-8985-c936e5894508",
   "metadata": {},
   "source": [
    "### 시각화2 : 학과별 합격률"
   ]
  },
  {
   "cell_type": "markdown",
   "id": "23bd9bcf-2009-4050-a20c-0e004365fd4f",
   "metadata": {},
   "source": [
    "`-` 학과별 합격률"
   ]
  },
  {
   "cell_type": "code",
   "execution_count": 53,
   "id": "625bdf2d-38a4-40ce-acde-e6cedb8b4858",
   "metadata": {},
   "outputs": [
    {
     "data": {
      "text/html": [
       "<div>\n",
       "<style scoped>\n",
       "    .dataframe tbody tr th:only-of-type {\n",
       "        vertical-align: middle;\n",
       "    }\n",
       "\n",
       "    .dataframe tbody tr th {\n",
       "        vertical-align: top;\n",
       "    }\n",
       "\n",
       "    .dataframe thead th {\n",
       "        text-align: right;\n",
       "    }\n",
       "</style>\n",
       "<table border=\"1\" class=\"dataframe\">\n",
       "  <thead>\n",
       "    <tr style=\"text-align: right;\">\n",
       "      <th></th>\n",
       "      <th>DEP</th>\n",
       "      <th>STATE</th>\n",
       "      <th>GEN</th>\n",
       "      <th>COUNT</th>\n",
       "    </tr>\n",
       "  </thead>\n",
       "  <tbody>\n",
       "    <tr>\n",
       "      <th>0</th>\n",
       "      <td>A1</td>\n",
       "      <td>PASS</td>\n",
       "      <td>M</td>\n",
       "      <td>1</td>\n",
       "    </tr>\n",
       "    <tr>\n",
       "      <th>1</th>\n",
       "      <td>A1</td>\n",
       "      <td>FAIL</td>\n",
       "      <td>M</td>\n",
       "      <td>9</td>\n",
       "    </tr>\n",
       "    <tr>\n",
       "      <th>2</th>\n",
       "      <td>A2</td>\n",
       "      <td>PASS</td>\n",
       "      <td>M</td>\n",
       "      <td>2</td>\n",
       "    </tr>\n",
       "    <tr>\n",
       "      <th>3</th>\n",
       "      <td>A2</td>\n",
       "      <td>FAIL</td>\n",
       "      <td>M</td>\n",
       "      <td>8</td>\n",
       "    </tr>\n",
       "    <tr>\n",
       "      <th>4</th>\n",
       "      <td>B1</td>\n",
       "      <td>PASS</td>\n",
       "      <td>M</td>\n",
       "      <td>80</td>\n",
       "    </tr>\n",
       "    <tr>\n",
       "      <th>5</th>\n",
       "      <td>B1</td>\n",
       "      <td>FAIL</td>\n",
       "      <td>M</td>\n",
       "      <td>20</td>\n",
       "    </tr>\n",
       "    <tr>\n",
       "      <th>6</th>\n",
       "      <td>B2</td>\n",
       "      <td>PASS</td>\n",
       "      <td>M</td>\n",
       "      <td>85</td>\n",
       "    </tr>\n",
       "    <tr>\n",
       "      <th>7</th>\n",
       "      <td>B2</td>\n",
       "      <td>FAIL</td>\n",
       "      <td>M</td>\n",
       "      <td>15</td>\n",
       "    </tr>\n",
       "    <tr>\n",
       "      <th>8</th>\n",
       "      <td>A1</td>\n",
       "      <td>PASS</td>\n",
       "      <td>F</td>\n",
       "      <td>5</td>\n",
       "    </tr>\n",
       "    <tr>\n",
       "      <th>9</th>\n",
       "      <td>A1</td>\n",
       "      <td>FAIL</td>\n",
       "      <td>F</td>\n",
       "      <td>5</td>\n",
       "    </tr>\n",
       "    <tr>\n",
       "      <th>10</th>\n",
       "      <td>A2</td>\n",
       "      <td>PASS</td>\n",
       "      <td>F</td>\n",
       "      <td>5</td>\n",
       "    </tr>\n",
       "    <tr>\n",
       "      <th>11</th>\n",
       "      <td>A2</td>\n",
       "      <td>FAIL</td>\n",
       "      <td>F</td>\n",
       "      <td>5</td>\n",
       "    </tr>\n",
       "    <tr>\n",
       "      <th>12</th>\n",
       "      <td>B1</td>\n",
       "      <td>PASS</td>\n",
       "      <td>F</td>\n",
       "      <td>9</td>\n",
       "    </tr>\n",
       "    <tr>\n",
       "      <th>13</th>\n",
       "      <td>B1</td>\n",
       "      <td>FAIL</td>\n",
       "      <td>F</td>\n",
       "      <td>1</td>\n",
       "    </tr>\n",
       "    <tr>\n",
       "      <th>14</th>\n",
       "      <td>B2</td>\n",
       "      <td>PASS</td>\n",
       "      <td>F</td>\n",
       "      <td>9</td>\n",
       "    </tr>\n",
       "    <tr>\n",
       "      <th>15</th>\n",
       "      <td>B2</td>\n",
       "      <td>FAIL</td>\n",
       "      <td>F</td>\n",
       "      <td>1</td>\n",
       "    </tr>\n",
       "  </tbody>\n",
       "</table>\n",
       "</div>"
      ],
      "text/plain": [
       "   DEP STATE GEN  COUNT\n",
       "0   A1  PASS   M      1\n",
       "1   A1  FAIL   M      9\n",
       "2   A2  PASS   M      2\n",
       "3   A2  FAIL   M      8\n",
       "4   B1  PASS   M     80\n",
       "5   B1  FAIL   M     20\n",
       "6   B2  PASS   M     85\n",
       "7   B2  FAIL   M     15\n",
       "8   A1  PASS   F      5\n",
       "9   A1  FAIL   F      5\n",
       "10  A2  PASS   F      5\n",
       "11  A2  FAIL   F      5\n",
       "12  B1  PASS   F      9\n",
       "13  B1  FAIL   F      1\n",
       "14  B2  PASS   F      9\n",
       "15  B2  FAIL   F      1"
      ]
     },
     "execution_count": 53,
     "metadata": {},
     "output_type": "execute_result"
    }
   ],
   "source": [
    "df"
   ]
  },
  {
   "cell_type": "code",
   "execution_count": 54,
   "id": "47d1c35d-22b0-42f7-9de1-6e6669bfe09a",
   "metadata": {},
   "outputs": [],
   "source": [
    "td=df.groupby(['DEP','GEN']).agg({'COUNT':sum}).reset_index()\\\n",
    ".rename(columns={'COUNT':'SUM'}).merge(df)"
   ]
  },
  {
   "cell_type": "code",
   "execution_count": 55,
   "id": "83f8452c-4fc1-424d-9fe0-3ec75e4c94b5",
   "metadata": {},
   "outputs": [],
   "source": [
    "td['PROP']=td.COUNT/td.SUM"
   ]
  },
  {
   "cell_type": "code",
   "execution_count": 56,
   "id": "37c8ff1c-c24e-4409-a53e-2bc1ad43e621",
   "metadata": {},
   "outputs": [
    {
     "data": {
      "text/html": [
       "<div>\n",
       "<style scoped>\n",
       "    .dataframe tbody tr th:only-of-type {\n",
       "        vertical-align: middle;\n",
       "    }\n",
       "\n",
       "    .dataframe tbody tr th {\n",
       "        vertical-align: top;\n",
       "    }\n",
       "\n",
       "    .dataframe thead th {\n",
       "        text-align: right;\n",
       "    }\n",
       "</style>\n",
       "<table border=\"1\" class=\"dataframe\">\n",
       "  <thead>\n",
       "    <tr style=\"text-align: right;\">\n",
       "      <th></th>\n",
       "      <th>DEP</th>\n",
       "      <th>GEN</th>\n",
       "      <th>SUM</th>\n",
       "      <th>STATE</th>\n",
       "      <th>COUNT</th>\n",
       "      <th>PROP</th>\n",
       "    </tr>\n",
       "  </thead>\n",
       "  <tbody>\n",
       "    <tr>\n",
       "      <th>0</th>\n",
       "      <td>A1</td>\n",
       "      <td>F</td>\n",
       "      <td>10</td>\n",
       "      <td>PASS</td>\n",
       "      <td>5</td>\n",
       "      <td>0.50</td>\n",
       "    </tr>\n",
       "    <tr>\n",
       "      <th>1</th>\n",
       "      <td>A1</td>\n",
       "      <td>F</td>\n",
       "      <td>10</td>\n",
       "      <td>FAIL</td>\n",
       "      <td>5</td>\n",
       "      <td>0.50</td>\n",
       "    </tr>\n",
       "    <tr>\n",
       "      <th>2</th>\n",
       "      <td>A1</td>\n",
       "      <td>M</td>\n",
       "      <td>10</td>\n",
       "      <td>PASS</td>\n",
       "      <td>1</td>\n",
       "      <td>0.10</td>\n",
       "    </tr>\n",
       "    <tr>\n",
       "      <th>3</th>\n",
       "      <td>A1</td>\n",
       "      <td>M</td>\n",
       "      <td>10</td>\n",
       "      <td>FAIL</td>\n",
       "      <td>9</td>\n",
       "      <td>0.90</td>\n",
       "    </tr>\n",
       "    <tr>\n",
       "      <th>4</th>\n",
       "      <td>A2</td>\n",
       "      <td>F</td>\n",
       "      <td>10</td>\n",
       "      <td>PASS</td>\n",
       "      <td>5</td>\n",
       "      <td>0.50</td>\n",
       "    </tr>\n",
       "    <tr>\n",
       "      <th>5</th>\n",
       "      <td>A2</td>\n",
       "      <td>F</td>\n",
       "      <td>10</td>\n",
       "      <td>FAIL</td>\n",
       "      <td>5</td>\n",
       "      <td>0.50</td>\n",
       "    </tr>\n",
       "    <tr>\n",
       "      <th>6</th>\n",
       "      <td>A2</td>\n",
       "      <td>M</td>\n",
       "      <td>10</td>\n",
       "      <td>PASS</td>\n",
       "      <td>2</td>\n",
       "      <td>0.20</td>\n",
       "    </tr>\n",
       "    <tr>\n",
       "      <th>7</th>\n",
       "      <td>A2</td>\n",
       "      <td>M</td>\n",
       "      <td>10</td>\n",
       "      <td>FAIL</td>\n",
       "      <td>8</td>\n",
       "      <td>0.80</td>\n",
       "    </tr>\n",
       "    <tr>\n",
       "      <th>8</th>\n",
       "      <td>B1</td>\n",
       "      <td>F</td>\n",
       "      <td>10</td>\n",
       "      <td>PASS</td>\n",
       "      <td>9</td>\n",
       "      <td>0.90</td>\n",
       "    </tr>\n",
       "    <tr>\n",
       "      <th>9</th>\n",
       "      <td>B1</td>\n",
       "      <td>F</td>\n",
       "      <td>10</td>\n",
       "      <td>FAIL</td>\n",
       "      <td>1</td>\n",
       "      <td>0.10</td>\n",
       "    </tr>\n",
       "    <tr>\n",
       "      <th>10</th>\n",
       "      <td>B1</td>\n",
       "      <td>M</td>\n",
       "      <td>100</td>\n",
       "      <td>PASS</td>\n",
       "      <td>80</td>\n",
       "      <td>0.80</td>\n",
       "    </tr>\n",
       "    <tr>\n",
       "      <th>11</th>\n",
       "      <td>B1</td>\n",
       "      <td>M</td>\n",
       "      <td>100</td>\n",
       "      <td>FAIL</td>\n",
       "      <td>20</td>\n",
       "      <td>0.20</td>\n",
       "    </tr>\n",
       "    <tr>\n",
       "      <th>12</th>\n",
       "      <td>B2</td>\n",
       "      <td>F</td>\n",
       "      <td>10</td>\n",
       "      <td>PASS</td>\n",
       "      <td>9</td>\n",
       "      <td>0.90</td>\n",
       "    </tr>\n",
       "    <tr>\n",
       "      <th>13</th>\n",
       "      <td>B2</td>\n",
       "      <td>F</td>\n",
       "      <td>10</td>\n",
       "      <td>FAIL</td>\n",
       "      <td>1</td>\n",
       "      <td>0.10</td>\n",
       "    </tr>\n",
       "    <tr>\n",
       "      <th>14</th>\n",
       "      <td>B2</td>\n",
       "      <td>M</td>\n",
       "      <td>100</td>\n",
       "      <td>PASS</td>\n",
       "      <td>85</td>\n",
       "      <td>0.85</td>\n",
       "    </tr>\n",
       "    <tr>\n",
       "      <th>15</th>\n",
       "      <td>B2</td>\n",
       "      <td>M</td>\n",
       "      <td>100</td>\n",
       "      <td>FAIL</td>\n",
       "      <td>15</td>\n",
       "      <td>0.15</td>\n",
       "    </tr>\n",
       "  </tbody>\n",
       "</table>\n",
       "</div>"
      ],
      "text/plain": [
       "   DEP GEN  SUM STATE  COUNT  PROP\n",
       "0   A1   F   10  PASS      5  0.50\n",
       "1   A1   F   10  FAIL      5  0.50\n",
       "2   A1   M   10  PASS      1  0.10\n",
       "3   A1   M   10  FAIL      9  0.90\n",
       "4   A2   F   10  PASS      5  0.50\n",
       "5   A2   F   10  FAIL      5  0.50\n",
       "6   A2   M   10  PASS      2  0.20\n",
       "7   A2   M   10  FAIL      8  0.80\n",
       "8   B1   F   10  PASS      9  0.90\n",
       "9   B1   F   10  FAIL      1  0.10\n",
       "10  B1   M  100  PASS     80  0.80\n",
       "11  B1   M  100  FAIL     20  0.20\n",
       "12  B2   F   10  PASS      9  0.90\n",
       "13  B2   F   10  FAIL      1  0.10\n",
       "14  B2   M  100  PASS     85  0.85\n",
       "15  B2   M  100  FAIL     15  0.15"
      ]
     },
     "execution_count": 56,
     "metadata": {},
     "output_type": "execute_result"
    }
   ],
   "source": [
    "td"
   ]
  },
  {
   "cell_type": "code",
   "execution_count": 57,
   "id": "d8faa45c-b505-4363-a39c-8ad7c815b05d",
   "metadata": {},
   "outputs": [
    {
     "data": {
      "image/png": "[encoded data removed]",
      "text/plain": [
       "<Figure size 640x480 with 4 Axes>"
      ]
     },
     "metadata": {},
     "output_type": "display_data"
    },
    {
     "data": {
      "text/plain": [
       "<ggplot: (8770005362535)>"
      ]
     },
     "execution_count": 57,
     "metadata": {},
     "output_type": "execute_result"
    }
   ],
   "source": [
    "ggplot(td.query('STATE==\"PASS\"'))\\\n",
    "+geom_bar(aes(x='GEN',y='PROP',fill='GEN'),stat='identity')\\\n",
    "+facet_wrap('DEP')"
   ]
  }
 ],
 "metadata": {
  "kernelspec": {
   "display_name": "Python 3",
   "language": "python",
   "name": "python3"
  },
  "language_info": {
   "codemirror_mode": {
    "name": "ipython",
    "version": 3
   },
   "file_extension": ".py",
   "mimetype": "text/x-python",
   "name": "python",
   "nbconvert_exporter": "python",
   "pygments_lexer": "ipython3",
   "version": "3.8.8"
  }
 },
 "nbformat": 4,
 "nbformat_minor": 5
}
